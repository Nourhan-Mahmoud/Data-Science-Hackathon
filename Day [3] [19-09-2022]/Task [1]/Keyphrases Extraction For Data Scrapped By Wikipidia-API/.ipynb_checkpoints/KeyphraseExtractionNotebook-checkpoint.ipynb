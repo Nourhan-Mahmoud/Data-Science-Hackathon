{
 "cells": [
  {
   "cell_type": "code",
   "execution_count": 1,
   "metadata": {
    "colab": {
     "base_uri": "https://localhost:8080/"
    },
    "id": "n7H8zTXB4v_n",
    "outputId": "c2859ec8-87d9-4414-9a5b-e63d4374e9a2"
   },
   "outputs": [
    {
     "name": "stdout",
     "output_type": "stream",
     "text": [
      "Looking in indexes: https://pypi.org/simple, https://us-python.pkg.dev/colab-wheels/public/simple/\n",
      "Collecting git+https://github.com/boudinfl/pke.git\n",
      "  Cloning https://github.com/boudinfl/pke.git to /tmp/pip-req-build-jrjojb_u\n",
      "  Running command git clone -q https://github.com/boudinfl/pke.git /tmp/pip-req-build-jrjojb_u\n",
      "Requirement already satisfied: nltk in /usr/local/lib/python3.7/dist-packages (from pke==2.0.0) (3.7)\n",
      "Requirement already satisfied: networkx in /usr/local/lib/python3.7/dist-packages (from pke==2.0.0) (2.6.3)\n",
      "Requirement already satisfied: numpy in /usr/local/lib/python3.7/dist-packages (from pke==2.0.0) (1.21.6)\n",
      "Requirement already satisfied: scipy in /usr/local/lib/python3.7/dist-packages (from pke==2.0.0) (1.7.3)\n",
      "Collecting sklearn\n",
      "  Downloading sklearn-0.0.tar.gz (1.1 kB)\n",
      "Collecting unidecode\n",
      "  Downloading Unidecode-1.3.4-py3-none-any.whl (235 kB)\n",
      "\u001b[K     |████████████████████████████████| 235 kB 13.4 MB/s \n",
      "\u001b[?25hRequirement already satisfied: future in /usr/local/lib/python3.7/dist-packages (from pke==2.0.0) (0.16.0)\n",
      "Requirement already satisfied: joblib in /usr/local/lib/python3.7/dist-packages (from pke==2.0.0) (1.1.0)\n",
      "Requirement already satisfied: spacy>=3.2.3 in /usr/local/lib/python3.7/dist-packages (from pke==2.0.0) (3.4.1)\n",
      "Requirement already satisfied: tqdm<5.0.0,>=4.38.0 in /usr/local/lib/python3.7/dist-packages (from spacy>=3.2.3->pke==2.0.0) (4.64.1)\n",
      "Requirement already satisfied: preshed<3.1.0,>=3.0.2 in /usr/local/lib/python3.7/dist-packages (from spacy>=3.2.3->pke==2.0.0) (3.0.7)\n",
      "Requirement already satisfied: typing-extensions<4.2.0,>=3.7.4 in /usr/local/lib/python3.7/dist-packages (from spacy>=3.2.3->pke==2.0.0) (4.1.1)\n",
      "Requirement already satisfied: langcodes<4.0.0,>=3.2.0 in /usr/local/lib/python3.7/dist-packages (from spacy>=3.2.3->pke==2.0.0) (3.3.0)\n",
      "Requirement already satisfied: jinja2 in /usr/local/lib/python3.7/dist-packages (from spacy>=3.2.3->pke==2.0.0) (2.11.3)\n",
      "Requirement already satisfied: setuptools in /usr/local/lib/python3.7/dist-packages (from spacy>=3.2.3->pke==2.0.0) (57.4.0)\n",
      "Requirement already satisfied: requests<3.0.0,>=2.13.0 in /usr/local/lib/python3.7/dist-packages (from spacy>=3.2.3->pke==2.0.0) (2.23.0)\n",
      "Requirement already satisfied: pydantic!=1.8,!=1.8.1,<1.10.0,>=1.7.4 in /usr/local/lib/python3.7/dist-packages (from spacy>=3.2.3->pke==2.0.0) (1.9.2)\n",
      "Requirement already satisfied: typer<0.5.0,>=0.3.0 in /usr/local/lib/python3.7/dist-packages (from spacy>=3.2.3->pke==2.0.0) (0.4.2)\n",
      "Requirement already satisfied: packaging>=20.0 in /usr/local/lib/python3.7/dist-packages (from spacy>=3.2.3->pke==2.0.0) (21.3)\n",
      "Requirement already satisfied: cymem<2.1.0,>=2.0.2 in /usr/local/lib/python3.7/dist-packages (from spacy>=3.2.3->pke==2.0.0) (2.0.6)\n",
      "Requirement already satisfied: pathy>=0.3.5 in /usr/local/lib/python3.7/dist-packages (from spacy>=3.2.3->pke==2.0.0) (0.6.2)\n",
      "Requirement already satisfied: spacy-loggers<2.0.0,>=1.0.0 in /usr/local/lib/python3.7/dist-packages (from spacy>=3.2.3->pke==2.0.0) (1.0.3)\n",
      "Requirement already satisfied: spacy-legacy<3.1.0,>=3.0.9 in /usr/local/lib/python3.7/dist-packages (from spacy>=3.2.3->pke==2.0.0) (3.0.10)\n",
      "Requirement already satisfied: thinc<8.2.0,>=8.1.0 in /usr/local/lib/python3.7/dist-packages (from spacy>=3.2.3->pke==2.0.0) (8.1.0)\n",
      "Requirement already satisfied: catalogue<2.1.0,>=2.0.6 in /usr/local/lib/python3.7/dist-packages (from spacy>=3.2.3->pke==2.0.0) (2.0.8)\n",
      "Requirement already satisfied: wasabi<1.1.0,>=0.9.1 in /usr/local/lib/python3.7/dist-packages (from spacy>=3.2.3->pke==2.0.0) (0.10.1)\n",
      "Requirement already satisfied: murmurhash<1.1.0,>=0.28.0 in /usr/local/lib/python3.7/dist-packages (from spacy>=3.2.3->pke==2.0.0) (1.0.8)\n",
      "Requirement already satisfied: srsly<3.0.0,>=2.4.3 in /usr/local/lib/python3.7/dist-packages (from spacy>=3.2.3->pke==2.0.0) (2.4.4)\n",
      "Requirement already satisfied: zipp>=0.5 in /usr/local/lib/python3.7/dist-packages (from catalogue<2.1.0,>=2.0.6->spacy>=3.2.3->pke==2.0.0) (3.8.1)\n",
      "Requirement already satisfied: pyparsing!=3.0.5,>=2.0.2 in /usr/local/lib/python3.7/dist-packages (from packaging>=20.0->spacy>=3.2.3->pke==2.0.0) (3.0.9)\n",
      "Requirement already satisfied: smart-open<6.0.0,>=5.2.1 in /usr/local/lib/python3.7/dist-packages (from pathy>=0.3.5->spacy>=3.2.3->pke==2.0.0) (5.2.1)\n",
      "Requirement already satisfied: certifi>=2017.4.17 in /usr/local/lib/python3.7/dist-packages (from requests<3.0.0,>=2.13.0->spacy>=3.2.3->pke==2.0.0) (2022.6.15)\n",
      "Requirement already satisfied: idna<3,>=2.5 in /usr/local/lib/python3.7/dist-packages (from requests<3.0.0,>=2.13.0->spacy>=3.2.3->pke==2.0.0) (2.10)\n",
      "Requirement already satisfied: urllib3!=1.25.0,!=1.25.1,<1.26,>=1.21.1 in /usr/local/lib/python3.7/dist-packages (from requests<3.0.0,>=2.13.0->spacy>=3.2.3->pke==2.0.0) (1.24.3)\n",
      "Requirement already satisfied: chardet<4,>=3.0.2 in /usr/local/lib/python3.7/dist-packages (from requests<3.0.0,>=2.13.0->spacy>=3.2.3->pke==2.0.0) (3.0.4)\n",
      "Requirement already satisfied: blis<0.8.0,>=0.7.8 in /usr/local/lib/python3.7/dist-packages (from thinc<8.2.0,>=8.1.0->spacy>=3.2.3->pke==2.0.0) (0.7.8)\n",
      "Requirement already satisfied: click<9.0.0,>=7.1.1 in /usr/local/lib/python3.7/dist-packages (from typer<0.5.0,>=0.3.0->spacy>=3.2.3->pke==2.0.0) (7.1.2)\n",
      "Requirement already satisfied: MarkupSafe>=0.23 in /usr/local/lib/python3.7/dist-packages (from jinja2->spacy>=3.2.3->pke==2.0.0) (2.0.1)\n",
      "Requirement already satisfied: regex>=2021.8.3 in /usr/local/lib/python3.7/dist-packages (from nltk->pke==2.0.0) (2022.6.2)\n",
      "Requirement already satisfied: scikit-learn in /usr/local/lib/python3.7/dist-packages (from sklearn->pke==2.0.0) (1.0.2)\n",
      "Requirement already satisfied: threadpoolctl>=2.0.0 in /usr/local/lib/python3.7/dist-packages (from scikit-learn->sklearn->pke==2.0.0) (3.1.0)\n",
      "Building wheels for collected packages: pke, sklearn\n",
      "  Building wheel for pke (setup.py) ... \u001b[?25l\u001b[?25hdone\n",
      "  Created wheel for pke: filename=pke-2.0.0-py3-none-any.whl size=6160276 sha256=56a87c04876a38626979cf0c048fa895a192dfc1df2df248c9b91f9f22eb538b\n",
      "  Stored in directory: /tmp/pip-ephem-wheel-cache-b8tvh8j8/wheels/fa/b3/09/612ee93bf3ee4164bcd5783e742942cdfc892a86039d3e0a33\n",
      "  Building wheel for sklearn (setup.py) ... \u001b[?25l\u001b[?25hdone\n",
      "  Created wheel for sklearn: filename=sklearn-0.0-py2.py3-none-any.whl size=1310 sha256=50050733f2cb7d7c08541f3a714e6dcfdbd076ea3ce0afc75b9c1a9e2e1c7d81\n",
      "  Stored in directory: /root/.cache/pip/wheels/46/ef/c3/157e41f5ee1372d1be90b09f74f82b10e391eaacca8f22d33e\n",
      "Successfully built pke sklearn\n",
      "Installing collected packages: unidecode, sklearn, pke\n",
      "Successfully installed pke-2.0.0 sklearn-0.0 unidecode-1.3.4\n",
      "Looking in indexes: https://pypi.org/simple, https://us-python.pkg.dev/colab-wheels/public/simple/\n",
      "Requirement already satisfied: matplotlib in /usr/local/lib/python3.7/dist-packages (3.2.2)\n",
      "Requirement already satisfied: kiwisolver>=1.0.1 in /usr/local/lib/python3.7/dist-packages (from matplotlib) (1.4.4)\n",
      "Requirement already satisfied: pyparsing!=2.0.4,!=2.1.2,!=2.1.6,>=2.0.1 in /usr/local/lib/python3.7/dist-packages (from matplotlib) (3.0.9)\n",
      "Requirement already satisfied: numpy>=1.11 in /usr/local/lib/python3.7/dist-packages (from matplotlib) (1.21.6)\n",
      "Requirement already satisfied: python-dateutil>=2.1 in /usr/local/lib/python3.7/dist-packages (from matplotlib) (2.8.2)\n",
      "Requirement already satisfied: cycler>=0.10 in /usr/local/lib/python3.7/dist-packages (from matplotlib) (0.11.0)\n",
      "Requirement already satisfied: typing-extensions in /usr/local/lib/python3.7/dist-packages (from kiwisolver>=1.0.1->matplotlib) (4.1.1)\n",
      "Requirement already satisfied: six>=1.5 in /usr/local/lib/python3.7/dist-packages (from python-dateutil>=2.1->matplotlib) (1.15.0)\n",
      "Looking in indexes: https://pypi.org/simple, https://us-python.pkg.dev/colab-wheels/public/simple/\n",
      "Collecting en-core-web-sm==3.4.0\n",
      "  Downloading https://github.com/explosion/spacy-models/releases/download/en_core_web_sm-3.4.0/en_core_web_sm-3.4.0-py3-none-any.whl (12.8 MB)\n",
      "\u001b[K     |████████████████████████████████| 12.8 MB 38.6 MB/s \n",
      "\u001b[?25hRequirement already satisfied: spacy<3.5.0,>=3.4.0 in /usr/local/lib/python3.7/dist-packages (from en-core-web-sm==3.4.0) (3.4.1)\n",
      "Requirement already satisfied: typer<0.5.0,>=0.3.0 in /usr/local/lib/python3.7/dist-packages (from spacy<3.5.0,>=3.4.0->en-core-web-sm==3.4.0) (0.4.2)\n",
      "Requirement already satisfied: srsly<3.0.0,>=2.4.3 in /usr/local/lib/python3.7/dist-packages (from spacy<3.5.0,>=3.4.0->en-core-web-sm==3.4.0) (2.4.4)\n",
      "Requirement already satisfied: spacy-legacy<3.1.0,>=3.0.9 in /usr/local/lib/python3.7/dist-packages (from spacy<3.5.0,>=3.4.0->en-core-web-sm==3.4.0) (3.0.10)\n",
      "Requirement already satisfied: packaging>=20.0 in /usr/local/lib/python3.7/dist-packages (from spacy<3.5.0,>=3.4.0->en-core-web-sm==3.4.0) (21.3)\n",
      "Requirement already satisfied: cymem<2.1.0,>=2.0.2 in /usr/local/lib/python3.7/dist-packages (from spacy<3.5.0,>=3.4.0->en-core-web-sm==3.4.0) (2.0.6)\n",
      "Requirement already satisfied: requests<3.0.0,>=2.13.0 in /usr/local/lib/python3.7/dist-packages (from spacy<3.5.0,>=3.4.0->en-core-web-sm==3.4.0) (2.23.0)\n",
      "Requirement already satisfied: numpy>=1.15.0 in /usr/local/lib/python3.7/dist-packages (from spacy<3.5.0,>=3.4.0->en-core-web-sm==3.4.0) (1.21.6)\n",
      "Requirement already satisfied: pathy>=0.3.5 in /usr/local/lib/python3.7/dist-packages (from spacy<3.5.0,>=3.4.0->en-core-web-sm==3.4.0) (0.6.2)\n",
      "Requirement already satisfied: thinc<8.2.0,>=8.1.0 in /usr/local/lib/python3.7/dist-packages (from spacy<3.5.0,>=3.4.0->en-core-web-sm==3.4.0) (8.1.0)\n",
      "Requirement already satisfied: typing-extensions<4.2.0,>=3.7.4 in /usr/local/lib/python3.7/dist-packages (from spacy<3.5.0,>=3.4.0->en-core-web-sm==3.4.0) (4.1.1)\n",
      "Requirement already satisfied: tqdm<5.0.0,>=4.38.0 in /usr/local/lib/python3.7/dist-packages (from spacy<3.5.0,>=3.4.0->en-core-web-sm==3.4.0) (4.64.1)\n",
      "Requirement already satisfied: preshed<3.1.0,>=3.0.2 in /usr/local/lib/python3.7/dist-packages (from spacy<3.5.0,>=3.4.0->en-core-web-sm==3.4.0) (3.0.7)\n",
      "Requirement already satisfied: catalogue<2.1.0,>=2.0.6 in /usr/local/lib/python3.7/dist-packages (from spacy<3.5.0,>=3.4.0->en-core-web-sm==3.4.0) (2.0.8)\n",
      "Requirement already satisfied: jinja2 in /usr/local/lib/python3.7/dist-packages (from spacy<3.5.0,>=3.4.0->en-core-web-sm==3.4.0) (2.11.3)\n",
      "Requirement already satisfied: wasabi<1.1.0,>=0.9.1 in /usr/local/lib/python3.7/dist-packages (from spacy<3.5.0,>=3.4.0->en-core-web-sm==3.4.0) (0.10.1)\n",
      "Requirement already satisfied: murmurhash<1.1.0,>=0.28.0 in /usr/local/lib/python3.7/dist-packages (from spacy<3.5.0,>=3.4.0->en-core-web-sm==3.4.0) (1.0.8)\n",
      "Requirement already satisfied: langcodes<4.0.0,>=3.2.0 in /usr/local/lib/python3.7/dist-packages (from spacy<3.5.0,>=3.4.0->en-core-web-sm==3.4.0) (3.3.0)\n",
      "Requirement already satisfied: pydantic!=1.8,!=1.8.1,<1.10.0,>=1.7.4 in /usr/local/lib/python3.7/dist-packages (from spacy<3.5.0,>=3.4.0->en-core-web-sm==3.4.0) (1.9.2)\n",
      "Requirement already satisfied: setuptools in /usr/local/lib/python3.7/dist-packages (from spacy<3.5.0,>=3.4.0->en-core-web-sm==3.4.0) (57.4.0)\n",
      "Requirement already satisfied: spacy-loggers<2.0.0,>=1.0.0 in /usr/local/lib/python3.7/dist-packages (from spacy<3.5.0,>=3.4.0->en-core-web-sm==3.4.0) (1.0.3)\n",
      "Requirement already satisfied: zipp>=0.5 in /usr/local/lib/python3.7/dist-packages (from catalogue<2.1.0,>=2.0.6->spacy<3.5.0,>=3.4.0->en-core-web-sm==3.4.0) (3.8.1)\n",
      "Requirement already satisfied: pyparsing!=3.0.5,>=2.0.2 in /usr/local/lib/python3.7/dist-packages (from packaging>=20.0->spacy<3.5.0,>=3.4.0->en-core-web-sm==3.4.0) (3.0.9)\n",
      "Requirement already satisfied: smart-open<6.0.0,>=5.2.1 in /usr/local/lib/python3.7/dist-packages (from pathy>=0.3.5->spacy<3.5.0,>=3.4.0->en-core-web-sm==3.4.0) (5.2.1)\n",
      "Requirement already satisfied: urllib3!=1.25.0,!=1.25.1,<1.26,>=1.21.1 in /usr/local/lib/python3.7/dist-packages (from requests<3.0.0,>=2.13.0->spacy<3.5.0,>=3.4.0->en-core-web-sm==3.4.0) (1.24.3)\n",
      "Requirement already satisfied: idna<3,>=2.5 in /usr/local/lib/python3.7/dist-packages (from requests<3.0.0,>=2.13.0->spacy<3.5.0,>=3.4.0->en-core-web-sm==3.4.0) (2.10)\n",
      "Requirement already satisfied: certifi>=2017.4.17 in /usr/local/lib/python3.7/dist-packages (from requests<3.0.0,>=2.13.0->spacy<3.5.0,>=3.4.0->en-core-web-sm==3.4.0) (2022.6.15)\n",
      "Requirement already satisfied: chardet<4,>=3.0.2 in /usr/local/lib/python3.7/dist-packages (from requests<3.0.0,>=2.13.0->spacy<3.5.0,>=3.4.0->en-core-web-sm==3.4.0) (3.0.4)\n",
      "Requirement already satisfied: blis<0.8.0,>=0.7.8 in /usr/local/lib/python3.7/dist-packages (from thinc<8.2.0,>=8.1.0->spacy<3.5.0,>=3.4.0->en-core-web-sm==3.4.0) (0.7.8)\n",
      "Requirement already satisfied: click<9.0.0,>=7.1.1 in /usr/local/lib/python3.7/dist-packages (from typer<0.5.0,>=0.3.0->spacy<3.5.0,>=3.4.0->en-core-web-sm==3.4.0) (7.1.2)\n",
      "Requirement already satisfied: MarkupSafe>=0.23 in /usr/local/lib/python3.7/dist-packages (from jinja2->spacy<3.5.0,>=3.4.0->en-core-web-sm==3.4.0) (2.0.1)\n",
      "\u001b[38;5;2m✔ Download and installation successful\u001b[0m\n",
      "You can now load the package via spacy.load('en_core_web_sm')\n"
     ]
    }
   ],
   "source": [
    "!pip install git+https://github.com/boudinfl/pke.git\n",
    "!pip install matplotlib\n",
    "!python -m spacy download en_core_web_sm"
   ]
  },
  {
   "cell_type": "code",
   "execution_count": 1,
   "metadata": {
    "id": "ETmnqntKG3N8"
   },
   "outputs": [],
   "source": []
  },
  {
   "cell_type": "markdown",
   "metadata": {
    "id": "C-auWDi1dnAN"
   },
   "source": [
    "# Wikipedia-API"
   ]
  },
  {
   "cell_type": "code",
   "execution_count": 2,
   "metadata": {
    "colab": {
     "base_uri": "https://localhost:8080/"
    },
    "id": "27_EOm3fdGks",
    "outputId": "161bb6a6-48d5-48d6-e63f-8d3b84c54184"
   },
   "outputs": [
    {
     "name": "stdout",
     "output_type": "stream",
     "text": [
      "Looking in indexes: https://pypi.org/simple, https://us-python.pkg.dev/colab-wheels/public/simple/\n",
      "Collecting Wikipedia-API\n",
      "  Downloading Wikipedia-API-0.5.4.tar.gz (18 kB)\n",
      "Requirement already satisfied: requests in /usr/local/lib/python3.7/dist-packages (from Wikipedia-API) (2.23.0)\n",
      "Requirement already satisfied: certifi>=2017.4.17 in /usr/local/lib/python3.7/dist-packages (from requests->Wikipedia-API) (2022.6.15)\n",
      "Requirement already satisfied: idna<3,>=2.5 in /usr/local/lib/python3.7/dist-packages (from requests->Wikipedia-API) (2.10)\n",
      "Requirement already satisfied: chardet<4,>=3.0.2 in /usr/local/lib/python3.7/dist-packages (from requests->Wikipedia-API) (3.0.4)\n",
      "Requirement already satisfied: urllib3!=1.25.0,!=1.25.1,<1.26,>=1.21.1 in /usr/local/lib/python3.7/dist-packages (from requests->Wikipedia-API) (1.24.3)\n",
      "Building wheels for collected packages: Wikipedia-API\n",
      "  Building wheel for Wikipedia-API (setup.py) ... \u001b[?25l\u001b[?25hdone\n",
      "  Created wheel for Wikipedia-API: filename=Wikipedia_API-0.5.4-py3-none-any.whl size=13477 sha256=f64a0734116d380b9a2544c8edf99d3b811a4a885143519a75a05b57e8ccac80\n",
      "  Stored in directory: /root/.cache/pip/wheels/d3/24/56/58ba93cf78be162451144e7a9889603f437976ef1ae7013d04\n",
      "Successfully built Wikipedia-API\n",
      "Installing collected packages: Wikipedia-API\n",
      "Successfully installed Wikipedia-API-0.5.4\n"
     ]
    }
   ],
   "source": [
    "!pip install Wikipedia-API"
   ]
  },
  {
   "cell_type": "code",
   "execution_count": 3,
   "metadata": {
    "id": "Sc-HtJvpd0fL"
   },
   "outputs": [],
   "source": [
    "import wikipediaapi"
   ]
  },
  {
   "cell_type": "code",
   "execution_count": 4,
   "metadata": {
    "id": "aHb35V6ud27i"
   },
   "outputs": [],
   "source": [
    "wiki_wiki = wikipediaapi.Wikipedia('en')\n",
    "\n",
    "ml_art = wiki_wiki.page('Machine_Learning')"
   ]
  },
  {
   "cell_type": "code",
   "execution_count": 5,
   "metadata": {
    "colab": {
     "base_uri": "https://localhost:8080/"
    },
    "id": "oqESymwJd_aC",
    "outputId": "6850fac7-674e-410a-dd5d-05cc74d5f910"
   },
   "outputs": [
    {
     "name": "stdout",
     "output_type": "stream",
     "text": [
      "Page - Exists: True\n"
     ]
    }
   ],
   "source": [
    "print(\"Page - Exists: %s\" % ml_art.exists())"
   ]
  },
  {
   "cell_type": "code",
   "execution_count": 6,
   "metadata": {
    "colab": {
     "base_uri": "https://localhost:8080/"
    },
    "id": "N8ipIWzQeGkk",
    "outputId": "7324fc42-8172-433f-cefa-94abadda7f03"
   },
   "outputs": [
    {
     "name": "stdout",
     "output_type": "stream",
     "text": [
      "Page - Title: Machine learning\n"
     ]
    }
   ],
   "source": [
    "print(\"Page - Title: %s\" % ml_art.title)"
   ]
  },
  {
   "cell_type": "code",
   "execution_count": 7,
   "metadata": {
    "colab": {
     "base_uri": "https://localhost:8080/"
    },
    "id": "38nBj--MeOg9",
    "outputId": "0bf9ec58-3bd9-4676-e867-27f2e53394ca"
   },
   "outputs": [
    {
     "name": "stdout",
     "output_type": "stream",
     "text": [
      "Page - Summary: Machine learning (ML) is a field of inquiry devoted to under\n"
     ]
    }
   ],
   "source": [
    "print(\"Page - Summary: %s\" % ml_art.summary[0:60])"
   ]
  },
  {
   "cell_type": "code",
   "execution_count": 8,
   "metadata": {
    "colab": {
     "base_uri": "https://localhost:8080/"
    },
    "id": "DfkcvDxheRvO",
    "outputId": "7565366d-eefc-48f2-b204-f47a181e9c02"
   },
   "outputs": [
    {
     "name": "stdout",
     "output_type": "stream",
     "text": [
      "https://en.wikipedia.org/wiki/Machine_learning\n"
     ]
    }
   ],
   "source": [
    "print(ml_art.fullurl)"
   ]
  },
  {
   "cell_type": "code",
   "execution_count": 9,
   "metadata": {
    "colab": {
     "base_uri": "https://localhost:8080/",
     "height": 145
    },
    "id": "YemVEcWyfYl4",
    "outputId": "24231278-8823-4152-a810-21198724c637"
   },
   "outputs": [
    {
     "data": {
      "application/vnd.google.colaboratory.intrinsic+json": {
       "type": "string"
      },
      "text/plain": [
       "'Machine learning (ML) is a field of inquiry devoted to understanding and building methods that \\'learn\\', that is, methods that leverage data to improve performance on some set of tasks. It is seen as a part of artificial intelligence. Machine learning algorithms build a model based on sample data, known as training data, in order to make predictions or decisions without being explicitly programmed to do so. Machine learning algorithms are used in a wide variety of applications, such as in medicine, email filtering, speech recognition, and computer vision, where it is difficult or unfeasible to develop conventional algorithms to perform the needed tasks.A subset of machine learning is closely related to computational statistics, which focuses on making predictions using computers, but not all machine learning is statistical learning. The study of mathematical optimization delivers methods, theory and application domains to the field of machine learning. Data mining is a related field of study, focusing on exploratory data analysis through unsupervised learning. Some implementations of machine learning use data and neural networks in a way that mimics the working of a biological brain.  In its application across business problems, machine learning is also referred to as predictive analytics.\\n\\nOverview\\nLearning algorithms work on the basis that strategies, algorithms, and inferences that worked well in the past are likely to continue working well in the future. These inferences can be obvious, such as \"since the sun rose every morning for the last 10,000 days, it will probably rise tomorrow morning as well\". They can be nuanced, such as \"X% of families have geographically separate species with color variants, so there is a Y% chance that undiscovered black swans exist\".Machine learning programs can perform tasks without being explicitly programmed to do so. It involves computers learning from data provided so that they carry out certain tasks. For simple tasks assigned to computers, it is possible to program algorithms telling the machine how to execute all steps required to solve the problem at hand; on the computer\\'s part, no learning is needed. For more advanced tasks, it can be challenging for a human to manually create the needed algorithms. In practice, it can turn out to be more effective to help the machine develop its own algorithm, rather than having human programmers specify every needed step.The discipline of machine learning employs various approaches to teach computers to accomplish tasks where no fully satisfactory algorithm is available. In cases where vast numbers of potential answers exist, one approach is to label some of the correct answers as valid. This can then be used as training data for the computer to improve the algorithm(s) it uses to determine correct answers. For example, to train a system for the task of digital character recognition, the MNIST dataset of handwritten digits has often been used.\\n\\nHistory and relationships to other fields\\nThe term machine learning was coined in 1959 by Arthur Samuel, an IBM employee and pioneer in the field of computer gaming and artificial intelligence. Also the synonym self-teaching computers were used in this time period.By the early 1960s an experimental \"learning machine\" with punched tape memory, called Cybertron, had been developed by Raytheon Company to analyze sonar signals, electrocardiograms and speech patterns using rudimentary reinforcement learning. It was repetitively \"trained\" by a human operator/teacher to recognize patterns and equipped with a \"goof\" button to cause it to re-evaluate incorrect decisions. A representative book on research into machine learning during the 1960s was Nilsson\\'s book on Learning Machines, dealing mostly with machine learning for pattern classification. Interest related to pattern recognition continued into the 1970s, as described by Duda and Hart in 1973. In 1981 a report was given on using teaching strategies so that a neural network learns to recognize 40 characters (26 letters, 10 digits, and 4 special symbols) from a computer terminal.Tom M. Mitchell provided a widely quoted, more formal definition of the algorithms studied in the machine learning field: \"A computer program is said to learn from experience E with respect to some class of tasks T and performance measure P if its performance at tasks in T, as measured by P,  improves with experience E.\" This definition of the tasks in which machine learning is concerned offers a fundamentally operational definition rather than defining the field in cognitive terms. This follows Alan Turing\\'s proposal in his paper \"Computing Machinery and Intelligence\", in which the question \"Can machines think?\" is replaced with the question \"Can machines do what we (as thinking entities) can do?\".Modern day machine learning has two objectives, one is to classify data based on models which have been developed, the other purpose is to make predictions for future outcomes based on these models. A hypothetical algorithm specific to classifying data may use computer vision of moles coupled with supervised learning in order to train it to classify the cancerous moles. A machine learning algorithm for stock trading may inform the trader of future potential predictions.\\n\\nArtificial intelligence\\nAs a scientific endeavor, machine learning grew out of the quest for artificial intelligence. In the early days of AI as an academic discipline, some researchers were interested in having machines learn from data. They attempted to approach the problem with various symbolic methods, as well as what was then termed \"neural networks\"; these were mostly perceptrons and other models that were later found to be reinventions of the generalized linear models of statistics. Probabilistic reasoning was also employed, especially in automated medical diagnosis.:\\u200a488\\u200aHowever, an increasing emphasis on the logical, knowledge-based approach caused a rift between AI and machine learning. Probabilistic systems were plagued by theoretical and practical problems of data acquisition and representation.:\\u200a488\\u200a By 1980, expert systems had come to dominate AI, and statistics was out of favor. Work on symbolic/knowledge-based learning did continue within AI, leading to inductive logic programming, but the more statistical line of research was now outside the field of AI proper, in pattern recognition and information retrieval.:\\u200a708–710,\\u200a755\\u200a Neural networks research had been abandoned by AI and computer science around the same time. This line, too, was continued outside the AI/CS field, as \"connectionism\", by researchers from other disciplines including Hopfield, Rumelhart and Hinton. Their main success came in the mid-1980s with the reinvention of backpropagation.:\\u200a25\\u200aMachine learning (ML), reorganized as a separate field, started to flourish in the 1990s. The field changed its goal from achieving artificial intelligence to tackling solvable problems of a practical nature. It shifted focus away from the symbolic approaches it had inherited from AI, and toward methods and models borrowed from statistics, fuzzy logic, and probability theory.The difference between ML and AI is frequently misunderstood. ML learns and predicts based on passive observations, whereas AI implies an agent interacting with the environment to learn and take actions that maximize its chance of successfully achieving its goals.As of 2020, many sources continue to assert that ML remains a subfield of AI. Others have the view that not all ML is part of AI, but only an \\'intelligent subset\\' of ML should be considered AI.\\n\\nData mining\\nMachine learning and data mining often employ the same methods and overlap significantly, but while machine learning focuses on prediction, based on known properties learned from the training data, data mining focuses on the discovery of (previously) unknown properties in the data (this is the analysis step of knowledge discovery in databases). Data mining uses many machine learning methods, but with different goals; on the other hand, machine learning also employs data mining methods as \"unsupervised learning\" or as a preprocessing step to improve learner accuracy. Much of the confusion between these two research communities (which do often have separate conferences and separate journals, ECML PKDD being a major exception) comes from the basic assumptions they work with: in machine learning, performance is usually evaluated with respect to the ability to reproduce known knowledge, while in knowledge discovery and data mining (KDD) the key task is the discovery of previously unknown knowledge. Evaluated with respect to known knowledge, an uninformed (unsupervised) method will easily be outperformed by other supervised methods, while in a typical KDD task, supervised methods cannot be used due to the unavailability of training data.\\n\\nOptimization\\nMachine learning also has intimate ties to optimization: many learning problems are formulated as minimization of some loss function on a training set of examples. Loss functions express the discrepancy between the predictions of the model being trained and the actual problem instances (for example, in classification, one wants to assign a label to instances, and models are trained to correctly predict the pre-assigned labels of a set of examples).\\n\\nGeneralization\\nThe difference between optimization and machine learning arises from the goal of generalization: while optimization algorithms can minimize the loss on a training set, machine learning is concerned with minimizing the loss on unseen samples. Characterizing the generalization of various learning algorithms is an active topic of current research, especially for deep learning algorithms.\\n\\nStatistics\\nMachine learning and statistics are closely related fields in terms of methods, but distinct in their principal goal: statistics draws population inferences from a sample, while machine learning finds generalizable predictive patterns. According to Michael I. Jordan, the ideas of machine learning, from methodological principles to theoretical tools, have had a long pre-history in statistics. He also suggested the term data science as a placeholder to call the overall field.Leo Breiman distinguished two statistical modeling paradigms: data model and algorithmic model, wherein \"algorithmic model\" means more or less the machine learning algorithms like Random forest.\\nSome statisticians have adopted methods from machine learning, leading to a combined field that they call statistical learning.\\n\\nTheory\\nA core objective of a learner is to generalize from its experience. Generalization in this context is the ability of a learning machine to perform accurately on new, unseen examples/tasks after having experienced a learning data set. The training examples come from some generally unknown probability distribution (considered representative of the space of occurrences) and the learner has to build a general model about this space that enables it to produce sufficiently accurate predictions in new cases.\\nThe computational analysis of machine learning algorithms and their performance is a branch of theoretical computer science known as computational learning theory via the Probably Approximately Correct Learning (PAC) model. Because training sets are finite and the future is uncertain, learning theory usually does not yield guarantees of the performance of algorithms. Instead, probabilistic bounds on the performance are quite common. The bias–variance decomposition is one way to quantify generalization error.\\nFor the best performance in the context of generalization, the complexity of the hypothesis should match the complexity of the function underlying the data. If the hypothesis is less complex than the function, then the model has under fitted the data. If the complexity of the model is increased in response, then the training error decreases. But if the hypothesis is too complex, then the model is subject to overfitting and generalization will be poorer.In addition to performance bounds, learning theorists study the time complexity and feasibility of learning. In computational learning theory, a computation is considered feasible if it can be done in polynomial time. There are two kinds of time complexity results: Positive results show that a certain class of functions can be learned in polynomial time. Negative results show that certain classes cannot be learned in polynomial time.\\n\\nApproaches\\nMachine learning approaches are traditionally divided into three broad categories, which correspond to learning paradigms, depending on the nature of the \"signal\" or \"feedback\" available to the learning system:\\n\\nSupervised learning: The computer is presented with example inputs and their desired outputs, given by a \"teacher\", and the goal is to learn a general rule that maps inputs to outputs.\\nUnsupervised learning: No labels are given to the learning algorithm, leaving it on its own to find structure in its input. Unsupervised learning can be a goal in itself (discovering hidden patterns in data) or a means towards an end (feature learning).\\nReinforcement learning: A computer program interacts with a dynamic environment in which it must perform a certain goal (such as driving a vehicle or playing a game against an opponent). As it navigates its problem space, the program is provided feedback that\\'s analogous to rewards, which it tries to maximize.\\n\\nSupervised learning\\nSupervised learning algorithms build a mathematical model of a set of data that contains both the inputs and the desired outputs. The data is known as training data, and consists of a set of training examples. Each training example has one or more inputs and the desired output, also known as a supervisory signal.  In the mathematical model, each training example is represented by an array or vector, sometimes called a feature vector, and the training data is represented by a matrix. Through iterative optimization of an objective function, supervised learning algorithms learn a function that can be used to predict the output associated with new inputs. An optimal function will allow the algorithm to correctly determine the output for inputs that were not a part of the training data. An algorithm that improves the accuracy of its outputs or predictions over time is said to have learned to perform that task.Types of supervised-learning algorithms include active learning, classification and regression. Classification algorithms are used when the outputs are restricted to a limited set of values, and regression algorithms are used when the outputs may have any numerical value within a range. As an example, for a classification algorithm that filters emails, the input would be an incoming email, and the output would be the name of the folder in which to file the email.\\nSimilarity learning is an area of supervised machine learning closely related to regression and classification, but the goal is to learn from examples using a similarity function that measures how similar or related two objects are. It has applications in ranking, recommendation systems, visual identity tracking, face verification, and speaker verification.\\n\\nUnsupervised learning\\nUnsupervised learning algorithms take a set of data that contains only inputs, and find structure in the data, like grouping or clustering of data points. The algorithms, therefore, learn from test data that has not been labeled, classified or categorized. Instead of responding to feedback, unsupervised learning algorithms identify commonalities in the data and react based on the presence or absence of such commonalities in each new piece of data. A central application of unsupervised learning is in the field of density estimation in statistics, such as finding the probability density function. Though unsupervised learning encompasses other domains involving summarizing and explaining data features.\\nCluster analysis is the assignment of a set of observations into subsets (called clusters) so that observations within the same cluster are similar according to one or more predesignated criteria, while observations drawn from different clusters are dissimilar. Different clustering techniques make different assumptions on the structure of the data, often defined by some similarity metric and evaluated, for example, by internal compactness, or the similarity between members of the same cluster, and separation, the difference between clusters. Other methods are based on estimated density and graph connectivity.\\n\\nSemi-supervised learning\\nSemi-supervised learning falls between unsupervised learning (without any labeled training data) and supervised learning (with completely labeled training data). Some of the training examples are missing training labels,  yet many machine-learning researchers have found that unlabeled data, when used in conjunction with a small amount of labeled data, can produce a considerable improvement in learning accuracy.\\nIn weakly supervised learning, the training labels are noisy, limited, or imprecise; however, these labels are often cheaper to obtain, resulting in larger effective training sets.\\n\\nReinforcement learning\\nReinforcement learning is an area of machine learning concerned with how software agents ought to take actions in an environment so as to maximize some notion of cumulative reward. Due to its generality, the field is studied in many other disciplines, such as game theory, control theory, operations research, information theory, simulation-based optimization, multi-agent systems, swarm intelligence, statistics and genetic algorithms. In machine learning, the environment is typically represented as a Markov decision process (MDP). Many reinforcement learning algorithms use dynamic programming techniques. Reinforcement learning algorithms do not assume knowledge of an exact mathematical model of the MDP, and are used when exact models are infeasible. Reinforcement learning algorithms are used in autonomous vehicles or in learning to play a game against a human opponent.\\n\\nDimensionality reduction\\nDimensionality reduction is a process of reducing the number of random variables under consideration by obtaining a set of principal variables. In other words, it is a process of reducing the dimension of the feature set, also called \"number of features\". Most of the dimensionality reduction techniques can be considered as either feature elimination or extraction.\\nOne of the popular methods of dimensionality reduction is principal component analysis (PCA).\\nPCA involves changing higher-dimensional data (e.g., 3D) to a smaller space (e.g., 2D). This results in a smaller dimension of data (2D instead of 3D), while keeping all original variables in the model without changing the data.\\nThe manifold hypothesis proposes that high-dimensional data sets lie along low-dimensional manifolds, and many dimensionality reduction techniques make this assumption, leading to the area of manifold learning and manifold regularization.\\n\\nOther types\\nOther approaches have been developed which don\\'t fit neatly into this three-fold categorisation, and sometimes more than one is used by the same machine learning system. For example topic modeling,  meta learning.As of 2020, deep learning has become the dominant approach for much ongoing work in the field of machine learning.\\n\\nSelf learning\\nSelf-learning as a machine learning paradigm was introduced in 1982 along with a neural network capable of self-learning named crossbar adaptive array (CAA). It is a learning with no external rewards and no external teacher advice. The CAA self-learning algorithm computes, in a crossbar fashion, both decisions about actions and emotions (feelings) about consequence situations. The system is driven by the interaction between cognition and emotion.\\nThe self-learning algorithm updates a memory matrix W =||w(a,s)|| such that in each iteration executes the following machine learning routine: \\n\\n In situation s perform an action a;\\n Receive consequence situation s’;\\n Compute emotion of being in consequence situation v(s’);\\n Update crossbar memory  w’(a,s) = w(a,s) + v(s’).\\n\\nIt is a system with only one input, situation s, and only one output, action (or behavior) a. There is neither a separate reinforcement input nor an advice input from the environment. The backpropagated value (secondary reinforcement) is the emotion toward the consequence situation. The CAA exists in two environments, one is the behavioral environment where it behaves, and the other is the genetic environment, wherefrom it initially and only once receives initial emotions about situations to be encountered in the behavioral environment. After receiving the genome (species) vector from the genetic environment, the CAA learns a goal-seeking behavior, in an environment that contains both desirable and undesirable situations.\\n\\nFeature learning\\nSeveral learning algorithms aim at discovering better representations of the inputs provided during training. Classic examples include principal components analysis and cluster analysis. Feature learning algorithms, also called representation learning algorithms, often attempt to preserve the information in their input but also transform it in a way that makes it useful, often as a pre-processing step before performing classification or predictions. This technique allows reconstruction of the inputs coming from the unknown data-generating distribution, while not being necessarily faithful to configurations that are implausible under that distribution. This replaces manual feature engineering, and allows a machine to both learn the features and use them to perform a specific task.\\nFeature learning can be either supervised or unsupervised. In supervised feature learning, features are learned using labeled input data. Examples include artificial neural networks, multilayer perceptrons, and supervised dictionary learning. In unsupervised feature learning, features are learned with unlabeled input data.  Examples include dictionary learning, independent component analysis, autoencoders, matrix factorization and various forms of clustering.Manifold learning algorithms attempt to do so under the constraint that the learned representation is low-dimensional. Sparse coding algorithms attempt to do so under the constraint that the learned representation is sparse, meaning that the mathematical model has many zeros. Multilinear subspace learning algorithms aim to learn low-dimensional representations directly from tensor representations for multidimensional data, without reshaping them into higher-dimensional vectors. Deep learning algorithms discover multiple levels of representation, or a hierarchy of features, with higher-level, more abstract features defined in terms of (or generating) lower-level features. It has been argued that an intelligent machine is one that learns a representation that disentangles the underlying factors of variation that explain the observed data.Feature learning is motivated by the fact that machine learning tasks such as classification often require input that is mathematically and computationally convenient to process. However, real-world data such as images, video, and sensory data has not yielded attempts to algorithmically define specific features. An alternative is to discover such features or representations through examination, without relying on explicit algorithms.\\n\\nSparse dictionary learning\\nSparse dictionary learning is a feature learning method where a training example is represented as a linear combination of basis functions, and is assumed to be a sparse matrix. The method is strongly NP-hard and difficult to solve approximately. A popular heuristic method for sparse dictionary learning is the K-SVD algorithm. Sparse dictionary learning has been applied in several contexts. In classification, the problem is to determine the class to which a previously unseen training example belongs. For a dictionary where each class has already been built, a new training example is associated with the class that is best sparsely represented by the corresponding dictionary. Sparse dictionary learning has also been applied in image de-noising. The key idea is that a clean image patch can be sparsely represented by an image dictionary, but the noise cannot.\\n\\nAnomaly detection\\nIn data mining, anomaly detection, also known as outlier detection, is the identification of rare items, events or observations which raise suspicions by differing significantly from the majority of the data. Typically, the anomalous items represent an issue such as bank fraud, a structural defect, medical problems or errors in a text. Anomalies are referred to as outliers, novelties, noise, deviations and exceptions.In particular, in the context of abuse and network intrusion detection, the interesting objects are often not rare objects, but unexpected bursts of inactivity. This pattern does not adhere to the common statistical definition of an outlier as a rare object, and many outlier detection methods (in particular, unsupervised algorithms) will fail on such data unless it has been aggregated appropriately. Instead, a cluster analysis algorithm may be able to detect the micro-clusters formed by these patterns.Three broad categories of anomaly detection techniques exist. Unsupervised anomaly detection techniques detect anomalies in an unlabeled test data set under the assumption that the majority of the instances in the data set are normal, by looking for instances that seem to fit the least to the remainder of the data set. Supervised anomaly detection techniques require a data set that has been labeled as \"normal\" and \"abnormal\" and involves training a classifier (the key difference to many other statistical classification problems is the inherently unbalanced nature of outlier detection). Semi-supervised anomaly detection techniques construct a model representing normal behavior from a given normal training data set and then test the likelihood of a test instance to be generated by the model.\\n\\nRobot learning\\nRobot learning is inspired by a multitude of machine learning methods, starting from supervised learning, reinforcement learning, and finally meta-learning (e.g. MAML).\\n\\nAssociation rules\\nAssociation rule learning is a rule-based machine learning method for discovering relationships between variables in large databases. It is intended to identify strong rules discovered in databases using some measure of \"interestingness\".Rule-based machine learning is a general term for any machine learning method that identifies, learns, or evolves \"rules\" to store, manipulate or apply knowledge. The defining characteristic of a rule-based machine learning algorithm is the identification and utilization of a set of relational rules that collectively represent the knowledge captured by the system. This is in contrast to other machine learning algorithms that commonly identify a singular model that can be universally applied to any instance in order to make a prediction. Rule-based machine learning approaches include learning classifier systems, association rule learning, and artificial immune systems.\\nBased on the concept of strong rules, Rakesh Agrawal, Tomasz Imieliński and Arun Swami introduced association rules for discovering regularities between products in large-scale transaction data recorded by point-of-sale (POS) systems in supermarkets. For example, the rule \\n  \\n    \\n      \\n        {\\n        \\n          o\\n          n\\n          i\\n          o\\n          n\\n          s\\n          ,\\n          p\\n          o\\n          t\\n          a\\n          t\\n          o\\n          e\\n          s\\n        \\n        }\\n        ⇒\\n        {\\n        \\n          b\\n          u\\n          r\\n          g\\n          e\\n          r\\n        \\n        }\\n      \\n    \\n    {\\\\displaystyle \\\\{\\\\mathrm {onions,potatoes} \\\\}\\\\Rightarrow \\\\{\\\\mathrm {burger} \\\\}}\\n   found in the sales data of a supermarket would indicate that if a customer buys onions and potatoes together, they are likely to also buy hamburger meat. Such information can be used as the basis for decisions about marketing activities such as promotional pricing or product placements. In addition to market basket analysis, association rules are employed today in application areas including Web usage mining, intrusion detection, continuous production, and bioinformatics. In contrast with sequence mining, association rule learning typically does not consider the order of items either within a transaction or across transactions.\\nLearning classifier systems (LCS) are a family of rule-based machine learning algorithms that combine a discovery component, typically a genetic algorithm, with a learning component, performing either supervised learning, reinforcement learning, or unsupervised learning. They seek to identify a set of context-dependent rules that collectively store and apply knowledge in a piecewise manner in order to make predictions.Inductive logic programming (ILP) is an approach to rule-learning using logic programming as a uniform representation for input examples, background knowledge, and hypotheses. Given an encoding of the known background knowledge and a set of examples represented as a logical database of facts, an ILP system will derive a hypothesized logic program that entails all positive and no negative examples. Inductive programming is a related field that considers any kind of programming language for representing hypotheses (and not only logic programming), such as functional programs.\\nInductive logic programming is particularly useful in bioinformatics and natural language processing. Gordon Plotkin and Ehud Shapiro laid the initial theoretical foundation for inductive machine learning in a logical setting. Shapiro built their first implementation (Model Inference System) in 1981: a Prolog program that inductively inferred logic programs from positive and negative examples. The term inductive here refers to philosophical induction, suggesting a theory to explain observed facts, rather than mathematical induction, proving a property for all members of a well-ordered set.\\n\\nModels\\nPerforming machine learning involves creating a model, which is trained on some training data and then can process additional data to make predictions. Various types of models have been used and researched for machine learning systems.\\n\\nArtificial neural networks\\nArtificial neural networks (ANNs), or connectionist systems, are computing systems vaguely inspired by the biological neural networks that constitute animal brains. Such systems \"learn\" to perform tasks by considering examples, generally without being programmed with any task-specific rules.\\nAn ANN is a model based on a collection of connected units or nodes called \"artificial neurons\", which loosely model the neurons in a biological brain. Each connection, like the synapses in a biological brain, can transmit information, a \"signal\", from one artificial neuron to another. An artificial neuron that receives a signal can process it and then signal additional artificial neurons connected to it. In common ANN implementations, the signal at a connection between artificial neurons is a real number, and the output of each artificial neuron is computed by some non-linear function of the sum of its inputs. The connections between artificial neurons are called \"edges\". Artificial neurons and edges typically have a weight that adjusts as learning proceeds. The weight increases or decreases the strength of the signal at a connection. Artificial neurons may have a threshold such that the signal is only sent if the aggregate signal crosses that threshold. Typically, artificial neurons are aggregated into layers. Different layers may perform different kinds of transformations on their inputs. Signals travel from the first layer (the input layer) to the last layer (the output layer), possibly after traversing the layers multiple times.\\nThe original goal of the ANN approach was to solve problems in the same way that a human brain would. However, over time, attention moved to performing specific tasks, leading to deviations from biology. Artificial neural networks have been used on a variety of tasks, including computer vision, speech recognition, machine translation, social network filtering, playing board and video games and medical diagnosis.\\nDeep learning consists of multiple hidden layers in an artificial neural network. This approach tries to model the way the human brain processes light and sound into vision and hearing. Some successful applications of deep learning are computer vision and speech recognition.\\n\\nDecision trees\\nDecision tree learning uses a decision tree as a predictive model to go from observations about an item (represented in the branches) to conclusions about the item\\'s target value (represented in the leaves). It is one of the predictive modeling approaches used in statistics, data mining, and machine learning. Tree models where the target variable can take a discrete set of values are called classification trees; in these tree structures, leaves represent class labels and branches represent conjunctions of features that lead to those class labels. Decision trees where the target variable can take continuous values (typically real numbers) are called regression trees. In decision analysis, a decision tree can be used to visually and explicitly represent decisions and decision making. In data mining, a decision tree describes data, but the resulting classification tree can be an input for decision making.\\n\\nSupport-vector machines\\nSupport-vector machines (SVMs), also known as support-vector networks, are a set of related supervised learning methods used for classification and regression. Given a set of training examples, each marked as belonging to one of two categories, an SVM training algorithm builds a model that predicts whether a new example falls into one category or the other.  An SVM training algorithm is a non-probabilistic, binary, linear classifier, although methods such as Platt scaling exist to use SVM in a probabilistic classification setting. In addition to performing linear classification, SVMs can efficiently perform a non-linear classification using what is called the kernel trick, implicitly mapping their inputs into high-dimensional feature spaces.\\n\\nRegression analysis\\nRegression analysis encompasses a large variety of statistical methods to estimate the relationship between input variables and their associated features. Its most common form is linear regression, where a single line is drawn to best fit the given data according to a mathematical criterion such as ordinary least squares. The latter is often extended by regularization methods to mitigate overfitting and bias, as in ridge regression. When dealing with non-linear problems, go-to models include polynomial regression (for example, used for trendline fitting in Microsoft Excel), logistic regression (often used in statistical classification) or even kernel regression, which introduces non-linearity by taking advantage of the kernel trick to implicitly map input variables to higher-dimensional space.\\n\\nBayesian networks\\nA Bayesian network, belief network, or directed acyclic graphical model is a probabilistic graphical model that represents a set of random variables and their conditional independence with a directed acyclic graph (DAG). For example, a Bayesian network could represent the probabilistic relationships between diseases and symptoms. Given symptoms, the network can be used to compute the probabilities of the presence of various diseases. Efficient algorithms exist that perform inference and learning. Bayesian networks that model sequences of variables, like speech signals or protein sequences, are called dynamic Bayesian networks. Generalizations of Bayesian networks that can represent and solve decision problems under uncertainty are called influence diagrams.\\n\\nGenetic algorithms\\nA genetic algorithm (GA) is a search algorithm and heuristic technique that mimics the process of natural selection, using methods such as mutation and crossover to generate new genotypes in the hope of finding good solutions to a given problem. In machine learning, genetic algorithms were used in the 1980s and 1990s. Conversely, machine learning techniques have been used to improve the performance of genetic and evolutionary algorithms.\\n\\nTraining models\\nTypically, machine learning models require a high quantity of reliable data in order for the models to perform accurate predictions. When training a machine learning model, machine learning engineers need to target and collect a large and representative sample of data. Data from the training set can be as varied as a corpus of text, a collection of images, sensor data, and data collected from individual users of a service. Overfitting is something to watch out for when training a machine learning model. Trained models derived from biased or non-evaluated data can result in skewed or undesired predictions. Bias models may result in detrimental outcomes thereby furthering the negative impacts on society or objectives. Algorithmic bias is a potential result of data not being fully prepared for training. Machine learning ethics is becoming a field of study and notably be integrated within machine learning engineering teams.\\n\\nFederated learning\\nFederated learning is an adapted form of distributed artificial intelligence to training machine learning models that decentralizes the training process, allowing for users\\' privacy to be maintained by not needing to send their data to a centralized server. This also increases efficiency by decentralizing the training process to many devices. For example, Gboard uses federated machine learning to train search query prediction models on users\\' mobile phones without having to send individual searches back to Google.\\n\\nApplications\\nThere are many applications for machine learning, including:\\n\\nIn 2006, the media-services provider Netflix held the first \"Netflix Prize\" competition to find a program to better predict user preferences and improve the accuracy of its existing Cinematch movie recommendation algorithm by at least 10%.  A joint team made up of researchers from AT&T Labs-Research in collaboration with the teams Big Chaos and Pragmatic Theory built an ensemble model to win the Grand Prize in 2009 for $1 million. Shortly after the prize was awarded, Netflix realized that viewers\\' ratings were not the best indicators of their viewing patterns (\"everything is a recommendation\") and they changed their recommendation engine accordingly. In 2010 The Wall Street Journal wrote about the firm Rebellion Research and their use of machine learning to predict the financial crisis. In 2012, co-founder of Sun Microsystems, Vinod Khosla, predicted that 80% of medical doctors\\' jobs would be lost in the next two decades to automated machine learning medical diagnostic software. In 2014, it was reported that a machine learning algorithm had been applied in the field of art history to study fine art paintings and that it may have revealed previously unrecognized influences among artists. In 2019 Springer Nature published the first research book created using machine learning. In 2020, machine learning technology was used to help make diagnoses and aid researchers in developing a cure for COVID-19. Machine learning is recently applied to predict the green behavior of human-being. Recently, machine learning technology is also applied to optimise smartphone\\'s performance and thermal behaviour based on the user\\'s interaction with the phone.\\n\\nLimitations\\nAlthough machine learning has been transformative in some fields, machine-learning programs often fail to deliver expected results. Reasons for this are numerous: lack of (suitable) data, lack of access to the data, data bias, privacy problems, badly chosen tasks and algorithms, wrong tools and people, lack of resources, and evaluation problems.In 2018, a self-driving car from Uber failed to detect a pedestrian, who was killed after a collision. Attempts to use machine learning in healthcare with the IBM Watson system failed to deliver even after years of time and billions of dollars invested.Machine learning has been used as a strategy to update the evidence related to a systematic review and increased reviewer burden related to the growth of biomedical literature. While it has improved with training sets, it has not yet developed sufficiently to reduce the workload burden without limiting the necessary sensitivity for the findings research themselves.\\n\\nBias\\nMachine learning approaches in particular can suffer from different data biases. A machine learning system trained specifically on current customers may not be able to predict the needs of new customer groups that are not represented in the training data. When trained on man-made data, machine learning is likely to pick up the constitutional and unconscious biases already present in society. Language models learned from data have been shown to contain human-like biases. Machine learning systems used for criminal risk assessment have been found to be biased against black people. In 2015, Google photos would often tag black people as gorillas, and in 2018 this still was not well resolved, but Google reportedly was still using the workaround to remove all gorillas from the training data, and thus was not able to recognize real gorillas at all. Similar issues with recognizing non-white people have been found in many other systems. In 2016, Microsoft tested a chatbot that learned from Twitter, and it quickly picked up racist and sexist language. Because of such challenges, the effective use of machine learning may take longer to be adopted in other domains. Concern for fairness in machine learning, that is, reducing bias in machine learning and propelling its use for human good is increasingly expressed by artificial intelligence scientists, including Fei-Fei Li, who reminds engineers that \"There’s nothing artificial about AI...It’s inspired by people, it’s created by people, and—most importantly—it impacts people. It is a powerful tool we are only just beginning to understand, and that is a profound responsibility.”\\n\\nOverfitting\\nSettling on a bad, overly complex theory gerrymandered to fit all the past training data is known as overfitting. Many systems attempt to reduce overfitting by rewarding a theory in accordance with how well it fits the data, but penalizing the theory in accordance with how complex the theory is.\\n\\nOther limitations and vulnerabilities\\nLearners can also disappoint by \"learning the wrong lesson\". A toy example is that an image classifier trained only on pictures of brown horses and black cats might conclude that all brown patches are likely to be horses. A real-world example is that, unlike humans, current image classifiers often don\\'t primarily make judgments from the spatial relationship between components of the picture, and they learn relationships between pixels that humans are oblivious to, but that still correlate with images of certain types of real objects. Modifying these patterns on a legitimate image can result in \"adversarial\" images that the system misclassifies.Adversarial vulnerabilities can also result in nonlinear systems, or from non-pattern perturbations. Some systems are so brittle that changing a single adversarial pixel predictably induces misclassification. Machine learning models are often vulnerable to manipulation and/or evasion via adversarial machine learning.Researchers have demonstrated how backdoors can be placed undetectably into classifying (e.g. for categories \"spam\" and well-visible \"not spam\" of posts) machine learning models which are often developed and/or trained by third parties. Parties can change the classification of any input, including in cases for which a type of data/software transparency is provided, possibly including white-box access.\\n\\nModel assessments\\nClassification of machine learning models can be validated by accuracy estimation techniques like the holdout method, which splits the data in a training and test set (conventionally 2/3 training set and 1/3 test set designation) and evaluates the performance of the training model on the test set. In comparison, the K-fold-cross-validation method randomly partitions the data into K subsets and then K experiments are performed each respectively considering 1 subset for evaluation and the remaining K-1 subsets for training the model. In addition to the holdout and cross-validation methods, bootstrap, which samples n instances with replacement from the dataset, can be used to assess model accuracy.In addition to overall accuracy, investigators frequently report sensitivity and specificity meaning True Positive Rate (TPR) and True Negative Rate (TNR) respectively. Similarly, investigators sometimes report the false positive rate (FPR) as well as the false negative rate (FNR). However, these rates are ratios that fail to reveal their numerators and denominators. The total operating characteristic (TOC) is an effective method to express a model\\'s diagnostic ability. TOC shows the numerators and denominators of the previously mentioned rates, thus TOC provides more information than the commonly used receiver operating characteristic (ROC) and ROC\\'s associated area under the curve (AUC).\\n\\nEthics\\nMachine learning poses a host of ethical questions. Systems which are trained on datasets collected with biases may exhibit these biases upon use (algorithmic bias), thus digitizing cultural prejudices. For example, in 1988, the UK\\'s Commission for Racial Equality found that St. George\\'s Medical School had been using a computer program trained from data of previous admissions staff and this program had denied nearly 60 candidates who were found to be either women or had non-European sounding names. Using job hiring data from a firm with racist hiring policies may lead to a machine learning system duplicating the bias by scoring job applicants by similarity to previous successful applicants. Responsible collection of data and documentation of algorithmic rules used by a system thus is a critical part of machine learning.\\nAI can be well-equipped to make decisions in technical fields, which rely heavily on data and historical information. These decisions rely on the objectivity and logical reasoning. Because human languages contain biases, machines trained on language corpora will necessarily also learn these biases.Other forms of ethical challenges, not related to personal biases, are seen in health care. There are concerns among health care professionals that these systems might not be designed in the public\\'s interest but as income-generating machines. This is especially true in the United States where there is a long-standing ethical dilemma of improving health care, but also increase profits. For example, the algorithms could be designed to provide patients with unnecessary tests or medication in which the algorithm\\'s proprietary owners hold stakes. There is  potential for machine learning in health care to provide professionals an additional tool to diagnose, medicate, and plan recovery paths for patients, but this requires these biases to be mitigated.\\n\\nHardware\\nSince the 2010s, advances in both machine learning algorithms and computer hardware have led to more efficient methods for training deep neural networks (a particular narrow subdomain of machine learning) that contain many layers of non-linear hidden units. By 2019, graphic processing units (GPUs), often with AI-specific enhancements, had displaced CPUs as the dominant method of training large-scale commercial cloud AI. OpenAI estimated the hardware computing used in the largest deep learning projects from AlexNet (2012) to AlphaZero (2017), and found a 300,000-fold increase in the amount of compute required, with a doubling-time trendline of 3.4 months.\\n\\nNeuromorphic/Physical Neural Networks\\nA physical neural network or Neuromorphic computer  is a type of artificial neural network in which an electrically adjustable material is used to emulate the function of a neural synapse. \"Physical\" neural network is used to emphasize the reliance on physical hardware used to emulate neurons as opposed to software-based approaches. More generally the term is applicable to other artificial neural networks in which a memristor or other electrically adjustable resistance material is used to emulate a neural synapse.\\n\\nEmbedded Machine Learning\\nEmbedded Machine Learning is a sub-field of machine learning, where the machine learning model is run on embedded systems with limited computing resources such as wearable computers, edge devices and microcontrollers. Running machine learning model in embedded devices removes the need for transferring and storing data on cloud servers for further processing, henceforth, reducing data breaches and privacy leaks happening because of transferring data, and also minimizes theft of intellectual properties, personal data and business secrets. Embedded Machine Learning could be applied through several techniques including hardware acceleration, using approximate computing, optimization of machine learning models and many more.\\n\\nSoftware\\nSoftware suites containing a variety of machine learning algorithms include the following:\\n\\nFree and open-source software\\nProprietary software with free and open-source editions\\nKNIME\\nRapidMiner\\n\\nProprietary software\\nJournals\\nJournal of Machine Learning Research\\nMachine Learning\\nNature Machine Intelligence\\nNeural Computation\\n\\nConferences\\nAAAI Conference on Artificial Intelligence\\nAssociation for Computational Linguistics (ACL)\\nEuropean Conference on Machine Learning and Principles and Practice of Knowledge Discovery in Databases (ECML PKDD)\\nInternational Conference on Computational Intelligence Methods for Bioinformatics and Biostatistics (CIBB)\\nInternational Conference on Machine Learning (ICML)\\nInternational Conference on Learning Representations (ICLR)\\nInternational Conference on Intelligent Robots and Systems (IROS)\\nConference on Knowledge Discovery and Data Mining (KDD)\\nConference on Neural Information Processing Systems (NeurIPS)\\n\\nSee also\\nAutomated machine learning – Process of automating the application of machine learning\\nBig data – Information assets characterized by high volume, velocity, and variety\\nDifferentiable programming – Programming paradigm\\nList of important publications in machine learning\\nList of datasets for machine-learning research\\n\\nReferences\\nSources\\nDomingos, Pedro (September 22, 2015). The Master Algorithm: How the Quest for the Ultimate Learning Machine Will Remake Our World. Basic Books. ISBN 978-0465065707.\\nNilsson, Nils (1998). Artificial Intelligence: A New Synthesis. Morgan Kaufmann. ISBN 978-1-55860-467-4. Archived from the original on 26 July 2020. Retrieved 18 November 2019.\\nRussell, Stuart J.; Norvig, Peter (2003), Artificial Intelligence: A Modern Approach (2nd ed.), Upper Saddle River, New Jersey: Prentice Hall, ISBN 0-13-790395-2.\\nPoole, David; Mackworth, Alan; Goebel, Randy (1998). Computational Intelligence: A Logical Approach. New York: Oxford University Press. ISBN 978-0-19-510270-3. Archived from the original on 26 July 2020. Retrieved 22 August 2020.\\n\\nFurther reading\\nExternal links\\n\\n Quotations related to Machine learning at Wikiquote\\nInternational Machine Learning Society\\nmloss is an academic database of open-source machine learning software.'"
      ]
     },
     "execution_count": 9,
     "metadata": {},
     "output_type": "execute_result"
    }
   ],
   "source": [
    "ml_ftxt = ml_art.text\n",
    "ml_ftxt"
   ]
  },
  {
   "cell_type": "code",
   "execution_count": 10,
   "metadata": {
    "colab": {
     "base_uri": "https://localhost:8080/",
     "height": 145
    },
    "id": "IhP4fu3pee9K",
    "outputId": "80120792-6ea8-420a-abb2-b722abd2342e"
   },
   "outputs": [
    {
     "data": {
      "application/vnd.google.colaboratory.intrinsic+json": {
       "type": "string"
      },
      "text/plain": [
       "\"Machine learning (ML) is a field of inquiry devoted to understanding and building methods that 'learn', that is, methods that leverage data to improve performance on some set of tasks. It is seen as a part of artificial intelligence. Machine learning algorithms build a model based on sample data, known as training data, in order to make predictions or decisions without being explicitly programmed to do so. Machine learning algorithms are used in a wide variety of applications, such as in medicine, email filtering, speech recognition, and computer vision, where it is difficult or unfeasible to develop conventional algorithms to perform the needed tasks.A subset of machine learning is closely related to computational statistics, which focuses on making predictions using computers, but not all machine learning is statistical learning. The study of mathematical optimization delivers methods, theory and application domains to the field of machine learning. Data mining is a related field of study, focusing on exploratory data analysis through unsupervised learning. Some implementations of machine learning use data and neural networks in a way that mimics the working of a biological brain.  In its application across business problems, machine learning is also referred to as predictive analytics.\""
      ]
     },
     "execution_count": 10,
     "metadata": {},
     "output_type": "execute_result"
    }
   ],
   "source": [
    "ml_summary = ml_art.summary\n",
    "ml_summary"
   ]
  },
  {
   "cell_type": "code",
   "execution_count": 10,
   "metadata": {
    "id": "LQzqrF6pC7FL"
   },
   "outputs": [],
   "source": []
  },
  {
   "cell_type": "code",
   "execution_count": 10,
   "metadata": {
    "id": "hC9uCnNvG8Nj"
   },
   "outputs": [],
   "source": []
  },
  {
   "cell_type": "markdown",
   "metadata": {
    "id": "9x9PN4FUfm96"
   },
   "source": [
    "# Clean ML Text"
   ]
  },
  {
   "cell_type": "code",
   "execution_count": 11,
   "metadata": {
    "id": "Lt8kYm81grci"
   },
   "outputs": [],
   "source": [
    "import re\n",
    "import string"
   ]
  },
  {
   "cell_type": "code",
   "execution_count": 12,
   "metadata": {
    "id": "UcXPujDzgvOp"
   },
   "outputs": [],
   "source": [
    "ml_ftxt = ml_ftxt.lower()"
   ]
  },
  {
   "cell_type": "code",
   "execution_count": 13,
   "metadata": {
    "id": "2bKuRPP-g7UN"
   },
   "outputs": [],
   "source": [
    "ml_ftxt = re.sub(r'\\n', '', ml_ftxt)"
   ]
  },
  {
   "cell_type": "code",
   "execution_count": 14,
   "metadata": {
    "colab": {
     "base_uri": "https://localhost:8080/",
     "height": 145
    },
    "id": "FqgR6lmVhGLx",
    "outputId": "db5e750b-0a34-4d3b-8464-4c499e1da714"
   },
   "outputs": [
    {
     "data": {
      "application/vnd.google.colaboratory.intrinsic+json": {
       "type": "string"
      },
      "text/plain": [
       "'machine learning (ml) is a field of inquiry devoted to understanding and building methods that \\'learn\\', that is, methods that leverage data to improve performance on some set of tasks. it is seen as a part of artificial intelligence. machine learning algorithms build a model based on sample data, known as training data, in order to make predictions or decisions without being explicitly programmed to do so. machine learning algorithms are used in a wide variety of applications, such as in medicine, email filtering, speech recognition, and computer vision, where it is difficult or unfeasible to develop conventional algorithms to perform the needed tasks.a subset of machine learning is closely related to computational statistics, which focuses on making predictions using computers, but not all machine learning is statistical learning. the study of mathematical optimization delivers methods, theory and application domains to the field of machine learning. data mining is a related field of study, focusing on exploratory data analysis through unsupervised learning. some implementations of machine learning use data and neural networks in a way that mimics the working of a biological brain.  in its application across business problems, machine learning is also referred to as predictive analytics.overviewlearning algorithms work on the basis that strategies, algorithms, and inferences that worked well in the past are likely to continue working well in the future. these inferences can be obvious, such as \"since the sun rose every morning for the last 10,000 days, it will probably rise tomorrow morning as well\". they can be nuanced, such as \"x% of families have geographically separate species with color variants, so there is a y% chance that undiscovered black swans exist\".machine learning programs can perform tasks without being explicitly programmed to do so. it involves computers learning from data provided so that they carry out certain tasks. for simple tasks assigned to computers, it is possible to program algorithms telling the machine how to execute all steps required to solve the problem at hand; on the computer\\'s part, no learning is needed. for more advanced tasks, it can be challenging for a human to manually create the needed algorithms. in practice, it can turn out to be more effective to help the machine develop its own algorithm, rather than having human programmers specify every needed step.the discipline of machine learning employs various approaches to teach computers to accomplish tasks where no fully satisfactory algorithm is available. in cases where vast numbers of potential answers exist, one approach is to label some of the correct answers as valid. this can then be used as training data for the computer to improve the algorithm(s) it uses to determine correct answers. for example, to train a system for the task of digital character recognition, the mnist dataset of handwritten digits has often been used.history and relationships to other fieldsthe term machine learning was coined in 1959 by arthur samuel, an ibm employee and pioneer in the field of computer gaming and artificial intelligence. also the synonym self-teaching computers were used in this time period.by the early 1960s an experimental \"learning machine\" with punched tape memory, called cybertron, had been developed by raytheon company to analyze sonar signals, electrocardiograms and speech patterns using rudimentary reinforcement learning. it was repetitively \"trained\" by a human operator/teacher to recognize patterns and equipped with a \"goof\" button to cause it to re-evaluate incorrect decisions. a representative book on research into machine learning during the 1960s was nilsson\\'s book on learning machines, dealing mostly with machine learning for pattern classification. interest related to pattern recognition continued into the 1970s, as described by duda and hart in 1973. in 1981 a report was given on using teaching strategies so that a neural network learns to recognize 40 characters (26 letters, 10 digits, and 4 special symbols) from a computer terminal.tom m. mitchell provided a widely quoted, more formal definition of the algorithms studied in the machine learning field: \"a computer program is said to learn from experience e with respect to some class of tasks t and performance measure p if its performance at tasks in t, as measured by p,  improves with experience e.\" this definition of the tasks in which machine learning is concerned offers a fundamentally operational definition rather than defining the field in cognitive terms. this follows alan turing\\'s proposal in his paper \"computing machinery and intelligence\", in which the question \"can machines think?\" is replaced with the question \"can machines do what we (as thinking entities) can do?\".modern day machine learning has two objectives, one is to classify data based on models which have been developed, the other purpose is to make predictions for future outcomes based on these models. a hypothetical algorithm specific to classifying data may use computer vision of moles coupled with supervised learning in order to train it to classify the cancerous moles. a machine learning algorithm for stock trading may inform the trader of future potential predictions.artificial intelligenceas a scientific endeavor, machine learning grew out of the quest for artificial intelligence. in the early days of ai as an academic discipline, some researchers were interested in having machines learn from data. they attempted to approach the problem with various symbolic methods, as well as what was then termed \"neural networks\"; these were mostly perceptrons and other models that were later found to be reinventions of the generalized linear models of statistics. probabilistic reasoning was also employed, especially in automated medical diagnosis.:\\u200a488\\u200ahowever, an increasing emphasis on the logical, knowledge-based approach caused a rift between ai and machine learning. probabilistic systems were plagued by theoretical and practical problems of data acquisition and representation.:\\u200a488\\u200a by 1980, expert systems had come to dominate ai, and statistics was out of favor. work on symbolic/knowledge-based learning did continue within ai, leading to inductive logic programming, but the more statistical line of research was now outside the field of ai proper, in pattern recognition and information retrieval.:\\u200a708–710,\\u200a755\\u200a neural networks research had been abandoned by ai and computer science around the same time. this line, too, was continued outside the ai/cs field, as \"connectionism\", by researchers from other disciplines including hopfield, rumelhart and hinton. their main success came in the mid-1980s with the reinvention of backpropagation.:\\u200a25\\u200amachine learning (ml), reorganized as a separate field, started to flourish in the 1990s. the field changed its goal from achieving artificial intelligence to tackling solvable problems of a practical nature. it shifted focus away from the symbolic approaches it had inherited from ai, and toward methods and models borrowed from statistics, fuzzy logic, and probability theory.the difference between ml and ai is frequently misunderstood. ml learns and predicts based on passive observations, whereas ai implies an agent interacting with the environment to learn and take actions that maximize its chance of successfully achieving its goals.as of 2020, many sources continue to assert that ml remains a subfield of ai. others have the view that not all ml is part of ai, but only an \\'intelligent subset\\' of ml should be considered ai.data miningmachine learning and data mining often employ the same methods and overlap significantly, but while machine learning focuses on prediction, based on known properties learned from the training data, data mining focuses on the discovery of (previously) unknown properties in the data (this is the analysis step of knowledge discovery in databases). data mining uses many machine learning methods, but with different goals; on the other hand, machine learning also employs data mining methods as \"unsupervised learning\" or as a preprocessing step to improve learner accuracy. much of the confusion between these two research communities (which do often have separate conferences and separate journals, ecml pkdd being a major exception) comes from the basic assumptions they work with: in machine learning, performance is usually evaluated with respect to the ability to reproduce known knowledge, while in knowledge discovery and data mining (kdd) the key task is the discovery of previously unknown knowledge. evaluated with respect to known knowledge, an uninformed (unsupervised) method will easily be outperformed by other supervised methods, while in a typical kdd task, supervised methods cannot be used due to the unavailability of training data.optimizationmachine learning also has intimate ties to optimization: many learning problems are formulated as minimization of some loss function on a training set of examples. loss functions express the discrepancy between the predictions of the model being trained and the actual problem instances (for example, in classification, one wants to assign a label to instances, and models are trained to correctly predict the pre-assigned labels of a set of examples).generalizationthe difference between optimization and machine learning arises from the goal of generalization: while optimization algorithms can minimize the loss on a training set, machine learning is concerned with minimizing the loss on unseen samples. characterizing the generalization of various learning algorithms is an active topic of current research, especially for deep learning algorithms.statisticsmachine learning and statistics are closely related fields in terms of methods, but distinct in their principal goal: statistics draws population inferences from a sample, while machine learning finds generalizable predictive patterns. according to michael i. jordan, the ideas of machine learning, from methodological principles to theoretical tools, have had a long pre-history in statistics. he also suggested the term data science as a placeholder to call the overall field.leo breiman distinguished two statistical modeling paradigms: data model and algorithmic model, wherein \"algorithmic model\" means more or less the machine learning algorithms like random forest.some statisticians have adopted methods from machine learning, leading to a combined field that they call statistical learning.theorya core objective of a learner is to generalize from its experience. generalization in this context is the ability of a learning machine to perform accurately on new, unseen examples/tasks after having experienced a learning data set. the training examples come from some generally unknown probability distribution (considered representative of the space of occurrences) and the learner has to build a general model about this space that enables it to produce sufficiently accurate predictions in new cases.the computational analysis of machine learning algorithms and their performance is a branch of theoretical computer science known as computational learning theory via the probably approximately correct learning (pac) model. because training sets are finite and the future is uncertain, learning theory usually does not yield guarantees of the performance of algorithms. instead, probabilistic bounds on the performance are quite common. the bias–variance decomposition is one way to quantify generalization error.for the best performance in the context of generalization, the complexity of the hypothesis should match the complexity of the function underlying the data. if the hypothesis is less complex than the function, then the model has under fitted the data. if the complexity of the model is increased in response, then the training error decreases. but if the hypothesis is too complex, then the model is subject to overfitting and generalization will be poorer.in addition to performance bounds, learning theorists study the time complexity and feasibility of learning. in computational learning theory, a computation is considered feasible if it can be done in polynomial time. there are two kinds of time complexity results: positive results show that a certain class of functions can be learned in polynomial time. negative results show that certain classes cannot be learned in polynomial time.approachesmachine learning approaches are traditionally divided into three broad categories, which correspond to learning paradigms, depending on the nature of the \"signal\" or \"feedback\" available to the learning system:supervised learning: the computer is presented with example inputs and their desired outputs, given by a \"teacher\", and the goal is to learn a general rule that maps inputs to outputs.unsupervised learning: no labels are given to the learning algorithm, leaving it on its own to find structure in its input. unsupervised learning can be a goal in itself (discovering hidden patterns in data) or a means towards an end (feature learning).reinforcement learning: a computer program interacts with a dynamic environment in which it must perform a certain goal (such as driving a vehicle or playing a game against an opponent). as it navigates its problem space, the program is provided feedback that\\'s analogous to rewards, which it tries to maximize.supervised learningsupervised learning algorithms build a mathematical model of a set of data that contains both the inputs and the desired outputs. the data is known as training data, and consists of a set of training examples. each training example has one or more inputs and the desired output, also known as a supervisory signal.  in the mathematical model, each training example is represented by an array or vector, sometimes called a feature vector, and the training data is represented by a matrix. through iterative optimization of an objective function, supervised learning algorithms learn a function that can be used to predict the output associated with new inputs. an optimal function will allow the algorithm to correctly determine the output for inputs that were not a part of the training data. an algorithm that improves the accuracy of its outputs or predictions over time is said to have learned to perform that task.types of supervised-learning algorithms include active learning, classification and regression. classification algorithms are used when the outputs are restricted to a limited set of values, and regression algorithms are used when the outputs may have any numerical value within a range. as an example, for a classification algorithm that filters emails, the input would be an incoming email, and the output would be the name of the folder in which to file the email.similarity learning is an area of supervised machine learning closely related to regression and classification, but the goal is to learn from examples using a similarity function that measures how similar or related two objects are. it has applications in ranking, recommendation systems, visual identity tracking, face verification, and speaker verification.unsupervised learningunsupervised learning algorithms take a set of data that contains only inputs, and find structure in the data, like grouping or clustering of data points. the algorithms, therefore, learn from test data that has not been labeled, classified or categorized. instead of responding to feedback, unsupervised learning algorithms identify commonalities in the data and react based on the presence or absence of such commonalities in each new piece of data. a central application of unsupervised learning is in the field of density estimation in statistics, such as finding the probability density function. though unsupervised learning encompasses other domains involving summarizing and explaining data features.cluster analysis is the assignment of a set of observations into subsets (called clusters) so that observations within the same cluster are similar according to one or more predesignated criteria, while observations drawn from different clusters are dissimilar. different clustering techniques make different assumptions on the structure of the data, often defined by some similarity metric and evaluated, for example, by internal compactness, or the similarity between members of the same cluster, and separation, the difference between clusters. other methods are based on estimated density and graph connectivity.semi-supervised learningsemi-supervised learning falls between unsupervised learning (without any labeled training data) and supervised learning (with completely labeled training data). some of the training examples are missing training labels,  yet many machine-learning researchers have found that unlabeled data, when used in conjunction with a small amount of labeled data, can produce a considerable improvement in learning accuracy.in weakly supervised learning, the training labels are noisy, limited, or imprecise; however, these labels are often cheaper to obtain, resulting in larger effective training sets.reinforcement learningreinforcement learning is an area of machine learning concerned with how software agents ought to take actions in an environment so as to maximize some notion of cumulative reward. due to its generality, the field is studied in many other disciplines, such as game theory, control theory, operations research, information theory, simulation-based optimization, multi-agent systems, swarm intelligence, statistics and genetic algorithms. in machine learning, the environment is typically represented as a markov decision process (mdp). many reinforcement learning algorithms use dynamic programming techniques. reinforcement learning algorithms do not assume knowledge of an exact mathematical model of the mdp, and are used when exact models are infeasible. reinforcement learning algorithms are used in autonomous vehicles or in learning to play a game against a human opponent.dimensionality reductiondimensionality reduction is a process of reducing the number of random variables under consideration by obtaining a set of principal variables. in other words, it is a process of reducing the dimension of the feature set, also called \"number of features\". most of the dimensionality reduction techniques can be considered as either feature elimination or extraction.one of the popular methods of dimensionality reduction is principal component analysis (pca).pca involves changing higher-dimensional data (e.g., 3d) to a smaller space (e.g., 2d). this results in a smaller dimension of data (2d instead of 3d), while keeping all original variables in the model without changing the data.the manifold hypothesis proposes that high-dimensional data sets lie along low-dimensional manifolds, and many dimensionality reduction techniques make this assumption, leading to the area of manifold learning and manifold regularization.other typesother approaches have been developed which don\\'t fit neatly into this three-fold categorisation, and sometimes more than one is used by the same machine learning system. for example topic modeling,  meta learning.as of 2020, deep learning has become the dominant approach for much ongoing work in the field of machine learning.self learningself-learning as a machine learning paradigm was introduced in 1982 along with a neural network capable of self-learning named crossbar adaptive array (caa). it is a learning with no external rewards and no external teacher advice. the caa self-learning algorithm computes, in a crossbar fashion, both decisions about actions and emotions (feelings) about consequence situations. the system is driven by the interaction between cognition and emotion.the self-learning algorithm updates a memory matrix w =||w(a,s)|| such that in each iteration executes the following machine learning routine:  in situation s perform an action a; receive consequence situation s’; compute emotion of being in consequence situation v(s’); update crossbar memory  w’(a,s) = w(a,s) + v(s’).it is a system with only one input, situation s, and only one output, action (or behavior) a. there is neither a separate reinforcement input nor an advice input from the environment. the backpropagated value (secondary reinforcement) is the emotion toward the consequence situation. the caa exists in two environments, one is the behavioral environment where it behaves, and the other is the genetic environment, wherefrom it initially and only once receives initial emotions about situations to be encountered in the behavioral environment. after receiving the genome (species) vector from the genetic environment, the caa learns a goal-seeking behavior, in an environment that contains both desirable and undesirable situations.feature learningseveral learning algorithms aim at discovering better representations of the inputs provided during training. classic examples include principal components analysis and cluster analysis. feature learning algorithms, also called representation learning algorithms, often attempt to preserve the information in their input but also transform it in a way that makes it useful, often as a pre-processing step before performing classification or predictions. this technique allows reconstruction of the inputs coming from the unknown data-generating distribution, while not being necessarily faithful to configurations that are implausible under that distribution. this replaces manual feature engineering, and allows a machine to both learn the features and use them to perform a specific task.feature learning can be either supervised or unsupervised. in supervised feature learning, features are learned using labeled input data. examples include artificial neural networks, multilayer perceptrons, and supervised dictionary learning. in unsupervised feature learning, features are learned with unlabeled input data.  examples include dictionary learning, independent component analysis, autoencoders, matrix factorization and various forms of clustering.manifold learning algorithms attempt to do so under the constraint that the learned representation is low-dimensional. sparse coding algorithms attempt to do so under the constraint that the learned representation is sparse, meaning that the mathematical model has many zeros. multilinear subspace learning algorithms aim to learn low-dimensional representations directly from tensor representations for multidimensional data, without reshaping them into higher-dimensional vectors. deep learning algorithms discover multiple levels of representation, or a hierarchy of features, with higher-level, more abstract features defined in terms of (or generating) lower-level features. it has been argued that an intelligent machine is one that learns a representation that disentangles the underlying factors of variation that explain the observed data.feature learning is motivated by the fact that machine learning tasks such as classification often require input that is mathematically and computationally convenient to process. however, real-world data such as images, video, and sensory data has not yielded attempts to algorithmically define specific features. an alternative is to discover such features or representations through examination, without relying on explicit algorithms.sparse dictionary learningsparse dictionary learning is a feature learning method where a training example is represented as a linear combination of basis functions, and is assumed to be a sparse matrix. the method is strongly np-hard and difficult to solve approximately. a popular heuristic method for sparse dictionary learning is the k-svd algorithm. sparse dictionary learning has been applied in several contexts. in classification, the problem is to determine the class to which a previously unseen training example belongs. for a dictionary where each class has already been built, a new training example is associated with the class that is best sparsely represented by the corresponding dictionary. sparse dictionary learning has also been applied in image de-noising. the key idea is that a clean image patch can be sparsely represented by an image dictionary, but the noise cannot.anomaly detectionin data mining, anomaly detection, also known as outlier detection, is the identification of rare items, events or observations which raise suspicions by differing significantly from the majority of the data. typically, the anomalous items represent an issue such as bank fraud, a structural defect, medical problems or errors in a text. anomalies are referred to as outliers, novelties, noise, deviations and exceptions.in particular, in the context of abuse and network intrusion detection, the interesting objects are often not rare objects, but unexpected bursts of inactivity. this pattern does not adhere to the common statistical definition of an outlier as a rare object, and many outlier detection methods (in particular, unsupervised algorithms) will fail on such data unless it has been aggregated appropriately. instead, a cluster analysis algorithm may be able to detect the micro-clusters formed by these patterns.three broad categories of anomaly detection techniques exist. unsupervised anomaly detection techniques detect anomalies in an unlabeled test data set under the assumption that the majority of the instances in the data set are normal, by looking for instances that seem to fit the least to the remainder of the data set. supervised anomaly detection techniques require a data set that has been labeled as \"normal\" and \"abnormal\" and involves training a classifier (the key difference to many other statistical classification problems is the inherently unbalanced nature of outlier detection). semi-supervised anomaly detection techniques construct a model representing normal behavior from a given normal training data set and then test the likelihood of a test instance to be generated by the model.robot learningrobot learning is inspired by a multitude of machine learning methods, starting from supervised learning, reinforcement learning, and finally meta-learning (e.g. maml).association rulesassociation rule learning is a rule-based machine learning method for discovering relationships between variables in large databases. it is intended to identify strong rules discovered in databases using some measure of \"interestingness\".rule-based machine learning is a general term for any machine learning method that identifies, learns, or evolves \"rules\" to store, manipulate or apply knowledge. the defining characteristic of a rule-based machine learning algorithm is the identification and utilization of a set of relational rules that collectively represent the knowledge captured by the system. this is in contrast to other machine learning algorithms that commonly identify a singular model that can be universally applied to any instance in order to make a prediction. rule-based machine learning approaches include learning classifier systems, association rule learning, and artificial immune systems.based on the concept of strong rules, rakesh agrawal, tomasz imieliński and arun swami introduced association rules for discovering regularities between products in large-scale transaction data recorded by point-of-sale (pos) systems in supermarkets. for example, the rule                     {                  o          n          i          o          n          s          ,          p          o          t          a          t          o          e          s                }        ⇒        {                  b          u          r          g          e          r                }              {\\\\displaystyle \\\\{\\\\mathrm {onions,potatoes} \\\\}\\\\rightarrow \\\\{\\\\mathrm {burger} \\\\}}   found in the sales data of a supermarket would indicate that if a customer buys onions and potatoes together, they are likely to also buy hamburger meat. such information can be used as the basis for decisions about marketing activities such as promotional pricing or product placements. in addition to market basket analysis, association rules are employed today in application areas including web usage mining, intrusion detection, continuous production, and bioinformatics. in contrast with sequence mining, association rule learning typically does not consider the order of items either within a transaction or across transactions.learning classifier systems (lcs) are a family of rule-based machine learning algorithms that combine a discovery component, typically a genetic algorithm, with a learning component, performing either supervised learning, reinforcement learning, or unsupervised learning. they seek to identify a set of context-dependent rules that collectively store and apply knowledge in a piecewise manner in order to make predictions.inductive logic programming (ilp) is an approach to rule-learning using logic programming as a uniform representation for input examples, background knowledge, and hypotheses. given an encoding of the known background knowledge and a set of examples represented as a logical database of facts, an ilp system will derive a hypothesized logic program that entails all positive and no negative examples. inductive programming is a related field that considers any kind of programming language for representing hypotheses (and not only logic programming), such as functional programs.inductive logic programming is particularly useful in bioinformatics and natural language processing. gordon plotkin and ehud shapiro laid the initial theoretical foundation for inductive machine learning in a logical setting. shapiro built their first implementation (model inference system) in 1981: a prolog program that inductively inferred logic programs from positive and negative examples. the term inductive here refers to philosophical induction, suggesting a theory to explain observed facts, rather than mathematical induction, proving a property for all members of a well-ordered set.modelsperforming machine learning involves creating a model, which is trained on some training data and then can process additional data to make predictions. various types of models have been used and researched for machine learning systems.artificial neural networksartificial neural networks (anns), or connectionist systems, are computing systems vaguely inspired by the biological neural networks that constitute animal brains. such systems \"learn\" to perform tasks by considering examples, generally without being programmed with any task-specific rules.an ann is a model based on a collection of connected units or nodes called \"artificial neurons\", which loosely model the neurons in a biological brain. each connection, like the synapses in a biological brain, can transmit information, a \"signal\", from one artificial neuron to another. an artificial neuron that receives a signal can process it and then signal additional artificial neurons connected to it. in common ann implementations, the signal at a connection between artificial neurons is a real number, and the output of each artificial neuron is computed by some non-linear function of the sum of its inputs. the connections between artificial neurons are called \"edges\". artificial neurons and edges typically have a weight that adjusts as learning proceeds. the weight increases or decreases the strength of the signal at a connection. artificial neurons may have a threshold such that the signal is only sent if the aggregate signal crosses that threshold. typically, artificial neurons are aggregated into layers. different layers may perform different kinds of transformations on their inputs. signals travel from the first layer (the input layer) to the last layer (the output layer), possibly after traversing the layers multiple times.the original goal of the ann approach was to solve problems in the same way that a human brain would. however, over time, attention moved to performing specific tasks, leading to deviations from biology. artificial neural networks have been used on a variety of tasks, including computer vision, speech recognition, machine translation, social network filtering, playing board and video games and medical diagnosis.deep learning consists of multiple hidden layers in an artificial neural network. this approach tries to model the way the human brain processes light and sound into vision and hearing. some successful applications of deep learning are computer vision and speech recognition.decision treesdecision tree learning uses a decision tree as a predictive model to go from observations about an item (represented in the branches) to conclusions about the item\\'s target value (represented in the leaves). it is one of the predictive modeling approaches used in statistics, data mining, and machine learning. tree models where the target variable can take a discrete set of values are called classification trees; in these tree structures, leaves represent class labels and branches represent conjunctions of features that lead to those class labels. decision trees where the target variable can take continuous values (typically real numbers) are called regression trees. in decision analysis, a decision tree can be used to visually and explicitly represent decisions and decision making. in data mining, a decision tree describes data, but the resulting classification tree can be an input for decision making.support-vector machinessupport-vector machines (svms), also known as support-vector networks, are a set of related supervised learning methods used for classification and regression. given a set of training examples, each marked as belonging to one of two categories, an svm training algorithm builds a model that predicts whether a new example falls into one category or the other.  an svm training algorithm is a non-probabilistic, binary, linear classifier, although methods such as platt scaling exist to use svm in a probabilistic classification setting. in addition to performing linear classification, svms can efficiently perform a non-linear classification using what is called the kernel trick, implicitly mapping their inputs into high-dimensional feature spaces.regression analysisregression analysis encompasses a large variety of statistical methods to estimate the relationship between input variables and their associated features. its most common form is linear regression, where a single line is drawn to best fit the given data according to a mathematical criterion such as ordinary least squares. the latter is often extended by regularization methods to mitigate overfitting and bias, as in ridge regression. when dealing with non-linear problems, go-to models include polynomial regression (for example, used for trendline fitting in microsoft excel), logistic regression (often used in statistical classification) or even kernel regression, which introduces non-linearity by taking advantage of the kernel trick to implicitly map input variables to higher-dimensional space.bayesian networksa bayesian network, belief network, or directed acyclic graphical model is a probabilistic graphical model that represents a set of random variables and their conditional independence with a directed acyclic graph (dag). for example, a bayesian network could represent the probabilistic relationships between diseases and symptoms. given symptoms, the network can be used to compute the probabilities of the presence of various diseases. efficient algorithms exist that perform inference and learning. bayesian networks that model sequences of variables, like speech signals or protein sequences, are called dynamic bayesian networks. generalizations of bayesian networks that can represent and solve decision problems under uncertainty are called influence diagrams.genetic algorithmsa genetic algorithm (ga) is a search algorithm and heuristic technique that mimics the process of natural selection, using methods such as mutation and crossover to generate new genotypes in the hope of finding good solutions to a given problem. in machine learning, genetic algorithms were used in the 1980s and 1990s. conversely, machine learning techniques have been used to improve the performance of genetic and evolutionary algorithms.training modelstypically, machine learning models require a high quantity of reliable data in order for the models to perform accurate predictions. when training a machine learning model, machine learning engineers need to target and collect a large and representative sample of data. data from the training set can be as varied as a corpus of text, a collection of images, sensor data, and data collected from individual users of a service. overfitting is something to watch out for when training a machine learning model. trained models derived from biased or non-evaluated data can result in skewed or undesired predictions. bias models may result in detrimental outcomes thereby furthering the negative impacts on society or objectives. algorithmic bias is a potential result of data not being fully prepared for training. machine learning ethics is becoming a field of study and notably be integrated within machine learning engineering teams.federated learningfederated learning is an adapted form of distributed artificial intelligence to training machine learning models that decentralizes the training process, allowing for users\\' privacy to be maintained by not needing to send their data to a centralized server. this also increases efficiency by decentralizing the training process to many devices. for example, gboard uses federated machine learning to train search query prediction models on users\\' mobile phones without having to send individual searches back to google.applicationsthere are many applications for machine learning, including:in 2006, the media-services provider netflix held the first \"netflix prize\" competition to find a program to better predict user preferences and improve the accuracy of its existing cinematch movie recommendation algorithm by at least 10%.  a joint team made up of researchers from at&t labs-research in collaboration with the teams big chaos and pragmatic theory built an ensemble model to win the grand prize in 2009 for $1 million. shortly after the prize was awarded, netflix realized that viewers\\' ratings were not the best indicators of their viewing patterns (\"everything is a recommendation\") and they changed their recommendation engine accordingly. in 2010 the wall street journal wrote about the firm rebellion research and their use of machine learning to predict the financial crisis. in 2012, co-founder of sun microsystems, vinod khosla, predicted that 80% of medical doctors\\' jobs would be lost in the next two decades to automated machine learning medical diagnostic software. in 2014, it was reported that a machine learning algorithm had been applied in the field of art history to study fine art paintings and that it may have revealed previously unrecognized influences among artists. in 2019 springer nature published the first research book created using machine learning. in 2020, machine learning technology was used to help make diagnoses and aid researchers in developing a cure for covid-19. machine learning is recently applied to predict the green behavior of human-being. recently, machine learning technology is also applied to optimise smartphone\\'s performance and thermal behaviour based on the user\\'s interaction with the phone.limitationsalthough machine learning has been transformative in some fields, machine-learning programs often fail to deliver expected results. reasons for this are numerous: lack of (suitable) data, lack of access to the data, data bias, privacy problems, badly chosen tasks and algorithms, wrong tools and people, lack of resources, and evaluation problems.in 2018, a self-driving car from uber failed to detect a pedestrian, who was killed after a collision. attempts to use machine learning in healthcare with the ibm watson system failed to deliver even after years of time and billions of dollars invested.machine learning has been used as a strategy to update the evidence related to a systematic review and increased reviewer burden related to the growth of biomedical literature. while it has improved with training sets, it has not yet developed sufficiently to reduce the workload burden without limiting the necessary sensitivity for the findings research themselves.biasmachine learning approaches in particular can suffer from different data biases. a machine learning system trained specifically on current customers may not be able to predict the needs of new customer groups that are not represented in the training data. when trained on man-made data, machine learning is likely to pick up the constitutional and unconscious biases already present in society. language models learned from data have been shown to contain human-like biases. machine learning systems used for criminal risk assessment have been found to be biased against black people. in 2015, google photos would often tag black people as gorillas, and in 2018 this still was not well resolved, but google reportedly was still using the workaround to remove all gorillas from the training data, and thus was not able to recognize real gorillas at all. similar issues with recognizing non-white people have been found in many other systems. in 2016, microsoft tested a chatbot that learned from twitter, and it quickly picked up racist and sexist language. because of such challenges, the effective use of machine learning may take longer to be adopted in other domains. concern for fairness in machine learning, that is, reducing bias in machine learning and propelling its use for human good is increasingly expressed by artificial intelligence scientists, including fei-fei li, who reminds engineers that \"there’s nothing artificial about ai...it’s inspired by people, it’s created by people, and—most importantly—it impacts people. it is a powerful tool we are only just beginning to understand, and that is a profound responsibility.”overfittingsettling on a bad, overly complex theory gerrymandered to fit all the past training data is known as overfitting. many systems attempt to reduce overfitting by rewarding a theory in accordance with how well it fits the data, but penalizing the theory in accordance with how complex the theory is.other limitations and vulnerabilitieslearners can also disappoint by \"learning the wrong lesson\". a toy example is that an image classifier trained only on pictures of brown horses and black cats might conclude that all brown patches are likely to be horses. a real-world example is that, unlike humans, current image classifiers often don\\'t primarily make judgments from the spatial relationship between components of the picture, and they learn relationships between pixels that humans are oblivious to, but that still correlate with images of certain types of real objects. modifying these patterns on a legitimate image can result in \"adversarial\" images that the system misclassifies.adversarial vulnerabilities can also result in nonlinear systems, or from non-pattern perturbations. some systems are so brittle that changing a single adversarial pixel predictably induces misclassification. machine learning models are often vulnerable to manipulation and/or evasion via adversarial machine learning.researchers have demonstrated how backdoors can be placed undetectably into classifying (e.g. for categories \"spam\" and well-visible \"not spam\" of posts) machine learning models which are often developed and/or trained by third parties. parties can change the classification of any input, including in cases for which a type of data/software transparency is provided, possibly including white-box access.model assessmentsclassification of machine learning models can be validated by accuracy estimation techniques like the holdout method, which splits the data in a training and test set (conventionally 2/3 training set and 1/3 test set designation) and evaluates the performance of the training model on the test set. in comparison, the k-fold-cross-validation method randomly partitions the data into k subsets and then k experiments are performed each respectively considering 1 subset for evaluation and the remaining k-1 subsets for training the model. in addition to the holdout and cross-validation methods, bootstrap, which samples n instances with replacement from the dataset, can be used to assess model accuracy.in addition to overall accuracy, investigators frequently report sensitivity and specificity meaning true positive rate (tpr) and true negative rate (tnr) respectively. similarly, investigators sometimes report the false positive rate (fpr) as well as the false negative rate (fnr). however, these rates are ratios that fail to reveal their numerators and denominators. the total operating characteristic (toc) is an effective method to express a model\\'s diagnostic ability. toc shows the numerators and denominators of the previously mentioned rates, thus toc provides more information than the commonly used receiver operating characteristic (roc) and roc\\'s associated area under the curve (auc).ethicsmachine learning poses a host of ethical questions. systems which are trained on datasets collected with biases may exhibit these biases upon use (algorithmic bias), thus digitizing cultural prejudices. for example, in 1988, the uk\\'s commission for racial equality found that st. george\\'s medical school had been using a computer program trained from data of previous admissions staff and this program had denied nearly 60 candidates who were found to be either women or had non-european sounding names. using job hiring data from a firm with racist hiring policies may lead to a machine learning system duplicating the bias by scoring job applicants by similarity to previous successful applicants. responsible collection of data and documentation of algorithmic rules used by a system thus is a critical part of machine learning.ai can be well-equipped to make decisions in technical fields, which rely heavily on data and historical information. these decisions rely on the objectivity and logical reasoning. because human languages contain biases, machines trained on language corpora will necessarily also learn these biases.other forms of ethical challenges, not related to personal biases, are seen in health care. there are concerns among health care professionals that these systems might not be designed in the public\\'s interest but as income-generating machines. this is especially true in the united states where there is a long-standing ethical dilemma of improving health care, but also increase profits. for example, the algorithms could be designed to provide patients with unnecessary tests or medication in which the algorithm\\'s proprietary owners hold stakes. there is  potential for machine learning in health care to provide professionals an additional tool to diagnose, medicate, and plan recovery paths for patients, but this requires these biases to be mitigated.hardwaresince the 2010s, advances in both machine learning algorithms and computer hardware have led to more efficient methods for training deep neural networks (a particular narrow subdomain of machine learning) that contain many layers of non-linear hidden units. by 2019, graphic processing units (gpus), often with ai-specific enhancements, had displaced cpus as the dominant method of training large-scale commercial cloud ai. openai estimated the hardware computing used in the largest deep learning projects from alexnet (2012) to alphazero (2017), and found a 300,000-fold increase in the amount of compute required, with a doubling-time trendline of 3.4 months.neuromorphic/physical neural networksa physical neural network or neuromorphic computer  is a type of artificial neural network in which an electrically adjustable material is used to emulate the function of a neural synapse. \"physical\" neural network is used to emphasize the reliance on physical hardware used to emulate neurons as opposed to software-based approaches. more generally the term is applicable to other artificial neural networks in which a memristor or other electrically adjustable resistance material is used to emulate a neural synapse.embedded machine learningembedded machine learning is a sub-field of machine learning, where the machine learning model is run on embedded systems with limited computing resources such as wearable computers, edge devices and microcontrollers. running machine learning model in embedded devices removes the need for transferring and storing data on cloud servers for further processing, henceforth, reducing data breaches and privacy leaks happening because of transferring data, and also minimizes theft of intellectual properties, personal data and business secrets. embedded machine learning could be applied through several techniques including hardware acceleration, using approximate computing, optimization of machine learning models and many more.softwaresoftware suites containing a variety of machine learning algorithms include the following:free and open-source softwareproprietary software with free and open-source editionsknimerapidminerproprietary softwarejournalsjournal of machine learning researchmachine learningnature machine intelligenceneural computationconferencesaaai conference on artificial intelligenceassociation for computational linguistics (acl)european conference on machine learning and principles and practice of knowledge discovery in databases (ecml pkdd)international conference on computational intelligence methods for bioinformatics and biostatistics (cibb)international conference on machine learning (icml)international conference on learning representations (iclr)international conference on intelligent robots and systems (iros)conference on knowledge discovery and data mining (kdd)conference on neural information processing systems (neurips)see alsoautomated machine learning – process of automating the application of machine learningbig data – information assets characterized by high volume, velocity, and varietydifferentiable programming – programming paradigmlist of important publications in machine learninglist of datasets for machine-learning researchreferencessourcesdomingos, pedro (september 22, 2015). the master algorithm: how the quest for the ultimate learning machine will remake our world. basic books. isbn 978-0465065707.nilsson, nils (1998). artificial intelligence: a new synthesis. morgan kaufmann. isbn 978-1-55860-467-4. archived from the original on 26 july 2020. retrieved 18 november 2019.russell, stuart j.; norvig, peter (2003), artificial intelligence: a modern approach (2nd ed.), upper saddle river, new jersey: prentice hall, isbn 0-13-790395-2.poole, david; mackworth, alan; goebel, randy (1998). computational intelligence: a logical approach. new york: oxford university press. isbn 978-0-19-510270-3. archived from the original on 26 july 2020. retrieved 22 august 2020.further readingexternal links quotations related to machine learning at wikiquoteinternational machine learning societymloss is an academic database of open-source machine learning software.'"
      ]
     },
     "execution_count": 14,
     "metadata": {},
     "output_type": "execute_result"
    }
   ],
   "source": [
    "ml_ftxt"
   ]
  },
  {
   "cell_type": "code",
   "execution_count": 15,
   "metadata": {
    "id": "t2vhdWRen22E"
   },
   "outputs": [],
   "source": [
    "ml_ftxt = re.sub(r'\\-', '', ml_ftxt)"
   ]
  },
  {
   "cell_type": "code",
   "execution_count": 16,
   "metadata": {
    "colab": {
     "base_uri": "https://localhost:8080/",
     "height": 145
    },
    "id": "yXFqDA-Yn2oi",
    "outputId": "a95cdd15-0c40-48ff-ffb4-1a1cdc6f8cef"
   },
   "outputs": [
    {
     "data": {
      "application/vnd.google.colaboratory.intrinsic+json": {
       "type": "string"
      },
      "text/plain": [
       "'machine learning (ml) is a field of inquiry devoted to understanding and building methods that \\'learn\\', that is, methods that leverage data to improve performance on some set of tasks. it is seen as a part of artificial intelligence. machine learning algorithms build a model based on sample data, known as training data, in order to make predictions or decisions without being explicitly programmed to do so. machine learning algorithms are used in a wide variety of applications, such as in medicine, email filtering, speech recognition, and computer vision, where it is difficult or unfeasible to develop conventional algorithms to perform the needed tasks.a subset of machine learning is closely related to computational statistics, which focuses on making predictions using computers, but not all machine learning is statistical learning. the study of mathematical optimization delivers methods, theory and application domains to the field of machine learning. data mining is a related field of study, focusing on exploratory data analysis through unsupervised learning. some implementations of machine learning use data and neural networks in a way that mimics the working of a biological brain.  in its application across business problems, machine learning is also referred to as predictive analytics.overviewlearning algorithms work on the basis that strategies, algorithms, and inferences that worked well in the past are likely to continue working well in the future. these inferences can be obvious, such as \"since the sun rose every morning for the last 10,000 days, it will probably rise tomorrow morning as well\". they can be nuanced, such as \"x% of families have geographically separate species with color variants, so there is a y% chance that undiscovered black swans exist\".machine learning programs can perform tasks without being explicitly programmed to do so. it involves computers learning from data provided so that they carry out certain tasks. for simple tasks assigned to computers, it is possible to program algorithms telling the machine how to execute all steps required to solve the problem at hand; on the computer\\'s part, no learning is needed. for more advanced tasks, it can be challenging for a human to manually create the needed algorithms. in practice, it can turn out to be more effective to help the machine develop its own algorithm, rather than having human programmers specify every needed step.the discipline of machine learning employs various approaches to teach computers to accomplish tasks where no fully satisfactory algorithm is available. in cases where vast numbers of potential answers exist, one approach is to label some of the correct answers as valid. this can then be used as training data for the computer to improve the algorithm(s) it uses to determine correct answers. for example, to train a system for the task of digital character recognition, the mnist dataset of handwritten digits has often been used.history and relationships to other fieldsthe term machine learning was coined in 1959 by arthur samuel, an ibm employee and pioneer in the field of computer gaming and artificial intelligence. also the synonym selfteaching computers were used in this time period.by the early 1960s an experimental \"learning machine\" with punched tape memory, called cybertron, had been developed by raytheon company to analyze sonar signals, electrocardiograms and speech patterns using rudimentary reinforcement learning. it was repetitively \"trained\" by a human operator/teacher to recognize patterns and equipped with a \"goof\" button to cause it to reevaluate incorrect decisions. a representative book on research into machine learning during the 1960s was nilsson\\'s book on learning machines, dealing mostly with machine learning for pattern classification. interest related to pattern recognition continued into the 1970s, as described by duda and hart in 1973. in 1981 a report was given on using teaching strategies so that a neural network learns to recognize 40 characters (26 letters, 10 digits, and 4 special symbols) from a computer terminal.tom m. mitchell provided a widely quoted, more formal definition of the algorithms studied in the machine learning field: \"a computer program is said to learn from experience e with respect to some class of tasks t and performance measure p if its performance at tasks in t, as measured by p,  improves with experience e.\" this definition of the tasks in which machine learning is concerned offers a fundamentally operational definition rather than defining the field in cognitive terms. this follows alan turing\\'s proposal in his paper \"computing machinery and intelligence\", in which the question \"can machines think?\" is replaced with the question \"can machines do what we (as thinking entities) can do?\".modern day machine learning has two objectives, one is to classify data based on models which have been developed, the other purpose is to make predictions for future outcomes based on these models. a hypothetical algorithm specific to classifying data may use computer vision of moles coupled with supervised learning in order to train it to classify the cancerous moles. a machine learning algorithm for stock trading may inform the trader of future potential predictions.artificial intelligenceas a scientific endeavor, machine learning grew out of the quest for artificial intelligence. in the early days of ai as an academic discipline, some researchers were interested in having machines learn from data. they attempted to approach the problem with various symbolic methods, as well as what was then termed \"neural networks\"; these were mostly perceptrons and other models that were later found to be reinventions of the generalized linear models of statistics. probabilistic reasoning was also employed, especially in automated medical diagnosis.:\\u200a488\\u200ahowever, an increasing emphasis on the logical, knowledgebased approach caused a rift between ai and machine learning. probabilistic systems were plagued by theoretical and practical problems of data acquisition and representation.:\\u200a488\\u200a by 1980, expert systems had come to dominate ai, and statistics was out of favor. work on symbolic/knowledgebased learning did continue within ai, leading to inductive logic programming, but the more statistical line of research was now outside the field of ai proper, in pattern recognition and information retrieval.:\\u200a708–710,\\u200a755\\u200a neural networks research had been abandoned by ai and computer science around the same time. this line, too, was continued outside the ai/cs field, as \"connectionism\", by researchers from other disciplines including hopfield, rumelhart and hinton. their main success came in the mid1980s with the reinvention of backpropagation.:\\u200a25\\u200amachine learning (ml), reorganized as a separate field, started to flourish in the 1990s. the field changed its goal from achieving artificial intelligence to tackling solvable problems of a practical nature. it shifted focus away from the symbolic approaches it had inherited from ai, and toward methods and models borrowed from statistics, fuzzy logic, and probability theory.the difference between ml and ai is frequently misunderstood. ml learns and predicts based on passive observations, whereas ai implies an agent interacting with the environment to learn and take actions that maximize its chance of successfully achieving its goals.as of 2020, many sources continue to assert that ml remains a subfield of ai. others have the view that not all ml is part of ai, but only an \\'intelligent subset\\' of ml should be considered ai.data miningmachine learning and data mining often employ the same methods and overlap significantly, but while machine learning focuses on prediction, based on known properties learned from the training data, data mining focuses on the discovery of (previously) unknown properties in the data (this is the analysis step of knowledge discovery in databases). data mining uses many machine learning methods, but with different goals; on the other hand, machine learning also employs data mining methods as \"unsupervised learning\" or as a preprocessing step to improve learner accuracy. much of the confusion between these two research communities (which do often have separate conferences and separate journals, ecml pkdd being a major exception) comes from the basic assumptions they work with: in machine learning, performance is usually evaluated with respect to the ability to reproduce known knowledge, while in knowledge discovery and data mining (kdd) the key task is the discovery of previously unknown knowledge. evaluated with respect to known knowledge, an uninformed (unsupervised) method will easily be outperformed by other supervised methods, while in a typical kdd task, supervised methods cannot be used due to the unavailability of training data.optimizationmachine learning also has intimate ties to optimization: many learning problems are formulated as minimization of some loss function on a training set of examples. loss functions express the discrepancy between the predictions of the model being trained and the actual problem instances (for example, in classification, one wants to assign a label to instances, and models are trained to correctly predict the preassigned labels of a set of examples).generalizationthe difference between optimization and machine learning arises from the goal of generalization: while optimization algorithms can minimize the loss on a training set, machine learning is concerned with minimizing the loss on unseen samples. characterizing the generalization of various learning algorithms is an active topic of current research, especially for deep learning algorithms.statisticsmachine learning and statistics are closely related fields in terms of methods, but distinct in their principal goal: statistics draws population inferences from a sample, while machine learning finds generalizable predictive patterns. according to michael i. jordan, the ideas of machine learning, from methodological principles to theoretical tools, have had a long prehistory in statistics. he also suggested the term data science as a placeholder to call the overall field.leo breiman distinguished two statistical modeling paradigms: data model and algorithmic model, wherein \"algorithmic model\" means more or less the machine learning algorithms like random forest.some statisticians have adopted methods from machine learning, leading to a combined field that they call statistical learning.theorya core objective of a learner is to generalize from its experience. generalization in this context is the ability of a learning machine to perform accurately on new, unseen examples/tasks after having experienced a learning data set. the training examples come from some generally unknown probability distribution (considered representative of the space of occurrences) and the learner has to build a general model about this space that enables it to produce sufficiently accurate predictions in new cases.the computational analysis of machine learning algorithms and their performance is a branch of theoretical computer science known as computational learning theory via the probably approximately correct learning (pac) model. because training sets are finite and the future is uncertain, learning theory usually does not yield guarantees of the performance of algorithms. instead, probabilistic bounds on the performance are quite common. the bias–variance decomposition is one way to quantify generalization error.for the best performance in the context of generalization, the complexity of the hypothesis should match the complexity of the function underlying the data. if the hypothesis is less complex than the function, then the model has under fitted the data. if the complexity of the model is increased in response, then the training error decreases. but if the hypothesis is too complex, then the model is subject to overfitting and generalization will be poorer.in addition to performance bounds, learning theorists study the time complexity and feasibility of learning. in computational learning theory, a computation is considered feasible if it can be done in polynomial time. there are two kinds of time complexity results: positive results show that a certain class of functions can be learned in polynomial time. negative results show that certain classes cannot be learned in polynomial time.approachesmachine learning approaches are traditionally divided into three broad categories, which correspond to learning paradigms, depending on the nature of the \"signal\" or \"feedback\" available to the learning system:supervised learning: the computer is presented with example inputs and their desired outputs, given by a \"teacher\", and the goal is to learn a general rule that maps inputs to outputs.unsupervised learning: no labels are given to the learning algorithm, leaving it on its own to find structure in its input. unsupervised learning can be a goal in itself (discovering hidden patterns in data) or a means towards an end (feature learning).reinforcement learning: a computer program interacts with a dynamic environment in which it must perform a certain goal (such as driving a vehicle or playing a game against an opponent). as it navigates its problem space, the program is provided feedback that\\'s analogous to rewards, which it tries to maximize.supervised learningsupervised learning algorithms build a mathematical model of a set of data that contains both the inputs and the desired outputs. the data is known as training data, and consists of a set of training examples. each training example has one or more inputs and the desired output, also known as a supervisory signal.  in the mathematical model, each training example is represented by an array or vector, sometimes called a feature vector, and the training data is represented by a matrix. through iterative optimization of an objective function, supervised learning algorithms learn a function that can be used to predict the output associated with new inputs. an optimal function will allow the algorithm to correctly determine the output for inputs that were not a part of the training data. an algorithm that improves the accuracy of its outputs or predictions over time is said to have learned to perform that task.types of supervisedlearning algorithms include active learning, classification and regression. classification algorithms are used when the outputs are restricted to a limited set of values, and regression algorithms are used when the outputs may have any numerical value within a range. as an example, for a classification algorithm that filters emails, the input would be an incoming email, and the output would be the name of the folder in which to file the email.similarity learning is an area of supervised machine learning closely related to regression and classification, but the goal is to learn from examples using a similarity function that measures how similar or related two objects are. it has applications in ranking, recommendation systems, visual identity tracking, face verification, and speaker verification.unsupervised learningunsupervised learning algorithms take a set of data that contains only inputs, and find structure in the data, like grouping or clustering of data points. the algorithms, therefore, learn from test data that has not been labeled, classified or categorized. instead of responding to feedback, unsupervised learning algorithms identify commonalities in the data and react based on the presence or absence of such commonalities in each new piece of data. a central application of unsupervised learning is in the field of density estimation in statistics, such as finding the probability density function. though unsupervised learning encompasses other domains involving summarizing and explaining data features.cluster analysis is the assignment of a set of observations into subsets (called clusters) so that observations within the same cluster are similar according to one or more predesignated criteria, while observations drawn from different clusters are dissimilar. different clustering techniques make different assumptions on the structure of the data, often defined by some similarity metric and evaluated, for example, by internal compactness, or the similarity between members of the same cluster, and separation, the difference between clusters. other methods are based on estimated density and graph connectivity.semisupervised learningsemisupervised learning falls between unsupervised learning (without any labeled training data) and supervised learning (with completely labeled training data). some of the training examples are missing training labels,  yet many machinelearning researchers have found that unlabeled data, when used in conjunction with a small amount of labeled data, can produce a considerable improvement in learning accuracy.in weakly supervised learning, the training labels are noisy, limited, or imprecise; however, these labels are often cheaper to obtain, resulting in larger effective training sets.reinforcement learningreinforcement learning is an area of machine learning concerned with how software agents ought to take actions in an environment so as to maximize some notion of cumulative reward. due to its generality, the field is studied in many other disciplines, such as game theory, control theory, operations research, information theory, simulationbased optimization, multiagent systems, swarm intelligence, statistics and genetic algorithms. in machine learning, the environment is typically represented as a markov decision process (mdp). many reinforcement learning algorithms use dynamic programming techniques. reinforcement learning algorithms do not assume knowledge of an exact mathematical model of the mdp, and are used when exact models are infeasible. reinforcement learning algorithms are used in autonomous vehicles or in learning to play a game against a human opponent.dimensionality reductiondimensionality reduction is a process of reducing the number of random variables under consideration by obtaining a set of principal variables. in other words, it is a process of reducing the dimension of the feature set, also called \"number of features\". most of the dimensionality reduction techniques can be considered as either feature elimination or extraction.one of the popular methods of dimensionality reduction is principal component analysis (pca).pca involves changing higherdimensional data (e.g., 3d) to a smaller space (e.g., 2d). this results in a smaller dimension of data (2d instead of 3d), while keeping all original variables in the model without changing the data.the manifold hypothesis proposes that highdimensional data sets lie along lowdimensional manifolds, and many dimensionality reduction techniques make this assumption, leading to the area of manifold learning and manifold regularization.other typesother approaches have been developed which don\\'t fit neatly into this threefold categorisation, and sometimes more than one is used by the same machine learning system. for example topic modeling,  meta learning.as of 2020, deep learning has become the dominant approach for much ongoing work in the field of machine learning.self learningselflearning as a machine learning paradigm was introduced in 1982 along with a neural network capable of selflearning named crossbar adaptive array (caa). it is a learning with no external rewards and no external teacher advice. the caa selflearning algorithm computes, in a crossbar fashion, both decisions about actions and emotions (feelings) about consequence situations. the system is driven by the interaction between cognition and emotion.the selflearning algorithm updates a memory matrix w =||w(a,s)|| such that in each iteration executes the following machine learning routine:  in situation s perform an action a; receive consequence situation s’; compute emotion of being in consequence situation v(s’); update crossbar memory  w’(a,s) = w(a,s) + v(s’).it is a system with only one input, situation s, and only one output, action (or behavior) a. there is neither a separate reinforcement input nor an advice input from the environment. the backpropagated value (secondary reinforcement) is the emotion toward the consequence situation. the caa exists in two environments, one is the behavioral environment where it behaves, and the other is the genetic environment, wherefrom it initially and only once receives initial emotions about situations to be encountered in the behavioral environment. after receiving the genome (species) vector from the genetic environment, the caa learns a goalseeking behavior, in an environment that contains both desirable and undesirable situations.feature learningseveral learning algorithms aim at discovering better representations of the inputs provided during training. classic examples include principal components analysis and cluster analysis. feature learning algorithms, also called representation learning algorithms, often attempt to preserve the information in their input but also transform it in a way that makes it useful, often as a preprocessing step before performing classification or predictions. this technique allows reconstruction of the inputs coming from the unknown datagenerating distribution, while not being necessarily faithful to configurations that are implausible under that distribution. this replaces manual feature engineering, and allows a machine to both learn the features and use them to perform a specific task.feature learning can be either supervised or unsupervised. in supervised feature learning, features are learned using labeled input data. examples include artificial neural networks, multilayer perceptrons, and supervised dictionary learning. in unsupervised feature learning, features are learned with unlabeled input data.  examples include dictionary learning, independent component analysis, autoencoders, matrix factorization and various forms of clustering.manifold learning algorithms attempt to do so under the constraint that the learned representation is lowdimensional. sparse coding algorithms attempt to do so under the constraint that the learned representation is sparse, meaning that the mathematical model has many zeros. multilinear subspace learning algorithms aim to learn lowdimensional representations directly from tensor representations for multidimensional data, without reshaping them into higherdimensional vectors. deep learning algorithms discover multiple levels of representation, or a hierarchy of features, with higherlevel, more abstract features defined in terms of (or generating) lowerlevel features. it has been argued that an intelligent machine is one that learns a representation that disentangles the underlying factors of variation that explain the observed data.feature learning is motivated by the fact that machine learning tasks such as classification often require input that is mathematically and computationally convenient to process. however, realworld data such as images, video, and sensory data has not yielded attempts to algorithmically define specific features. an alternative is to discover such features or representations through examination, without relying on explicit algorithms.sparse dictionary learningsparse dictionary learning is a feature learning method where a training example is represented as a linear combination of basis functions, and is assumed to be a sparse matrix. the method is strongly nphard and difficult to solve approximately. a popular heuristic method for sparse dictionary learning is the ksvd algorithm. sparse dictionary learning has been applied in several contexts. in classification, the problem is to determine the class to which a previously unseen training example belongs. for a dictionary where each class has already been built, a new training example is associated with the class that is best sparsely represented by the corresponding dictionary. sparse dictionary learning has also been applied in image denoising. the key idea is that a clean image patch can be sparsely represented by an image dictionary, but the noise cannot.anomaly detectionin data mining, anomaly detection, also known as outlier detection, is the identification of rare items, events or observations which raise suspicions by differing significantly from the majority of the data. typically, the anomalous items represent an issue such as bank fraud, a structural defect, medical problems or errors in a text. anomalies are referred to as outliers, novelties, noise, deviations and exceptions.in particular, in the context of abuse and network intrusion detection, the interesting objects are often not rare objects, but unexpected bursts of inactivity. this pattern does not adhere to the common statistical definition of an outlier as a rare object, and many outlier detection methods (in particular, unsupervised algorithms) will fail on such data unless it has been aggregated appropriately. instead, a cluster analysis algorithm may be able to detect the microclusters formed by these patterns.three broad categories of anomaly detection techniques exist. unsupervised anomaly detection techniques detect anomalies in an unlabeled test data set under the assumption that the majority of the instances in the data set are normal, by looking for instances that seem to fit the least to the remainder of the data set. supervised anomaly detection techniques require a data set that has been labeled as \"normal\" and \"abnormal\" and involves training a classifier (the key difference to many other statistical classification problems is the inherently unbalanced nature of outlier detection). semisupervised anomaly detection techniques construct a model representing normal behavior from a given normal training data set and then test the likelihood of a test instance to be generated by the model.robot learningrobot learning is inspired by a multitude of machine learning methods, starting from supervised learning, reinforcement learning, and finally metalearning (e.g. maml).association rulesassociation rule learning is a rulebased machine learning method for discovering relationships between variables in large databases. it is intended to identify strong rules discovered in databases using some measure of \"interestingness\".rulebased machine learning is a general term for any machine learning method that identifies, learns, or evolves \"rules\" to store, manipulate or apply knowledge. the defining characteristic of a rulebased machine learning algorithm is the identification and utilization of a set of relational rules that collectively represent the knowledge captured by the system. this is in contrast to other machine learning algorithms that commonly identify a singular model that can be universally applied to any instance in order to make a prediction. rulebased machine learning approaches include learning classifier systems, association rule learning, and artificial immune systems.based on the concept of strong rules, rakesh agrawal, tomasz imieliński and arun swami introduced association rules for discovering regularities between products in largescale transaction data recorded by pointofsale (pos) systems in supermarkets. for example, the rule                     {                  o          n          i          o          n          s          ,          p          o          t          a          t          o          e          s                }        ⇒        {                  b          u          r          g          e          r                }              {\\\\displaystyle \\\\{\\\\mathrm {onions,potatoes} \\\\}\\\\rightarrow \\\\{\\\\mathrm {burger} \\\\}}   found in the sales data of a supermarket would indicate that if a customer buys onions and potatoes together, they are likely to also buy hamburger meat. such information can be used as the basis for decisions about marketing activities such as promotional pricing or product placements. in addition to market basket analysis, association rules are employed today in application areas including web usage mining, intrusion detection, continuous production, and bioinformatics. in contrast with sequence mining, association rule learning typically does not consider the order of items either within a transaction or across transactions.learning classifier systems (lcs) are a family of rulebased machine learning algorithms that combine a discovery component, typically a genetic algorithm, with a learning component, performing either supervised learning, reinforcement learning, or unsupervised learning. they seek to identify a set of contextdependent rules that collectively store and apply knowledge in a piecewise manner in order to make predictions.inductive logic programming (ilp) is an approach to rulelearning using logic programming as a uniform representation for input examples, background knowledge, and hypotheses. given an encoding of the known background knowledge and a set of examples represented as a logical database of facts, an ilp system will derive a hypothesized logic program that entails all positive and no negative examples. inductive programming is a related field that considers any kind of programming language for representing hypotheses (and not only logic programming), such as functional programs.inductive logic programming is particularly useful in bioinformatics and natural language processing. gordon plotkin and ehud shapiro laid the initial theoretical foundation for inductive machine learning in a logical setting. shapiro built their first implementation (model inference system) in 1981: a prolog program that inductively inferred logic programs from positive and negative examples. the term inductive here refers to philosophical induction, suggesting a theory to explain observed facts, rather than mathematical induction, proving a property for all members of a wellordered set.modelsperforming machine learning involves creating a model, which is trained on some training data and then can process additional data to make predictions. various types of models have been used and researched for machine learning systems.artificial neural networksartificial neural networks (anns), or connectionist systems, are computing systems vaguely inspired by the biological neural networks that constitute animal brains. such systems \"learn\" to perform tasks by considering examples, generally without being programmed with any taskspecific rules.an ann is a model based on a collection of connected units or nodes called \"artificial neurons\", which loosely model the neurons in a biological brain. each connection, like the synapses in a biological brain, can transmit information, a \"signal\", from one artificial neuron to another. an artificial neuron that receives a signal can process it and then signal additional artificial neurons connected to it. in common ann implementations, the signal at a connection between artificial neurons is a real number, and the output of each artificial neuron is computed by some nonlinear function of the sum of its inputs. the connections between artificial neurons are called \"edges\". artificial neurons and edges typically have a weight that adjusts as learning proceeds. the weight increases or decreases the strength of the signal at a connection. artificial neurons may have a threshold such that the signal is only sent if the aggregate signal crosses that threshold. typically, artificial neurons are aggregated into layers. different layers may perform different kinds of transformations on their inputs. signals travel from the first layer (the input layer) to the last layer (the output layer), possibly after traversing the layers multiple times.the original goal of the ann approach was to solve problems in the same way that a human brain would. however, over time, attention moved to performing specific tasks, leading to deviations from biology. artificial neural networks have been used on a variety of tasks, including computer vision, speech recognition, machine translation, social network filtering, playing board and video games and medical diagnosis.deep learning consists of multiple hidden layers in an artificial neural network. this approach tries to model the way the human brain processes light and sound into vision and hearing. some successful applications of deep learning are computer vision and speech recognition.decision treesdecision tree learning uses a decision tree as a predictive model to go from observations about an item (represented in the branches) to conclusions about the item\\'s target value (represented in the leaves). it is one of the predictive modeling approaches used in statistics, data mining, and machine learning. tree models where the target variable can take a discrete set of values are called classification trees; in these tree structures, leaves represent class labels and branches represent conjunctions of features that lead to those class labels. decision trees where the target variable can take continuous values (typically real numbers) are called regression trees. in decision analysis, a decision tree can be used to visually and explicitly represent decisions and decision making. in data mining, a decision tree describes data, but the resulting classification tree can be an input for decision making.supportvector machinessupportvector machines (svms), also known as supportvector networks, are a set of related supervised learning methods used for classification and regression. given a set of training examples, each marked as belonging to one of two categories, an svm training algorithm builds a model that predicts whether a new example falls into one category or the other.  an svm training algorithm is a nonprobabilistic, binary, linear classifier, although methods such as platt scaling exist to use svm in a probabilistic classification setting. in addition to performing linear classification, svms can efficiently perform a nonlinear classification using what is called the kernel trick, implicitly mapping their inputs into highdimensional feature spaces.regression analysisregression analysis encompasses a large variety of statistical methods to estimate the relationship between input variables and their associated features. its most common form is linear regression, where a single line is drawn to best fit the given data according to a mathematical criterion such as ordinary least squares. the latter is often extended by regularization methods to mitigate overfitting and bias, as in ridge regression. when dealing with nonlinear problems, goto models include polynomial regression (for example, used for trendline fitting in microsoft excel), logistic regression (often used in statistical classification) or even kernel regression, which introduces nonlinearity by taking advantage of the kernel trick to implicitly map input variables to higherdimensional space.bayesian networksa bayesian network, belief network, or directed acyclic graphical model is a probabilistic graphical model that represents a set of random variables and their conditional independence with a directed acyclic graph (dag). for example, a bayesian network could represent the probabilistic relationships between diseases and symptoms. given symptoms, the network can be used to compute the probabilities of the presence of various diseases. efficient algorithms exist that perform inference and learning. bayesian networks that model sequences of variables, like speech signals or protein sequences, are called dynamic bayesian networks. generalizations of bayesian networks that can represent and solve decision problems under uncertainty are called influence diagrams.genetic algorithmsa genetic algorithm (ga) is a search algorithm and heuristic technique that mimics the process of natural selection, using methods such as mutation and crossover to generate new genotypes in the hope of finding good solutions to a given problem. in machine learning, genetic algorithms were used in the 1980s and 1990s. conversely, machine learning techniques have been used to improve the performance of genetic and evolutionary algorithms.training modelstypically, machine learning models require a high quantity of reliable data in order for the models to perform accurate predictions. when training a machine learning model, machine learning engineers need to target and collect a large and representative sample of data. data from the training set can be as varied as a corpus of text, a collection of images, sensor data, and data collected from individual users of a service. overfitting is something to watch out for when training a machine learning model. trained models derived from biased or nonevaluated data can result in skewed or undesired predictions. bias models may result in detrimental outcomes thereby furthering the negative impacts on society or objectives. algorithmic bias is a potential result of data not being fully prepared for training. machine learning ethics is becoming a field of study and notably be integrated within machine learning engineering teams.federated learningfederated learning is an adapted form of distributed artificial intelligence to training machine learning models that decentralizes the training process, allowing for users\\' privacy to be maintained by not needing to send their data to a centralized server. this also increases efficiency by decentralizing the training process to many devices. for example, gboard uses federated machine learning to train search query prediction models on users\\' mobile phones without having to send individual searches back to google.applicationsthere are many applications for machine learning, including:in 2006, the mediaservices provider netflix held the first \"netflix prize\" competition to find a program to better predict user preferences and improve the accuracy of its existing cinematch movie recommendation algorithm by at least 10%.  a joint team made up of researchers from at&t labsresearch in collaboration with the teams big chaos and pragmatic theory built an ensemble model to win the grand prize in 2009 for $1 million. shortly after the prize was awarded, netflix realized that viewers\\' ratings were not the best indicators of their viewing patterns (\"everything is a recommendation\") and they changed their recommendation engine accordingly. in 2010 the wall street journal wrote about the firm rebellion research and their use of machine learning to predict the financial crisis. in 2012, cofounder of sun microsystems, vinod khosla, predicted that 80% of medical doctors\\' jobs would be lost in the next two decades to automated machine learning medical diagnostic software. in 2014, it was reported that a machine learning algorithm had been applied in the field of art history to study fine art paintings and that it may have revealed previously unrecognized influences among artists. in 2019 springer nature published the first research book created using machine learning. in 2020, machine learning technology was used to help make diagnoses and aid researchers in developing a cure for covid19. machine learning is recently applied to predict the green behavior of humanbeing. recently, machine learning technology is also applied to optimise smartphone\\'s performance and thermal behaviour based on the user\\'s interaction with the phone.limitationsalthough machine learning has been transformative in some fields, machinelearning programs often fail to deliver expected results. reasons for this are numerous: lack of (suitable) data, lack of access to the data, data bias, privacy problems, badly chosen tasks and algorithms, wrong tools and people, lack of resources, and evaluation problems.in 2018, a selfdriving car from uber failed to detect a pedestrian, who was killed after a collision. attempts to use machine learning in healthcare with the ibm watson system failed to deliver even after years of time and billions of dollars invested.machine learning has been used as a strategy to update the evidence related to a systematic review and increased reviewer burden related to the growth of biomedical literature. while it has improved with training sets, it has not yet developed sufficiently to reduce the workload burden without limiting the necessary sensitivity for the findings research themselves.biasmachine learning approaches in particular can suffer from different data biases. a machine learning system trained specifically on current customers may not be able to predict the needs of new customer groups that are not represented in the training data. when trained on manmade data, machine learning is likely to pick up the constitutional and unconscious biases already present in society. language models learned from data have been shown to contain humanlike biases. machine learning systems used for criminal risk assessment have been found to be biased against black people. in 2015, google photos would often tag black people as gorillas, and in 2018 this still was not well resolved, but google reportedly was still using the workaround to remove all gorillas from the training data, and thus was not able to recognize real gorillas at all. similar issues with recognizing nonwhite people have been found in many other systems. in 2016, microsoft tested a chatbot that learned from twitter, and it quickly picked up racist and sexist language. because of such challenges, the effective use of machine learning may take longer to be adopted in other domains. concern for fairness in machine learning, that is, reducing bias in machine learning and propelling its use for human good is increasingly expressed by artificial intelligence scientists, including feifei li, who reminds engineers that \"there’s nothing artificial about ai...it’s inspired by people, it’s created by people, and—most importantly—it impacts people. it is a powerful tool we are only just beginning to understand, and that is a profound responsibility.”overfittingsettling on a bad, overly complex theory gerrymandered to fit all the past training data is known as overfitting. many systems attempt to reduce overfitting by rewarding a theory in accordance with how well it fits the data, but penalizing the theory in accordance with how complex the theory is.other limitations and vulnerabilitieslearners can also disappoint by \"learning the wrong lesson\". a toy example is that an image classifier trained only on pictures of brown horses and black cats might conclude that all brown patches are likely to be horses. a realworld example is that, unlike humans, current image classifiers often don\\'t primarily make judgments from the spatial relationship between components of the picture, and they learn relationships between pixels that humans are oblivious to, but that still correlate with images of certain types of real objects. modifying these patterns on a legitimate image can result in \"adversarial\" images that the system misclassifies.adversarial vulnerabilities can also result in nonlinear systems, or from nonpattern perturbations. some systems are so brittle that changing a single adversarial pixel predictably induces misclassification. machine learning models are often vulnerable to manipulation and/or evasion via adversarial machine learning.researchers have demonstrated how backdoors can be placed undetectably into classifying (e.g. for categories \"spam\" and wellvisible \"not spam\" of posts) machine learning models which are often developed and/or trained by third parties. parties can change the classification of any input, including in cases for which a type of data/software transparency is provided, possibly including whitebox access.model assessmentsclassification of machine learning models can be validated by accuracy estimation techniques like the holdout method, which splits the data in a training and test set (conventionally 2/3 training set and 1/3 test set designation) and evaluates the performance of the training model on the test set. in comparison, the kfoldcrossvalidation method randomly partitions the data into k subsets and then k experiments are performed each respectively considering 1 subset for evaluation and the remaining k1 subsets for training the model. in addition to the holdout and crossvalidation methods, bootstrap, which samples n instances with replacement from the dataset, can be used to assess model accuracy.in addition to overall accuracy, investigators frequently report sensitivity and specificity meaning true positive rate (tpr) and true negative rate (tnr) respectively. similarly, investigators sometimes report the false positive rate (fpr) as well as the false negative rate (fnr). however, these rates are ratios that fail to reveal their numerators and denominators. the total operating characteristic (toc) is an effective method to express a model\\'s diagnostic ability. toc shows the numerators and denominators of the previously mentioned rates, thus toc provides more information than the commonly used receiver operating characteristic (roc) and roc\\'s associated area under the curve (auc).ethicsmachine learning poses a host of ethical questions. systems which are trained on datasets collected with biases may exhibit these biases upon use (algorithmic bias), thus digitizing cultural prejudices. for example, in 1988, the uk\\'s commission for racial equality found that st. george\\'s medical school had been using a computer program trained from data of previous admissions staff and this program had denied nearly 60 candidates who were found to be either women or had noneuropean sounding names. using job hiring data from a firm with racist hiring policies may lead to a machine learning system duplicating the bias by scoring job applicants by similarity to previous successful applicants. responsible collection of data and documentation of algorithmic rules used by a system thus is a critical part of machine learning.ai can be wellequipped to make decisions in technical fields, which rely heavily on data and historical information. these decisions rely on the objectivity and logical reasoning. because human languages contain biases, machines trained on language corpora will necessarily also learn these biases.other forms of ethical challenges, not related to personal biases, are seen in health care. there are concerns among health care professionals that these systems might not be designed in the public\\'s interest but as incomegenerating machines. this is especially true in the united states where there is a longstanding ethical dilemma of improving health care, but also increase profits. for example, the algorithms could be designed to provide patients with unnecessary tests or medication in which the algorithm\\'s proprietary owners hold stakes. there is  potential for machine learning in health care to provide professionals an additional tool to diagnose, medicate, and plan recovery paths for patients, but this requires these biases to be mitigated.hardwaresince the 2010s, advances in both machine learning algorithms and computer hardware have led to more efficient methods for training deep neural networks (a particular narrow subdomain of machine learning) that contain many layers of nonlinear hidden units. by 2019, graphic processing units (gpus), often with aispecific enhancements, had displaced cpus as the dominant method of training largescale commercial cloud ai. openai estimated the hardware computing used in the largest deep learning projects from alexnet (2012) to alphazero (2017), and found a 300,000fold increase in the amount of compute required, with a doublingtime trendline of 3.4 months.neuromorphic/physical neural networksa physical neural network or neuromorphic computer  is a type of artificial neural network in which an electrically adjustable material is used to emulate the function of a neural synapse. \"physical\" neural network is used to emphasize the reliance on physical hardware used to emulate neurons as opposed to softwarebased approaches. more generally the term is applicable to other artificial neural networks in which a memristor or other electrically adjustable resistance material is used to emulate a neural synapse.embedded machine learningembedded machine learning is a subfield of machine learning, where the machine learning model is run on embedded systems with limited computing resources such as wearable computers, edge devices and microcontrollers. running machine learning model in embedded devices removes the need for transferring and storing data on cloud servers for further processing, henceforth, reducing data breaches and privacy leaks happening because of transferring data, and also minimizes theft of intellectual properties, personal data and business secrets. embedded machine learning could be applied through several techniques including hardware acceleration, using approximate computing, optimization of machine learning models and many more.softwaresoftware suites containing a variety of machine learning algorithms include the following:free and opensource softwareproprietary software with free and opensource editionsknimerapidminerproprietary softwarejournalsjournal of machine learning researchmachine learningnature machine intelligenceneural computationconferencesaaai conference on artificial intelligenceassociation for computational linguistics (acl)european conference on machine learning and principles and practice of knowledge discovery in databases (ecml pkdd)international conference on computational intelligence methods for bioinformatics and biostatistics (cibb)international conference on machine learning (icml)international conference on learning representations (iclr)international conference on intelligent robots and systems (iros)conference on knowledge discovery and data mining (kdd)conference on neural information processing systems (neurips)see alsoautomated machine learning – process of automating the application of machine learningbig data – information assets characterized by high volume, velocity, and varietydifferentiable programming – programming paradigmlist of important publications in machine learninglist of datasets for machinelearning researchreferencessourcesdomingos, pedro (september 22, 2015). the master algorithm: how the quest for the ultimate learning machine will remake our world. basic books. isbn 9780465065707.nilsson, nils (1998). artificial intelligence: a new synthesis. morgan kaufmann. isbn 9781558604674. archived from the original on 26 july 2020. retrieved 18 november 2019.russell, stuart j.; norvig, peter (2003), artificial intelligence: a modern approach (2nd ed.), upper saddle river, new jersey: prentice hall, isbn 0137903952.poole, david; mackworth, alan; goebel, randy (1998). computational intelligence: a logical approach. new york: oxford university press. isbn 9780195102703. archived from the original on 26 july 2020. retrieved 22 august 2020.further readingexternal links quotations related to machine learning at wikiquoteinternational machine learning societymloss is an academic database of opensource machine learning software.'"
      ]
     },
     "execution_count": 16,
     "metadata": {},
     "output_type": "execute_result"
    }
   ],
   "source": [
    "ml_ftxt"
   ]
  },
  {
   "cell_type": "code",
   "execution_count": 17,
   "metadata": {
    "id": "Rd6eqXDaoT96"
   },
   "outputs": [],
   "source": [
    "ml_ftxt = re.sub(r'\\u200a','', ml_ftxt)"
   ]
  },
  {
   "cell_type": "code",
   "execution_count": 18,
   "metadata": {
    "colab": {
     "base_uri": "https://localhost:8080/",
     "height": 145
    },
    "id": "XU9YhYJKoT6J",
    "outputId": "796518cf-ecdb-443a-bdcb-e146b5851eca"
   },
   "outputs": [
    {
     "data": {
      "application/vnd.google.colaboratory.intrinsic+json": {
       "type": "string"
      },
      "text/plain": [
       "'machine learning (ml) is a field of inquiry devoted to understanding and building methods that \\'learn\\', that is, methods that leverage data to improve performance on some set of tasks. it is seen as a part of artificial intelligence. machine learning algorithms build a model based on sample data, known as training data, in order to make predictions or decisions without being explicitly programmed to do so. machine learning algorithms are used in a wide variety of applications, such as in medicine, email filtering, speech recognition, and computer vision, where it is difficult or unfeasible to develop conventional algorithms to perform the needed tasks.a subset of machine learning is closely related to computational statistics, which focuses on making predictions using computers, but not all machine learning is statistical learning. the study of mathematical optimization delivers methods, theory and application domains to the field of machine learning. data mining is a related field of study, focusing on exploratory data analysis through unsupervised learning. some implementations of machine learning use data and neural networks in a way that mimics the working of a biological brain.  in its application across business problems, machine learning is also referred to as predictive analytics.overviewlearning algorithms work on the basis that strategies, algorithms, and inferences that worked well in the past are likely to continue working well in the future. these inferences can be obvious, such as \"since the sun rose every morning for the last 10,000 days, it will probably rise tomorrow morning as well\". they can be nuanced, such as \"x% of families have geographically separate species with color variants, so there is a y% chance that undiscovered black swans exist\".machine learning programs can perform tasks without being explicitly programmed to do so. it involves computers learning from data provided so that they carry out certain tasks. for simple tasks assigned to computers, it is possible to program algorithms telling the machine how to execute all steps required to solve the problem at hand; on the computer\\'s part, no learning is needed. for more advanced tasks, it can be challenging for a human to manually create the needed algorithms. in practice, it can turn out to be more effective to help the machine develop its own algorithm, rather than having human programmers specify every needed step.the discipline of machine learning employs various approaches to teach computers to accomplish tasks where no fully satisfactory algorithm is available. in cases where vast numbers of potential answers exist, one approach is to label some of the correct answers as valid. this can then be used as training data for the computer to improve the algorithm(s) it uses to determine correct answers. for example, to train a system for the task of digital character recognition, the mnist dataset of handwritten digits has often been used.history and relationships to other fieldsthe term machine learning was coined in 1959 by arthur samuel, an ibm employee and pioneer in the field of computer gaming and artificial intelligence. also the synonym selfteaching computers were used in this time period.by the early 1960s an experimental \"learning machine\" with punched tape memory, called cybertron, had been developed by raytheon company to analyze sonar signals, electrocardiograms and speech patterns using rudimentary reinforcement learning. it was repetitively \"trained\" by a human operator/teacher to recognize patterns and equipped with a \"goof\" button to cause it to reevaluate incorrect decisions. a representative book on research into machine learning during the 1960s was nilsson\\'s book on learning machines, dealing mostly with machine learning for pattern classification. interest related to pattern recognition continued into the 1970s, as described by duda and hart in 1973. in 1981 a report was given on using teaching strategies so that a neural network learns to recognize 40 characters (26 letters, 10 digits, and 4 special symbols) from a computer terminal.tom m. mitchell provided a widely quoted, more formal definition of the algorithms studied in the machine learning field: \"a computer program is said to learn from experience e with respect to some class of tasks t and performance measure p if its performance at tasks in t, as measured by p,  improves with experience e.\" this definition of the tasks in which machine learning is concerned offers a fundamentally operational definition rather than defining the field in cognitive terms. this follows alan turing\\'s proposal in his paper \"computing machinery and intelligence\", in which the question \"can machines think?\" is replaced with the question \"can machines do what we (as thinking entities) can do?\".modern day machine learning has two objectives, one is to classify data based on models which have been developed, the other purpose is to make predictions for future outcomes based on these models. a hypothetical algorithm specific to classifying data may use computer vision of moles coupled with supervised learning in order to train it to classify the cancerous moles. a machine learning algorithm for stock trading may inform the trader of future potential predictions.artificial intelligenceas a scientific endeavor, machine learning grew out of the quest for artificial intelligence. in the early days of ai as an academic discipline, some researchers were interested in having machines learn from data. they attempted to approach the problem with various symbolic methods, as well as what was then termed \"neural networks\"; these were mostly perceptrons and other models that were later found to be reinventions of the generalized linear models of statistics. probabilistic reasoning was also employed, especially in automated medical diagnosis.:488however, an increasing emphasis on the logical, knowledgebased approach caused a rift between ai and machine learning. probabilistic systems were plagued by theoretical and practical problems of data acquisition and representation.:488 by 1980, expert systems had come to dominate ai, and statistics was out of favor. work on symbolic/knowledgebased learning did continue within ai, leading to inductive logic programming, but the more statistical line of research was now outside the field of ai proper, in pattern recognition and information retrieval.:708–710,755 neural networks research had been abandoned by ai and computer science around the same time. this line, too, was continued outside the ai/cs field, as \"connectionism\", by researchers from other disciplines including hopfield, rumelhart and hinton. their main success came in the mid1980s with the reinvention of backpropagation.:25machine learning (ml), reorganized as a separate field, started to flourish in the 1990s. the field changed its goal from achieving artificial intelligence to tackling solvable problems of a practical nature. it shifted focus away from the symbolic approaches it had inherited from ai, and toward methods and models borrowed from statistics, fuzzy logic, and probability theory.the difference between ml and ai is frequently misunderstood. ml learns and predicts based on passive observations, whereas ai implies an agent interacting with the environment to learn and take actions that maximize its chance of successfully achieving its goals.as of 2020, many sources continue to assert that ml remains a subfield of ai. others have the view that not all ml is part of ai, but only an \\'intelligent subset\\' of ml should be considered ai.data miningmachine learning and data mining often employ the same methods and overlap significantly, but while machine learning focuses on prediction, based on known properties learned from the training data, data mining focuses on the discovery of (previously) unknown properties in the data (this is the analysis step of knowledge discovery in databases). data mining uses many machine learning methods, but with different goals; on the other hand, machine learning also employs data mining methods as \"unsupervised learning\" or as a preprocessing step to improve learner accuracy. much of the confusion between these two research communities (which do often have separate conferences and separate journals, ecml pkdd being a major exception) comes from the basic assumptions they work with: in machine learning, performance is usually evaluated with respect to the ability to reproduce known knowledge, while in knowledge discovery and data mining (kdd) the key task is the discovery of previously unknown knowledge. evaluated with respect to known knowledge, an uninformed (unsupervised) method will easily be outperformed by other supervised methods, while in a typical kdd task, supervised methods cannot be used due to the unavailability of training data.optimizationmachine learning also has intimate ties to optimization: many learning problems are formulated as minimization of some loss function on a training set of examples. loss functions express the discrepancy between the predictions of the model being trained and the actual problem instances (for example, in classification, one wants to assign a label to instances, and models are trained to correctly predict the preassigned labels of a set of examples).generalizationthe difference between optimization and machine learning arises from the goal of generalization: while optimization algorithms can minimize the loss on a training set, machine learning is concerned with minimizing the loss on unseen samples. characterizing the generalization of various learning algorithms is an active topic of current research, especially for deep learning algorithms.statisticsmachine learning and statistics are closely related fields in terms of methods, but distinct in their principal goal: statistics draws population inferences from a sample, while machine learning finds generalizable predictive patterns. according to michael i. jordan, the ideas of machine learning, from methodological principles to theoretical tools, have had a long prehistory in statistics. he also suggested the term data science as a placeholder to call the overall field.leo breiman distinguished two statistical modeling paradigms: data model and algorithmic model, wherein \"algorithmic model\" means more or less the machine learning algorithms like random forest.some statisticians have adopted methods from machine learning, leading to a combined field that they call statistical learning.theorya core objective of a learner is to generalize from its experience. generalization in this context is the ability of a learning machine to perform accurately on new, unseen examples/tasks after having experienced a learning data set. the training examples come from some generally unknown probability distribution (considered representative of the space of occurrences) and the learner has to build a general model about this space that enables it to produce sufficiently accurate predictions in new cases.the computational analysis of machine learning algorithms and their performance is a branch of theoretical computer science known as computational learning theory via the probably approximately correct learning (pac) model. because training sets are finite and the future is uncertain, learning theory usually does not yield guarantees of the performance of algorithms. instead, probabilistic bounds on the performance are quite common. the bias–variance decomposition is one way to quantify generalization error.for the best performance in the context of generalization, the complexity of the hypothesis should match the complexity of the function underlying the data. if the hypothesis is less complex than the function, then the model has under fitted the data. if the complexity of the model is increased in response, then the training error decreases. but if the hypothesis is too complex, then the model is subject to overfitting and generalization will be poorer.in addition to performance bounds, learning theorists study the time complexity and feasibility of learning. in computational learning theory, a computation is considered feasible if it can be done in polynomial time. there are two kinds of time complexity results: positive results show that a certain class of functions can be learned in polynomial time. negative results show that certain classes cannot be learned in polynomial time.approachesmachine learning approaches are traditionally divided into three broad categories, which correspond to learning paradigms, depending on the nature of the \"signal\" or \"feedback\" available to the learning system:supervised learning: the computer is presented with example inputs and their desired outputs, given by a \"teacher\", and the goal is to learn a general rule that maps inputs to outputs.unsupervised learning: no labels are given to the learning algorithm, leaving it on its own to find structure in its input. unsupervised learning can be a goal in itself (discovering hidden patterns in data) or a means towards an end (feature learning).reinforcement learning: a computer program interacts with a dynamic environment in which it must perform a certain goal (such as driving a vehicle or playing a game against an opponent). as it navigates its problem space, the program is provided feedback that\\'s analogous to rewards, which it tries to maximize.supervised learningsupervised learning algorithms build a mathematical model of a set of data that contains both the inputs and the desired outputs. the data is known as training data, and consists of a set of training examples. each training example has one or more inputs and the desired output, also known as a supervisory signal.  in the mathematical model, each training example is represented by an array or vector, sometimes called a feature vector, and the training data is represented by a matrix. through iterative optimization of an objective function, supervised learning algorithms learn a function that can be used to predict the output associated with new inputs. an optimal function will allow the algorithm to correctly determine the output for inputs that were not a part of the training data. an algorithm that improves the accuracy of its outputs or predictions over time is said to have learned to perform that task.types of supervisedlearning algorithms include active learning, classification and regression. classification algorithms are used when the outputs are restricted to a limited set of values, and regression algorithms are used when the outputs may have any numerical value within a range. as an example, for a classification algorithm that filters emails, the input would be an incoming email, and the output would be the name of the folder in which to file the email.similarity learning is an area of supervised machine learning closely related to regression and classification, but the goal is to learn from examples using a similarity function that measures how similar or related two objects are. it has applications in ranking, recommendation systems, visual identity tracking, face verification, and speaker verification.unsupervised learningunsupervised learning algorithms take a set of data that contains only inputs, and find structure in the data, like grouping or clustering of data points. the algorithms, therefore, learn from test data that has not been labeled, classified or categorized. instead of responding to feedback, unsupervised learning algorithms identify commonalities in the data and react based on the presence or absence of such commonalities in each new piece of data. a central application of unsupervised learning is in the field of density estimation in statistics, such as finding the probability density function. though unsupervised learning encompasses other domains involving summarizing and explaining data features.cluster analysis is the assignment of a set of observations into subsets (called clusters) so that observations within the same cluster are similar according to one or more predesignated criteria, while observations drawn from different clusters are dissimilar. different clustering techniques make different assumptions on the structure of the data, often defined by some similarity metric and evaluated, for example, by internal compactness, or the similarity between members of the same cluster, and separation, the difference between clusters. other methods are based on estimated density and graph connectivity.semisupervised learningsemisupervised learning falls between unsupervised learning (without any labeled training data) and supervised learning (with completely labeled training data). some of the training examples are missing training labels,  yet many machinelearning researchers have found that unlabeled data, when used in conjunction with a small amount of labeled data, can produce a considerable improvement in learning accuracy.in weakly supervised learning, the training labels are noisy, limited, or imprecise; however, these labels are often cheaper to obtain, resulting in larger effective training sets.reinforcement learningreinforcement learning is an area of machine learning concerned with how software agents ought to take actions in an environment so as to maximize some notion of cumulative reward. due to its generality, the field is studied in many other disciplines, such as game theory, control theory, operations research, information theory, simulationbased optimization, multiagent systems, swarm intelligence, statistics and genetic algorithms. in machine learning, the environment is typically represented as a markov decision process (mdp). many reinforcement learning algorithms use dynamic programming techniques. reinforcement learning algorithms do not assume knowledge of an exact mathematical model of the mdp, and are used when exact models are infeasible. reinforcement learning algorithms are used in autonomous vehicles or in learning to play a game against a human opponent.dimensionality reductiondimensionality reduction is a process of reducing the number of random variables under consideration by obtaining a set of principal variables. in other words, it is a process of reducing the dimension of the feature set, also called \"number of features\". most of the dimensionality reduction techniques can be considered as either feature elimination or extraction.one of the popular methods of dimensionality reduction is principal component analysis (pca).pca involves changing higherdimensional data (e.g., 3d) to a smaller space (e.g., 2d). this results in a smaller dimension of data (2d instead of 3d), while keeping all original variables in the model without changing the data.the manifold hypothesis proposes that highdimensional data sets lie along lowdimensional manifolds, and many dimensionality reduction techniques make this assumption, leading to the area of manifold learning and manifold regularization.other typesother approaches have been developed which don\\'t fit neatly into this threefold categorisation, and sometimes more than one is used by the same machine learning system. for example topic modeling,  meta learning.as of 2020, deep learning has become the dominant approach for much ongoing work in the field of machine learning.self learningselflearning as a machine learning paradigm was introduced in 1982 along with a neural network capable of selflearning named crossbar adaptive array (caa). it is a learning with no external rewards and no external teacher advice. the caa selflearning algorithm computes, in a crossbar fashion, both decisions about actions and emotions (feelings) about consequence situations. the system is driven by the interaction between cognition and emotion.the selflearning algorithm updates a memory matrix w =||w(a,s)|| such that in each iteration executes the following machine learning routine:  in situation s perform an action a; receive consequence situation s’; compute emotion of being in consequence situation v(s’); update crossbar memory  w’(a,s) = w(a,s) + v(s’).it is a system with only one input, situation s, and only one output, action (or behavior) a. there is neither a separate reinforcement input nor an advice input from the environment. the backpropagated value (secondary reinforcement) is the emotion toward the consequence situation. the caa exists in two environments, one is the behavioral environment where it behaves, and the other is the genetic environment, wherefrom it initially and only once receives initial emotions about situations to be encountered in the behavioral environment. after receiving the genome (species) vector from the genetic environment, the caa learns a goalseeking behavior, in an environment that contains both desirable and undesirable situations.feature learningseveral learning algorithms aim at discovering better representations of the inputs provided during training. classic examples include principal components analysis and cluster analysis. feature learning algorithms, also called representation learning algorithms, often attempt to preserve the information in their input but also transform it in a way that makes it useful, often as a preprocessing step before performing classification or predictions. this technique allows reconstruction of the inputs coming from the unknown datagenerating distribution, while not being necessarily faithful to configurations that are implausible under that distribution. this replaces manual feature engineering, and allows a machine to both learn the features and use them to perform a specific task.feature learning can be either supervised or unsupervised. in supervised feature learning, features are learned using labeled input data. examples include artificial neural networks, multilayer perceptrons, and supervised dictionary learning. in unsupervised feature learning, features are learned with unlabeled input data.  examples include dictionary learning, independent component analysis, autoencoders, matrix factorization and various forms of clustering.manifold learning algorithms attempt to do so under the constraint that the learned representation is lowdimensional. sparse coding algorithms attempt to do so under the constraint that the learned representation is sparse, meaning that the mathematical model has many zeros. multilinear subspace learning algorithms aim to learn lowdimensional representations directly from tensor representations for multidimensional data, without reshaping them into higherdimensional vectors. deep learning algorithms discover multiple levels of representation, or a hierarchy of features, with higherlevel, more abstract features defined in terms of (or generating) lowerlevel features. it has been argued that an intelligent machine is one that learns a representation that disentangles the underlying factors of variation that explain the observed data.feature learning is motivated by the fact that machine learning tasks such as classification often require input that is mathematically and computationally convenient to process. however, realworld data such as images, video, and sensory data has not yielded attempts to algorithmically define specific features. an alternative is to discover such features or representations through examination, without relying on explicit algorithms.sparse dictionary learningsparse dictionary learning is a feature learning method where a training example is represented as a linear combination of basis functions, and is assumed to be a sparse matrix. the method is strongly nphard and difficult to solve approximately. a popular heuristic method for sparse dictionary learning is the ksvd algorithm. sparse dictionary learning has been applied in several contexts. in classification, the problem is to determine the class to which a previously unseen training example belongs. for a dictionary where each class has already been built, a new training example is associated with the class that is best sparsely represented by the corresponding dictionary. sparse dictionary learning has also been applied in image denoising. the key idea is that a clean image patch can be sparsely represented by an image dictionary, but the noise cannot.anomaly detectionin data mining, anomaly detection, also known as outlier detection, is the identification of rare items, events or observations which raise suspicions by differing significantly from the majority of the data. typically, the anomalous items represent an issue such as bank fraud, a structural defect, medical problems or errors in a text. anomalies are referred to as outliers, novelties, noise, deviations and exceptions.in particular, in the context of abuse and network intrusion detection, the interesting objects are often not rare objects, but unexpected bursts of inactivity. this pattern does not adhere to the common statistical definition of an outlier as a rare object, and many outlier detection methods (in particular, unsupervised algorithms) will fail on such data unless it has been aggregated appropriately. instead, a cluster analysis algorithm may be able to detect the microclusters formed by these patterns.three broad categories of anomaly detection techniques exist. unsupervised anomaly detection techniques detect anomalies in an unlabeled test data set under the assumption that the majority of the instances in the data set are normal, by looking for instances that seem to fit the least to the remainder of the data set. supervised anomaly detection techniques require a data set that has been labeled as \"normal\" and \"abnormal\" and involves training a classifier (the key difference to many other statistical classification problems is the inherently unbalanced nature of outlier detection). semisupervised anomaly detection techniques construct a model representing normal behavior from a given normal training data set and then test the likelihood of a test instance to be generated by the model.robot learningrobot learning is inspired by a multitude of machine learning methods, starting from supervised learning, reinforcement learning, and finally metalearning (e.g. maml).association rulesassociation rule learning is a rulebased machine learning method for discovering relationships between variables in large databases. it is intended to identify strong rules discovered in databases using some measure of \"interestingness\".rulebased machine learning is a general term for any machine learning method that identifies, learns, or evolves \"rules\" to store, manipulate or apply knowledge. the defining characteristic of a rulebased machine learning algorithm is the identification and utilization of a set of relational rules that collectively represent the knowledge captured by the system. this is in contrast to other machine learning algorithms that commonly identify a singular model that can be universally applied to any instance in order to make a prediction. rulebased machine learning approaches include learning classifier systems, association rule learning, and artificial immune systems.based on the concept of strong rules, rakesh agrawal, tomasz imieliński and arun swami introduced association rules for discovering regularities between products in largescale transaction data recorded by pointofsale (pos) systems in supermarkets. for example, the rule                     {                  o          n          i          o          n          s          ,          p          o          t          a          t          o          e          s                }        ⇒        {                  b          u          r          g          e          r                }              {\\\\displaystyle \\\\{\\\\mathrm {onions,potatoes} \\\\}\\\\rightarrow \\\\{\\\\mathrm {burger} \\\\}}   found in the sales data of a supermarket would indicate that if a customer buys onions and potatoes together, they are likely to also buy hamburger meat. such information can be used as the basis for decisions about marketing activities such as promotional pricing or product placements. in addition to market basket analysis, association rules are employed today in application areas including web usage mining, intrusion detection, continuous production, and bioinformatics. in contrast with sequence mining, association rule learning typically does not consider the order of items either within a transaction or across transactions.learning classifier systems (lcs) are a family of rulebased machine learning algorithms that combine a discovery component, typically a genetic algorithm, with a learning component, performing either supervised learning, reinforcement learning, or unsupervised learning. they seek to identify a set of contextdependent rules that collectively store and apply knowledge in a piecewise manner in order to make predictions.inductive logic programming (ilp) is an approach to rulelearning using logic programming as a uniform representation for input examples, background knowledge, and hypotheses. given an encoding of the known background knowledge and a set of examples represented as a logical database of facts, an ilp system will derive a hypothesized logic program that entails all positive and no negative examples. inductive programming is a related field that considers any kind of programming language for representing hypotheses (and not only logic programming), such as functional programs.inductive logic programming is particularly useful in bioinformatics and natural language processing. gordon plotkin and ehud shapiro laid the initial theoretical foundation for inductive machine learning in a logical setting. shapiro built their first implementation (model inference system) in 1981: a prolog program that inductively inferred logic programs from positive and negative examples. the term inductive here refers to philosophical induction, suggesting a theory to explain observed facts, rather than mathematical induction, proving a property for all members of a wellordered set.modelsperforming machine learning involves creating a model, which is trained on some training data and then can process additional data to make predictions. various types of models have been used and researched for machine learning systems.artificial neural networksartificial neural networks (anns), or connectionist systems, are computing systems vaguely inspired by the biological neural networks that constitute animal brains. such systems \"learn\" to perform tasks by considering examples, generally without being programmed with any taskspecific rules.an ann is a model based on a collection of connected units or nodes called \"artificial neurons\", which loosely model the neurons in a biological brain. each connection, like the synapses in a biological brain, can transmit information, a \"signal\", from one artificial neuron to another. an artificial neuron that receives a signal can process it and then signal additional artificial neurons connected to it. in common ann implementations, the signal at a connection between artificial neurons is a real number, and the output of each artificial neuron is computed by some nonlinear function of the sum of its inputs. the connections between artificial neurons are called \"edges\". artificial neurons and edges typically have a weight that adjusts as learning proceeds. the weight increases or decreases the strength of the signal at a connection. artificial neurons may have a threshold such that the signal is only sent if the aggregate signal crosses that threshold. typically, artificial neurons are aggregated into layers. different layers may perform different kinds of transformations on their inputs. signals travel from the first layer (the input layer) to the last layer (the output layer), possibly after traversing the layers multiple times.the original goal of the ann approach was to solve problems in the same way that a human brain would. however, over time, attention moved to performing specific tasks, leading to deviations from biology. artificial neural networks have been used on a variety of tasks, including computer vision, speech recognition, machine translation, social network filtering, playing board and video games and medical diagnosis.deep learning consists of multiple hidden layers in an artificial neural network. this approach tries to model the way the human brain processes light and sound into vision and hearing. some successful applications of deep learning are computer vision and speech recognition.decision treesdecision tree learning uses a decision tree as a predictive model to go from observations about an item (represented in the branches) to conclusions about the item\\'s target value (represented in the leaves). it is one of the predictive modeling approaches used in statistics, data mining, and machine learning. tree models where the target variable can take a discrete set of values are called classification trees; in these tree structures, leaves represent class labels and branches represent conjunctions of features that lead to those class labels. decision trees where the target variable can take continuous values (typically real numbers) are called regression trees. in decision analysis, a decision tree can be used to visually and explicitly represent decisions and decision making. in data mining, a decision tree describes data, but the resulting classification tree can be an input for decision making.supportvector machinessupportvector machines (svms), also known as supportvector networks, are a set of related supervised learning methods used for classification and regression. given a set of training examples, each marked as belonging to one of two categories, an svm training algorithm builds a model that predicts whether a new example falls into one category or the other.  an svm training algorithm is a nonprobabilistic, binary, linear classifier, although methods such as platt scaling exist to use svm in a probabilistic classification setting. in addition to performing linear classification, svms can efficiently perform a nonlinear classification using what is called the kernel trick, implicitly mapping their inputs into highdimensional feature spaces.regression analysisregression analysis encompasses a large variety of statistical methods to estimate the relationship between input variables and their associated features. its most common form is linear regression, where a single line is drawn to best fit the given data according to a mathematical criterion such as ordinary least squares. the latter is often extended by regularization methods to mitigate overfitting and bias, as in ridge regression. when dealing with nonlinear problems, goto models include polynomial regression (for example, used for trendline fitting in microsoft excel), logistic regression (often used in statistical classification) or even kernel regression, which introduces nonlinearity by taking advantage of the kernel trick to implicitly map input variables to higherdimensional space.bayesian networksa bayesian network, belief network, or directed acyclic graphical model is a probabilistic graphical model that represents a set of random variables and their conditional independence with a directed acyclic graph (dag). for example, a bayesian network could represent the probabilistic relationships between diseases and symptoms. given symptoms, the network can be used to compute the probabilities of the presence of various diseases. efficient algorithms exist that perform inference and learning. bayesian networks that model sequences of variables, like speech signals or protein sequences, are called dynamic bayesian networks. generalizations of bayesian networks that can represent and solve decision problems under uncertainty are called influence diagrams.genetic algorithmsa genetic algorithm (ga) is a search algorithm and heuristic technique that mimics the process of natural selection, using methods such as mutation and crossover to generate new genotypes in the hope of finding good solutions to a given problem. in machine learning, genetic algorithms were used in the 1980s and 1990s. conversely, machine learning techniques have been used to improve the performance of genetic and evolutionary algorithms.training modelstypically, machine learning models require a high quantity of reliable data in order for the models to perform accurate predictions. when training a machine learning model, machine learning engineers need to target and collect a large and representative sample of data. data from the training set can be as varied as a corpus of text, a collection of images, sensor data, and data collected from individual users of a service. overfitting is something to watch out for when training a machine learning model. trained models derived from biased or nonevaluated data can result in skewed or undesired predictions. bias models may result in detrimental outcomes thereby furthering the negative impacts on society or objectives. algorithmic bias is a potential result of data not being fully prepared for training. machine learning ethics is becoming a field of study and notably be integrated within machine learning engineering teams.federated learningfederated learning is an adapted form of distributed artificial intelligence to training machine learning models that decentralizes the training process, allowing for users\\' privacy to be maintained by not needing to send their data to a centralized server. this also increases efficiency by decentralizing the training process to many devices. for example, gboard uses federated machine learning to train search query prediction models on users\\' mobile phones without having to send individual searches back to google.applicationsthere are many applications for machine learning, including:in 2006, the mediaservices provider netflix held the first \"netflix prize\" competition to find a program to better predict user preferences and improve the accuracy of its existing cinematch movie recommendation algorithm by at least 10%.  a joint team made up of researchers from at&t labsresearch in collaboration with the teams big chaos and pragmatic theory built an ensemble model to win the grand prize in 2009 for $1 million. shortly after the prize was awarded, netflix realized that viewers\\' ratings were not the best indicators of their viewing patterns (\"everything is a recommendation\") and they changed their recommendation engine accordingly. in 2010 the wall street journal wrote about the firm rebellion research and their use of machine learning to predict the financial crisis. in 2012, cofounder of sun microsystems, vinod khosla, predicted that 80% of medical doctors\\' jobs would be lost in the next two decades to automated machine learning medical diagnostic software. in 2014, it was reported that a machine learning algorithm had been applied in the field of art history to study fine art paintings and that it may have revealed previously unrecognized influences among artists. in 2019 springer nature published the first research book created using machine learning. in 2020, machine learning technology was used to help make diagnoses and aid researchers in developing a cure for covid19. machine learning is recently applied to predict the green behavior of humanbeing. recently, machine learning technology is also applied to optimise smartphone\\'s performance and thermal behaviour based on the user\\'s interaction with the phone.limitationsalthough machine learning has been transformative in some fields, machinelearning programs often fail to deliver expected results. reasons for this are numerous: lack of (suitable) data, lack of access to the data, data bias, privacy problems, badly chosen tasks and algorithms, wrong tools and people, lack of resources, and evaluation problems.in 2018, a selfdriving car from uber failed to detect a pedestrian, who was killed after a collision. attempts to use machine learning in healthcare with the ibm watson system failed to deliver even after years of time and billions of dollars invested.machine learning has been used as a strategy to update the evidence related to a systematic review and increased reviewer burden related to the growth of biomedical literature. while it has improved with training sets, it has not yet developed sufficiently to reduce the workload burden without limiting the necessary sensitivity for the findings research themselves.biasmachine learning approaches in particular can suffer from different data biases. a machine learning system trained specifically on current customers may not be able to predict the needs of new customer groups that are not represented in the training data. when trained on manmade data, machine learning is likely to pick up the constitutional and unconscious biases already present in society. language models learned from data have been shown to contain humanlike biases. machine learning systems used for criminal risk assessment have been found to be biased against black people. in 2015, google photos would often tag black people as gorillas, and in 2018 this still was not well resolved, but google reportedly was still using the workaround to remove all gorillas from the training data, and thus was not able to recognize real gorillas at all. similar issues with recognizing nonwhite people have been found in many other systems. in 2016, microsoft tested a chatbot that learned from twitter, and it quickly picked up racist and sexist language. because of such challenges, the effective use of machine learning may take longer to be adopted in other domains. concern for fairness in machine learning, that is, reducing bias in machine learning and propelling its use for human good is increasingly expressed by artificial intelligence scientists, including feifei li, who reminds engineers that \"there’s nothing artificial about ai...it’s inspired by people, it’s created by people, and—most importantly—it impacts people. it is a powerful tool we are only just beginning to understand, and that is a profound responsibility.”overfittingsettling on a bad, overly complex theory gerrymandered to fit all the past training data is known as overfitting. many systems attempt to reduce overfitting by rewarding a theory in accordance with how well it fits the data, but penalizing the theory in accordance with how complex the theory is.other limitations and vulnerabilitieslearners can also disappoint by \"learning the wrong lesson\". a toy example is that an image classifier trained only on pictures of brown horses and black cats might conclude that all brown patches are likely to be horses. a realworld example is that, unlike humans, current image classifiers often don\\'t primarily make judgments from the spatial relationship between components of the picture, and they learn relationships between pixels that humans are oblivious to, but that still correlate with images of certain types of real objects. modifying these patterns on a legitimate image can result in \"adversarial\" images that the system misclassifies.adversarial vulnerabilities can also result in nonlinear systems, or from nonpattern perturbations. some systems are so brittle that changing a single adversarial pixel predictably induces misclassification. machine learning models are often vulnerable to manipulation and/or evasion via adversarial machine learning.researchers have demonstrated how backdoors can be placed undetectably into classifying (e.g. for categories \"spam\" and wellvisible \"not spam\" of posts) machine learning models which are often developed and/or trained by third parties. parties can change the classification of any input, including in cases for which a type of data/software transparency is provided, possibly including whitebox access.model assessmentsclassification of machine learning models can be validated by accuracy estimation techniques like the holdout method, which splits the data in a training and test set (conventionally 2/3 training set and 1/3 test set designation) and evaluates the performance of the training model on the test set. in comparison, the kfoldcrossvalidation method randomly partitions the data into k subsets and then k experiments are performed each respectively considering 1 subset for evaluation and the remaining k1 subsets for training the model. in addition to the holdout and crossvalidation methods, bootstrap, which samples n instances with replacement from the dataset, can be used to assess model accuracy.in addition to overall accuracy, investigators frequently report sensitivity and specificity meaning true positive rate (tpr) and true negative rate (tnr) respectively. similarly, investigators sometimes report the false positive rate (fpr) as well as the false negative rate (fnr). however, these rates are ratios that fail to reveal their numerators and denominators. the total operating characteristic (toc) is an effective method to express a model\\'s diagnostic ability. toc shows the numerators and denominators of the previously mentioned rates, thus toc provides more information than the commonly used receiver operating characteristic (roc) and roc\\'s associated area under the curve (auc).ethicsmachine learning poses a host of ethical questions. systems which are trained on datasets collected with biases may exhibit these biases upon use (algorithmic bias), thus digitizing cultural prejudices. for example, in 1988, the uk\\'s commission for racial equality found that st. george\\'s medical school had been using a computer program trained from data of previous admissions staff and this program had denied nearly 60 candidates who were found to be either women or had noneuropean sounding names. using job hiring data from a firm with racist hiring policies may lead to a machine learning system duplicating the bias by scoring job applicants by similarity to previous successful applicants. responsible collection of data and documentation of algorithmic rules used by a system thus is a critical part of machine learning.ai can be wellequipped to make decisions in technical fields, which rely heavily on data and historical information. these decisions rely on the objectivity and logical reasoning. because human languages contain biases, machines trained on language corpora will necessarily also learn these biases.other forms of ethical challenges, not related to personal biases, are seen in health care. there are concerns among health care professionals that these systems might not be designed in the public\\'s interest but as incomegenerating machines. this is especially true in the united states where there is a longstanding ethical dilemma of improving health care, but also increase profits. for example, the algorithms could be designed to provide patients with unnecessary tests or medication in which the algorithm\\'s proprietary owners hold stakes. there is  potential for machine learning in health care to provide professionals an additional tool to diagnose, medicate, and plan recovery paths for patients, but this requires these biases to be mitigated.hardwaresince the 2010s, advances in both machine learning algorithms and computer hardware have led to more efficient methods for training deep neural networks (a particular narrow subdomain of machine learning) that contain many layers of nonlinear hidden units. by 2019, graphic processing units (gpus), often with aispecific enhancements, had displaced cpus as the dominant method of training largescale commercial cloud ai. openai estimated the hardware computing used in the largest deep learning projects from alexnet (2012) to alphazero (2017), and found a 300,000fold increase in the amount of compute required, with a doublingtime trendline of 3.4 months.neuromorphic/physical neural networksa physical neural network or neuromorphic computer  is a type of artificial neural network in which an electrically adjustable material is used to emulate the function of a neural synapse. \"physical\" neural network is used to emphasize the reliance on physical hardware used to emulate neurons as opposed to softwarebased approaches. more generally the term is applicable to other artificial neural networks in which a memristor or other electrically adjustable resistance material is used to emulate a neural synapse.embedded machine learningembedded machine learning is a subfield of machine learning, where the machine learning model is run on embedded systems with limited computing resources such as wearable computers, edge devices and microcontrollers. running machine learning model in embedded devices removes the need for transferring and storing data on cloud servers for further processing, henceforth, reducing data breaches and privacy leaks happening because of transferring data, and also minimizes theft of intellectual properties, personal data and business secrets. embedded machine learning could be applied through several techniques including hardware acceleration, using approximate computing, optimization of machine learning models and many more.softwaresoftware suites containing a variety of machine learning algorithms include the following:free and opensource softwareproprietary software with free and opensource editionsknimerapidminerproprietary softwarejournalsjournal of machine learning researchmachine learningnature machine intelligenceneural computationconferencesaaai conference on artificial intelligenceassociation for computational linguistics (acl)european conference on machine learning and principles and practice of knowledge discovery in databases (ecml pkdd)international conference on computational intelligence methods for bioinformatics and biostatistics (cibb)international conference on machine learning (icml)international conference on learning representations (iclr)international conference on intelligent robots and systems (iros)conference on knowledge discovery and data mining (kdd)conference on neural information processing systems (neurips)see alsoautomated machine learning – process of automating the application of machine learningbig data – information assets characterized by high volume, velocity, and varietydifferentiable programming – programming paradigmlist of important publications in machine learninglist of datasets for machinelearning researchreferencessourcesdomingos, pedro (september 22, 2015). the master algorithm: how the quest for the ultimate learning machine will remake our world. basic books. isbn 9780465065707.nilsson, nils (1998). artificial intelligence: a new synthesis. morgan kaufmann. isbn 9781558604674. archived from the original on 26 july 2020. retrieved 18 november 2019.russell, stuart j.; norvig, peter (2003), artificial intelligence: a modern approach (2nd ed.), upper saddle river, new jersey: prentice hall, isbn 0137903952.poole, david; mackworth, alan; goebel, randy (1998). computational intelligence: a logical approach. new york: oxford university press. isbn 9780195102703. archived from the original on 26 july 2020. retrieved 22 august 2020.further readingexternal links quotations related to machine learning at wikiquoteinternational machine learning societymloss is an academic database of opensource machine learning software.'"
      ]
     },
     "execution_count": 18,
     "metadata": {},
     "output_type": "execute_result"
    }
   ],
   "source": [
    "\n",
    "ml_ftxt"
   ]
  },
  {
   "cell_type": "code",
   "execution_count": 19,
   "metadata": {
    "id": "XjUcY3mKhH8i"
   },
   "outputs": [],
   "source": [
    "# Remove puncuation\n",
    "my_punctuation = string.punctuation.replace(\",\", \"\")\n",
    "my_punctuation = my_punctuation.replace(\".\", \"\")\n",
    "\n",
    "translator = str.maketrans('', '', my_punctuation)\n",
    "ml_ftxt = ml_ftxt.translate(translator)"
   ]
  },
  {
   "cell_type": "code",
   "execution_count": 20,
   "metadata": {
    "colab": {
     "base_uri": "https://localhost:8080/",
     "height": 145
    },
    "id": "ZhhnQQ_ZhZKl",
    "outputId": "bd1cf82f-836b-4b2d-8a88-51ca4750e563"
   },
   "outputs": [
    {
     "data": {
      "application/vnd.google.colaboratory.intrinsic+json": {
       "type": "string"
      },
      "text/plain": [
       "'machine learning ml is a field of inquiry devoted to understanding and building methods that learn, that is, methods that leverage data to improve performance on some set of tasks. it is seen as a part of artificial intelligence. machine learning algorithms build a model based on sample data, known as training data, in order to make predictions or decisions without being explicitly programmed to do so. machine learning algorithms are used in a wide variety of applications, such as in medicine, email filtering, speech recognition, and computer vision, where it is difficult or unfeasible to develop conventional algorithms to perform the needed tasks.a subset of machine learning is closely related to computational statistics, which focuses on making predictions using computers, but not all machine learning is statistical learning. the study of mathematical optimization delivers methods, theory and application domains to the field of machine learning. data mining is a related field of study, focusing on exploratory data analysis through unsupervised learning. some implementations of machine learning use data and neural networks in a way that mimics the working of a biological brain.  in its application across business problems, machine learning is also referred to as predictive analytics.overviewlearning algorithms work on the basis that strategies, algorithms, and inferences that worked well in the past are likely to continue working well in the future. these inferences can be obvious, such as since the sun rose every morning for the last 10,000 days, it will probably rise tomorrow morning as well. they can be nuanced, such as x of families have geographically separate species with color variants, so there is a y chance that undiscovered black swans exist.machine learning programs can perform tasks without being explicitly programmed to do so. it involves computers learning from data provided so that they carry out certain tasks. for simple tasks assigned to computers, it is possible to program algorithms telling the machine how to execute all steps required to solve the problem at hand on the computers part, no learning is needed. for more advanced tasks, it can be challenging for a human to manually create the needed algorithms. in practice, it can turn out to be more effective to help the machine develop its own algorithm, rather than having human programmers specify every needed step.the discipline of machine learning employs various approaches to teach computers to accomplish tasks where no fully satisfactory algorithm is available. in cases where vast numbers of potential answers exist, one approach is to label some of the correct answers as valid. this can then be used as training data for the computer to improve the algorithms it uses to determine correct answers. for example, to train a system for the task of digital character recognition, the mnist dataset of handwritten digits has often been used.history and relationships to other fieldsthe term machine learning was coined in 1959 by arthur samuel, an ibm employee and pioneer in the field of computer gaming and artificial intelligence. also the synonym selfteaching computers were used in this time period.by the early 1960s an experimental learning machine with punched tape memory, called cybertron, had been developed by raytheon company to analyze sonar signals, electrocardiograms and speech patterns using rudimentary reinforcement learning. it was repetitively trained by a human operatorteacher to recognize patterns and equipped with a goof button to cause it to reevaluate incorrect decisions. a representative book on research into machine learning during the 1960s was nilssons book on learning machines, dealing mostly with machine learning for pattern classification. interest related to pattern recognition continued into the 1970s, as described by duda and hart in 1973. in 1981 a report was given on using teaching strategies so that a neural network learns to recognize 40 characters 26 letters, 10 digits, and 4 special symbols from a computer terminal.tom m. mitchell provided a widely quoted, more formal definition of the algorithms studied in the machine learning field a computer program is said to learn from experience e with respect to some class of tasks t and performance measure p if its performance at tasks in t, as measured by p,  improves with experience e. this definition of the tasks in which machine learning is concerned offers a fundamentally operational definition rather than defining the field in cognitive terms. this follows alan turings proposal in his paper computing machinery and intelligence, in which the question can machines think is replaced with the question can machines do what we as thinking entities can do.modern day machine learning has two objectives, one is to classify data based on models which have been developed, the other purpose is to make predictions for future outcomes based on these models. a hypothetical algorithm specific to classifying data may use computer vision of moles coupled with supervised learning in order to train it to classify the cancerous moles. a machine learning algorithm for stock trading may inform the trader of future potential predictions.artificial intelligenceas a scientific endeavor, machine learning grew out of the quest for artificial intelligence. in the early days of ai as an academic discipline, some researchers were interested in having machines learn from data. they attempted to approach the problem with various symbolic methods, as well as what was then termed neural networks these were mostly perceptrons and other models that were later found to be reinventions of the generalized linear models of statistics. probabilistic reasoning was also employed, especially in automated medical diagnosis.488however, an increasing emphasis on the logical, knowledgebased approach caused a rift between ai and machine learning. probabilistic systems were plagued by theoretical and practical problems of data acquisition and representation.488 by 1980, expert systems had come to dominate ai, and statistics was out of favor. work on symbolicknowledgebased learning did continue within ai, leading to inductive logic programming, but the more statistical line of research was now outside the field of ai proper, in pattern recognition and information retrieval.708–710,755 neural networks research had been abandoned by ai and computer science around the same time. this line, too, was continued outside the aics field, as connectionism, by researchers from other disciplines including hopfield, rumelhart and hinton. their main success came in the mid1980s with the reinvention of backpropagation.25machine learning ml, reorganized as a separate field, started to flourish in the 1990s. the field changed its goal from achieving artificial intelligence to tackling solvable problems of a practical nature. it shifted focus away from the symbolic approaches it had inherited from ai, and toward methods and models borrowed from statistics, fuzzy logic, and probability theory.the difference between ml and ai is frequently misunderstood. ml learns and predicts based on passive observations, whereas ai implies an agent interacting with the environment to learn and take actions that maximize its chance of successfully achieving its goals.as of 2020, many sources continue to assert that ml remains a subfield of ai. others have the view that not all ml is part of ai, but only an intelligent subset of ml should be considered ai.data miningmachine learning and data mining often employ the same methods and overlap significantly, but while machine learning focuses on prediction, based on known properties learned from the training data, data mining focuses on the discovery of previously unknown properties in the data this is the analysis step of knowledge discovery in databases. data mining uses many machine learning methods, but with different goals on the other hand, machine learning also employs data mining methods as unsupervised learning or as a preprocessing step to improve learner accuracy. much of the confusion between these two research communities which do often have separate conferences and separate journals, ecml pkdd being a major exception comes from the basic assumptions they work with in machine learning, performance is usually evaluated with respect to the ability to reproduce known knowledge, while in knowledge discovery and data mining kdd the key task is the discovery of previously unknown knowledge. evaluated with respect to known knowledge, an uninformed unsupervised method will easily be outperformed by other supervised methods, while in a typical kdd task, supervised methods cannot be used due to the unavailability of training data.optimizationmachine learning also has intimate ties to optimization many learning problems are formulated as minimization of some loss function on a training set of examples. loss functions express the discrepancy between the predictions of the model being trained and the actual problem instances for example, in classification, one wants to assign a label to instances, and models are trained to correctly predict the preassigned labels of a set of examples.generalizationthe difference between optimization and machine learning arises from the goal of generalization while optimization algorithms can minimize the loss on a training set, machine learning is concerned with minimizing the loss on unseen samples. characterizing the generalization of various learning algorithms is an active topic of current research, especially for deep learning algorithms.statisticsmachine learning and statistics are closely related fields in terms of methods, but distinct in their principal goal statistics draws population inferences from a sample, while machine learning finds generalizable predictive patterns. according to michael i. jordan, the ideas of machine learning, from methodological principles to theoretical tools, have had a long prehistory in statistics. he also suggested the term data science as a placeholder to call the overall field.leo breiman distinguished two statistical modeling paradigms data model and algorithmic model, wherein algorithmic model means more or less the machine learning algorithms like random forest.some statisticians have adopted methods from machine learning, leading to a combined field that they call statistical learning.theorya core objective of a learner is to generalize from its experience. generalization in this context is the ability of a learning machine to perform accurately on new, unseen examplestasks after having experienced a learning data set. the training examples come from some generally unknown probability distribution considered representative of the space of occurrences and the learner has to build a general model about this space that enables it to produce sufficiently accurate predictions in new cases.the computational analysis of machine learning algorithms and their performance is a branch of theoretical computer science known as computational learning theory via the probably approximately correct learning pac model. because training sets are finite and the future is uncertain, learning theory usually does not yield guarantees of the performance of algorithms. instead, probabilistic bounds on the performance are quite common. the bias–variance decomposition is one way to quantify generalization error.for the best performance in the context of generalization, the complexity of the hypothesis should match the complexity of the function underlying the data. if the hypothesis is less complex than the function, then the model has under fitted the data. if the complexity of the model is increased in response, then the training error decreases. but if the hypothesis is too complex, then the model is subject to overfitting and generalization will be poorer.in addition to performance bounds, learning theorists study the time complexity and feasibility of learning. in computational learning theory, a computation is considered feasible if it can be done in polynomial time. there are two kinds of time complexity results positive results show that a certain class of functions can be learned in polynomial time. negative results show that certain classes cannot be learned in polynomial time.approachesmachine learning approaches are traditionally divided into three broad categories, which correspond to learning paradigms, depending on the nature of the signal or feedback available to the learning systemsupervised learning the computer is presented with example inputs and their desired outputs, given by a teacher, and the goal is to learn a general rule that maps inputs to outputs.unsupervised learning no labels are given to the learning algorithm, leaving it on its own to find structure in its input. unsupervised learning can be a goal in itself discovering hidden patterns in data or a means towards an end feature learning.reinforcement learning a computer program interacts with a dynamic environment in which it must perform a certain goal such as driving a vehicle or playing a game against an opponent. as it navigates its problem space, the program is provided feedback thats analogous to rewards, which it tries to maximize.supervised learningsupervised learning algorithms build a mathematical model of a set of data that contains both the inputs and the desired outputs. the data is known as training data, and consists of a set of training examples. each training example has one or more inputs and the desired output, also known as a supervisory signal.  in the mathematical model, each training example is represented by an array or vector, sometimes called a feature vector, and the training data is represented by a matrix. through iterative optimization of an objective function, supervised learning algorithms learn a function that can be used to predict the output associated with new inputs. an optimal function will allow the algorithm to correctly determine the output for inputs that were not a part of the training data. an algorithm that improves the accuracy of its outputs or predictions over time is said to have learned to perform that task.types of supervisedlearning algorithms include active learning, classification and regression. classification algorithms are used when the outputs are restricted to a limited set of values, and regression algorithms are used when the outputs may have any numerical value within a range. as an example, for a classification algorithm that filters emails, the input would be an incoming email, and the output would be the name of the folder in which to file the email.similarity learning is an area of supervised machine learning closely related to regression and classification, but the goal is to learn from examples using a similarity function that measures how similar or related two objects are. it has applications in ranking, recommendation systems, visual identity tracking, face verification, and speaker verification.unsupervised learningunsupervised learning algorithms take a set of data that contains only inputs, and find structure in the data, like grouping or clustering of data points. the algorithms, therefore, learn from test data that has not been labeled, classified or categorized. instead of responding to feedback, unsupervised learning algorithms identify commonalities in the data and react based on the presence or absence of such commonalities in each new piece of data. a central application of unsupervised learning is in the field of density estimation in statistics, such as finding the probability density function. though unsupervised learning encompasses other domains involving summarizing and explaining data features.cluster analysis is the assignment of a set of observations into subsets called clusters so that observations within the same cluster are similar according to one or more predesignated criteria, while observations drawn from different clusters are dissimilar. different clustering techniques make different assumptions on the structure of the data, often defined by some similarity metric and evaluated, for example, by internal compactness, or the similarity between members of the same cluster, and separation, the difference between clusters. other methods are based on estimated density and graph connectivity.semisupervised learningsemisupervised learning falls between unsupervised learning without any labeled training data and supervised learning with completely labeled training data. some of the training examples are missing training labels,  yet many machinelearning researchers have found that unlabeled data, when used in conjunction with a small amount of labeled data, can produce a considerable improvement in learning accuracy.in weakly supervised learning, the training labels are noisy, limited, or imprecise however, these labels are often cheaper to obtain, resulting in larger effective training sets.reinforcement learningreinforcement learning is an area of machine learning concerned with how software agents ought to take actions in an environment so as to maximize some notion of cumulative reward. due to its generality, the field is studied in many other disciplines, such as game theory, control theory, operations research, information theory, simulationbased optimization, multiagent systems, swarm intelligence, statistics and genetic algorithms. in machine learning, the environment is typically represented as a markov decision process mdp. many reinforcement learning algorithms use dynamic programming techniques. reinforcement learning algorithms do not assume knowledge of an exact mathematical model of the mdp, and are used when exact models are infeasible. reinforcement learning algorithms are used in autonomous vehicles or in learning to play a game against a human opponent.dimensionality reductiondimensionality reduction is a process of reducing the number of random variables under consideration by obtaining a set of principal variables. in other words, it is a process of reducing the dimension of the feature set, also called number of features. most of the dimensionality reduction techniques can be considered as either feature elimination or extraction.one of the popular methods of dimensionality reduction is principal component analysis pca.pca involves changing higherdimensional data e.g., 3d to a smaller space e.g., 2d. this results in a smaller dimension of data 2d instead of 3d, while keeping all original variables in the model without changing the data.the manifold hypothesis proposes that highdimensional data sets lie along lowdimensional manifolds, and many dimensionality reduction techniques make this assumption, leading to the area of manifold learning and manifold regularization.other typesother approaches have been developed which dont fit neatly into this threefold categorisation, and sometimes more than one is used by the same machine learning system. for example topic modeling,  meta learning.as of 2020, deep learning has become the dominant approach for much ongoing work in the field of machine learning.self learningselflearning as a machine learning paradigm was introduced in 1982 along with a neural network capable of selflearning named crossbar adaptive array caa. it is a learning with no external rewards and no external teacher advice. the caa selflearning algorithm computes, in a crossbar fashion, both decisions about actions and emotions feelings about consequence situations. the system is driven by the interaction between cognition and emotion.the selflearning algorithm updates a memory matrix w wa,s such that in each iteration executes the following machine learning routine  in situation s perform an action a receive consequence situation s’ compute emotion of being in consequence situation vs’ update crossbar memory  w’a,s  wa,s  vs’.it is a system with only one input, situation s, and only one output, action or behavior a. there is neither a separate reinforcement input nor an advice input from the environment. the backpropagated value secondary reinforcement is the emotion toward the consequence situation. the caa exists in two environments, one is the behavioral environment where it behaves, and the other is the genetic environment, wherefrom it initially and only once receives initial emotions about situations to be encountered in the behavioral environment. after receiving the genome species vector from the genetic environment, the caa learns a goalseeking behavior, in an environment that contains both desirable and undesirable situations.feature learningseveral learning algorithms aim at discovering better representations of the inputs provided during training. classic examples include principal components analysis and cluster analysis. feature learning algorithms, also called representation learning algorithms, often attempt to preserve the information in their input but also transform it in a way that makes it useful, often as a preprocessing step before performing classification or predictions. this technique allows reconstruction of the inputs coming from the unknown datagenerating distribution, while not being necessarily faithful to configurations that are implausible under that distribution. this replaces manual feature engineering, and allows a machine to both learn the features and use them to perform a specific task.feature learning can be either supervised or unsupervised. in supervised feature learning, features are learned using labeled input data. examples include artificial neural networks, multilayer perceptrons, and supervised dictionary learning. in unsupervised feature learning, features are learned with unlabeled input data.  examples include dictionary learning, independent component analysis, autoencoders, matrix factorization and various forms of clustering.manifold learning algorithms attempt to do so under the constraint that the learned representation is lowdimensional. sparse coding algorithms attempt to do so under the constraint that the learned representation is sparse, meaning that the mathematical model has many zeros. multilinear subspace learning algorithms aim to learn lowdimensional representations directly from tensor representations for multidimensional data, without reshaping them into higherdimensional vectors. deep learning algorithms discover multiple levels of representation, or a hierarchy of features, with higherlevel, more abstract features defined in terms of or generating lowerlevel features. it has been argued that an intelligent machine is one that learns a representation that disentangles the underlying factors of variation that explain the observed data.feature learning is motivated by the fact that machine learning tasks such as classification often require input that is mathematically and computationally convenient to process. however, realworld data such as images, video, and sensory data has not yielded attempts to algorithmically define specific features. an alternative is to discover such features or representations through examination, without relying on explicit algorithms.sparse dictionary learningsparse dictionary learning is a feature learning method where a training example is represented as a linear combination of basis functions, and is assumed to be a sparse matrix. the method is strongly nphard and difficult to solve approximately. a popular heuristic method for sparse dictionary learning is the ksvd algorithm. sparse dictionary learning has been applied in several contexts. in classification, the problem is to determine the class to which a previously unseen training example belongs. for a dictionary where each class has already been built, a new training example is associated with the class that is best sparsely represented by the corresponding dictionary. sparse dictionary learning has also been applied in image denoising. the key idea is that a clean image patch can be sparsely represented by an image dictionary, but the noise cannot.anomaly detectionin data mining, anomaly detection, also known as outlier detection, is the identification of rare items, events or observations which raise suspicions by differing significantly from the majority of the data. typically, the anomalous items represent an issue such as bank fraud, a structural defect, medical problems or errors in a text. anomalies are referred to as outliers, novelties, noise, deviations and exceptions.in particular, in the context of abuse and network intrusion detection, the interesting objects are often not rare objects, but unexpected bursts of inactivity. this pattern does not adhere to the common statistical definition of an outlier as a rare object, and many outlier detection methods in particular, unsupervised algorithms will fail on such data unless it has been aggregated appropriately. instead, a cluster analysis algorithm may be able to detect the microclusters formed by these patterns.three broad categories of anomaly detection techniques exist. unsupervised anomaly detection techniques detect anomalies in an unlabeled test data set under the assumption that the majority of the instances in the data set are normal, by looking for instances that seem to fit the least to the remainder of the data set. supervised anomaly detection techniques require a data set that has been labeled as normal and abnormal and involves training a classifier the key difference to many other statistical classification problems is the inherently unbalanced nature of outlier detection. semisupervised anomaly detection techniques construct a model representing normal behavior from a given normal training data set and then test the likelihood of a test instance to be generated by the model.robot learningrobot learning is inspired by a multitude of machine learning methods, starting from supervised learning, reinforcement learning, and finally metalearning e.g. maml.association rulesassociation rule learning is a rulebased machine learning method for discovering relationships between variables in large databases. it is intended to identify strong rules discovered in databases using some measure of interestingness.rulebased machine learning is a general term for any machine learning method that identifies, learns, or evolves rules to store, manipulate or apply knowledge. the defining characteristic of a rulebased machine learning algorithm is the identification and utilization of a set of relational rules that collectively represent the knowledge captured by the system. this is in contrast to other machine learning algorithms that commonly identify a singular model that can be universally applied to any instance in order to make a prediction. rulebased machine learning approaches include learning classifier systems, association rule learning, and artificial immune systems.based on the concept of strong rules, rakesh agrawal, tomasz imieliński and arun swami introduced association rules for discovering regularities between products in largescale transaction data recorded by pointofsale pos systems in supermarkets. for example, the rule                                       o          n          i          o          n          s          ,          p          o          t          a          t          o          e          s                        ⇒                          b          u          r          g          e          r                              displaystyle mathrm onions,potatoes rightarrow mathrm burger    found in the sales data of a supermarket would indicate that if a customer buys onions and potatoes together, they are likely to also buy hamburger meat. such information can be used as the basis for decisions about marketing activities such as promotional pricing or product placements. in addition to market basket analysis, association rules are employed today in application areas including web usage mining, intrusion detection, continuous production, and bioinformatics. in contrast with sequence mining, association rule learning typically does not consider the order of items either within a transaction or across transactions.learning classifier systems lcs are a family of rulebased machine learning algorithms that combine a discovery component, typically a genetic algorithm, with a learning component, performing either supervised learning, reinforcement learning, or unsupervised learning. they seek to identify a set of contextdependent rules that collectively store and apply knowledge in a piecewise manner in order to make predictions.inductive logic programming ilp is an approach to rulelearning using logic programming as a uniform representation for input examples, background knowledge, and hypotheses. given an encoding of the known background knowledge and a set of examples represented as a logical database of facts, an ilp system will derive a hypothesized logic program that entails all positive and no negative examples. inductive programming is a related field that considers any kind of programming language for representing hypotheses and not only logic programming, such as functional programs.inductive logic programming is particularly useful in bioinformatics and natural language processing. gordon plotkin and ehud shapiro laid the initial theoretical foundation for inductive machine learning in a logical setting. shapiro built their first implementation model inference system in 1981 a prolog program that inductively inferred logic programs from positive and negative examples. the term inductive here refers to philosophical induction, suggesting a theory to explain observed facts, rather than mathematical induction, proving a property for all members of a wellordered set.modelsperforming machine learning involves creating a model, which is trained on some training data and then can process additional data to make predictions. various types of models have been used and researched for machine learning systems.artificial neural networksartificial neural networks anns, or connectionist systems, are computing systems vaguely inspired by the biological neural networks that constitute animal brains. such systems learn to perform tasks by considering examples, generally without being programmed with any taskspecific rules.an ann is a model based on a collection of connected units or nodes called artificial neurons, which loosely model the neurons in a biological brain. each connection, like the synapses in a biological brain, can transmit information, a signal, from one artificial neuron to another. an artificial neuron that receives a signal can process it and then signal additional artificial neurons connected to it. in common ann implementations, the signal at a connection between artificial neurons is a real number, and the output of each artificial neuron is computed by some nonlinear function of the sum of its inputs. the connections between artificial neurons are called edges. artificial neurons and edges typically have a weight that adjusts as learning proceeds. the weight increases or decreases the strength of the signal at a connection. artificial neurons may have a threshold such that the signal is only sent if the aggregate signal crosses that threshold. typically, artificial neurons are aggregated into layers. different layers may perform different kinds of transformations on their inputs. signals travel from the first layer the input layer to the last layer the output layer, possibly after traversing the layers multiple times.the original goal of the ann approach was to solve problems in the same way that a human brain would. however, over time, attention moved to performing specific tasks, leading to deviations from biology. artificial neural networks have been used on a variety of tasks, including computer vision, speech recognition, machine translation, social network filtering, playing board and video games and medical diagnosis.deep learning consists of multiple hidden layers in an artificial neural network. this approach tries to model the way the human brain processes light and sound into vision and hearing. some successful applications of deep learning are computer vision and speech recognition.decision treesdecision tree learning uses a decision tree as a predictive model to go from observations about an item represented in the branches to conclusions about the items target value represented in the leaves. it is one of the predictive modeling approaches used in statistics, data mining, and machine learning. tree models where the target variable can take a discrete set of values are called classification trees in these tree structures, leaves represent class labels and branches represent conjunctions of features that lead to those class labels. decision trees where the target variable can take continuous values typically real numbers are called regression trees. in decision analysis, a decision tree can be used to visually and explicitly represent decisions and decision making. in data mining, a decision tree describes data, but the resulting classification tree can be an input for decision making.supportvector machinessupportvector machines svms, also known as supportvector networks, are a set of related supervised learning methods used for classification and regression. given a set of training examples, each marked as belonging to one of two categories, an svm training algorithm builds a model that predicts whether a new example falls into one category or the other.  an svm training algorithm is a nonprobabilistic, binary, linear classifier, although methods such as platt scaling exist to use svm in a probabilistic classification setting. in addition to performing linear classification, svms can efficiently perform a nonlinear classification using what is called the kernel trick, implicitly mapping their inputs into highdimensional feature spaces.regression analysisregression analysis encompasses a large variety of statistical methods to estimate the relationship between input variables and their associated features. its most common form is linear regression, where a single line is drawn to best fit the given data according to a mathematical criterion such as ordinary least squares. the latter is often extended by regularization methods to mitigate overfitting and bias, as in ridge regression. when dealing with nonlinear problems, goto models include polynomial regression for example, used for trendline fitting in microsoft excel, logistic regression often used in statistical classification or even kernel regression, which introduces nonlinearity by taking advantage of the kernel trick to implicitly map input variables to higherdimensional space.bayesian networksa bayesian network, belief network, or directed acyclic graphical model is a probabilistic graphical model that represents a set of random variables and their conditional independence with a directed acyclic graph dag. for example, a bayesian network could represent the probabilistic relationships between diseases and symptoms. given symptoms, the network can be used to compute the probabilities of the presence of various diseases. efficient algorithms exist that perform inference and learning. bayesian networks that model sequences of variables, like speech signals or protein sequences, are called dynamic bayesian networks. generalizations of bayesian networks that can represent and solve decision problems under uncertainty are called influence diagrams.genetic algorithmsa genetic algorithm ga is a search algorithm and heuristic technique that mimics the process of natural selection, using methods such as mutation and crossover to generate new genotypes in the hope of finding good solutions to a given problem. in machine learning, genetic algorithms were used in the 1980s and 1990s. conversely, machine learning techniques have been used to improve the performance of genetic and evolutionary algorithms.training modelstypically, machine learning models require a high quantity of reliable data in order for the models to perform accurate predictions. when training a machine learning model, machine learning engineers need to target and collect a large and representative sample of data. data from the training set can be as varied as a corpus of text, a collection of images, sensor data, and data collected from individual users of a service. overfitting is something to watch out for when training a machine learning model. trained models derived from biased or nonevaluated data can result in skewed or undesired predictions. bias models may result in detrimental outcomes thereby furthering the negative impacts on society or objectives. algorithmic bias is a potential result of data not being fully prepared for training. machine learning ethics is becoming a field of study and notably be integrated within machine learning engineering teams.federated learningfederated learning is an adapted form of distributed artificial intelligence to training machine learning models that decentralizes the training process, allowing for users privacy to be maintained by not needing to send their data to a centralized server. this also increases efficiency by decentralizing the training process to many devices. for example, gboard uses federated machine learning to train search query prediction models on users mobile phones without having to send individual searches back to google.applicationsthere are many applications for machine learning, includingin 2006, the mediaservices provider netflix held the first netflix prize competition to find a program to better predict user preferences and improve the accuracy of its existing cinematch movie recommendation algorithm by at least 10.  a joint team made up of researchers from att labsresearch in collaboration with the teams big chaos and pragmatic theory built an ensemble model to win the grand prize in 2009 for 1 million. shortly after the prize was awarded, netflix realized that viewers ratings were not the best indicators of their viewing patterns everything is a recommendation and they changed their recommendation engine accordingly. in 2010 the wall street journal wrote about the firm rebellion research and their use of machine learning to predict the financial crisis. in 2012, cofounder of sun microsystems, vinod khosla, predicted that 80 of medical doctors jobs would be lost in the next two decades to automated machine learning medical diagnostic software. in 2014, it was reported that a machine learning algorithm had been applied in the field of art history to study fine art paintings and that it may have revealed previously unrecognized influences among artists. in 2019 springer nature published the first research book created using machine learning. in 2020, machine learning technology was used to help make diagnoses and aid researchers in developing a cure for covid19. machine learning is recently applied to predict the green behavior of humanbeing. recently, machine learning technology is also applied to optimise smartphones performance and thermal behaviour based on the users interaction with the phone.limitationsalthough machine learning has been transformative in some fields, machinelearning programs often fail to deliver expected results. reasons for this are numerous lack of suitable data, lack of access to the data, data bias, privacy problems, badly chosen tasks and algorithms, wrong tools and people, lack of resources, and evaluation problems.in 2018, a selfdriving car from uber failed to detect a pedestrian, who was killed after a collision. attempts to use machine learning in healthcare with the ibm watson system failed to deliver even after years of time and billions of dollars invested.machine learning has been used as a strategy to update the evidence related to a systematic review and increased reviewer burden related to the growth of biomedical literature. while it has improved with training sets, it has not yet developed sufficiently to reduce the workload burden without limiting the necessary sensitivity for the findings research themselves.biasmachine learning approaches in particular can suffer from different data biases. a machine learning system trained specifically on current customers may not be able to predict the needs of new customer groups that are not represented in the training data. when trained on manmade data, machine learning is likely to pick up the constitutional and unconscious biases already present in society. language models learned from data have been shown to contain humanlike biases. machine learning systems used for criminal risk assessment have been found to be biased against black people. in 2015, google photos would often tag black people as gorillas, and in 2018 this still was not well resolved, but google reportedly was still using the workaround to remove all gorillas from the training data, and thus was not able to recognize real gorillas at all. similar issues with recognizing nonwhite people have been found in many other systems. in 2016, microsoft tested a chatbot that learned from twitter, and it quickly picked up racist and sexist language. because of such challenges, the effective use of machine learning may take longer to be adopted in other domains. concern for fairness in machine learning, that is, reducing bias in machine learning and propelling its use for human good is increasingly expressed by artificial intelligence scientists, including feifei li, who reminds engineers that there’s nothing artificial about ai...it’s inspired by people, it’s created by people, and—most importantly—it impacts people. it is a powerful tool we are only just beginning to understand, and that is a profound responsibility.”overfittingsettling on a bad, overly complex theory gerrymandered to fit all the past training data is known as overfitting. many systems attempt to reduce overfitting by rewarding a theory in accordance with how well it fits the data, but penalizing the theory in accordance with how complex the theory is.other limitations and vulnerabilitieslearners can also disappoint by learning the wrong lesson. a toy example is that an image classifier trained only on pictures of brown horses and black cats might conclude that all brown patches are likely to be horses. a realworld example is that, unlike humans, current image classifiers often dont primarily make judgments from the spatial relationship between components of the picture, and they learn relationships between pixels that humans are oblivious to, but that still correlate with images of certain types of real objects. modifying these patterns on a legitimate image can result in adversarial images that the system misclassifies.adversarial vulnerabilities can also result in nonlinear systems, or from nonpattern perturbations. some systems are so brittle that changing a single adversarial pixel predictably induces misclassification. machine learning models are often vulnerable to manipulation andor evasion via adversarial machine learning.researchers have demonstrated how backdoors can be placed undetectably into classifying e.g. for categories spam and wellvisible not spam of posts machine learning models which are often developed andor trained by third parties. parties can change the classification of any input, including in cases for which a type of datasoftware transparency is provided, possibly including whitebox access.model assessmentsclassification of machine learning models can be validated by accuracy estimation techniques like the holdout method, which splits the data in a training and test set conventionally 23 training set and 13 test set designation and evaluates the performance of the training model on the test set. in comparison, the kfoldcrossvalidation method randomly partitions the data into k subsets and then k experiments are performed each respectively considering 1 subset for evaluation and the remaining k1 subsets for training the model. in addition to the holdout and crossvalidation methods, bootstrap, which samples n instances with replacement from the dataset, can be used to assess model accuracy.in addition to overall accuracy, investigators frequently report sensitivity and specificity meaning true positive rate tpr and true negative rate tnr respectively. similarly, investigators sometimes report the false positive rate fpr as well as the false negative rate fnr. however, these rates are ratios that fail to reveal their numerators and denominators. the total operating characteristic toc is an effective method to express a models diagnostic ability. toc shows the numerators and denominators of the previously mentioned rates, thus toc provides more information than the commonly used receiver operating characteristic roc and rocs associated area under the curve auc.ethicsmachine learning poses a host of ethical questions. systems which are trained on datasets collected with biases may exhibit these biases upon use algorithmic bias, thus digitizing cultural prejudices. for example, in 1988, the uks commission for racial equality found that st. georges medical school had been using a computer program trained from data of previous admissions staff and this program had denied nearly 60 candidates who were found to be either women or had noneuropean sounding names. using job hiring data from a firm with racist hiring policies may lead to a machine learning system duplicating the bias by scoring job applicants by similarity to previous successful applicants. responsible collection of data and documentation of algorithmic rules used by a system thus is a critical part of machine learning.ai can be wellequipped to make decisions in technical fields, which rely heavily on data and historical information. these decisions rely on the objectivity and logical reasoning. because human languages contain biases, machines trained on language corpora will necessarily also learn these biases.other forms of ethical challenges, not related to personal biases, are seen in health care. there are concerns among health care professionals that these systems might not be designed in the publics interest but as incomegenerating machines. this is especially true in the united states where there is a longstanding ethical dilemma of improving health care, but also increase profits. for example, the algorithms could be designed to provide patients with unnecessary tests or medication in which the algorithms proprietary owners hold stakes. there is  potential for machine learning in health care to provide professionals an additional tool to diagnose, medicate, and plan recovery paths for patients, but this requires these biases to be mitigated.hardwaresince the 2010s, advances in both machine learning algorithms and computer hardware have led to more efficient methods for training deep neural networks a particular narrow subdomain of machine learning that contain many layers of nonlinear hidden units. by 2019, graphic processing units gpus, often with aispecific enhancements, had displaced cpus as the dominant method of training largescale commercial cloud ai. openai estimated the hardware computing used in the largest deep learning projects from alexnet 2012 to alphazero 2017, and found a 300,000fold increase in the amount of compute required, with a doublingtime trendline of 3.4 months.neuromorphicphysical neural networksa physical neural network or neuromorphic computer  is a type of artificial neural network in which an electrically adjustable material is used to emulate the function of a neural synapse. physical neural network is used to emphasize the reliance on physical hardware used to emulate neurons as opposed to softwarebased approaches. more generally the term is applicable to other artificial neural networks in which a memristor or other electrically adjustable resistance material is used to emulate a neural synapse.embedded machine learningembedded machine learning is a subfield of machine learning, where the machine learning model is run on embedded systems with limited computing resources such as wearable computers, edge devices and microcontrollers. running machine learning model in embedded devices removes the need for transferring and storing data on cloud servers for further processing, henceforth, reducing data breaches and privacy leaks happening because of transferring data, and also minimizes theft of intellectual properties, personal data and business secrets. embedded machine learning could be applied through several techniques including hardware acceleration, using approximate computing, optimization of machine learning models and many more.softwaresoftware suites containing a variety of machine learning algorithms include the followingfree and opensource softwareproprietary software with free and opensource editionsknimerapidminerproprietary softwarejournalsjournal of machine learning researchmachine learningnature machine intelligenceneural computationconferencesaaai conference on artificial intelligenceassociation for computational linguistics acleuropean conference on machine learning and principles and practice of knowledge discovery in databases ecml pkddinternational conference on computational intelligence methods for bioinformatics and biostatistics cibbinternational conference on machine learning icmlinternational conference on learning representations iclrinternational conference on intelligent robots and systems irosconference on knowledge discovery and data mining kddconference on neural information processing systems neuripssee alsoautomated machine learning – process of automating the application of machine learningbig data – information assets characterized by high volume, velocity, and varietydifferentiable programming – programming paradigmlist of important publications in machine learninglist of datasets for machinelearning researchreferencessourcesdomingos, pedro september 22, 2015. the master algorithm how the quest for the ultimate learning machine will remake our world. basic books. isbn 9780465065707.nilsson, nils 1998. artificial intelligence a new synthesis. morgan kaufmann. isbn 9781558604674. archived from the original on 26 july 2020. retrieved 18 november 2019.russell, stuart j. norvig, peter 2003, artificial intelligence a modern approach 2nd ed., upper saddle river, new jersey prentice hall, isbn 0137903952.poole, david mackworth, alan goebel, randy 1998. computational intelligence a logical approach. new york oxford university press. isbn 9780195102703. archived from the original on 26 july 2020. retrieved 22 august 2020.further readingexternal links quotations related to machine learning at wikiquoteinternational machine learning societymloss is an academic database of opensource machine learning software.'"
      ]
     },
     "execution_count": 20,
     "metadata": {},
     "output_type": "execute_result"
    }
   ],
   "source": [
    "ml_ftxt"
   ]
  },
  {
   "cell_type": "code",
   "execution_count": 21,
   "metadata": {
    "id": "CT0WtJcjhan8"
   },
   "outputs": [],
   "source": [
    "# Remove numbers\n",
    "ml_ftxt = re.sub(r'[0-9]', '', ml_ftxt)"
   ]
  },
  {
   "cell_type": "code",
   "execution_count": 22,
   "metadata": {
    "colab": {
     "base_uri": "https://localhost:8080/",
     "height": 145
    },
    "id": "cOyWFukxnkT8",
    "outputId": "2f54d104-5886-4c4d-bc5b-f8d2748772ef"
   },
   "outputs": [
    {
     "data": {
      "application/vnd.google.colaboratory.intrinsic+json": {
       "type": "string"
      },
      "text/plain": [
       "'machine learning ml is a field of inquiry devoted to understanding and building methods that learn, that is, methods that leverage data to improve performance on some set of tasks. it is seen as a part of artificial intelligence. machine learning algorithms build a model based on sample data, known as training data, in order to make predictions or decisions without being explicitly programmed to do so. machine learning algorithms are used in a wide variety of applications, such as in medicine, email filtering, speech recognition, and computer vision, where it is difficult or unfeasible to develop conventional algorithms to perform the needed tasks.a subset of machine learning is closely related to computational statistics, which focuses on making predictions using computers, but not all machine learning is statistical learning. the study of mathematical optimization delivers methods, theory and application domains to the field of machine learning. data mining is a related field of study, focusing on exploratory data analysis through unsupervised learning. some implementations of machine learning use data and neural networks in a way that mimics the working of a biological brain.  in its application across business problems, machine learning is also referred to as predictive analytics.overviewlearning algorithms work on the basis that strategies, algorithms, and inferences that worked well in the past are likely to continue working well in the future. these inferences can be obvious, such as since the sun rose every morning for the last , days, it will probably rise tomorrow morning as well. they can be nuanced, such as x of families have geographically separate species with color variants, so there is a y chance that undiscovered black swans exist.machine learning programs can perform tasks without being explicitly programmed to do so. it involves computers learning from data provided so that they carry out certain tasks. for simple tasks assigned to computers, it is possible to program algorithms telling the machine how to execute all steps required to solve the problem at hand on the computers part, no learning is needed. for more advanced tasks, it can be challenging for a human to manually create the needed algorithms. in practice, it can turn out to be more effective to help the machine develop its own algorithm, rather than having human programmers specify every needed step.the discipline of machine learning employs various approaches to teach computers to accomplish tasks where no fully satisfactory algorithm is available. in cases where vast numbers of potential answers exist, one approach is to label some of the correct answers as valid. this can then be used as training data for the computer to improve the algorithms it uses to determine correct answers. for example, to train a system for the task of digital character recognition, the mnist dataset of handwritten digits has often been used.history and relationships to other fieldsthe term machine learning was coined in  by arthur samuel, an ibm employee and pioneer in the field of computer gaming and artificial intelligence. also the synonym selfteaching computers were used in this time period.by the early s an experimental learning machine with punched tape memory, called cybertron, had been developed by raytheon company to analyze sonar signals, electrocardiograms and speech patterns using rudimentary reinforcement learning. it was repetitively trained by a human operatorteacher to recognize patterns and equipped with a goof button to cause it to reevaluate incorrect decisions. a representative book on research into machine learning during the s was nilssons book on learning machines, dealing mostly with machine learning for pattern classification. interest related to pattern recognition continued into the s, as described by duda and hart in . in  a report was given on using teaching strategies so that a neural network learns to recognize  characters  letters,  digits, and  special symbols from a computer terminal.tom m. mitchell provided a widely quoted, more formal definition of the algorithms studied in the machine learning field a computer program is said to learn from experience e with respect to some class of tasks t and performance measure p if its performance at tasks in t, as measured by p,  improves with experience e. this definition of the tasks in which machine learning is concerned offers a fundamentally operational definition rather than defining the field in cognitive terms. this follows alan turings proposal in his paper computing machinery and intelligence, in which the question can machines think is replaced with the question can machines do what we as thinking entities can do.modern day machine learning has two objectives, one is to classify data based on models which have been developed, the other purpose is to make predictions for future outcomes based on these models. a hypothetical algorithm specific to classifying data may use computer vision of moles coupled with supervised learning in order to train it to classify the cancerous moles. a machine learning algorithm for stock trading may inform the trader of future potential predictions.artificial intelligenceas a scientific endeavor, machine learning grew out of the quest for artificial intelligence. in the early days of ai as an academic discipline, some researchers were interested in having machines learn from data. they attempted to approach the problem with various symbolic methods, as well as what was then termed neural networks these were mostly perceptrons and other models that were later found to be reinventions of the generalized linear models of statistics. probabilistic reasoning was also employed, especially in automated medical diagnosis.however, an increasing emphasis on the logical, knowledgebased approach caused a rift between ai and machine learning. probabilistic systems were plagued by theoretical and practical problems of data acquisition and representation. by , expert systems had come to dominate ai, and statistics was out of favor. work on symbolicknowledgebased learning did continue within ai, leading to inductive logic programming, but the more statistical line of research was now outside the field of ai proper, in pattern recognition and information retrieval.–, neural networks research had been abandoned by ai and computer science around the same time. this line, too, was continued outside the aics field, as connectionism, by researchers from other disciplines including hopfield, rumelhart and hinton. their main success came in the mids with the reinvention of backpropagation.machine learning ml, reorganized as a separate field, started to flourish in the s. the field changed its goal from achieving artificial intelligence to tackling solvable problems of a practical nature. it shifted focus away from the symbolic approaches it had inherited from ai, and toward methods and models borrowed from statistics, fuzzy logic, and probability theory.the difference between ml and ai is frequently misunderstood. ml learns and predicts based on passive observations, whereas ai implies an agent interacting with the environment to learn and take actions that maximize its chance of successfully achieving its goals.as of , many sources continue to assert that ml remains a subfield of ai. others have the view that not all ml is part of ai, but only an intelligent subset of ml should be considered ai.data miningmachine learning and data mining often employ the same methods and overlap significantly, but while machine learning focuses on prediction, based on known properties learned from the training data, data mining focuses on the discovery of previously unknown properties in the data this is the analysis step of knowledge discovery in databases. data mining uses many machine learning methods, but with different goals on the other hand, machine learning also employs data mining methods as unsupervised learning or as a preprocessing step to improve learner accuracy. much of the confusion between these two research communities which do often have separate conferences and separate journals, ecml pkdd being a major exception comes from the basic assumptions they work with in machine learning, performance is usually evaluated with respect to the ability to reproduce known knowledge, while in knowledge discovery and data mining kdd the key task is the discovery of previously unknown knowledge. evaluated with respect to known knowledge, an uninformed unsupervised method will easily be outperformed by other supervised methods, while in a typical kdd task, supervised methods cannot be used due to the unavailability of training data.optimizationmachine learning also has intimate ties to optimization many learning problems are formulated as minimization of some loss function on a training set of examples. loss functions express the discrepancy between the predictions of the model being trained and the actual problem instances for example, in classification, one wants to assign a label to instances, and models are trained to correctly predict the preassigned labels of a set of examples.generalizationthe difference between optimization and machine learning arises from the goal of generalization while optimization algorithms can minimize the loss on a training set, machine learning is concerned with minimizing the loss on unseen samples. characterizing the generalization of various learning algorithms is an active topic of current research, especially for deep learning algorithms.statisticsmachine learning and statistics are closely related fields in terms of methods, but distinct in their principal goal statistics draws population inferences from a sample, while machine learning finds generalizable predictive patterns. according to michael i. jordan, the ideas of machine learning, from methodological principles to theoretical tools, have had a long prehistory in statistics. he also suggested the term data science as a placeholder to call the overall field.leo breiman distinguished two statistical modeling paradigms data model and algorithmic model, wherein algorithmic model means more or less the machine learning algorithms like random forest.some statisticians have adopted methods from machine learning, leading to a combined field that they call statistical learning.theorya core objective of a learner is to generalize from its experience. generalization in this context is the ability of a learning machine to perform accurately on new, unseen examplestasks after having experienced a learning data set. the training examples come from some generally unknown probability distribution considered representative of the space of occurrences and the learner has to build a general model about this space that enables it to produce sufficiently accurate predictions in new cases.the computational analysis of machine learning algorithms and their performance is a branch of theoretical computer science known as computational learning theory via the probably approximately correct learning pac model. because training sets are finite and the future is uncertain, learning theory usually does not yield guarantees of the performance of algorithms. instead, probabilistic bounds on the performance are quite common. the bias–variance decomposition is one way to quantify generalization error.for the best performance in the context of generalization, the complexity of the hypothesis should match the complexity of the function underlying the data. if the hypothesis is less complex than the function, then the model has under fitted the data. if the complexity of the model is increased in response, then the training error decreases. but if the hypothesis is too complex, then the model is subject to overfitting and generalization will be poorer.in addition to performance bounds, learning theorists study the time complexity and feasibility of learning. in computational learning theory, a computation is considered feasible if it can be done in polynomial time. there are two kinds of time complexity results positive results show that a certain class of functions can be learned in polynomial time. negative results show that certain classes cannot be learned in polynomial time.approachesmachine learning approaches are traditionally divided into three broad categories, which correspond to learning paradigms, depending on the nature of the signal or feedback available to the learning systemsupervised learning the computer is presented with example inputs and their desired outputs, given by a teacher, and the goal is to learn a general rule that maps inputs to outputs.unsupervised learning no labels are given to the learning algorithm, leaving it on its own to find structure in its input. unsupervised learning can be a goal in itself discovering hidden patterns in data or a means towards an end feature learning.reinforcement learning a computer program interacts with a dynamic environment in which it must perform a certain goal such as driving a vehicle or playing a game against an opponent. as it navigates its problem space, the program is provided feedback thats analogous to rewards, which it tries to maximize.supervised learningsupervised learning algorithms build a mathematical model of a set of data that contains both the inputs and the desired outputs. the data is known as training data, and consists of a set of training examples. each training example has one or more inputs and the desired output, also known as a supervisory signal.  in the mathematical model, each training example is represented by an array or vector, sometimes called a feature vector, and the training data is represented by a matrix. through iterative optimization of an objective function, supervised learning algorithms learn a function that can be used to predict the output associated with new inputs. an optimal function will allow the algorithm to correctly determine the output for inputs that were not a part of the training data. an algorithm that improves the accuracy of its outputs or predictions over time is said to have learned to perform that task.types of supervisedlearning algorithms include active learning, classification and regression. classification algorithms are used when the outputs are restricted to a limited set of values, and regression algorithms are used when the outputs may have any numerical value within a range. as an example, for a classification algorithm that filters emails, the input would be an incoming email, and the output would be the name of the folder in which to file the email.similarity learning is an area of supervised machine learning closely related to regression and classification, but the goal is to learn from examples using a similarity function that measures how similar or related two objects are. it has applications in ranking, recommendation systems, visual identity tracking, face verification, and speaker verification.unsupervised learningunsupervised learning algorithms take a set of data that contains only inputs, and find structure in the data, like grouping or clustering of data points. the algorithms, therefore, learn from test data that has not been labeled, classified or categorized. instead of responding to feedback, unsupervised learning algorithms identify commonalities in the data and react based on the presence or absence of such commonalities in each new piece of data. a central application of unsupervised learning is in the field of density estimation in statistics, such as finding the probability density function. though unsupervised learning encompasses other domains involving summarizing and explaining data features.cluster analysis is the assignment of a set of observations into subsets called clusters so that observations within the same cluster are similar according to one or more predesignated criteria, while observations drawn from different clusters are dissimilar. different clustering techniques make different assumptions on the structure of the data, often defined by some similarity metric and evaluated, for example, by internal compactness, or the similarity between members of the same cluster, and separation, the difference between clusters. other methods are based on estimated density and graph connectivity.semisupervised learningsemisupervised learning falls between unsupervised learning without any labeled training data and supervised learning with completely labeled training data. some of the training examples are missing training labels,  yet many machinelearning researchers have found that unlabeled data, when used in conjunction with a small amount of labeled data, can produce a considerable improvement in learning accuracy.in weakly supervised learning, the training labels are noisy, limited, or imprecise however, these labels are often cheaper to obtain, resulting in larger effective training sets.reinforcement learningreinforcement learning is an area of machine learning concerned with how software agents ought to take actions in an environment so as to maximize some notion of cumulative reward. due to its generality, the field is studied in many other disciplines, such as game theory, control theory, operations research, information theory, simulationbased optimization, multiagent systems, swarm intelligence, statistics and genetic algorithms. in machine learning, the environment is typically represented as a markov decision process mdp. many reinforcement learning algorithms use dynamic programming techniques. reinforcement learning algorithms do not assume knowledge of an exact mathematical model of the mdp, and are used when exact models are infeasible. reinforcement learning algorithms are used in autonomous vehicles or in learning to play a game against a human opponent.dimensionality reductiondimensionality reduction is a process of reducing the number of random variables under consideration by obtaining a set of principal variables. in other words, it is a process of reducing the dimension of the feature set, also called number of features. most of the dimensionality reduction techniques can be considered as either feature elimination or extraction.one of the popular methods of dimensionality reduction is principal component analysis pca.pca involves changing higherdimensional data e.g., d to a smaller space e.g., d. this results in a smaller dimension of data d instead of d, while keeping all original variables in the model without changing the data.the manifold hypothesis proposes that highdimensional data sets lie along lowdimensional manifolds, and many dimensionality reduction techniques make this assumption, leading to the area of manifold learning and manifold regularization.other typesother approaches have been developed which dont fit neatly into this threefold categorisation, and sometimes more than one is used by the same machine learning system. for example topic modeling,  meta learning.as of , deep learning has become the dominant approach for much ongoing work in the field of machine learning.self learningselflearning as a machine learning paradigm was introduced in  along with a neural network capable of selflearning named crossbar adaptive array caa. it is a learning with no external rewards and no external teacher advice. the caa selflearning algorithm computes, in a crossbar fashion, both decisions about actions and emotions feelings about consequence situations. the system is driven by the interaction between cognition and emotion.the selflearning algorithm updates a memory matrix w wa,s such that in each iteration executes the following machine learning routine  in situation s perform an action a receive consequence situation s’ compute emotion of being in consequence situation vs’ update crossbar memory  w’a,s  wa,s  vs’.it is a system with only one input, situation s, and only one output, action or behavior a. there is neither a separate reinforcement input nor an advice input from the environment. the backpropagated value secondary reinforcement is the emotion toward the consequence situation. the caa exists in two environments, one is the behavioral environment where it behaves, and the other is the genetic environment, wherefrom it initially and only once receives initial emotions about situations to be encountered in the behavioral environment. after receiving the genome species vector from the genetic environment, the caa learns a goalseeking behavior, in an environment that contains both desirable and undesirable situations.feature learningseveral learning algorithms aim at discovering better representations of the inputs provided during training. classic examples include principal components analysis and cluster analysis. feature learning algorithms, also called representation learning algorithms, often attempt to preserve the information in their input but also transform it in a way that makes it useful, often as a preprocessing step before performing classification or predictions. this technique allows reconstruction of the inputs coming from the unknown datagenerating distribution, while not being necessarily faithful to configurations that are implausible under that distribution. this replaces manual feature engineering, and allows a machine to both learn the features and use them to perform a specific task.feature learning can be either supervised or unsupervised. in supervised feature learning, features are learned using labeled input data. examples include artificial neural networks, multilayer perceptrons, and supervised dictionary learning. in unsupervised feature learning, features are learned with unlabeled input data.  examples include dictionary learning, independent component analysis, autoencoders, matrix factorization and various forms of clustering.manifold learning algorithms attempt to do so under the constraint that the learned representation is lowdimensional. sparse coding algorithms attempt to do so under the constraint that the learned representation is sparse, meaning that the mathematical model has many zeros. multilinear subspace learning algorithms aim to learn lowdimensional representations directly from tensor representations for multidimensional data, without reshaping them into higherdimensional vectors. deep learning algorithms discover multiple levels of representation, or a hierarchy of features, with higherlevel, more abstract features defined in terms of or generating lowerlevel features. it has been argued that an intelligent machine is one that learns a representation that disentangles the underlying factors of variation that explain the observed data.feature learning is motivated by the fact that machine learning tasks such as classification often require input that is mathematically and computationally convenient to process. however, realworld data such as images, video, and sensory data has not yielded attempts to algorithmically define specific features. an alternative is to discover such features or representations through examination, without relying on explicit algorithms.sparse dictionary learningsparse dictionary learning is a feature learning method where a training example is represented as a linear combination of basis functions, and is assumed to be a sparse matrix. the method is strongly nphard and difficult to solve approximately. a popular heuristic method for sparse dictionary learning is the ksvd algorithm. sparse dictionary learning has been applied in several contexts. in classification, the problem is to determine the class to which a previously unseen training example belongs. for a dictionary where each class has already been built, a new training example is associated with the class that is best sparsely represented by the corresponding dictionary. sparse dictionary learning has also been applied in image denoising. the key idea is that a clean image patch can be sparsely represented by an image dictionary, but the noise cannot.anomaly detectionin data mining, anomaly detection, also known as outlier detection, is the identification of rare items, events or observations which raise suspicions by differing significantly from the majority of the data. typically, the anomalous items represent an issue such as bank fraud, a structural defect, medical problems or errors in a text. anomalies are referred to as outliers, novelties, noise, deviations and exceptions.in particular, in the context of abuse and network intrusion detection, the interesting objects are often not rare objects, but unexpected bursts of inactivity. this pattern does not adhere to the common statistical definition of an outlier as a rare object, and many outlier detection methods in particular, unsupervised algorithms will fail on such data unless it has been aggregated appropriately. instead, a cluster analysis algorithm may be able to detect the microclusters formed by these patterns.three broad categories of anomaly detection techniques exist. unsupervised anomaly detection techniques detect anomalies in an unlabeled test data set under the assumption that the majority of the instances in the data set are normal, by looking for instances that seem to fit the least to the remainder of the data set. supervised anomaly detection techniques require a data set that has been labeled as normal and abnormal and involves training a classifier the key difference to many other statistical classification problems is the inherently unbalanced nature of outlier detection. semisupervised anomaly detection techniques construct a model representing normal behavior from a given normal training data set and then test the likelihood of a test instance to be generated by the model.robot learningrobot learning is inspired by a multitude of machine learning methods, starting from supervised learning, reinforcement learning, and finally metalearning e.g. maml.association rulesassociation rule learning is a rulebased machine learning method for discovering relationships between variables in large databases. it is intended to identify strong rules discovered in databases using some measure of interestingness.rulebased machine learning is a general term for any machine learning method that identifies, learns, or evolves rules to store, manipulate or apply knowledge. the defining characteristic of a rulebased machine learning algorithm is the identification and utilization of a set of relational rules that collectively represent the knowledge captured by the system. this is in contrast to other machine learning algorithms that commonly identify a singular model that can be universally applied to any instance in order to make a prediction. rulebased machine learning approaches include learning classifier systems, association rule learning, and artificial immune systems.based on the concept of strong rules, rakesh agrawal, tomasz imieliński and arun swami introduced association rules for discovering regularities between products in largescale transaction data recorded by pointofsale pos systems in supermarkets. for example, the rule                                       o          n          i          o          n          s          ,          p          o          t          a          t          o          e          s                        ⇒                          b          u          r          g          e          r                              displaystyle mathrm onions,potatoes rightarrow mathrm burger    found in the sales data of a supermarket would indicate that if a customer buys onions and potatoes together, they are likely to also buy hamburger meat. such information can be used as the basis for decisions about marketing activities such as promotional pricing or product placements. in addition to market basket analysis, association rules are employed today in application areas including web usage mining, intrusion detection, continuous production, and bioinformatics. in contrast with sequence mining, association rule learning typically does not consider the order of items either within a transaction or across transactions.learning classifier systems lcs are a family of rulebased machine learning algorithms that combine a discovery component, typically a genetic algorithm, with a learning component, performing either supervised learning, reinforcement learning, or unsupervised learning. they seek to identify a set of contextdependent rules that collectively store and apply knowledge in a piecewise manner in order to make predictions.inductive logic programming ilp is an approach to rulelearning using logic programming as a uniform representation for input examples, background knowledge, and hypotheses. given an encoding of the known background knowledge and a set of examples represented as a logical database of facts, an ilp system will derive a hypothesized logic program that entails all positive and no negative examples. inductive programming is a related field that considers any kind of programming language for representing hypotheses and not only logic programming, such as functional programs.inductive logic programming is particularly useful in bioinformatics and natural language processing. gordon plotkin and ehud shapiro laid the initial theoretical foundation for inductive machine learning in a logical setting. shapiro built their first implementation model inference system in  a prolog program that inductively inferred logic programs from positive and negative examples. the term inductive here refers to philosophical induction, suggesting a theory to explain observed facts, rather than mathematical induction, proving a property for all members of a wellordered set.modelsperforming machine learning involves creating a model, which is trained on some training data and then can process additional data to make predictions. various types of models have been used and researched for machine learning systems.artificial neural networksartificial neural networks anns, or connectionist systems, are computing systems vaguely inspired by the biological neural networks that constitute animal brains. such systems learn to perform tasks by considering examples, generally without being programmed with any taskspecific rules.an ann is a model based on a collection of connected units or nodes called artificial neurons, which loosely model the neurons in a biological brain. each connection, like the synapses in a biological brain, can transmit information, a signal, from one artificial neuron to another. an artificial neuron that receives a signal can process it and then signal additional artificial neurons connected to it. in common ann implementations, the signal at a connection between artificial neurons is a real number, and the output of each artificial neuron is computed by some nonlinear function of the sum of its inputs. the connections between artificial neurons are called edges. artificial neurons and edges typically have a weight that adjusts as learning proceeds. the weight increases or decreases the strength of the signal at a connection. artificial neurons may have a threshold such that the signal is only sent if the aggregate signal crosses that threshold. typically, artificial neurons are aggregated into layers. different layers may perform different kinds of transformations on their inputs. signals travel from the first layer the input layer to the last layer the output layer, possibly after traversing the layers multiple times.the original goal of the ann approach was to solve problems in the same way that a human brain would. however, over time, attention moved to performing specific tasks, leading to deviations from biology. artificial neural networks have been used on a variety of tasks, including computer vision, speech recognition, machine translation, social network filtering, playing board and video games and medical diagnosis.deep learning consists of multiple hidden layers in an artificial neural network. this approach tries to model the way the human brain processes light and sound into vision and hearing. some successful applications of deep learning are computer vision and speech recognition.decision treesdecision tree learning uses a decision tree as a predictive model to go from observations about an item represented in the branches to conclusions about the items target value represented in the leaves. it is one of the predictive modeling approaches used in statistics, data mining, and machine learning. tree models where the target variable can take a discrete set of values are called classification trees in these tree structures, leaves represent class labels and branches represent conjunctions of features that lead to those class labels. decision trees where the target variable can take continuous values typically real numbers are called regression trees. in decision analysis, a decision tree can be used to visually and explicitly represent decisions and decision making. in data mining, a decision tree describes data, but the resulting classification tree can be an input for decision making.supportvector machinessupportvector machines svms, also known as supportvector networks, are a set of related supervised learning methods used for classification and regression. given a set of training examples, each marked as belonging to one of two categories, an svm training algorithm builds a model that predicts whether a new example falls into one category or the other.  an svm training algorithm is a nonprobabilistic, binary, linear classifier, although methods such as platt scaling exist to use svm in a probabilistic classification setting. in addition to performing linear classification, svms can efficiently perform a nonlinear classification using what is called the kernel trick, implicitly mapping their inputs into highdimensional feature spaces.regression analysisregression analysis encompasses a large variety of statistical methods to estimate the relationship between input variables and their associated features. its most common form is linear regression, where a single line is drawn to best fit the given data according to a mathematical criterion such as ordinary least squares. the latter is often extended by regularization methods to mitigate overfitting and bias, as in ridge regression. when dealing with nonlinear problems, goto models include polynomial regression for example, used for trendline fitting in microsoft excel, logistic regression often used in statistical classification or even kernel regression, which introduces nonlinearity by taking advantage of the kernel trick to implicitly map input variables to higherdimensional space.bayesian networksa bayesian network, belief network, or directed acyclic graphical model is a probabilistic graphical model that represents a set of random variables and their conditional independence with a directed acyclic graph dag. for example, a bayesian network could represent the probabilistic relationships between diseases and symptoms. given symptoms, the network can be used to compute the probabilities of the presence of various diseases. efficient algorithms exist that perform inference and learning. bayesian networks that model sequences of variables, like speech signals or protein sequences, are called dynamic bayesian networks. generalizations of bayesian networks that can represent and solve decision problems under uncertainty are called influence diagrams.genetic algorithmsa genetic algorithm ga is a search algorithm and heuristic technique that mimics the process of natural selection, using methods such as mutation and crossover to generate new genotypes in the hope of finding good solutions to a given problem. in machine learning, genetic algorithms were used in the s and s. conversely, machine learning techniques have been used to improve the performance of genetic and evolutionary algorithms.training modelstypically, machine learning models require a high quantity of reliable data in order for the models to perform accurate predictions. when training a machine learning model, machine learning engineers need to target and collect a large and representative sample of data. data from the training set can be as varied as a corpus of text, a collection of images, sensor data, and data collected from individual users of a service. overfitting is something to watch out for when training a machine learning model. trained models derived from biased or nonevaluated data can result in skewed or undesired predictions. bias models may result in detrimental outcomes thereby furthering the negative impacts on society or objectives. algorithmic bias is a potential result of data not being fully prepared for training. machine learning ethics is becoming a field of study and notably be integrated within machine learning engineering teams.federated learningfederated learning is an adapted form of distributed artificial intelligence to training machine learning models that decentralizes the training process, allowing for users privacy to be maintained by not needing to send their data to a centralized server. this also increases efficiency by decentralizing the training process to many devices. for example, gboard uses federated machine learning to train search query prediction models on users mobile phones without having to send individual searches back to google.applicationsthere are many applications for machine learning, includingin , the mediaservices provider netflix held the first netflix prize competition to find a program to better predict user preferences and improve the accuracy of its existing cinematch movie recommendation algorithm by at least .  a joint team made up of researchers from att labsresearch in collaboration with the teams big chaos and pragmatic theory built an ensemble model to win the grand prize in  for  million. shortly after the prize was awarded, netflix realized that viewers ratings were not the best indicators of their viewing patterns everything is a recommendation and they changed their recommendation engine accordingly. in  the wall street journal wrote about the firm rebellion research and their use of machine learning to predict the financial crisis. in , cofounder of sun microsystems, vinod khosla, predicted that  of medical doctors jobs would be lost in the next two decades to automated machine learning medical diagnostic software. in , it was reported that a machine learning algorithm had been applied in the field of art history to study fine art paintings and that it may have revealed previously unrecognized influences among artists. in  springer nature published the first research book created using machine learning. in , machine learning technology was used to help make diagnoses and aid researchers in developing a cure for covid. machine learning is recently applied to predict the green behavior of humanbeing. recently, machine learning technology is also applied to optimise smartphones performance and thermal behaviour based on the users interaction with the phone.limitationsalthough machine learning has been transformative in some fields, machinelearning programs often fail to deliver expected results. reasons for this are numerous lack of suitable data, lack of access to the data, data bias, privacy problems, badly chosen tasks and algorithms, wrong tools and people, lack of resources, and evaluation problems.in , a selfdriving car from uber failed to detect a pedestrian, who was killed after a collision. attempts to use machine learning in healthcare with the ibm watson system failed to deliver even after years of time and billions of dollars invested.machine learning has been used as a strategy to update the evidence related to a systematic review and increased reviewer burden related to the growth of biomedical literature. while it has improved with training sets, it has not yet developed sufficiently to reduce the workload burden without limiting the necessary sensitivity for the findings research themselves.biasmachine learning approaches in particular can suffer from different data biases. a machine learning system trained specifically on current customers may not be able to predict the needs of new customer groups that are not represented in the training data. when trained on manmade data, machine learning is likely to pick up the constitutional and unconscious biases already present in society. language models learned from data have been shown to contain humanlike biases. machine learning systems used for criminal risk assessment have been found to be biased against black people. in , google photos would often tag black people as gorillas, and in  this still was not well resolved, but google reportedly was still using the workaround to remove all gorillas from the training data, and thus was not able to recognize real gorillas at all. similar issues with recognizing nonwhite people have been found in many other systems. in , microsoft tested a chatbot that learned from twitter, and it quickly picked up racist and sexist language. because of such challenges, the effective use of machine learning may take longer to be adopted in other domains. concern for fairness in machine learning, that is, reducing bias in machine learning and propelling its use for human good is increasingly expressed by artificial intelligence scientists, including feifei li, who reminds engineers that there’s nothing artificial about ai...it’s inspired by people, it’s created by people, and—most importantly—it impacts people. it is a powerful tool we are only just beginning to understand, and that is a profound responsibility.”overfittingsettling on a bad, overly complex theory gerrymandered to fit all the past training data is known as overfitting. many systems attempt to reduce overfitting by rewarding a theory in accordance with how well it fits the data, but penalizing the theory in accordance with how complex the theory is.other limitations and vulnerabilitieslearners can also disappoint by learning the wrong lesson. a toy example is that an image classifier trained only on pictures of brown horses and black cats might conclude that all brown patches are likely to be horses. a realworld example is that, unlike humans, current image classifiers often dont primarily make judgments from the spatial relationship between components of the picture, and they learn relationships between pixels that humans are oblivious to, but that still correlate with images of certain types of real objects. modifying these patterns on a legitimate image can result in adversarial images that the system misclassifies.adversarial vulnerabilities can also result in nonlinear systems, or from nonpattern perturbations. some systems are so brittle that changing a single adversarial pixel predictably induces misclassification. machine learning models are often vulnerable to manipulation andor evasion via adversarial machine learning.researchers have demonstrated how backdoors can be placed undetectably into classifying e.g. for categories spam and wellvisible not spam of posts machine learning models which are often developed andor trained by third parties. parties can change the classification of any input, including in cases for which a type of datasoftware transparency is provided, possibly including whitebox access.model assessmentsclassification of machine learning models can be validated by accuracy estimation techniques like the holdout method, which splits the data in a training and test set conventionally  training set and  test set designation and evaluates the performance of the training model on the test set. in comparison, the kfoldcrossvalidation method randomly partitions the data into k subsets and then k experiments are performed each respectively considering  subset for evaluation and the remaining k subsets for training the model. in addition to the holdout and crossvalidation methods, bootstrap, which samples n instances with replacement from the dataset, can be used to assess model accuracy.in addition to overall accuracy, investigators frequently report sensitivity and specificity meaning true positive rate tpr and true negative rate tnr respectively. similarly, investigators sometimes report the false positive rate fpr as well as the false negative rate fnr. however, these rates are ratios that fail to reveal their numerators and denominators. the total operating characteristic toc is an effective method to express a models diagnostic ability. toc shows the numerators and denominators of the previously mentioned rates, thus toc provides more information than the commonly used receiver operating characteristic roc and rocs associated area under the curve auc.ethicsmachine learning poses a host of ethical questions. systems which are trained on datasets collected with biases may exhibit these biases upon use algorithmic bias, thus digitizing cultural prejudices. for example, in , the uks commission for racial equality found that st. georges medical school had been using a computer program trained from data of previous admissions staff and this program had denied nearly  candidates who were found to be either women or had noneuropean sounding names. using job hiring data from a firm with racist hiring policies may lead to a machine learning system duplicating the bias by scoring job applicants by similarity to previous successful applicants. responsible collection of data and documentation of algorithmic rules used by a system thus is a critical part of machine learning.ai can be wellequipped to make decisions in technical fields, which rely heavily on data and historical information. these decisions rely on the objectivity and logical reasoning. because human languages contain biases, machines trained on language corpora will necessarily also learn these biases.other forms of ethical challenges, not related to personal biases, are seen in health care. there are concerns among health care professionals that these systems might not be designed in the publics interest but as incomegenerating machines. this is especially true in the united states where there is a longstanding ethical dilemma of improving health care, but also increase profits. for example, the algorithms could be designed to provide patients with unnecessary tests or medication in which the algorithms proprietary owners hold stakes. there is  potential for machine learning in health care to provide professionals an additional tool to diagnose, medicate, and plan recovery paths for patients, but this requires these biases to be mitigated.hardwaresince the s, advances in both machine learning algorithms and computer hardware have led to more efficient methods for training deep neural networks a particular narrow subdomain of machine learning that contain many layers of nonlinear hidden units. by , graphic processing units gpus, often with aispecific enhancements, had displaced cpus as the dominant method of training largescale commercial cloud ai. openai estimated the hardware computing used in the largest deep learning projects from alexnet  to alphazero , and found a ,fold increase in the amount of compute required, with a doublingtime trendline of . months.neuromorphicphysical neural networksa physical neural network or neuromorphic computer  is a type of artificial neural network in which an electrically adjustable material is used to emulate the function of a neural synapse. physical neural network is used to emphasize the reliance on physical hardware used to emulate neurons as opposed to softwarebased approaches. more generally the term is applicable to other artificial neural networks in which a memristor or other electrically adjustable resistance material is used to emulate a neural synapse.embedded machine learningembedded machine learning is a subfield of machine learning, where the machine learning model is run on embedded systems with limited computing resources such as wearable computers, edge devices and microcontrollers. running machine learning model in embedded devices removes the need for transferring and storing data on cloud servers for further processing, henceforth, reducing data breaches and privacy leaks happening because of transferring data, and also minimizes theft of intellectual properties, personal data and business secrets. embedded machine learning could be applied through several techniques including hardware acceleration, using approximate computing, optimization of machine learning models and many more.softwaresoftware suites containing a variety of machine learning algorithms include the followingfree and opensource softwareproprietary software with free and opensource editionsknimerapidminerproprietary softwarejournalsjournal of machine learning researchmachine learningnature machine intelligenceneural computationconferencesaaai conference on artificial intelligenceassociation for computational linguistics acleuropean conference on machine learning and principles and practice of knowledge discovery in databases ecml pkddinternational conference on computational intelligence methods for bioinformatics and biostatistics cibbinternational conference on machine learning icmlinternational conference on learning representations iclrinternational conference on intelligent robots and systems irosconference on knowledge discovery and data mining kddconference on neural information processing systems neuripssee alsoautomated machine learning – process of automating the application of machine learningbig data – information assets characterized by high volume, velocity, and varietydifferentiable programming – programming paradigmlist of important publications in machine learninglist of datasets for machinelearning researchreferencessourcesdomingos, pedro september , . the master algorithm how the quest for the ultimate learning machine will remake our world. basic books. isbn .nilsson, nils . artificial intelligence a new synthesis. morgan kaufmann. isbn . archived from the original on  july . retrieved  november .russell, stuart j. norvig, peter , artificial intelligence a modern approach nd ed., upper saddle river, new jersey prentice hall, isbn .poole, david mackworth, alan goebel, randy . computational intelligence a logical approach. new york oxford university press. isbn . archived from the original on  july . retrieved  august .further readingexternal links quotations related to machine learning at wikiquoteinternational machine learning societymloss is an academic database of opensource machine learning software.'"
      ]
     },
     "execution_count": 22,
     "metadata": {},
     "output_type": "execute_result"
    }
   ],
   "source": [
    "ml_ftxt"
   ]
  },
  {
   "cell_type": "code",
   "execution_count": 23,
   "metadata": {
    "id": "QVhM10JMpcdf"
   },
   "outputs": [],
   "source": [
    "ml_ftxt = re.sub(r' - ','', ml_ftxt)"
   ]
  },
  {
   "cell_type": "code",
   "execution_count": 24,
   "metadata": {
    "id": "RNBZ_AG7pcz1"
   },
   "outputs": [],
   "source": [
    "txt = ml_ftxt"
   ]
  },
  {
   "cell_type": "code",
   "execution_count": 24,
   "metadata": {
    "id": "b_hQuVsjGDWh"
   },
   "outputs": [],
   "source": []
  },
  {
   "cell_type": "markdown",
   "metadata": {
    "id": "FuHTuCOXNhOv"
   },
   "source": [
    "# Models For keyphrases"
   ]
  },
  {
   "cell_type": "code",
   "execution_count": 25,
   "metadata": {
    "id": "iVc9U_F9t5Ph"
   },
   "outputs": [],
   "source": [
    "All_top = []"
   ]
  },
  {
   "cell_type": "markdown",
   "metadata": {
    "id": "D031YGoyrHY8"
   },
   "source": [
    "## Unsupervised"
   ]
  },
  {
   "cell_type": "code",
   "execution_count": 26,
   "metadata": {
    "id": "YyNu4bsF9bP4"
   },
   "outputs": [],
   "source": [
    "import pke"
   ]
  },
  {
   "cell_type": "markdown",
   "metadata": {
    "id": "yn1jO2QNOwJP"
   },
   "source": [
    "### Graph Based Models"
   ]
  },
  {
   "cell_type": "markdown",
   "metadata": {
    "id": "9pyu08LFqJKK"
   },
   "source": [
    "#### TopicRank"
   ]
  },
  {
   "cell_type": "markdown",
   "metadata": {
    "id": "lDQ_YDrc_Xa3"
   },
   "source": [
    "**NOTES on TopicRank**:\n",
    "* unsupervised graph-based ranking model to keyphrase extraction\n",
    "* uses a random walk algorithm -> to estimate the importance of each topic (node)"
   ]
  },
  {
   "cell_type": "code",
   "execution_count": 27,
   "metadata": {
    "id": "qbVmxaCPp7Uf"
   },
   "outputs": [],
   "source": [
    "# initialize a TopicRank keyphrase extraction model\n",
    "extractor = pke.unsupervised.TopicRank()"
   ]
  },
  {
   "cell_type": "code",
   "execution_count": 28,
   "metadata": {
    "id": "M-VKU8AGAXYR"
   },
   "outputs": [],
   "source": [
    "extractor.load_document(input=txt, language='en') # used to pre-process the text (sentence splitting, tokenization, Part-of-Speech tagging, stemming)."
   ]
  },
  {
   "cell_type": "code",
   "execution_count": 29,
   "metadata": {
    "id": "BK2FOJSnoUqW"
   },
   "outputs": [],
   "source": [
    "extractor.grammar_selection(grammar=\"NP: {<ADJ>*<NOUN|PROPN>+}\")"
   ]
  },
  {
   "cell_type": "code",
   "execution_count": 30,
   "metadata": {
    "id": "gbBwPbDQC3St"
   },
   "outputs": [],
   "source": [
    "extractor.candidate_selection()  #identifying keyphrase candidates"
   ]
  },
  {
   "cell_type": "markdown",
   "metadata": {
    "id": "PkSK3-2EIFB5"
   },
   "source": [
    " In **TopicRank**, candidate weighting is a three-step process:\n",
    "1. candidate clustering (grouping keyphrase candidates into topics)\n",
    "2. graph construction (building a complete-weighted-graph of topics)\n",
    "3. rank topics (nodes) using a random walk algorithm\n"
   ]
  },
  {
   "cell_type": "code",
   "execution_count": 31,
   "metadata": {
    "id": "_c5rs8sRGnGN"
   },
   "outputs": [],
   "source": [
    "extractor.candidate_weighting()"
   ]
  },
  {
   "cell_type": "code",
   "execution_count": 32,
   "metadata": {
    "id": "mPEG9l_XL76f"
   },
   "outputs": [],
   "source": [
    "# Get the N-best candidates (here, 5) as keyphrases\n",
    "keyphrases = extractor.get_n_best(n=20, stemming=False)"
   ]
  },
  {
   "cell_type": "code",
   "execution_count": 33,
   "metadata": {
    "id": "QB6UrF7fouOS"
   },
   "outputs": [],
   "source": [
    "All_top.extend(keyphrases)"
   ]
  },
  {
   "cell_type": "code",
   "execution_count": 34,
   "metadata": {
    "colab": {
     "base_uri": "https://localhost:8080/"
    },
    "id": "4mrtOC6FuHxk",
    "outputId": "db7320db-cfc7-4b57-90b4-6e9eed7521ab"
   },
   "outputs": [
    {
     "data": {
      "text/plain": [
       "[('machine learning ml', 0.03460402826333003),\n",
       " ('data', 0.03146478114214189),\n",
       " ('machine learning algorithms', 0.015528988438678903),\n",
       " ('model', 0.015368034747002143),\n",
       " ('example', 0.01468000728085772),\n",
       " ('training data', 0.01084857124954139),\n",
       " ('machine', 0.010604700360021369),\n",
       " ('conventional algorithms', 0.009575633824453212),\n",
       " ('example inputs', 0.009351696967662712),\n",
       " ('computers', 0.008683958821422219),\n",
       " ('system', 0.008640889792579516),\n",
       " ('predictions', 0.008227132080922657),\n",
       " ('computer program', 0.008070677307245184),\n",
       " ('field', 0.007970823506572125),\n",
       " ('set', 0.007807046487473258),\n",
       " ('classification', 0.007300332409018489),\n",
       " ('neural networks', 0.006646182653536191),\n",
       " ('tasks', 0.0061714720672786895),\n",
       " ('end feature', 0.006160738980738472),\n",
       " ('knowledge discovery', 0.005974768835554924)]"
      ]
     },
     "execution_count": 34,
     "metadata": {},
     "output_type": "execute_result"
    }
   ],
   "source": [
    "All_top"
   ]
  },
  {
   "cell_type": "markdown",
   "metadata": {
    "id": "bMVK_XHbqbK4"
   },
   "source": [
    "#### MultipartiteRank Model"
   ]
  },
  {
   "cell_type": "code",
   "execution_count": 35,
   "metadata": {
    "id": "yChGgSAEqiiV"
   },
   "outputs": [],
   "source": [
    "extractor = pke.unsupervised.MultipartiteRank()\n",
    "\n",
    "extractor.load_document(input=txt, language='en')\n",
    "\n",
    "extractor.grammar_selection(grammar=\"NP: {<ADJ>*<NOUN|PROPN>+}\")\n",
    "\n",
    "extractor.grammar_selection()\n",
    "\n",
    "extractor.candidate_weighting()\n",
    "\n",
    "keyphrases = extractor.get_n_best(n=20)\n"
   ]
  },
  {
   "cell_type": "code",
   "execution_count": 36,
   "metadata": {
    "id": "4ktwwug1q2Zi"
   },
   "outputs": [],
   "source": [
    "All_top.extend(keyphrases)"
   ]
  },
  {
   "cell_type": "code",
   "execution_count": 37,
   "metadata": {
    "colab": {
     "base_uri": "https://localhost:8080/"
    },
    "id": "FQmloPIhuTy5",
    "outputId": "a41aa76f-ead5-4833-c680-acb8cdac2a26"
   },
   "outputs": [
    {
     "data": {
      "text/plain": [
       "[('machine learning ml', 0.03460402826333003),\n",
       " ('data', 0.03146478114214189),\n",
       " ('machine learning algorithms', 0.015528988438678903),\n",
       " ('model', 0.015368034747002143),\n",
       " ('example', 0.01468000728085772),\n",
       " ('training data', 0.01084857124954139),\n",
       " ('machine', 0.010604700360021369),\n",
       " ('conventional algorithms', 0.009575633824453212),\n",
       " ('example inputs', 0.009351696967662712),\n",
       " ('computers', 0.008683958821422219),\n",
       " ('system', 0.008640889792579516),\n",
       " ('predictions', 0.008227132080922657),\n",
       " ('computer program', 0.008070677307245184),\n",
       " ('field', 0.007970823506572125),\n",
       " ('set', 0.007807046487473258),\n",
       " ('classification', 0.007300332409018489),\n",
       " ('neural networks', 0.006646182653536191),\n",
       " ('tasks', 0.0061714720672786895),\n",
       " ('end feature', 0.006160738980738472),\n",
       " ('knowledge discovery', 0.005974768835554924),\n",
       " ('machine learning ml', 0.06571304157291642),\n",
       " ('data', 0.01786833915206301),\n",
       " ('field', 0.014944151120802445),\n",
       " ('machine learning', 0.012945887498996701),\n",
       " ('machine learning algorithms', 0.012083390622813392),\n",
       " ('building methods', 0.011260580542195291),\n",
       " ('model', 0.010198564828795666),\n",
       " ('conventional algorithms', 0.009375531528853629),\n",
       " ('example', 0.008541157419457886),\n",
       " ('set', 0.008031085584558362),\n",
       " ('computers', 0.00792791338070427),\n",
       " ('learning', 0.007903165951338904),\n",
       " ('machine', 0.006561983290809469),\n",
       " ('tasks', 0.006131264352866993),\n",
       " ('predictions', 0.006098382047848734),\n",
       " ('example inputs', 0.0059082283863764705),\n",
       " ('inquiry', 0.0056718272090088995),\n",
       " ('training data', 0.005607907408386578),\n",
       " ('algorithms', 0.005198719875184716),\n",
       " ('computer program', 0.005091125834489267)]"
      ]
     },
     "execution_count": 37,
     "metadata": {},
     "output_type": "execute_result"
    }
   ],
   "source": [
    "All_top"
   ]
  },
  {
   "cell_type": "markdown",
   "metadata": {
    "id": "MtYnapIMtZMY"
   },
   "source": [
    "#### TopicalPageRank Model"
   ]
  },
  {
   "cell_type": "code",
   "execution_count": 38,
   "metadata": {
    "colab": {
     "base_uri": "https://localhost:8080/"
    },
    "id": "ydokqm3htesM",
    "outputId": "d317c58c-498c-488e-9cbf-97e4985ba5c0"
   },
   "outputs": [
    {
     "name": "stderr",
     "output_type": "stream",
     "text": [
      "WARNING:root:LDA model is hard coded to /usr/local/lib/python3.7/dist-packages/pke/models/lda-1000-semeval2010.py3.pickle.gz\n",
      "/usr/local/lib/python3.7/dist-packages/sklearn/feature_extraction/text.py:401: UserWarning: Your stop_words may be inconsistent with your preprocessing. Tokenizing the stop words generated tokens ['ll', 've'] not in stop_words.\n",
      "  % sorted(inconsistent)\n"
     ]
    }
   ],
   "source": [
    "extractor = pke.unsupervised.TopicalPageRank()\n",
    "\n",
    "# 2. load the content of the document.\n",
    "extractor.load_document(input=txt,\n",
    "                        language='en')\n",
    "\n",
    "extractor.grammar_selection(grammar=\"NP: {<ADJ>*<NOUN|PROPN>+}\")\n",
    "\n",
    "# 3. select the noun phrases as keyphrase candidates.\n",
    "extractor.candidate_selection()\n",
    "\n",
    "# 4. weight the keyphrase candidates using Single Topical PageRank.\n",
    "#    Builds a word-graph in which edges connecting two words occurring\n",
    "#    in a window are weighted by co-occurrence counts.\n",
    "extractor.candidate_weighting()\n",
    "\n",
    "# 5. get the 10-highest scored candidates as keyphrases\n",
    "keyphrases = extractor.get_n_best(n=20)"
   ]
  },
  {
   "cell_type": "code",
   "execution_count": 39,
   "metadata": {
    "id": "e0J8H0F5txfQ"
   },
   "outputs": [],
   "source": [
    "All_top.extend(keyphrases)"
   ]
  },
  {
   "cell_type": "code",
   "execution_count": 40,
   "metadata": {
    "colab": {
     "base_uri": "https://localhost:8080/"
    },
    "id": "NVdMShnourYg",
    "outputId": "b3ded28b-c3f9-40b3-8754-25e8884823c5"
   },
   "outputs": [
    {
     "data": {
      "text/plain": [
       "[('machine learning ml', 0.03460402826333003),\n",
       " ('data', 0.03146478114214189),\n",
       " ('machine learning algorithms', 0.015528988438678903),\n",
       " ('model', 0.015368034747002143),\n",
       " ('example', 0.01468000728085772),\n",
       " ('training data', 0.01084857124954139),\n",
       " ('machine', 0.010604700360021369),\n",
       " ('conventional algorithms', 0.009575633824453212),\n",
       " ('example inputs', 0.009351696967662712),\n",
       " ('computers', 0.008683958821422219),\n",
       " ('system', 0.008640889792579516),\n",
       " ('predictions', 0.008227132080922657),\n",
       " ('computer program', 0.008070677307245184),\n",
       " ('field', 0.007970823506572125),\n",
       " ('set', 0.007807046487473258),\n",
       " ('classification', 0.007300332409018489),\n",
       " ('neural networks', 0.006646182653536191),\n",
       " ('tasks', 0.0061714720672786895),\n",
       " ('end feature', 0.006160738980738472),\n",
       " ('knowledge discovery', 0.005974768835554924),\n",
       " ('machine learning ml', 0.06571304157291642),\n",
       " ('data', 0.01786833915206301),\n",
       " ('field', 0.014944151120802445),\n",
       " ('machine learning', 0.012945887498996701),\n",
       " ('machine learning algorithms', 0.012083390622813392),\n",
       " ('building methods', 0.011260580542195291),\n",
       " ('model', 0.010198564828795666),\n",
       " ('conventional algorithms', 0.009375531528853629),\n",
       " ('example', 0.008541157419457886),\n",
       " ('set', 0.008031085584558362),\n",
       " ('computers', 0.00792791338070427),\n",
       " ('learning', 0.007903165951338904),\n",
       " ('machine', 0.006561983290809469),\n",
       " ('tasks', 0.006131264352866993),\n",
       " ('predictions', 0.006098382047848734),\n",
       " ('example inputs', 0.0059082283863764705),\n",
       " ('inquiry', 0.0056718272090088995),\n",
       " ('training data', 0.005607907408386578),\n",
       " ('algorithms', 0.005198719875184716),\n",
       " ('computer program', 0.005091125834489267),\n",
       " ('training machine learning models', 0.09556815784076879),\n",
       " ('other machine learning algorithms', 0.09355739356128984),\n",
       " ('rulebased machine learning algorithm', 0.08958692332312626),\n",
       " ('machine learning algorithms', 0.08907533647046892),\n",
       " ('deep learning algorithms.statisticsmachine learning', 0.08705659578681689),\n",
       " ('posts machine learning models', 0.08689276826982527),\n",
       " ('machine learning models', 0.08650677392350549),\n",
       " ('many machine learning methods', 0.08597336532907134),\n",
       " ('same machine learning system', 0.08198298312183659),\n",
       " ('rulebased machine learning method', 0.08134072000462719),\n",
       " ('machine learning methods', 0.08082913315196984),\n",
       " ('machine learning system', 0.08073253158021594),\n",
       " ('other fieldsthe term machine learning', 0.07916556462016992),\n",
       " ('machine learning field', 0.07746144104226826),\n",
       " ('machine learning approaches', 0.07673977441985459),\n",
       " ('machine learning tasks', 0.07631137502411017),\n",
       " ('machine learning techniques', 0.07579948518778895),\n",
       " ('supervised machine learning', 0.07518922399466496),\n",
       " ('opensource machine learning software', 0.07403819860539401),\n",
       " ('inductive machine learning', 0.07369791235257471)]"
      ]
     },
     "execution_count": 40,
     "metadata": {},
     "output_type": "execute_result"
    }
   ],
   "source": [
    "All_top"
   ]
  },
  {
   "cell_type": "markdown",
   "metadata": {
    "id": "wBKBjOjzNjm8"
   },
   "source": [
    "### Statistical models"
   ]
  },
  {
   "cell_type": "markdown",
   "metadata": {
    "id": "B596beOzNrQH"
   },
   "source": [
    "#### FirstPhrases"
   ]
  },
  {
   "cell_type": "code",
   "execution_count": 41,
   "metadata": {
    "id": "-veVuRegTBz1"
   },
   "outputs": [],
   "source": [
    " # 1. create a FirstPhrases baseline extractor.\n",
    "extractor = pke.unsupervised.FirstPhrases()\n",
    "\n",
    "# 2. load the content of the document.\n",
    "extractor.load_document(input=txt,language='en')\n",
    "\n",
    "extractor.grammar_selection(grammar=\"NP: {<ADJ>*<NOUN|PROPN>+}\")\n",
    "\n",
    "# 3. select the longest sequences of nouns and adjectives as candidates.\n",
    "extractor.candidate_selection()\n",
    "\n",
    "# 4. weight the candidates using their position\n",
    "extractor.candidate_weighting()\n",
    "\n",
    "# 5. get the 10-highest scored candidates as keyphrases\n",
    "keyphrases = extractor.get_n_best(n=20)"
   ]
  },
  {
   "cell_type": "code",
   "execution_count": 42,
   "metadata": {
    "id": "BzYdusjGjV9v"
   },
   "outputs": [],
   "source": [
    "All_top.extend(keyphrases)"
   ]
  },
  {
   "cell_type": "code",
   "execution_count": 43,
   "metadata": {
    "colab": {
     "base_uri": "https://localhost:8080/"
    },
    "id": "UzuR4CpLu2EY",
    "outputId": "ef62db31-40d1-4d22-b40f-4a0c0289337b"
   },
   "outputs": [
    {
     "data": {
      "text/plain": [
       "[('machine learning ml', 0.03460402826333003),\n",
       " ('data', 0.03146478114214189),\n",
       " ('machine learning algorithms', 0.015528988438678903),\n",
       " ('model', 0.015368034747002143),\n",
       " ('example', 0.01468000728085772),\n",
       " ('training data', 0.01084857124954139),\n",
       " ('machine', 0.010604700360021369),\n",
       " ('conventional algorithms', 0.009575633824453212),\n",
       " ('example inputs', 0.009351696967662712),\n",
       " ('computers', 0.008683958821422219),\n",
       " ('system', 0.008640889792579516),\n",
       " ('predictions', 0.008227132080922657),\n",
       " ('computer program', 0.008070677307245184),\n",
       " ('field', 0.007970823506572125),\n",
       " ('set', 0.007807046487473258),\n",
       " ('classification', 0.007300332409018489),\n",
       " ('neural networks', 0.006646182653536191),\n",
       " ('tasks', 0.0061714720672786895),\n",
       " ('end feature', 0.006160738980738472),\n",
       " ('knowledge discovery', 0.005974768835554924),\n",
       " ('machine learning ml', 0.06571304157291642),\n",
       " ('data', 0.01786833915206301),\n",
       " ('field', 0.014944151120802445),\n",
       " ('machine learning', 0.012945887498996701),\n",
       " ('machine learning algorithms', 0.012083390622813392),\n",
       " ('building methods', 0.011260580542195291),\n",
       " ('model', 0.010198564828795666),\n",
       " ('conventional algorithms', 0.009375531528853629),\n",
       " ('example', 0.008541157419457886),\n",
       " ('set', 0.008031085584558362),\n",
       " ('computers', 0.00792791338070427),\n",
       " ('learning', 0.007903165951338904),\n",
       " ('machine', 0.006561983290809469),\n",
       " ('tasks', 0.006131264352866993),\n",
       " ('predictions', 0.006098382047848734),\n",
       " ('example inputs', 0.0059082283863764705),\n",
       " ('inquiry', 0.0056718272090088995),\n",
       " ('training data', 0.005607907408386578),\n",
       " ('algorithms', 0.005198719875184716),\n",
       " ('computer program', 0.005091125834489267),\n",
       " ('training machine learning models', 0.09556815784076879),\n",
       " ('other machine learning algorithms', 0.09355739356128984),\n",
       " ('rulebased machine learning algorithm', 0.08958692332312626),\n",
       " ('machine learning algorithms', 0.08907533647046892),\n",
       " ('deep learning algorithms.statisticsmachine learning', 0.08705659578681689),\n",
       " ('posts machine learning models', 0.08689276826982527),\n",
       " ('machine learning models', 0.08650677392350549),\n",
       " ('many machine learning methods', 0.08597336532907134),\n",
       " ('same machine learning system', 0.08198298312183659),\n",
       " ('rulebased machine learning method', 0.08134072000462719),\n",
       " ('machine learning methods', 0.08082913315196984),\n",
       " ('machine learning system', 0.08073253158021594),\n",
       " ('other fieldsthe term machine learning', 0.07916556462016992),\n",
       " ('machine learning field', 0.07746144104226826),\n",
       " ('machine learning approaches', 0.07673977441985459),\n",
       " ('machine learning tasks', 0.07631137502411017),\n",
       " ('machine learning techniques', 0.07579948518778895),\n",
       " ('supervised machine learning', 0.07518922399466496),\n",
       " ('opensource machine learning software', 0.07403819860539401),\n",
       " ('inductive machine learning', 0.07369791235257471),\n",
       " ('machine learning ml', 0),\n",
       " ('field', -5),\n",
       " ('inquiry', -7),\n",
       " ('understanding', -10),\n",
       " ('building methods', -12),\n",
       " ('methods', -20),\n",
       " ('data', -23),\n",
       " ('performance', -26),\n",
       " ('set', -29),\n",
       " ('tasks', -31),\n",
       " ('part', -38),\n",
       " ('artificial intelligence', -40),\n",
       " ('machine learning algorithms', -43),\n",
       " ('model', -48),\n",
       " ('sample data', -51),\n",
       " ('training data', -56),\n",
       " ('order', -60),\n",
       " ('predictions', -63),\n",
       " ('decisions', -65),\n",
       " ('wide variety', -81)]"
      ]
     },
     "execution_count": 43,
     "metadata": {},
     "output_type": "execute_result"
    }
   ],
   "source": [
    "All_top"
   ]
  },
  {
   "cell_type": "markdown",
   "metadata": {
    "id": "qEzuRj_PScOH"
   },
   "source": [
    "#### TF-IDF"
   ]
  },
  {
   "cell_type": "code",
   "execution_count": 44,
   "metadata": {
    "colab": {
     "base_uri": "https://localhost:8080/"
    },
    "id": "UnKoh6b3Sg8N",
    "outputId": "41a96433-b6a8-478b-da8f-6e4ba80a4586"
   },
   "outputs": [
    {
     "name": "stderr",
     "output_type": "stream",
     "text": [
      "WARNING:root:LoadFile._df_counts is hard coded to /usr/local/lib/python3.7/dist-packages/pke/models/df-semeval2010.tsv.gz\n"
     ]
    }
   ],
   "source": [
    "extractor = pke.unsupervised.TfIdf()        # initialize a keyphrase extraction model, here TFxIDF\n",
    "\n",
    "extractor.load_document(input=txt)       # load the content of the document (str or spacy Doc)\n",
    "\n",
    "extractor.grammar_selection(grammar=\"NP: {<ADJ>*<NOUN|PROPN>+}\")\n",
    "\n",
    "extractor.candidate_selection()             # identify keyphrase candidates\n",
    "\n",
    "extractor.candidate_weighting()             # weight keyphrase candidates\n",
    "\n",
    "keyphrases = extractor.get_n_best(n=20)      # select the 5-best candidates as keyphrases"
   ]
  },
  {
   "cell_type": "code",
   "execution_count": 45,
   "metadata": {
    "id": "ejxac1NqSmlj"
   },
   "outputs": [],
   "source": [
    "All_top.extend(keyphrases)"
   ]
  },
  {
   "cell_type": "code",
   "execution_count": 46,
   "metadata": {
    "colab": {
     "base_uri": "https://localhost:8080/"
    },
    "id": "TRECIEfTu_vj",
    "outputId": "38030a65-381d-440e-b284-95ff4c84880f"
   },
   "outputs": [
    {
     "data": {
      "text/plain": [
       "[('machine learning ml', 0.03460402826333003),\n",
       " ('data', 0.03146478114214189),\n",
       " ('machine learning algorithms', 0.015528988438678903),\n",
       " ('model', 0.015368034747002143),\n",
       " ('example', 0.01468000728085772),\n",
       " ('training data', 0.01084857124954139),\n",
       " ('machine', 0.010604700360021369),\n",
       " ('conventional algorithms', 0.009575633824453212),\n",
       " ('example inputs', 0.009351696967662712),\n",
       " ('computers', 0.008683958821422219),\n",
       " ('system', 0.008640889792579516),\n",
       " ('predictions', 0.008227132080922657),\n",
       " ('computer program', 0.008070677307245184),\n",
       " ('field', 0.007970823506572125),\n",
       " ('set', 0.007807046487473258),\n",
       " ('classification', 0.007300332409018489),\n",
       " ('neural networks', 0.006646182653536191),\n",
       " ('tasks', 0.0061714720672786895),\n",
       " ('end feature', 0.006160738980738472),\n",
       " ('knowledge discovery', 0.005974768835554924),\n",
       " ('machine learning ml', 0.06571304157291642),\n",
       " ('data', 0.01786833915206301),\n",
       " ('field', 0.014944151120802445),\n",
       " ('machine learning', 0.012945887498996701),\n",
       " ('machine learning algorithms', 0.012083390622813392),\n",
       " ('building methods', 0.011260580542195291),\n",
       " ('model', 0.010198564828795666),\n",
       " ('conventional algorithms', 0.009375531528853629),\n",
       " ('example', 0.008541157419457886),\n",
       " ('set', 0.008031085584558362),\n",
       " ('computers', 0.00792791338070427),\n",
       " ('learning', 0.007903165951338904),\n",
       " ('machine', 0.006561983290809469),\n",
       " ('tasks', 0.006131264352866993),\n",
       " ('predictions', 0.006098382047848734),\n",
       " ('example inputs', 0.0059082283863764705),\n",
       " ('inquiry', 0.0056718272090088995),\n",
       " ('training data', 0.005607907408386578),\n",
       " ('algorithms', 0.005198719875184716),\n",
       " ('computer program', 0.005091125834489267),\n",
       " ('training machine learning models', 0.09556815784076879),\n",
       " ('other machine learning algorithms', 0.09355739356128984),\n",
       " ('rulebased machine learning algorithm', 0.08958692332312626),\n",
       " ('machine learning algorithms', 0.08907533647046892),\n",
       " ('deep learning algorithms.statisticsmachine learning', 0.08705659578681689),\n",
       " ('posts machine learning models', 0.08689276826982527),\n",
       " ('machine learning models', 0.08650677392350549),\n",
       " ('many machine learning methods', 0.08597336532907134),\n",
       " ('same machine learning system', 0.08198298312183659),\n",
       " ('rulebased machine learning method', 0.08134072000462719),\n",
       " ('machine learning methods', 0.08082913315196984),\n",
       " ('machine learning system', 0.08073253158021594),\n",
       " ('other fieldsthe term machine learning', 0.07916556462016992),\n",
       " ('machine learning field', 0.07746144104226826),\n",
       " ('machine learning approaches', 0.07673977441985459),\n",
       " ('machine learning tasks', 0.07631137502411017),\n",
       " ('machine learning techniques', 0.07579948518778895),\n",
       " ('supervised machine learning', 0.07518922399466496),\n",
       " ('opensource machine learning software', 0.07403819860539401),\n",
       " ('inductive machine learning', 0.07369791235257471),\n",
       " ('machine learning ml', 0),\n",
       " ('field', -5),\n",
       " ('inquiry', -7),\n",
       " ('understanding', -10),\n",
       " ('building methods', -12),\n",
       " ('methods', -20),\n",
       " ('data', -23),\n",
       " ('performance', -26),\n",
       " ('set', -29),\n",
       " ('tasks', -31),\n",
       " ('part', -38),\n",
       " ('artificial intelligence', -40),\n",
       " ('machine learning algorithms', -43),\n",
       " ('model', -48),\n",
       " ('sample data', -51),\n",
       " ('training data', -56),\n",
       " ('order', -60),\n",
       " ('predictions', -63),\n",
       " ('decisions', -65),\n",
       " ('wide variety', -81),\n",
       " ('machine learning', 288.95847250297174),\n",
       " ('learning', 280.0640687694115),\n",
       " ('machine', 205.1763872316019),\n",
       " ('training', 124.13871063631703),\n",
       " ('neural', 91.89893178587556),\n",
       " ('artificial', 90.4662036687199),\n",
       " ('learning algorithms', 90.4662036687199),\n",
       " ('neurons', 86.15890908017921),\n",
       " ('neural networks', 72.86971492691359),\n",
       " ('unsupervised', 72.73430566081912),\n",
       " ('artificial neurons', 71.79909090014934),\n",
       " ('machine learning models', 55.94946589293778),\n",
       " ('supervised', 54.01173393178601),\n",
       " ('machine learning algorithms', 50.544412482231564),\n",
       " ('unsupervised learning', 49.439272720119476),\n",
       " ('data mining', 45.94946589293778),\n",
       " ('learning models', 45.94946589293778),\n",
       " ('dictionary', 43.72554167957331),\n",
       " ('data', 43.390909003366595),\n",
       " ('dictionary learning', 43.07945454008961)]"
      ]
     },
     "execution_count": 46,
     "metadata": {},
     "output_type": "execute_result"
    }
   ],
   "source": [
    "All_top"
   ]
  },
  {
   "cell_type": "markdown",
   "metadata": {
    "id": "OtoKjz3uk8TE"
   },
   "source": [
    "#### KPMiner Model"
   ]
  },
  {
   "cell_type": "code",
   "execution_count": 47,
   "metadata": {
    "colab": {
     "base_uri": "https://localhost:8080/"
    },
    "id": "XU6zkC1aSr6M",
    "outputId": "60dc26c7-959f-489e-f1f9-f2c550469323"
   },
   "outputs": [
    {
     "name": "stderr",
     "output_type": "stream",
     "text": [
      "WARNING:root:LoadFile._df_counts is hard coded to /usr/local/lib/python3.7/dist-packages/pke/models/df-semeval2010.tsv.gz\n"
     ]
    }
   ],
   "source": [
    "# 1. create a KPMiner extractor.\n",
    "extractor = pke.unsupervised.KPMiner()\n",
    "\n",
    "# 2. load the content of the document.\n",
    "extractor.load_document(input=txt,language='en')\n",
    "\n",
    "# 3. select {1-5}-grams that do not contain punctuation marks or\n",
    "#    stopwords as keyphrase candidates. Set the least allowable seen\n",
    "#    frequency to 5 and the number of words after which candidates are\n",
    "#    filtered out to 200.\n",
    "lasf = 5\n",
    "cutoff = 200\n",
    "extractor.candidate_selection(lasf=lasf, cutoff=cutoff)\n",
    "\n",
    "# 4. weight the candidates using KPMiner weighting function.\n",
    "#df = pke.load_document_frequency_file(input_file=\"path/to/df.tsv.gz\")\n",
    "\n",
    "#alpha = 2.3\n",
    "#sigma = 3.0\n",
    "# df=df, alpha=alpha, sigma=sigma\n",
    "\n",
    "extractor.candidate_weighting()\n",
    "\n",
    "# 5. get the 10-highest scored candidates as keyphrases\n",
    "keyphrases = extractor.get_n_best(n=20)\n"
   ]
  },
  {
   "cell_type": "code",
   "execution_count": 48,
   "metadata": {
    "id": "mCBeWvQ6kxhk"
   },
   "outputs": [],
   "source": [
    "All_top.extend(keyphrases)"
   ]
  },
  {
   "cell_type": "code",
   "execution_count": 49,
   "metadata": {
    "colab": {
     "base_uri": "https://localhost:8080/"
    },
    "id": "FD-8M6r7mxF2",
    "outputId": "fe8bb28c-6f7e-49ae-e5db-05318c580684"
   },
   "outputs": [
    {
     "data": {
      "text/plain": [
       "[('machine learning ml', 0.03460402826333003),\n",
       " ('data', 0.03146478114214189),\n",
       " ('machine learning algorithms', 0.015528988438678903),\n",
       " ('model', 0.015368034747002143),\n",
       " ('example', 0.01468000728085772),\n",
       " ('training data', 0.01084857124954139),\n",
       " ('machine', 0.010604700360021369),\n",
       " ('conventional algorithms', 0.009575633824453212),\n",
       " ('example inputs', 0.009351696967662712),\n",
       " ('computers', 0.008683958821422219),\n",
       " ('system', 0.008640889792579516),\n",
       " ('predictions', 0.008227132080922657),\n",
       " ('computer program', 0.008070677307245184),\n",
       " ('field', 0.007970823506572125),\n",
       " ('set', 0.007807046487473258),\n",
       " ('classification', 0.007300332409018489),\n",
       " ('neural networks', 0.006646182653536191),\n",
       " ('tasks', 0.0061714720672786895),\n",
       " ('end feature', 0.006160738980738472),\n",
       " ('knowledge discovery', 0.005974768835554924),\n",
       " ('machine learning ml', 0.06571304157291642),\n",
       " ('data', 0.01786833915206301),\n",
       " ('field', 0.014944151120802445),\n",
       " ('machine learning', 0.012945887498996701),\n",
       " ('machine learning algorithms', 0.012083390622813392),\n",
       " ('building methods', 0.011260580542195291),\n",
       " ('model', 0.010198564828795666),\n",
       " ('conventional algorithms', 0.009375531528853629),\n",
       " ('example', 0.008541157419457886),\n",
       " ('set', 0.008031085584558362),\n",
       " ('computers', 0.00792791338070427),\n",
       " ('learning', 0.007903165951338904),\n",
       " ('machine', 0.006561983290809469),\n",
       " ('tasks', 0.006131264352866993),\n",
       " ('predictions', 0.006098382047848734),\n",
       " ('example inputs', 0.0059082283863764705),\n",
       " ('inquiry', 0.0056718272090088995),\n",
       " ('training data', 0.005607907408386578),\n",
       " ('algorithms', 0.005198719875184716),\n",
       " ('computer program', 0.005091125834489267),\n",
       " ('training machine learning models', 0.09556815784076879),\n",
       " ('other machine learning algorithms', 0.09355739356128984),\n",
       " ('rulebased machine learning algorithm', 0.08958692332312626),\n",
       " ('machine learning algorithms', 0.08907533647046892),\n",
       " ('deep learning algorithms.statisticsmachine learning', 0.08705659578681689),\n",
       " ('posts machine learning models', 0.08689276826982527),\n",
       " ('machine learning models', 0.08650677392350549),\n",
       " ('many machine learning methods', 0.08597336532907134),\n",
       " ('same machine learning system', 0.08198298312183659),\n",
       " ('rulebased machine learning method', 0.08134072000462719),\n",
       " ('machine learning methods', 0.08082913315196984),\n",
       " ('machine learning system', 0.08073253158021594),\n",
       " ('other fieldsthe term machine learning', 0.07916556462016992),\n",
       " ('machine learning field', 0.07746144104226826),\n",
       " ('machine learning approaches', 0.07673977441985459),\n",
       " ('machine learning tasks', 0.07631137502411017),\n",
       " ('machine learning techniques', 0.07579948518778895),\n",
       " ('supervised machine learning', 0.07518922399466496),\n",
       " ('opensource machine learning software', 0.07403819860539401),\n",
       " ('inductive machine learning', 0.07369791235257471),\n",
       " ('machine learning ml', 0),\n",
       " ('field', -5),\n",
       " ('inquiry', -7),\n",
       " ('understanding', -10),\n",
       " ('building methods', -12),\n",
       " ('methods', -20),\n",
       " ('data', -23),\n",
       " ('performance', -26),\n",
       " ('set', -29),\n",
       " ('tasks', -31),\n",
       " ('part', -38),\n",
       " ('artificial intelligence', -40),\n",
       " ('machine learning algorithms', -43),\n",
       " ('model', -48),\n",
       " ('sample data', -51),\n",
       " ('training data', -56),\n",
       " ('order', -60),\n",
       " ('predictions', -63),\n",
       " ('decisions', -65),\n",
       " ('wide variety', -81),\n",
       " ('machine learning', 288.95847250297174),\n",
       " ('learning', 280.0640687694115),\n",
       " ('machine', 205.1763872316019),\n",
       " ('training', 124.13871063631703),\n",
       " ('neural', 91.89893178587556),\n",
       " ('artificial', 90.4662036687199),\n",
       " ('learning algorithms', 90.4662036687199),\n",
       " ('neurons', 86.15890908017921),\n",
       " ('neural networks', 72.86971492691359),\n",
       " ('unsupervised', 72.73430566081912),\n",
       " ('artificial neurons', 71.79909090014934),\n",
       " ('machine learning models', 55.94946589293778),\n",
       " ('supervised', 54.01173393178601),\n",
       " ('machine learning algorithms', 50.544412482231564),\n",
       " ('unsupervised learning', 49.439272720119476),\n",
       " ('data mining', 45.94946589293778),\n",
       " ('learning models', 45.94946589293778),\n",
       " ('dictionary', 43.72554167957331),\n",
       " ('data', 43.390909003366595),\n",
       " ('dictionary learning', 43.07945454008961),\n",
       " ('machine learning', 2067.813817924301),\n",
       " ('learning algorithms', 560.0329090211649),\n",
       " ('neural networks', 323.09590905067205),\n",
       " ('learning', 280.0640687694115),\n",
       " ('training data', 280.01645451058243),\n",
       " ('machine learning algorithms', 236.93699997049285),\n",
       " ('data mining', 215.39727270044804),\n",
       " ('machine', 205.1763872316019),\n",
       " ('artificial intelligence', 172.31781816035843),\n",
       " ('unsupervised learning', 172.31781816035843),\n",
       " ('training', 124.13871063631703),\n",
       " ('neural', 91.89893178587556),\n",
       " ('artificial', 90.4662036687199),\n",
       " ('unsupervised', 72.73430566081912),\n",
       " ('data', 43.390909003366595),\n",
       " ('intelligence', 39.84520700936883),\n",
       " ('predictions', 38.47558287198958),\n",
       " ('mining', 33.45110000683409),\n",
       " ('programmed', 32.431651016327336),\n",
       " ('field', 29.03977270903471)]"
      ]
     },
     "execution_count": 49,
     "metadata": {},
     "output_type": "execute_result"
    }
   ],
   "source": [
    "All_top"
   ]
  },
  {
   "cell_type": "markdown",
   "metadata": {
    "id": "13c9elE_pD4t"
   },
   "source": [
    "## Supervised\n",
    "\n"
   ]
  },
  {
   "cell_type": "markdown",
   "metadata": {
    "id": "_YQmCNAZpNVw"
   },
   "source": [
    "### Kea"
   ]
  },
  {
   "cell_type": "code",
   "execution_count": 50,
   "metadata": {
    "colab": {
     "base_uri": "https://localhost:8080/"
    },
    "id": "EyLD42bRpDKT",
    "outputId": "f9f56e9a-b319-4da7-ed5f-8797de6576cd"
   },
   "outputs": [
    {
     "name": "stderr",
     "output_type": "stream",
     "text": [
      "WARNING:root:LoadFile._df_counts is hard coded to /usr/local/lib/python3.7/dist-packages/pke/models/df-semeval2010.tsv.gz\n",
      "/usr/local/lib/python3.7/dist-packages/sklearn/base.py:338: UserWarning: Trying to unpickle estimator MultinomialNB from version 0.20.0 when using version 1.0.2. This might lead to breaking code or invalid results. Use at your own risk. For more info please refer to:\n",
      "https://scikit-learn.org/stable/modules/model_persistence.html#security-maintainability-limitations\n",
      "  UserWarning,\n"
     ]
    }
   ],
   "source": [
    "# 1. create a Kea extractor.\n",
    "extractor = pke.supervised.Kea()\n",
    "\n",
    "# 2. load the content of the document.\n",
    "stoplist = pke.lang.stopwords.get('en')\n",
    "extractor.load_document(input=txt, language='en')\n",
    "\n",
    "# 3. select 1-3 grams that do not start or end with a stopword as\n",
    "#    candidates. Candidates that contain punctuation marks as words\n",
    "#    are discarded.\n",
    "extractor.candidate_selection()\n",
    "\n",
    "# 4. classify candidates as keyphrase or not keyphrase.\n",
    "#df = pke.load_document_frequency_file(input_file='path/to/df.tsv.gz')\n",
    "#model_file = 'path/to/kea_model'\n",
    "#model_file=model_file,df=df\n",
    "extractor.candidate_weighting()\n",
    "\n",
    "# 5. get the 10-highest scored candidates as keyphrases\n",
    "keyphrases = extractor.get_n_best(n=20)"
   ]
  },
  {
   "cell_type": "code",
   "execution_count": 51,
   "metadata": {
    "id": "xsPbeX_rpqaY"
   },
   "outputs": [],
   "source": [
    "All_top.extend(keyphrases)"
   ]
  },
  {
   "cell_type": "code",
   "execution_count": 52,
   "metadata": {
    "colab": {
     "base_uri": "https://localhost:8080/"
    },
    "id": "ieewaNZPpsNa",
    "outputId": "61f43d68-ff1d-4946-9e8c-88ad81f3cf41"
   },
   "outputs": [
    {
     "data": {
      "text/plain": [
       "[('machine learning ml', 0.03460402826333003),\n",
       " ('data', 0.03146478114214189),\n",
       " ('machine learning algorithms', 0.015528988438678903),\n",
       " ('model', 0.015368034747002143),\n",
       " ('example', 0.01468000728085772),\n",
       " ('training data', 0.01084857124954139),\n",
       " ('machine', 0.010604700360021369),\n",
       " ('conventional algorithms', 0.009575633824453212),\n",
       " ('example inputs', 0.009351696967662712),\n",
       " ('computers', 0.008683958821422219),\n",
       " ('system', 0.008640889792579516),\n",
       " ('predictions', 0.008227132080922657),\n",
       " ('computer program', 0.008070677307245184),\n",
       " ('field', 0.007970823506572125),\n",
       " ('set', 0.007807046487473258),\n",
       " ('classification', 0.007300332409018489),\n",
       " ('neural networks', 0.006646182653536191),\n",
       " ('tasks', 0.0061714720672786895),\n",
       " ('end feature', 0.006160738980738472),\n",
       " ('knowledge discovery', 0.005974768835554924),\n",
       " ('machine learning ml', 0.06571304157291642),\n",
       " ('data', 0.01786833915206301),\n",
       " ('field', 0.014944151120802445),\n",
       " ('machine learning', 0.012945887498996701),\n",
       " ('machine learning algorithms', 0.012083390622813392),\n",
       " ('building methods', 0.011260580542195291),\n",
       " ('model', 0.010198564828795666),\n",
       " ('conventional algorithms', 0.009375531528853629),\n",
       " ('example', 0.008541157419457886),\n",
       " ('set', 0.008031085584558362),\n",
       " ('computers', 0.00792791338070427),\n",
       " ('learning', 0.007903165951338904),\n",
       " ('machine', 0.006561983290809469),\n",
       " ('tasks', 0.006131264352866993),\n",
       " ('predictions', 0.006098382047848734),\n",
       " ('example inputs', 0.0059082283863764705),\n",
       " ('inquiry', 0.0056718272090088995),\n",
       " ('training data', 0.005607907408386578),\n",
       " ('algorithms', 0.005198719875184716),\n",
       " ('computer program', 0.005091125834489267),\n",
       " ('training machine learning models', 0.09556815784076879),\n",
       " ('other machine learning algorithms', 0.09355739356128984),\n",
       " ('rulebased machine learning algorithm', 0.08958692332312626),\n",
       " ('machine learning algorithms', 0.08907533647046892),\n",
       " ('deep learning algorithms.statisticsmachine learning', 0.08705659578681689),\n",
       " ('posts machine learning models', 0.08689276826982527),\n",
       " ('machine learning models', 0.08650677392350549),\n",
       " ('many machine learning methods', 0.08597336532907134),\n",
       " ('same machine learning system', 0.08198298312183659),\n",
       " ('rulebased machine learning method', 0.08134072000462719),\n",
       " ('machine learning methods', 0.08082913315196984),\n",
       " ('machine learning system', 0.08073253158021594),\n",
       " ('other fieldsthe term machine learning', 0.07916556462016992),\n",
       " ('machine learning field', 0.07746144104226826),\n",
       " ('machine learning approaches', 0.07673977441985459),\n",
       " ('machine learning tasks', 0.07631137502411017),\n",
       " ('machine learning techniques', 0.07579948518778895),\n",
       " ('supervised machine learning', 0.07518922399466496),\n",
       " ('opensource machine learning software', 0.07403819860539401),\n",
       " ('inductive machine learning', 0.07369791235257471),\n",
       " ('machine learning ml', 0),\n",
       " ('field', -5),\n",
       " ('inquiry', -7),\n",
       " ('understanding', -10),\n",
       " ('building methods', -12),\n",
       " ('methods', -20),\n",
       " ('data', -23),\n",
       " ('performance', -26),\n",
       " ('set', -29),\n",
       " ('tasks', -31),\n",
       " ('part', -38),\n",
       " ('artificial intelligence', -40),\n",
       " ('machine learning algorithms', -43),\n",
       " ('model', -48),\n",
       " ('sample data', -51),\n",
       " ('training data', -56),\n",
       " ('order', -60),\n",
       " ('predictions', -63),\n",
       " ('decisions', -65),\n",
       " ('wide variety', -81),\n",
       " ('machine learning', 288.95847250297174),\n",
       " ('learning', 280.0640687694115),\n",
       " ('machine', 205.1763872316019),\n",
       " ('training', 124.13871063631703),\n",
       " ('neural', 91.89893178587556),\n",
       " ('artificial', 90.4662036687199),\n",
       " ('learning algorithms', 90.4662036687199),\n",
       " ('neurons', 86.15890908017921),\n",
       " ('neural networks', 72.86971492691359),\n",
       " ('unsupervised', 72.73430566081912),\n",
       " ('artificial neurons', 71.79909090014934),\n",
       " ('machine learning models', 55.94946589293778),\n",
       " ('supervised', 54.01173393178601),\n",
       " ('machine learning algorithms', 50.544412482231564),\n",
       " ('unsupervised learning', 49.439272720119476),\n",
       " ('data mining', 45.94946589293778),\n",
       " ('learning models', 45.94946589293778),\n",
       " ('dictionary', 43.72554167957331),\n",
       " ('data', 43.390909003366595),\n",
       " ('dictionary learning', 43.07945454008961),\n",
       " ('machine learning', 2067.813817924301),\n",
       " ('learning algorithms', 560.0329090211649),\n",
       " ('neural networks', 323.09590905067205),\n",
       " ('learning', 280.0640687694115),\n",
       " ('training data', 280.01645451058243),\n",
       " ('machine learning algorithms', 236.93699997049285),\n",
       " ('data mining', 215.39727270044804),\n",
       " ('machine', 205.1763872316019),\n",
       " ('artificial intelligence', 172.31781816035843),\n",
       " ('unsupervised learning', 172.31781816035843),\n",
       " ('training', 124.13871063631703),\n",
       " ('neural', 91.89893178587556),\n",
       " ('artificial', 90.4662036687199),\n",
       " ('unsupervised', 72.73430566081912),\n",
       " ('data', 43.390909003366595),\n",
       " ('intelligence', 39.84520700936883),\n",
       " ('predictions', 38.47558287198958),\n",
       " ('mining', 33.45110000683409),\n",
       " ('programmed', 32.431651016327336),\n",
       " ('field', 29.03977270903471),\n",
       " ('machine learning', 0.050002973210251184),\n",
       " ('learning', 0.04661539272929031),\n",
       " ('machine', 0.025637103861771655),\n",
       " ('training', 0.013201408760894623),\n",
       " ('artificial', 0.010039187511127826),\n",
       " ('learning algorithms', 0.010035110193377309),\n",
       " ('neural', 0.010005173908916146),\n",
       " ('unsupervised', 0.00855988135247364),\n",
       " ('neural networks', 0.008559815038840166),\n",
       " ('machine learning algorithms', 0.007232849197655275),\n",
       " ('unsupervised learning', 0.007069590075616781),\n",
       " ('data mining', 0.006880221928159287),\n",
       " ('supervised', 0.006846940129186193),\n",
       " ('data', 0.006833830642865113),\n",
       " ('training data', 0.006634664099877674),\n",
       " ('intelligence', 0.006625362383564926),\n",
       " ('artificial intelligence', 0.006572793988039418),\n",
       " ('predictions', 0.006536506527463028),\n",
       " ('brain', 0.006371646275494925),\n",
       " ('programmed', 0.006215781972310094)]"
      ]
     },
     "execution_count": 52,
     "metadata": {},
     "output_type": "execute_result"
    }
   ],
   "source": [
    "All_top"
   ]
  },
  {
   "cell_type": "markdown",
   "metadata": {
    "id": "5PScxChevXz_"
   },
   "source": [
    "# Compare keyphrases For All Modesl"
   ]
  },
  {
   "cell_type": "code",
   "execution_count": 53,
   "metadata": {
    "id": "68rSGw6Mv0jf"
   },
   "outputs": [],
   "source": [
    "import numpy as np"
   ]
  },
  {
   "cell_type": "code",
   "execution_count": 54,
   "metadata": {
    "id": "owkepdkxvQwn"
   },
   "outputs": [],
   "source": [
    "x = np.array(All_top)\n",
    "u = np.unique(x)"
   ]
  },
  {
   "cell_type": "code",
   "execution_count": 55,
   "metadata": {
    "colab": {
     "base_uri": "https://localhost:8080/"
    },
    "id": "G5NrfLKbyvhV",
    "outputId": "4dae8573-5412-406e-aee4-e8decef471f9"
   },
   "outputs": [
    {
     "data": {
      "text/plain": [
       "array(['45.94946589293778', '49.439272720119476', '50.544412482231564',\n",
       "       '54.01173393178601', '55.94946589293778', '560.0329090211649',\n",
       "       '71.79909090014934', '72.73430566081912', '72.86971492691359',\n",
       "       '86.15890908017921', '90.4662036687199', '91.89893178587556',\n",
       "       'algorithms', 'artificial', 'artificial intelligence',\n",
       "       'artificial neurons', 'brain', 'building methods',\n",
       "       'classification', 'computer program', 'computers',\n",
       "       'conventional algorithms', 'data', 'data mining', 'decisions',\n",
       "       'deep learning algorithms.statisticsmachine learning',\n",
       "       'dictionary', 'dictionary learning', 'end feature', 'example',\n",
       "       'example inputs', 'field', 'inductive machine learning', 'inquiry',\n",
       "       'intelligence', 'knowledge discovery', 'learning',\n",
       "       'learning algorithms', 'learning models', 'machine',\n",
       "       'machine learning', 'machine learning algorithms',\n",
       "       'machine learning approaches', 'machine learning field',\n",
       "       'machine learning methods', 'machine learning ml',\n",
       "       'machine learning models', 'machine learning system',\n",
       "       'machine learning tasks', 'machine learning techniques',\n",
       "       'many machine learning methods', 'methods', 'mining', 'model',\n",
       "       'neural', 'neural networks', 'neurons',\n",
       "       'opensource machine learning software', 'order',\n",
       "       'other fieldsthe term machine learning',\n",
       "       'other machine learning algorithms', 'part', 'performance',\n",
       "       'posts machine learning models', 'predictions', 'programmed',\n",
       "       'rulebased machine learning algorithm',\n",
       "       'rulebased machine learning method',\n",
       "       'same machine learning system', 'sample data', 'set', 'supervised',\n",
       "       'supervised machine learning', 'system', 'tasks', 'training',\n",
       "       'training data', 'training machine learning models',\n",
       "       'understanding', 'unsupervised', 'unsupervised learning',\n",
       "       'wide variety'], dtype='<U51')"
      ]
     },
     "execution_count": 55,
     "metadata": {},
     "output_type": "execute_result"
    }
   ],
   "source": [
    "z = u[118:]\n",
    "z"
   ]
  },
  {
   "cell_type": "code",
   "execution_count": 56,
   "metadata": {
    "id": "JZEKw-t0vgnx"
   },
   "outputs": [],
   "source": [
    "l = []\n",
    "for i in z:\n",
    "  cnt = 0\n",
    "  for ii in range(len(All_top)):\n",
    "    if i == All_top[ii][0]:\n",
    "      cnt += 1\n",
    "  if cnt >=2:\n",
    "    l.append(i)       "
   ]
  },
  {
   "cell_type": "code",
   "execution_count": 57,
   "metadata": {
    "colab": {
     "base_uri": "https://localhost:8080/"
    },
    "id": "0i3Jp7XVxl2D",
    "outputId": "f59a9ab5-0c46-4c07-fcc6-e4a125ebdf2d"
   },
   "outputs": [
    {
     "data": {
      "text/plain": [
       "['artificial',\n",
       " 'artificial intelligence',\n",
       " 'building methods',\n",
       " 'computer program',\n",
       " 'computers',\n",
       " 'conventional algorithms',\n",
       " 'data',\n",
       " 'data mining',\n",
       " 'example',\n",
       " 'example inputs',\n",
       " 'field',\n",
       " 'inquiry',\n",
       " 'intelligence',\n",
       " 'learning',\n",
       " 'learning algorithms',\n",
       " 'machine',\n",
       " 'machine learning',\n",
       " 'machine learning algorithms',\n",
       " 'machine learning ml',\n",
       " 'machine learning models',\n",
       " 'model',\n",
       " 'neural',\n",
       " 'neural networks',\n",
       " 'predictions',\n",
       " 'programmed',\n",
       " 'set',\n",
       " 'supervised',\n",
       " 'tasks',\n",
       " 'training',\n",
       " 'training data',\n",
       " 'unsupervised',\n",
       " 'unsupervised learning']"
      ]
     },
     "execution_count": 57,
     "metadata": {},
     "output_type": "execute_result"
    }
   ],
   "source": [
    "l"
   ]
  },
  {
   "cell_type": "code",
   "execution_count": 58,
   "metadata": {
    "colab": {
     "base_uri": "https://localhost:8080/"
    },
    "id": "wB6__BYMFqBX",
    "outputId": "794d32d5-c8f8-4149-cc0d-14cf769d540d"
   },
   "outputs": [
    {
     "name": "stdout",
     "output_type": "stream",
     "text": [
      "Looking in indexes: https://pypi.org/simple, https://us-python.pkg.dev/colab-wheels/public/simple/\n",
      "Collecting flashtext\n",
      "  Downloading flashtext-2.7.tar.gz (14 kB)\n",
      "Building wheels for collected packages: flashtext\n",
      "  Building wheel for flashtext (setup.py) ... \u001b[?25l\u001b[?25hdone\n",
      "  Created wheel for flashtext: filename=flashtext-2.7-py2.py3-none-any.whl size=9309 sha256=e998324f927f58057558bf671a1087959a01b43af02eea2c4e268d3e86680229\n",
      "  Stored in directory: /root/.cache/pip/wheels/cb/19/58/4e8fdd0009a7f89dbce3c18fff2e0d0fa201d5cdfd16f113b7\n",
      "Successfully built flashtext\n",
      "Installing collected packages: flashtext\n",
      "Successfully installed flashtext-2.7\n"
     ]
    }
   ],
   "source": [
    "!pip install flashtext"
   ]
  },
  {
   "cell_type": "code",
   "execution_count": 59,
   "metadata": {
    "colab": {
     "base_uri": "https://localhost:8080/"
    },
    "id": "FTuYF7Nd2kJd",
    "outputId": "1c6e6785-2f43-4e7f-d06c-d4704d4b2756"
   },
   "outputs": [
    {
     "name": "stderr",
     "output_type": "stream",
     "text": [
      "[nltk_data] Downloading package punkt to /root/nltk_data...\n",
      "[nltk_data]   Unzipping tokenizers/punkt.zip.\n"
     ]
    }
   ],
   "source": [
    "import nltk\n",
    "nltk.download('punkt')\n",
    "  \n",
    "from nltk.tokenize import sent_tokenize\n",
    "from flashtext import KeywordProcessor\n",
    "\n",
    "def tokenize_sentences(text):\n",
    "    sentences = [sent_tokenize(text)]\n",
    "    sentences = [y for x in sentences for y in x]\n",
    "    # Remove any short sentences less than 20 letters.\n",
    "    sentences = [sentence.strip() for sentence in sentences if len(sentence) > 20]\n",
    "    return sentences\n",
    "\n",
    "def get_sentences_for_keyword(keywords, sentences):\n",
    "    keyword_processor = KeywordProcessor()\n",
    "    keyword_sentences = {}\n",
    "    for word in keywords:\n",
    "        keyword_sentences[word] = []\n",
    "        keyword_processor.add_keyword(word)\n",
    "    for sentence in sentences:\n",
    "        keywords_found = keyword_processor.extract_keywords(sentence)\n",
    "        for key in keywords_found:\n",
    "            keyword_sentences[key].append(sentence)\n",
    "\n",
    "    for key in keyword_sentences.keys():\n",
    "        values = keyword_sentences[key]\n",
    "        values = sorted(values, key=len, reverse=True)\n",
    "        keyword_sentences[key] = values\n",
    "    return keyword_sentences\n",
    "\n",
    "sentences = tokenize_sentences(txt)\n",
    "keyword_sentence_mapping = get_sentences_for_keyword(l, sentences)\n",
    "        "
   ]
  },
  {
   "cell_type": "code",
   "execution_count": 60,
   "metadata": {
    "colab": {
     "base_uri": "https://localhost:8080/"
    },
    "id": "BnswTOgh5KSl",
    "outputId": "de15ffa5-f252-4a88-dda9-cfe31bdb479f"
   },
   "outputs": [
    {
     "data": {
      "text/plain": [
       "{'artificial': ['embedded machine learning could be applied through several techniques including hardware acceleration, using approximate computing, optimization of machine learning models and many more.softwaresoftware suites containing a variety of machine learning algorithms include the followingfree and opensource softwareproprietary software with free and opensource editionsknimerapidminerproprietary softwarejournalsjournal of machine learning researchmachine learningnature machine intelligenceneural computationconferencesaaai conference on artificial intelligenceassociation for computational linguistics acleuropean conference on machine learning and principles and practice of knowledge discovery in databases ecml pkddinternational conference on computational intelligence methods for bioinformatics and biostatistics cibbinternational conference on machine learning icmlinternational conference on learning representations iclrinternational conference on intelligent robots and systems irosconference on knowledge discovery and data mining kddconference on neural information processing systems neuripssee alsoautomated machine learning – process of automating the application of machine learningbig data – information assets characterized by high volume, velocity, and varietydifferentiable programming – programming paradigmlist of important publications in machine learninglist of datasets for machinelearning researchreferencessourcesdomingos, pedro september , .',\n",
       "  'more generally the term is applicable to other artificial neural networks in which a memristor or other electrically adjustable resistance material is used to emulate a neural synapse.embedded machine learningembedded machine learning is a subfield of machine learning, where the machine learning model is run on embedded systems with limited computing resources such as wearable computers, edge devices and microcontrollers.',\n",
       "  'rulebased machine learning approaches include learning classifier systems, association rule learning, and artificial immune systems.based on the concept of strong rules, rakesh agrawal, tomasz imieliński and arun swami introduced association rules for discovering regularities between products in largescale transaction data recorded by pointofsale pos systems in supermarkets.',\n",
       "  'concern for fairness in machine learning, that is, reducing bias in machine learning and propelling its use for human good is increasingly expressed by artificial intelligence scientists, including feifei li, who reminds engineers that there’s nothing artificial about ai...it’s inspired by people, it’s created by people, and—most importantly—it impacts people.',\n",
       "  'artificial neural networks have been used on a variety of tasks, including computer vision, speech recognition, machine translation, social network filtering, playing board and video games and medical diagnosis.deep learning consists of multiple hidden layers in an artificial neural network.',\n",
       "  'artificial neural networks have been used on a variety of tasks, including computer vision, speech recognition, machine translation, social network filtering, playing board and video games and medical diagnosis.deep learning consists of multiple hidden layers in an artificial neural network.',\n",
       "  'such systems learn to perform tasks by considering examples, generally without being programmed with any taskspecific rules.an ann is a model based on a collection of connected units or nodes called artificial neurons, which loosely model the neurons in a biological brain.',\n",
       "  'various types of models have been used and researched for machine learning systems.artificial neural networksartificial neural networks anns, or connectionist systems, are computing systems vaguely inspired by the biological neural networks that constitute animal brains.',\n",
       "  'months.neuromorphicphysical neural networksa physical neural network or neuromorphic computer  is a type of artificial neural network in which an electrically adjustable material is used to emulate the function of a neural synapse.',\n",
       "  'a machine learning algorithm for stock trading may inform the trader of future potential predictions.artificial intelligenceas a scientific endeavor, machine learning grew out of the quest for artificial intelligence.',\n",
       "  'in common ann implementations, the signal at a connection between artificial neurons is a real number, and the output of each artificial neuron is computed by some nonlinear function of the sum of its inputs.',\n",
       "  'in common ann implementations, the signal at a connection between artificial neurons is a real number, and the output of each artificial neuron is computed by some nonlinear function of the sum of its inputs.',\n",
       "  'each connection, like the synapses in a biological brain, can transmit information, a signal, from one artificial neuron to another.',\n",
       "  'an artificial neuron that receives a signal can process it and then signal additional artificial neurons connected to it.',\n",
       "  'an artificial neuron that receives a signal can process it and then signal additional artificial neurons connected to it.',\n",
       "  'artificial neurons may have a threshold such that the signal is only sent if the aggregate signal crosses that threshold.',\n",
       "  'examples include artificial neural networks, multilayer perceptrons, and supervised dictionary learning.',\n",
       "  'artificial neurons and edges typically have a weight that adjusts as learning proceeds.',\n",
       "  'the connections between artificial neurons are called edges.',\n",
       "  'typically, artificial neurons are aggregated into layers.'],\n",
       " 'artificial intelligence': ['machine learning ethics is becoming a field of study and notably be integrated within machine learning engineering teams.federated learningfederated learning is an adapted form of distributed artificial intelligence to training machine learning models that decentralizes the training process, allowing for users privacy to be maintained by not needing to send their data to a centralized server.',\n",
       "  'concern for fairness in machine learning, that is, reducing bias in machine learning and propelling its use for human good is increasingly expressed by artificial intelligence scientists, including feifei li, who reminds engineers that there’s nothing artificial about ai...it’s inspired by people, it’s created by people, and—most importantly—it impacts people.',\n",
       "  'for example, to train a system for the task of digital character recognition, the mnist dataset of handwritten digits has often been used.history and relationships to other fieldsthe term machine learning was coined in  by arthur samuel, an ibm employee and pioneer in the field of computer gaming and artificial intelligence.',\n",
       "  'their main success came in the mids with the reinvention of backpropagation.machine learning ml, reorganized as a separate field, started to flourish in the s. the field changed its goal from achieving artificial intelligence to tackling solvable problems of a practical nature.',\n",
       "  'a machine learning algorithm for stock trading may inform the trader of future potential predictions.artificial intelligenceas a scientific endeavor, machine learning grew out of the quest for artificial intelligence.',\n",
       "  'retrieved  november .russell, stuart j. norvig, peter , artificial intelligence a modern approach nd ed., upper saddle river, new jersey prentice hall, isbn .poole, david mackworth, alan goebel, randy .',\n",
       "  'it is seen as a part of artificial intelligence.',\n",
       "  'artificial intelligence a new synthesis.'],\n",
       " 'building methods': ['machine learning ml is a field of inquiry devoted to understanding and building methods that learn, that is, methods that leverage data to improve performance on some set of tasks.'],\n",
       " 'computer program': ['in  a report was given on using teaching strategies so that a neural network learns to recognize  characters  letters,  digits, and  special symbols from a computer terminal.tom m. mitchell provided a widely quoted, more formal definition of the algorithms studied in the machine learning field a computer program is said to learn from experience e with respect to some class of tasks t and performance measure p if its performance at tasks in t, as measured by p,  improves with experience e. this definition of the tasks in which machine learning is concerned offers a fundamentally operational definition rather than defining the field in cognitive terms.',\n",
       "  'unsupervised learning can be a goal in itself discovering hidden patterns in data or a means towards an end feature learning.reinforcement learning a computer program interacts with a dynamic environment in which it must perform a certain goal such as driving a vehicle or playing a game against an opponent.',\n",
       "  'for example, in , the uks commission for racial equality found that st. georges medical school had been using a computer program trained from data of previous admissions staff and this program had denied nearly  candidates who were found to be either women or had noneuropean sounding names.'],\n",
       " 'computers': ['machine learning algorithms are used in a wide variety of applications, such as in medicine, email filtering, speech recognition, and computer vision, where it is difficult or unfeasible to develop conventional algorithms to perform the needed tasks.a subset of machine learning is closely related to computational statistics, which focuses on making predictions using computers, but not all machine learning is statistical learning.',\n",
       "  'more generally the term is applicable to other artificial neural networks in which a memristor or other electrically adjustable resistance material is used to emulate a neural synapse.embedded machine learningembedded machine learning is a subfield of machine learning, where the machine learning model is run on embedded systems with limited computing resources such as wearable computers, edge devices and microcontrollers.',\n",
       "  'in practice, it can turn out to be more effective to help the machine develop its own algorithm, rather than having human programmers specify every needed step.the discipline of machine learning employs various approaches to teach computers to accomplish tasks where no fully satisfactory algorithm is available.',\n",
       "  'also the synonym selfteaching computers were used in this time period.by the early s an experimental learning machine with punched tape memory, called cybertron, had been developed by raytheon company to analyze sonar signals, electrocardiograms and speech patterns using rudimentary reinforcement learning.',\n",
       "  'for simple tasks assigned to computers, it is possible to program algorithms telling the machine how to execute all steps required to solve the problem at hand on the computers part, no learning is needed.',\n",
       "  'for simple tasks assigned to computers, it is possible to program algorithms telling the machine how to execute all steps required to solve the problem at hand on the computers part, no learning is needed.',\n",
       "  'it involves computers learning from data provided so that they carry out certain tasks.'],\n",
       " 'conventional algorithms': ['machine learning algorithms are used in a wide variety of applications, such as in medicine, email filtering, speech recognition, and computer vision, where it is difficult or unfeasible to develop conventional algorithms to perform the needed tasks.a subset of machine learning is closely related to computational statistics, which focuses on making predictions using computers, but not all machine learning is statistical learning.'],\n",
       " 'data': ['embedded machine learning could be applied through several techniques including hardware acceleration, using approximate computing, optimization of machine learning models and many more.softwaresoftware suites containing a variety of machine learning algorithms include the followingfree and opensource softwareproprietary software with free and opensource editionsknimerapidminerproprietary softwarejournalsjournal of machine learning researchmachine learningnature machine intelligenceneural computationconferencesaaai conference on artificial intelligenceassociation for computational linguistics acleuropean conference on machine learning and principles and practice of knowledge discovery in databases ecml pkddinternational conference on computational intelligence methods for bioinformatics and biostatistics cibbinternational conference on machine learning icmlinternational conference on learning representations iclrinternational conference on intelligent robots and systems irosconference on knowledge discovery and data mining kddconference on neural information processing systems neuripssee alsoautomated machine learning – process of automating the application of machine learningbig data – information assets characterized by high volume, velocity, and varietydifferentiable programming – programming paradigmlist of important publications in machine learninglist of datasets for machinelearning researchreferencessourcesdomingos, pedro september , .',\n",
       "  'most of the dimensionality reduction techniques can be considered as either feature elimination or extraction.one of the popular methods of dimensionality reduction is principal component analysis pca.pca involves changing higherdimensional data e.g., d to a smaller space e.g., d. this results in a smaller dimension of data d instead of d, while keeping all original variables in the model without changing the data.the manifold hypothesis proposes that highdimensional data sets lie along lowdimensional manifolds, and many dimensionality reduction techniques make this assumption, leading to the area of manifold learning and manifold regularization.other typesother approaches have been developed which dont fit neatly into this threefold categorisation, and sometimes more than one is used by the same machine learning system.',\n",
       "  'most of the dimensionality reduction techniques can be considered as either feature elimination or extraction.one of the popular methods of dimensionality reduction is principal component analysis pca.pca involves changing higherdimensional data e.g., d to a smaller space e.g., d. this results in a smaller dimension of data d instead of d, while keeping all original variables in the model without changing the data.the manifold hypothesis proposes that highdimensional data sets lie along lowdimensional manifolds, and many dimensionality reduction techniques make this assumption, leading to the area of manifold learning and manifold regularization.other typesother approaches have been developed which dont fit neatly into this threefold categorisation, and sometimes more than one is used by the same machine learning system.',\n",
       "  'most of the dimensionality reduction techniques can be considered as either feature elimination or extraction.one of the popular methods of dimensionality reduction is principal component analysis pca.pca involves changing higherdimensional data e.g., d to a smaller space e.g., d. this results in a smaller dimension of data d instead of d, while keeping all original variables in the model without changing the data.the manifold hypothesis proposes that highdimensional data sets lie along lowdimensional manifolds, and many dimensionality reduction techniques make this assumption, leading to the area of manifold learning and manifold regularization.other typesother approaches have been developed which dont fit neatly into this threefold categorisation, and sometimes more than one is used by the same machine learning system.',\n",
       "  'most of the dimensionality reduction techniques can be considered as either feature elimination or extraction.one of the popular methods of dimensionality reduction is principal component analysis pca.pca involves changing higherdimensional data e.g., d to a smaller space e.g., d. this results in a smaller dimension of data d instead of d, while keeping all original variables in the model without changing the data.the manifold hypothesis proposes that highdimensional data sets lie along lowdimensional manifolds, and many dimensionality reduction techniques make this assumption, leading to the area of manifold learning and manifold regularization.other typesother approaches have been developed which dont fit neatly into this threefold categorisation, and sometimes more than one is used by the same machine learning system.',\n",
       "  'some of the training examples are missing training labels,  yet many machinelearning researchers have found that unlabeled data, when used in conjunction with a small amount of labeled data, can produce a considerable improvement in learning accuracy.in weakly supervised learning, the training labels are noisy, limited, or imprecise however, these labels are often cheaper to obtain, resulting in larger effective training sets.reinforcement learningreinforcement learning is an area of machine learning concerned with how software agents ought to take actions in an environment so as to maximize some notion of cumulative reward.',\n",
       "  'some of the training examples are missing training labels,  yet many machinelearning researchers have found that unlabeled data, when used in conjunction with a small amount of labeled data, can produce a considerable improvement in learning accuracy.in weakly supervised learning, the training labels are noisy, limited, or imprecise however, these labels are often cheaper to obtain, resulting in larger effective training sets.reinforcement learningreinforcement learning is an area of machine learning concerned with how software agents ought to take actions in an environment so as to maximize some notion of cumulative reward.',\n",
       "  'for example, the rule                                       o          n          i          o          n          s          ,          p          o          t          a          t          o          e          s                        ⇒                          b          u          r          g          e          r                              displaystyle mathrm onions,potatoes rightarrow mathrm burger    found in the sales data of a supermarket would indicate that if a customer buys onions and potatoes together, they are likely to also buy hamburger meat.',\n",
       "  'he also suggested the term data science as a placeholder to call the overall field.leo breiman distinguished two statistical modeling paradigms data model and algorithmic model, wherein algorithmic model means more or less the machine learning algorithms like random forest.some statisticians have adopted methods from machine learning, leading to a combined field that they call statistical learning.theorya core objective of a learner is to generalize from its experience.',\n",
       "  'he also suggested the term data science as a placeholder to call the overall field.leo breiman distinguished two statistical modeling paradigms data model and algorithmic model, wherein algorithmic model means more or less the machine learning algorithms like random forest.some statisticians have adopted methods from machine learning, leading to a combined field that they call statistical learning.theorya core objective of a learner is to generalize from its experience.',\n",
       "  'parties can change the classification of any input, including in cases for which a type of datasoftware transparency is provided, possibly including whitebox access.model assessmentsclassification of machine learning models can be validated by accuracy estimation techniques like the holdout method, which splits the data in a training and test set conventionally  training set and  test set designation and evaluates the performance of the training model on the test set.',\n",
       "  'others have the view that not all ml is part of ai, but only an intelligent subset of ml should be considered ai.data miningmachine learning and data mining often employ the same methods and overlap significantly, but while machine learning focuses on prediction, based on known properties learned from the training data, data mining focuses on the discovery of previously unknown properties in the data this is the analysis step of knowledge discovery in databases.',\n",
       "  'others have the view that not all ml is part of ai, but only an intelligent subset of ml should be considered ai.data miningmachine learning and data mining often employ the same methods and overlap significantly, but while machine learning focuses on prediction, based on known properties learned from the training data, data mining focuses on the discovery of previously unknown properties in the data this is the analysis step of knowledge discovery in databases.',\n",
       "  'this follows alan turings proposal in his paper computing machinery and intelligence, in which the question can machines think is replaced with the question can machines do what we as thinking entities can do.modern day machine learning has two objectives, one is to classify data based on models which have been developed, the other purpose is to make predictions for future outcomes based on these models.',\n",
       "  'machine learning ethics is becoming a field of study and notably be integrated within machine learning engineering teams.federated learningfederated learning is an adapted form of distributed artificial intelligence to training machine learning models that decentralizes the training process, allowing for users privacy to be maintained by not needing to send their data to a centralized server.',\n",
       "  'rulebased machine learning approaches include learning classifier systems, association rule learning, and artificial immune systems.based on the concept of strong rules, rakesh agrawal, tomasz imieliński and arun swami introduced association rules for discovering regularities between products in largescale transaction data recorded by pointofsale pos systems in supermarkets.',\n",
       "  'though unsupervised learning encompasses other domains involving summarizing and explaining data features.cluster analysis is the assignment of a set of observations into subsets called clusters so that observations within the same cluster are similar according to one or more predesignated criteria, while observations drawn from different clusters are dissimilar.',\n",
       "  'the term inductive here refers to philosophical induction, suggesting a theory to explain observed facts, rather than mathematical induction, proving a property for all members of a wellordered set.modelsperforming machine learning involves creating a model, which is trained on some training data and then can process additional data to make predictions.',\n",
       "  'it has been argued that an intelligent machine is one that learns a representation that disentangles the underlying factors of variation that explain the observed data.feature learning is motivated by the fact that machine learning tasks such as classification often require input that is mathematically and computationally convenient to process.',\n",
       "  'the key idea is that a clean image patch can be sparsely represented by an image dictionary, but the noise cannot.anomaly detectionin data mining, anomaly detection, also known as outlier detection, is the identification of rare items, events or observations which raise suspicions by differing significantly from the majority of the data.',\n",
       "  'in machine learning, genetic algorithms were used in the s and s. conversely, machine learning techniques have been used to improve the performance of genetic and evolutionary algorithms.training modelstypically, machine learning models require a high quantity of reliable data in order for the models to perform accurate predictions.',\n",
       "  'running machine learning model in embedded devices removes the need for transferring and storing data on cloud servers for further processing, henceforth, reducing data breaches and privacy leaks happening because of transferring data, and also minimizes theft of intellectual properties, personal data and business secrets.',\n",
       "  'running machine learning model in embedded devices removes the need for transferring and storing data on cloud servers for further processing, henceforth, reducing data breaches and privacy leaks happening because of transferring data, and also minimizes theft of intellectual properties, personal data and business secrets.',\n",
       "  'running machine learning model in embedded devices removes the need for transferring and storing data on cloud servers for further processing, henceforth, reducing data breaches and privacy leaks happening because of transferring data, and also minimizes theft of intellectual properties, personal data and business secrets.',\n",
       "  'running machine learning model in embedded devices removes the need for transferring and storing data on cloud servers for further processing, henceforth, reducing data breaches and privacy leaks happening because of transferring data, and also minimizes theft of intellectual properties, personal data and business secrets.',\n",
       "  'reasons for this are numerous lack of suitable data, lack of access to the data, data bias, privacy problems, badly chosen tasks and algorithms, wrong tools and people, lack of resources, and evaluation problems.in , a selfdriving car from uber failed to detect a pedestrian, who was killed after a collision.',\n",
       "  'reasons for this are numerous lack of suitable data, lack of access to the data, data bias, privacy problems, badly chosen tasks and algorithms, wrong tools and people, lack of resources, and evaluation problems.in , a selfdriving car from uber failed to detect a pedestrian, who was killed after a collision.',\n",
       "  'reasons for this are numerous lack of suitable data, lack of access to the data, data bias, privacy problems, badly chosen tasks and algorithms, wrong tools and people, lack of resources, and evaluation problems.in , a selfdriving car from uber failed to detect a pedestrian, who was killed after a collision.',\n",
       "  'unsupervised learning can be a goal in itself discovering hidden patterns in data or a means towards an end feature learning.reinforcement learning a computer program interacts with a dynamic environment in which it must perform a certain goal such as driving a vehicle or playing a game against an opponent.',\n",
       "  'it has applications in ranking, recommendation systems, visual identity tracking, face verification, and speaker verification.unsupervised learningunsupervised learning algorithms take a set of data that contains only inputs, and find structure in the data, like grouping or clustering of data points.',\n",
       "  'it has applications in ranking, recommendation systems, visual identity tracking, face verification, and speaker verification.unsupervised learningunsupervised learning algorithms take a set of data that contains only inputs, and find structure in the data, like grouping or clustering of data points.',\n",
       "  'it has applications in ranking, recommendation systems, visual identity tracking, face verification, and speaker verification.unsupervised learningunsupervised learning algorithms take a set of data that contains only inputs, and find structure in the data, like grouping or clustering of data points.',\n",
       "  'in data mining, a decision tree describes data, but the resulting classification tree can be an input for decision making.supportvector machinessupportvector machines svms, also known as supportvector networks, are a set of related supervised learning methods used for classification and regression.',\n",
       "  'for example, in , the uks commission for racial equality found that st. georges medical school had been using a computer program trained from data of previous admissions staff and this program had denied nearly  candidates who were found to be either women or had noneuropean sounding names.',\n",
       "  'different clustering techniques make different assumptions on the structure of the data, often defined by some similarity metric and evaluated, for example, by internal compactness, or the similarity between members of the same cluster, and separation, the difference between clusters.',\n",
       "  'many systems attempt to reduce overfitting by rewarding a theory in accordance with how well it fits the data, but penalizing the theory in accordance with how complex the theory is.other limitations and vulnerabilitieslearners can also disappoint by learning the wrong lesson.',\n",
       "  'while it has improved with training sets, it has not yet developed sufficiently to reduce the workload burden without limiting the necessary sensitivity for the findings research themselves.biasmachine learning approaches in particular can suffer from different data biases.',\n",
       "  'as it navigates its problem space, the program is provided feedback thats analogous to rewards, which it tries to maximize.supervised learningsupervised learning algorithms build a mathematical model of a set of data that contains both the inputs and the desired outputs.',\n",
       "  'supervised anomaly detection techniques require a data set that has been labeled as normal and abnormal and involves training a classifier the key difference to many other statistical classification problems is the inherently unbalanced nature of outlier detection.',\n",
       "  'unsupervised anomaly detection techniques detect anomalies in an unlabeled test data set under the assumption that the majority of the instances in the data set are normal, by looking for instances that seem to fit the least to the remainder of the data set.',\n",
       "  'unsupervised anomaly detection techniques detect anomalies in an unlabeled test data set under the assumption that the majority of the instances in the data set are normal, by looking for instances that seem to fit the least to the remainder of the data set.',\n",
       "  'unsupervised anomaly detection techniques detect anomalies in an unlabeled test data set under the assumption that the majority of the instances in the data set are normal, by looking for instances that seem to fit the least to the remainder of the data set.',\n",
       "  'responsible collection of data and documentation of algorithmic rules used by a system thus is a critical part of machine learning.ai can be wellequipped to make decisions in technical fields, which rely heavily on data and historical information.',\n",
       "  'responsible collection of data and documentation of algorithmic rules used by a system thus is a critical part of machine learning.ai can be wellequipped to make decisions in technical fields, which rely heavily on data and historical information.',\n",
       "  'this pattern does not adhere to the common statistical definition of an outlier as a rare object, and many outlier detection methods in particular, unsupervised algorithms will fail on such data unless it has been aggregated appropriately.',\n",
       "  'the bias–variance decomposition is one way to quantify generalization error.for the best performance in the context of generalization, the complexity of the hypothesis should match the complexity of the function underlying the data.',\n",
       "  'in comparison, the kfoldcrossvalidation method randomly partitions the data into k subsets and then k experiments are performed each respectively considering  subset for evaluation and the remaining k subsets for training the model.',\n",
       "  'multilinear subspace learning algorithms aim to learn lowdimensional representations directly from tensor representations for multidimensional data, without reshaping them into higherdimensional vectors.',\n",
       "  'using job hiring data from a firm with racist hiring policies may lead to a machine learning system duplicating the bias by scoring job applicants by similarity to previous successful applicants.',\n",
       "  'instead of responding to feedback, unsupervised learning algorithms identify commonalities in the data and react based on the presence or absence of such commonalities in each new piece of data.',\n",
       "  'instead of responding to feedback, unsupervised learning algorithms identify commonalities in the data and react based on the presence or absence of such commonalities in each new piece of data.',\n",
       "  'machine learning ml is a field of inquiry devoted to understanding and building methods that learn, that is, methods that leverage data to improve performance on some set of tasks.',\n",
       "  'machine learning algorithms build a model based on sample data, known as training data, in order to make predictions or decisions without being explicitly programmed to do so.',\n",
       "  'a hypothetical algorithm specific to classifying data may use computer vision of moles coupled with supervised learning in order to train it to classify the cancerous moles.',\n",
       "  'its most common form is linear regression, where a single line is drawn to best fit the given data according to a mathematical criterion such as ordinary least squares.',\n",
       "  'generalization in this context is the ability of a learning machine to perform accurately on new, unseen examplestasks after having experienced a learning data set.',\n",
       "  'data from the training set can be as varied as a corpus of text, a collection of images, sensor data, and data collected from individual users of a service.',\n",
       "  'data from the training set can be as varied as a corpus of text, a collection of images, sensor data, and data collected from individual users of a service.',\n",
       "  'data from the training set can be as varied as a corpus of text, a collection of images, sensor data, and data collected from individual users of a service.',\n",
       "  'when trained on manmade data, machine learning is likely to pick up the constitutional and unconscious biases already present in society.',\n",
       "  'when training a machine learning model, machine learning engineers need to target and collect a large and representative sample of data.',\n",
       "  'however, realworld data such as images, video, and sensory data has not yielded attempts to algorithmically define specific features.',\n",
       "  'however, realworld data such as images, video, and sensory data has not yielded attempts to algorithmically define specific features.',\n",
       "  'some implementations of machine learning use data and neural networks in a way that mimics the working of a biological brain.',\n",
       "  'in the early days of ai as an academic discipline, some researchers were interested in having machines learn from data.',\n",
       "  'probabilistic systems were plagued by theoretical and practical problems of data acquisition and representation.',\n",
       "  'data mining is a related field of study, focusing on exploratory data analysis through unsupervised learning.',\n",
       "  'trained models derived from biased or nonevaluated data can result in skewed or undesired predictions.',\n",
       "  'the algorithms, therefore, learn from test data that has not been labeled, classified or categorized.',\n",
       "  'if the hypothesis is less complex than the function, then the model has under fitted the data.',\n",
       "  'it involves computers learning from data provided so that they carry out certain tasks.',\n",
       "  'algorithmic bias is a potential result of data not being fully prepared for training.',\n",
       "  'in unsupervised feature learning, features are learned with unlabeled input data.',\n",
       "  'the data is known as training data, and consists of a set of training examples.',\n",
       "  'in supervised feature learning, features are learned using labeled input data.',\n",
       "  'language models learned from data have been shown to contain humanlike biases.'],\n",
       " 'data mining': ['embedded machine learning could be applied through several techniques including hardware acceleration, using approximate computing, optimization of machine learning models and many more.softwaresoftware suites containing a variety of machine learning algorithms include the followingfree and opensource softwareproprietary software with free and opensource editionsknimerapidminerproprietary softwarejournalsjournal of machine learning researchmachine learningnature machine intelligenceneural computationconferencesaaai conference on artificial intelligenceassociation for computational linguistics acleuropean conference on machine learning and principles and practice of knowledge discovery in databases ecml pkddinternational conference on computational intelligence methods for bioinformatics and biostatistics cibbinternational conference on machine learning icmlinternational conference on learning representations iclrinternational conference on intelligent robots and systems irosconference on knowledge discovery and data mining kddconference on neural information processing systems neuripssee alsoautomated machine learning – process of automating the application of machine learningbig data – information assets characterized by high volume, velocity, and varietydifferentiable programming – programming paradigmlist of important publications in machine learninglist of datasets for machinelearning researchreferencessourcesdomingos, pedro september , .',\n",
       "  'others have the view that not all ml is part of ai, but only an intelligent subset of ml should be considered ai.data miningmachine learning and data mining often employ the same methods and overlap significantly, but while machine learning focuses on prediction, based on known properties learned from the training data, data mining focuses on the discovery of previously unknown properties in the data this is the analysis step of knowledge discovery in databases.',\n",
       "  'others have the view that not all ml is part of ai, but only an intelligent subset of ml should be considered ai.data miningmachine learning and data mining often employ the same methods and overlap significantly, but while machine learning focuses on prediction, based on known properties learned from the training data, data mining focuses on the discovery of previously unknown properties in the data this is the analysis step of knowledge discovery in databases.',\n",
       "  'much of the confusion between these two research communities which do often have separate conferences and separate journals, ecml pkdd being a major exception comes from the basic assumptions they work with in machine learning, performance is usually evaluated with respect to the ability to reproduce known knowledge, while in knowledge discovery and data mining kdd the key task is the discovery of previously unknown knowledge.',\n",
       "  'the key idea is that a clean image patch can be sparsely represented by an image dictionary, but the noise cannot.anomaly detectionin data mining, anomaly detection, also known as outlier detection, is the identification of rare items, events or observations which raise suspicions by differing significantly from the majority of the data.',\n",
       "  'in data mining, a decision tree describes data, but the resulting classification tree can be an input for decision making.supportvector machinessupportvector machines svms, also known as supportvector networks, are a set of related supervised learning methods used for classification and regression.',\n",
       "  'data mining uses many machine learning methods, but with different goals on the other hand, machine learning also employs data mining methods as unsupervised learning or as a preprocessing step to improve learner accuracy.',\n",
       "  'data mining uses many machine learning methods, but with different goals on the other hand, machine learning also employs data mining methods as unsupervised learning or as a preprocessing step to improve learner accuracy.',\n",
       "  'data mining is a related field of study, focusing on exploratory data analysis through unsupervised learning.',\n",
       "  'it is one of the predictive modeling approaches used in statistics, data mining, and machine learning.'],\n",
       " 'example': ['when dealing with nonlinear problems, goto models include polynomial regression for example, used for trendline fitting in microsoft excel, logistic regression often used in statistical classification or even kernel regression, which introduces nonlinearity by taking advantage of the kernel trick to implicitly map input variables to higherdimensional space.bayesian networksa bayesian network, belief network, or directed acyclic graphical model is a probabilistic graphical model that represents a set of random variables and their conditional independence with a directed acyclic graph dag.',\n",
       "  'for example, the rule                                       o          n          i          o          n          s          ,          p          o          t          a          t          o          e          s                        ⇒                          b          u          r          g          e          r                              displaystyle mathrm onions,potatoes rightarrow mathrm burger    found in the sales data of a supermarket would indicate that if a customer buys onions and potatoes together, they are likely to also buy hamburger meat.',\n",
       "  'loss functions express the discrepancy between the predictions of the model being trained and the actual problem instances for example, in classification, one wants to assign a label to instances, and models are trained to correctly predict the preassigned labels of a set of examples.generalizationthe difference between optimization and machine learning arises from the goal of generalization while optimization algorithms can minimize the loss on a training set, machine learning is concerned with minimizing the loss on unseen samples.',\n",
       "  'for example, gboard uses federated machine learning to train search query prediction models on users mobile phones without having to send individual searches back to google.applicationsthere are many applications for machine learning, includingin , the mediaservices provider netflix held the first netflix prize competition to find a program to better predict user preferences and improve the accuracy of its existing cinematch movie recommendation algorithm by at least .',\n",
       "  'as an example, for a classification algorithm that filters emails, the input would be an incoming email, and the output would be the name of the folder in which to file the email.similarity learning is an area of supervised machine learning closely related to regression and classification, but the goal is to learn from examples using a similarity function that measures how similar or related two objects are.',\n",
       "  'for example, to train a system for the task of digital character recognition, the mnist dataset of handwritten digits has often been used.history and relationships to other fieldsthe term machine learning was coined in  by arthur samuel, an ibm employee and pioneer in the field of computer gaming and artificial intelligence.',\n",
       "  'an alternative is to discover such features or representations through examination, without relying on explicit algorithms.sparse dictionary learningsparse dictionary learning is a feature learning method where a training example is represented as a linear combination of basis functions, and is assumed to be a sparse matrix.',\n",
       "  'for example topic modeling,  meta learning.as of , deep learning has become the dominant approach for much ongoing work in the field of machine learning.self learningselflearning as a machine learning paradigm was introduced in  along with a neural network capable of selflearning named crossbar adaptive array caa.',\n",
       "  'a realworld example is that, unlike humans, current image classifiers often dont primarily make judgments from the spatial relationship between components of the picture, and they learn relationships between pixels that humans are oblivious to, but that still correlate with images of certain types of real objects.',\n",
       "  'for example, in , the uks commission for racial equality found that st. georges medical school had been using a computer program trained from data of previous admissions staff and this program had denied nearly  candidates who were found to be either women or had noneuropean sounding names.',\n",
       "  'different clustering techniques make different assumptions on the structure of the data, often defined by some similarity metric and evaluated, for example, by internal compactness, or the similarity between members of the same cluster, and separation, the difference between clusters.',\n",
       "  'given a set of training examples, each marked as belonging to one of two categories, an svm training algorithm builds a model that predicts whether a new example falls into one category or the other.',\n",
       "  'for a dictionary where each class has already been built, a new training example is associated with the class that is best sparsely represented by the corresponding dictionary.',\n",
       "  'in the mathematical model, each training example is represented by an array or vector, sometimes called a feature vector, and the training data is represented by a matrix.',\n",
       "  'a toy example is that an image classifier trained only on pictures of brown horses and black cats might conclude that all brown patches are likely to be horses.',\n",
       "  'for example, the algorithms could be designed to provide patients with unnecessary tests or medication in which the algorithms proprietary owners hold stakes.',\n",
       "  'in classification, the problem is to determine the class to which a previously unseen training example belongs.',\n",
       "  'for example, a bayesian network could represent the probabilistic relationships between diseases and symptoms.',\n",
       "  'each training example has one or more inputs and the desired output, also known as a supervisory signal.'],\n",
       " 'example inputs': ['negative results show that certain classes cannot be learned in polynomial time.approachesmachine learning approaches are traditionally divided into three broad categories, which correspond to learning paradigms, depending on the nature of the signal or feedback available to the learning systemsupervised learning the computer is presented with example inputs and their desired outputs, given by a teacher, and the goal is to learn a general rule that maps inputs to outputs.unsupervised learning no labels are given to the learning algorithm, leaving it on its own to find structure in its input.'],\n",
       " 'field': ['in  a report was given on using teaching strategies so that a neural network learns to recognize  characters  letters,  digits, and  special symbols from a computer terminal.tom m. mitchell provided a widely quoted, more formal definition of the algorithms studied in the machine learning field a computer program is said to learn from experience e with respect to some class of tasks t and performance measure p if its performance at tasks in t, as measured by p,  improves with experience e. this definition of the tasks in which machine learning is concerned offers a fundamentally operational definition rather than defining the field in cognitive terms.',\n",
       "  'in  a report was given on using teaching strategies so that a neural network learns to recognize  characters  letters,  digits, and  special symbols from a computer terminal.tom m. mitchell provided a widely quoted, more formal definition of the algorithms studied in the machine learning field a computer program is said to learn from experience e with respect to some class of tasks t and performance measure p if its performance at tasks in t, as measured by p,  improves with experience e. this definition of the tasks in which machine learning is concerned offers a fundamentally operational definition rather than defining the field in cognitive terms.',\n",
       "  'he also suggested the term data science as a placeholder to call the overall field.leo breiman distinguished two statistical modeling paradigms data model and algorithmic model, wherein algorithmic model means more or less the machine learning algorithms like random forest.some statisticians have adopted methods from machine learning, leading to a combined field that they call statistical learning.theorya core objective of a learner is to generalize from its experience.',\n",
       "  'he also suggested the term data science as a placeholder to call the overall field.leo breiman distinguished two statistical modeling paradigms data model and algorithmic model, wherein algorithmic model means more or less the machine learning algorithms like random forest.some statisticians have adopted methods from machine learning, leading to a combined field that they call statistical learning.theorya core objective of a learner is to generalize from its experience.',\n",
       "  'machine learning ethics is becoming a field of study and notably be integrated within machine learning engineering teams.federated learningfederated learning is an adapted form of distributed artificial intelligence to training machine learning models that decentralizes the training process, allowing for users privacy to be maintained by not needing to send their data to a centralized server.',\n",
       "  'work on symbolicknowledgebased learning did continue within ai, leading to inductive logic programming, but the more statistical line of research was now outside the field of ai proper, in pattern recognition and information retrieval.–, neural networks research had been abandoned by ai and computer science around the same time.',\n",
       "  'for example, to train a system for the task of digital character recognition, the mnist dataset of handwritten digits has often been used.history and relationships to other fieldsthe term machine learning was coined in  by arthur samuel, an ibm employee and pioneer in the field of computer gaming and artificial intelligence.',\n",
       "  'for example topic modeling,  meta learning.as of , deep learning has become the dominant approach for much ongoing work in the field of machine learning.self learningselflearning as a machine learning paradigm was introduced in  along with a neural network capable of selflearning named crossbar adaptive array caa.',\n",
       "  'their main success came in the mids with the reinvention of backpropagation.machine learning ml, reorganized as a separate field, started to flourish in the s. the field changed its goal from achieving artificial intelligence to tackling solvable problems of a practical nature.',\n",
       "  'their main success came in the mids with the reinvention of backpropagation.machine learning ml, reorganized as a separate field, started to flourish in the s. the field changed its goal from achieving artificial intelligence to tackling solvable problems of a practical nature.',\n",
       "  'inductive programming is a related field that considers any kind of programming language for representing hypotheses and not only logic programming, such as functional programs.inductive logic programming is particularly useful in bioinformatics and natural language processing.',\n",
       "  'due to its generality, the field is studied in many other disciplines, such as game theory, control theory, operations research, information theory, simulationbased optimization, multiagent systems, swarm intelligence, statistics and genetic algorithms.',\n",
       "  'in , it was reported that a machine learning algorithm had been applied in the field of art history to study fine art paintings and that it may have revealed previously unrecognized influences among artists.',\n",
       "  'machine learning ml is a field of inquiry devoted to understanding and building methods that learn, that is, methods that leverage data to improve performance on some set of tasks.',\n",
       "  'this line, too, was continued outside the aics field, as connectionism, by researchers from other disciplines including hopfield, rumelhart and hinton.',\n",
       "  'a central application of unsupervised learning is in the field of density estimation in statistics, such as finding the probability density function.',\n",
       "  'the study of mathematical optimization delivers methods, theory and application domains to the field of machine learning.',\n",
       "  'data mining is a related field of study, focusing on exploratory data analysis through unsupervised learning.'],\n",
       " 'inquiry': ['machine learning ml is a field of inquiry devoted to understanding and building methods that learn, that is, methods that leverage data to improve performance on some set of tasks.'],\n",
       " 'intelligence': ['embedded machine learning could be applied through several techniques including hardware acceleration, using approximate computing, optimization of machine learning models and many more.softwaresoftware suites containing a variety of machine learning algorithms include the followingfree and opensource softwareproprietary software with free and opensource editionsknimerapidminerproprietary softwarejournalsjournal of machine learning researchmachine learningnature machine intelligenceneural computationconferencesaaai conference on artificial intelligenceassociation for computational linguistics acleuropean conference on machine learning and principles and practice of knowledge discovery in databases ecml pkddinternational conference on computational intelligence methods for bioinformatics and biostatistics cibbinternational conference on machine learning icmlinternational conference on learning representations iclrinternational conference on intelligent robots and systems irosconference on knowledge discovery and data mining kddconference on neural information processing systems neuripssee alsoautomated machine learning – process of automating the application of machine learningbig data – information assets characterized by high volume, velocity, and varietydifferentiable programming – programming paradigmlist of important publications in machine learninglist of datasets for machinelearning researchreferencessourcesdomingos, pedro september , .',\n",
       "  'this follows alan turings proposal in his paper computing machinery and intelligence, in which the question can machines think is replaced with the question can machines do what we as thinking entities can do.modern day machine learning has two objectives, one is to classify data based on models which have been developed, the other purpose is to make predictions for future outcomes based on these models.',\n",
       "  'due to its generality, the field is studied in many other disciplines, such as game theory, control theory, operations research, information theory, simulationbased optimization, multiagent systems, swarm intelligence, statistics and genetic algorithms.',\n",
       "  'computational intelligence a logical approach.'],\n",
       " 'learning': ['embedded machine learning could be applied through several techniques including hardware acceleration, using approximate computing, optimization of machine learning models and many more.softwaresoftware suites containing a variety of machine learning algorithms include the followingfree and opensource softwareproprietary software with free and opensource editionsknimerapidminerproprietary softwarejournalsjournal of machine learning researchmachine learningnature machine intelligenceneural computationconferencesaaai conference on artificial intelligenceassociation for computational linguistics acleuropean conference on machine learning and principles and practice of knowledge discovery in databases ecml pkddinternational conference on computational intelligence methods for bioinformatics and biostatistics cibbinternational conference on machine learning icmlinternational conference on learning representations iclrinternational conference on intelligent robots and systems irosconference on knowledge discovery and data mining kddconference on neural information processing systems neuripssee alsoautomated machine learning – process of automating the application of machine learningbig data – information assets characterized by high volume, velocity, and varietydifferentiable programming – programming paradigmlist of important publications in machine learninglist of datasets for machinelearning researchreferencessourcesdomingos, pedro september , .',\n",
       "  'most of the dimensionality reduction techniques can be considered as either feature elimination or extraction.one of the popular methods of dimensionality reduction is principal component analysis pca.pca involves changing higherdimensional data e.g., d to a smaller space e.g., d. this results in a smaller dimension of data d instead of d, while keeping all original variables in the model without changing the data.the manifold hypothesis proposes that highdimensional data sets lie along lowdimensional manifolds, and many dimensionality reduction techniques make this assumption, leading to the area of manifold learning and manifold regularization.other typesother approaches have been developed which dont fit neatly into this threefold categorisation, and sometimes more than one is used by the same machine learning system.',\n",
       "  'some of the training examples are missing training labels,  yet many machinelearning researchers have found that unlabeled data, when used in conjunction with a small amount of labeled data, can produce a considerable improvement in learning accuracy.in weakly supervised learning, the training labels are noisy, limited, or imprecise however, these labels are often cheaper to obtain, resulting in larger effective training sets.reinforcement learningreinforcement learning is an area of machine learning concerned with how software agents ought to take actions in an environment so as to maximize some notion of cumulative reward.',\n",
       "  'some of the training examples are missing training labels,  yet many machinelearning researchers have found that unlabeled data, when used in conjunction with a small amount of labeled data, can produce a considerable improvement in learning accuracy.in weakly supervised learning, the training labels are noisy, limited, or imprecise however, these labels are often cheaper to obtain, resulting in larger effective training sets.reinforcement learningreinforcement learning is an area of machine learning concerned with how software agents ought to take actions in an environment so as to maximize some notion of cumulative reward.',\n",
       "  'some of the training examples are missing training labels,  yet many machinelearning researchers have found that unlabeled data, when used in conjunction with a small amount of labeled data, can produce a considerable improvement in learning accuracy.in weakly supervised learning, the training labels are noisy, limited, or imprecise however, these labels are often cheaper to obtain, resulting in larger effective training sets.reinforcement learningreinforcement learning is an area of machine learning concerned with how software agents ought to take actions in an environment so as to maximize some notion of cumulative reward.',\n",
       "  'negative results show that certain classes cannot be learned in polynomial time.approachesmachine learning approaches are traditionally divided into three broad categories, which correspond to learning paradigms, depending on the nature of the signal or feedback available to the learning systemsupervised learning the computer is presented with example inputs and their desired outputs, given by a teacher, and the goal is to learn a general rule that maps inputs to outputs.unsupervised learning no labels are given to the learning algorithm, leaving it on its own to find structure in its input.',\n",
       "  'negative results show that certain classes cannot be learned in polynomial time.approachesmachine learning approaches are traditionally divided into three broad categories, which correspond to learning paradigms, depending on the nature of the signal or feedback available to the learning systemsupervised learning the computer is presented with example inputs and their desired outputs, given by a teacher, and the goal is to learn a general rule that maps inputs to outputs.unsupervised learning no labels are given to the learning algorithm, leaving it on its own to find structure in its input.',\n",
       "  'negative results show that certain classes cannot be learned in polynomial time.approachesmachine learning approaches are traditionally divided into three broad categories, which correspond to learning paradigms, depending on the nature of the signal or feedback available to the learning systemsupervised learning the computer is presented with example inputs and their desired outputs, given by a teacher, and the goal is to learn a general rule that maps inputs to outputs.unsupervised learning no labels are given to the learning algorithm, leaving it on its own to find structure in its input.',\n",
       "  'negative results show that certain classes cannot be learned in polynomial time.approachesmachine learning approaches are traditionally divided into three broad categories, which correspond to learning paradigms, depending on the nature of the signal or feedback available to the learning systemsupervised learning the computer is presented with example inputs and their desired outputs, given by a teacher, and the goal is to learn a general rule that maps inputs to outputs.unsupervised learning no labels are given to the learning algorithm, leaving it on its own to find structure in its input.',\n",
       "  'negative results show that certain classes cannot be learned in polynomial time.approachesmachine learning approaches are traditionally divided into three broad categories, which correspond to learning paradigms, depending on the nature of the signal or feedback available to the learning systemsupervised learning the computer is presented with example inputs and their desired outputs, given by a teacher, and the goal is to learn a general rule that maps inputs to outputs.unsupervised learning no labels are given to the learning algorithm, leaving it on its own to find structure in its input.',\n",
       "  'the training examples come from some generally unknown probability distribution considered representative of the space of occurrences and the learner has to build a general model about this space that enables it to produce sufficiently accurate predictions in new cases.the computational analysis of machine learning algorithms and their performance is a branch of theoretical computer science known as computational learning theory via the probably approximately correct learning pac model.',\n",
       "  'the training examples come from some generally unknown probability distribution considered representative of the space of occurrences and the learner has to build a general model about this space that enables it to produce sufficiently accurate predictions in new cases.the computational analysis of machine learning algorithms and their performance is a branch of theoretical computer science known as computational learning theory via the probably approximately correct learning pac model.',\n",
       "  'he also suggested the term data science as a placeholder to call the overall field.leo breiman distinguished two statistical modeling paradigms data model and algorithmic model, wherein algorithmic model means more or less the machine learning algorithms like random forest.some statisticians have adopted methods from machine learning, leading to a combined field that they call statistical learning.theorya core objective of a learner is to generalize from its experience.',\n",
       "  'others have the view that not all ml is part of ai, but only an intelligent subset of ml should be considered ai.data miningmachine learning and data mining often employ the same methods and overlap significantly, but while machine learning focuses on prediction, based on known properties learned from the training data, data mining focuses on the discovery of previously unknown properties in the data this is the analysis step of knowledge discovery in databases.',\n",
       "  'machine learning algorithms are used in a wide variety of applications, such as in medicine, email filtering, speech recognition, and computer vision, where it is difficult or unfeasible to develop conventional algorithms to perform the needed tasks.a subset of machine learning is closely related to computational statistics, which focuses on making predictions using computers, but not all machine learning is statistical learning.',\n",
       "  'in contrast with sequence mining, association rule learning typically does not consider the order of items either within a transaction or across transactions.learning classifier systems lcs are a family of rulebased machine learning algorithms that combine a discovery component, typically a genetic algorithm, with a learning component, performing either supervised learning, reinforcement learning, or unsupervised learning.',\n",
       "  'in contrast with sequence mining, association rule learning typically does not consider the order of items either within a transaction or across transactions.learning classifier systems lcs are a family of rulebased machine learning algorithms that combine a discovery component, typically a genetic algorithm, with a learning component, performing either supervised learning, reinforcement learning, or unsupervised learning.',\n",
       "  'in contrast with sequence mining, association rule learning typically does not consider the order of items either within a transaction or across transactions.learning classifier systems lcs are a family of rulebased machine learning algorithms that combine a discovery component, typically a genetic algorithm, with a learning component, performing either supervised learning, reinforcement learning, or unsupervised learning.',\n",
       "  'in contrast with sequence mining, association rule learning typically does not consider the order of items either within a transaction or across transactions.learning classifier systems lcs are a family of rulebased machine learning algorithms that combine a discovery component, typically a genetic algorithm, with a learning component, performing either supervised learning, reinforcement learning, or unsupervised learning.',\n",
       "  'in contrast with sequence mining, association rule learning typically does not consider the order of items either within a transaction or across transactions.learning classifier systems lcs are a family of rulebased machine learning algorithms that combine a discovery component, typically a genetic algorithm, with a learning component, performing either supervised learning, reinforcement learning, or unsupervised learning.',\n",
       "  'evaluated with respect to known knowledge, an uninformed unsupervised method will easily be outperformed by other supervised methods, while in a typical kdd task, supervised methods cannot be used due to the unavailability of training data.optimizationmachine learning also has intimate ties to optimization many learning problems are formulated as minimization of some loss function on a training set of examples.',\n",
       "  'evaluated with respect to known knowledge, an uninformed unsupervised method will easily be outperformed by other supervised methods, while in a typical kdd task, supervised methods cannot be used due to the unavailability of training data.optimizationmachine learning also has intimate ties to optimization many learning problems are formulated as minimization of some loss function on a training set of examples.',\n",
       "  'as an example, for a classification algorithm that filters emails, the input would be an incoming email, and the output would be the name of the folder in which to file the email.similarity learning is an area of supervised machine learning closely related to regression and classification, but the goal is to learn from examples using a similarity function that measures how similar or related two objects are.',\n",
       "  'machine learning ethics is becoming a field of study and notably be integrated within machine learning engineering teams.federated learningfederated learning is an adapted form of distributed artificial intelligence to training machine learning models that decentralizes the training process, allowing for users privacy to be maintained by not needing to send their data to a centralized server.',\n",
       "  'characterizing the generalization of various learning algorithms is an active topic of current research, especially for deep learning algorithms.statisticsmachine learning and statistics are closely related fields in terms of methods, but distinct in their principal goal statistics draws population inferences from a sample, while machine learning finds generalizable predictive patterns.',\n",
       "  'semisupervised anomaly detection techniques construct a model representing normal behavior from a given normal training data set and then test the likelihood of a test instance to be generated by the model.robot learningrobot learning is inspired by a multitude of machine learning methods, starting from supervised learning, reinforcement learning, and finally metalearning e.g.',\n",
       "  'semisupervised anomaly detection techniques construct a model representing normal behavior from a given normal training data set and then test the likelihood of a test instance to be generated by the model.robot learningrobot learning is inspired by a multitude of machine learning methods, starting from supervised learning, reinforcement learning, and finally metalearning e.g.',\n",
       "  'semisupervised anomaly detection techniques construct a model representing normal behavior from a given normal training data set and then test the likelihood of a test instance to be generated by the model.robot learningrobot learning is inspired by a multitude of machine learning methods, starting from supervised learning, reinforcement learning, and finally metalearning e.g.',\n",
       "  'rulebased machine learning approaches include learning classifier systems, association rule learning, and artificial immune systems.based on the concept of strong rules, rakesh agrawal, tomasz imieliński and arun swami introduced association rules for discovering regularities between products in largescale transaction data recorded by pointofsale pos systems in supermarkets.',\n",
       "  'rulebased machine learning approaches include learning classifier systems, association rule learning, and artificial immune systems.based on the concept of strong rules, rakesh agrawal, tomasz imieliński and arun swami introduced association rules for discovering regularities between products in largescale transaction data recorded by pointofsale pos systems in supermarkets.',\n",
       "  'it has been argued that an intelligent machine is one that learns a representation that disentangles the underlying factors of variation that explain the observed data.feature learning is motivated by the fact that machine learning tasks such as classification often require input that is mathematically and computationally convenient to process.',\n",
       "  'work on symbolicknowledgebased learning did continue within ai, leading to inductive logic programming, but the more statistical line of research was now outside the field of ai proper, in pattern recognition and information retrieval.–, neural networks research had been abandoned by ai and computer science around the same time.',\n",
       "  'an alternative is to discover such features or representations through examination, without relying on explicit algorithms.sparse dictionary learningsparse dictionary learning is a feature learning method where a training example is represented as a linear combination of basis functions, and is assumed to be a sparse matrix.',\n",
       "  'an alternative is to discover such features or representations through examination, without relying on explicit algorithms.sparse dictionary learningsparse dictionary learning is a feature learning method where a training example is represented as a linear combination of basis functions, and is assumed to be a sparse matrix.',\n",
       "  'for example topic modeling,  meta learning.as of , deep learning has become the dominant approach for much ongoing work in the field of machine learning.self learningselflearning as a machine learning paradigm was introduced in  along with a neural network capable of selflearning named crossbar adaptive array caa.',\n",
       "  'for example topic modeling,  meta learning.as of , deep learning has become the dominant approach for much ongoing work in the field of machine learning.self learningselflearning as a machine learning paradigm was introduced in  along with a neural network capable of selflearning named crossbar adaptive array caa.',\n",
       "  'unsupervised learning can be a goal in itself discovering hidden patterns in data or a means towards an end feature learning.reinforcement learning a computer program interacts with a dynamic environment in which it must perform a certain goal such as driving a vehicle or playing a game against an opponent.',\n",
       "  'unsupervised learning can be a goal in itself discovering hidden patterns in data or a means towards an end feature learning.reinforcement learning a computer program interacts with a dynamic environment in which it must perform a certain goal such as driving a vehicle or playing a game against an opponent.',\n",
       "  'also the synonym selfteaching computers were used in this time period.by the early s an experimental learning machine with punched tape memory, called cybertron, had been developed by raytheon company to analyze sonar signals, electrocardiograms and speech patterns using rudimentary reinforcement learning.',\n",
       "  'also the synonym selfteaching computers were used in this time period.by the early s an experimental learning machine with punched tape memory, called cybertron, had been developed by raytheon company to analyze sonar signals, electrocardiograms and speech patterns using rudimentary reinforcement learning.',\n",
       "  'some successful applications of deep learning are computer vision and speech recognition.decision treesdecision tree learning uses a decision tree as a predictive model to go from observations about an item represented in the branches to conclusions about the items target value represented in the leaves.',\n",
       "  'some successful applications of deep learning are computer vision and speech recognition.decision treesdecision tree learning uses a decision tree as a predictive model to go from observations about an item represented in the branches to conclusions about the items target value represented in the leaves.',\n",
       "  'in data mining, a decision tree describes data, but the resulting classification tree can be an input for decision making.supportvector machinessupportvector machines svms, also known as supportvector networks, are a set of related supervised learning methods used for classification and regression.',\n",
       "  'artificial neural networks have been used on a variety of tasks, including computer vision, speech recognition, machine translation, social network filtering, playing board and video games and medical diagnosis.deep learning consists of multiple hidden layers in an artificial neural network.',\n",
       "  'reinforcement learning algorithms are used in autonomous vehicles or in learning to play a game against a human opponent.dimensionality reductiondimensionality reduction is a process of reducing the number of random variables under consideration by obtaining a set of principal variables.',\n",
       "  'many systems attempt to reduce overfitting by rewarding a theory in accordance with how well it fits the data, but penalizing the theory in accordance with how complex the theory is.other limitations and vulnerabilitieslearners can also disappoint by learning the wrong lesson.',\n",
       "  'toc shows the numerators and denominators of the previously mentioned rates, thus toc provides more information than the commonly used receiver operating characteristic roc and rocs associated area under the curve auc.ethicsmachine learning poses a host of ethical questions.',\n",
       "  'while it has improved with training sets, it has not yet developed sufficiently to reduce the workload burden without limiting the necessary sensitivity for the findings research themselves.biasmachine learning approaches in particular can suffer from different data biases.',\n",
       "  'examples include dictionary learning, independent component analysis, autoencoders, matrix factorization and various forms of clustering.manifold learning algorithms attempt to do so under the constraint that the learned representation is lowdimensional.',\n",
       "  'other methods are based on estimated density and graph connectivity.semisupervised learningsemisupervised learning falls between unsupervised learning without any labeled training data and supervised learning with completely labeled training data.',\n",
       "  'other methods are based on estimated density and graph connectivity.semisupervised learningsemisupervised learning falls between unsupervised learning without any labeled training data and supervised learning with completely labeled training data.',\n",
       "  'but if the hypothesis is too complex, then the model is subject to overfitting and generalization will be poorer.in addition to performance bounds, learning theorists study the time complexity and feasibility of learning.',\n",
       "  'but if the hypothesis is too complex, then the model is subject to overfitting and generalization will be poorer.in addition to performance bounds, learning theorists study the time complexity and feasibility of learning.',\n",
       "  'an algorithm that improves the accuracy of its outputs or predictions over time is said to have learned to perform that task.types of supervisedlearning algorithms include active learning, classification and regression.',\n",
       "  'openai estimated the hardware computing used in the largest deep learning projects from alexnet  to alphazero , and found a ,fold increase in the amount of compute required, with a doublingtime trendline of .',\n",
       "  'for simple tasks assigned to computers, it is possible to program algorithms telling the machine how to execute all steps required to solve the problem at hand on the computers part, no learning is needed.',\n",
       "  'this replaces manual feature engineering, and allows a machine to both learn the features and use them to perform a specific task.feature learning can be either supervised or unsupervised.',\n",
       "  'a representative book on research into machine learning during the s was nilssons book on learning machines, dealing mostly with machine learning for pattern classification.',\n",
       "  'a hypothetical algorithm specific to classifying data may use computer vision of moles coupled with supervised learning in order to train it to classify the cancerous moles.',\n",
       "  'generalization in this context is the ability of a learning machine to perform accurately on new, unseen examplestasks after having experienced a learning data set.',\n",
       "  'generalization in this context is the ability of a learning machine to perform accurately on new, unseen examplestasks after having experienced a learning data set.',\n",
       "  'maml.association rulesassociation rule learning is a rulebased machine learning method for discovering relationships between variables in large databases.',\n",
       "  'because training sets are finite and the future is uncertain, learning theory usually does not yield guarantees of the performance of algorithms.',\n",
       "  'in computational learning theory, a computation is considered feasible if it can be done in polynomial time.',\n",
       "  'examples include artificial neural networks, multilayer perceptrons, and supervised dictionary learning.',\n",
       "  'the master algorithm how the quest for the ultimate learning machine will remake our world.',\n",
       "  'it involves computers learning from data provided so that they carry out certain tasks.',\n",
       "  'artificial neurons and edges typically have a weight that adjusts as learning proceeds.',\n",
       "  'in unsupervised feature learning, features are learned with unlabeled input data.',\n",
       "  'a popular heuristic method for sparse dictionary learning is the ksvd algorithm.',\n",
       "  'in supervised feature learning, features are learned using labeled input data.',\n",
       "  'it is a learning with no external rewards and no external teacher advice.',\n",
       "  'sparse dictionary learning has also been applied in image denoising.',\n",
       "  'sparse dictionary learning has been applied in several contexts.',\n",
       "  'efficient algorithms exist that perform inference and learning.'],\n",
       " 'learning algorithms': ['characterizing the generalization of various learning algorithms is an active topic of current research, especially for deep learning algorithms.statisticsmachine learning and statistics are closely related fields in terms of methods, but distinct in their principal goal statistics draws population inferences from a sample, while machine learning finds generalizable predictive patterns.',\n",
       "  'characterizing the generalization of various learning algorithms is an active topic of current research, especially for deep learning algorithms.statisticsmachine learning and statistics are closely related fields in terms of methods, but distinct in their principal goal statistics draws population inferences from a sample, while machine learning finds generalizable predictive patterns.',\n",
       "  'after receiving the genome species vector from the genetic environment, the caa learns a goalseeking behavior, in an environment that contains both desirable and undesirable situations.feature learningseveral learning algorithms aim at discovering better representations of the inputs provided during training.',\n",
       "  'it has applications in ranking, recommendation systems, visual identity tracking, face verification, and speaker verification.unsupervised learningunsupervised learning algorithms take a set of data that contains only inputs, and find structure in the data, like grouping or clustering of data points.',\n",
       "  'reinforcement learning algorithms are used in autonomous vehicles or in learning to play a game against a human opponent.dimensionality reductiondimensionality reduction is a process of reducing the number of random variables under consideration by obtaining a set of principal variables.',\n",
       "  'as it navigates its problem space, the program is provided feedback thats analogous to rewards, which it tries to maximize.supervised learningsupervised learning algorithms build a mathematical model of a set of data that contains both the inputs and the desired outputs.',\n",
       "  'feature learning algorithms, also called representation learning algorithms, often attempt to preserve the information in their input but also transform it in a way that makes it useful, often as a preprocessing step before performing classification or predictions.',\n",
       "  'feature learning algorithms, also called representation learning algorithms, often attempt to preserve the information in their input but also transform it in a way that makes it useful, often as a preprocessing step before performing classification or predictions.',\n",
       "  'examples include dictionary learning, independent component analysis, autoencoders, matrix factorization and various forms of clustering.manifold learning algorithms attempt to do so under the constraint that the learned representation is lowdimensional.',\n",
       "  'multilinear subspace learning algorithms aim to learn lowdimensional representations directly from tensor representations for multidimensional data, without reshaping them into higherdimensional vectors.',\n",
       "  'deep learning algorithms discover multiple levels of representation, or a hierarchy of features, with higherlevel, more abstract features defined in terms of or generating lowerlevel features.',\n",
       "  'through iterative optimization of an objective function, supervised learning algorithms learn a function that can be used to predict the output associated with new inputs.',\n",
       "  'reinforcement learning algorithms do not assume knowledge of an exact mathematical model of the mdp, and are used when exact models are infeasible.',\n",
       "  'many reinforcement learning algorithms use dynamic programming techniques.'],\n",
       " 'machine': ['embedded machine learning could be applied through several techniques including hardware acceleration, using approximate computing, optimization of machine learning models and many more.softwaresoftware suites containing a variety of machine learning algorithms include the followingfree and opensource softwareproprietary software with free and opensource editionsknimerapidminerproprietary softwarejournalsjournal of machine learning researchmachine learningnature machine intelligenceneural computationconferencesaaai conference on artificial intelligenceassociation for computational linguistics acleuropean conference on machine learning and principles and practice of knowledge discovery in databases ecml pkddinternational conference on computational intelligence methods for bioinformatics and biostatistics cibbinternational conference on machine learning icmlinternational conference on learning representations iclrinternational conference on intelligent robots and systems irosconference on knowledge discovery and data mining kddconference on neural information processing systems neuripssee alsoautomated machine learning – process of automating the application of machine learningbig data – information assets characterized by high volume, velocity, and varietydifferentiable programming – programming paradigmlist of important publications in machine learninglist of datasets for machinelearning researchreferencessourcesdomingos, pedro september , .',\n",
       "  'embedded machine learning could be applied through several techniques including hardware acceleration, using approximate computing, optimization of machine learning models and many more.softwaresoftware suites containing a variety of machine learning algorithms include the followingfree and opensource softwareproprietary software with free and opensource editionsknimerapidminerproprietary softwarejournalsjournal of machine learning researchmachine learningnature machine intelligenceneural computationconferencesaaai conference on artificial intelligenceassociation for computational linguistics acleuropean conference on machine learning and principles and practice of knowledge discovery in databases ecml pkddinternational conference on computational intelligence methods for bioinformatics and biostatistics cibbinternational conference on machine learning icmlinternational conference on learning representations iclrinternational conference on intelligent robots and systems irosconference on knowledge discovery and data mining kddconference on neural information processing systems neuripssee alsoautomated machine learning – process of automating the application of machine learningbig data – information assets characterized by high volume, velocity, and varietydifferentiable programming – programming paradigmlist of important publications in machine learninglist of datasets for machinelearning researchreferencessourcesdomingos, pedro september , .',\n",
       "  'embedded machine learning could be applied through several techniques including hardware acceleration, using approximate computing, optimization of machine learning models and many more.softwaresoftware suites containing a variety of machine learning algorithms include the followingfree and opensource softwareproprietary software with free and opensource editionsknimerapidminerproprietary softwarejournalsjournal of machine learning researchmachine learningnature machine intelligenceneural computationconferencesaaai conference on artificial intelligenceassociation for computational linguistics acleuropean conference on machine learning and principles and practice of knowledge discovery in databases ecml pkddinternational conference on computational intelligence methods for bioinformatics and biostatistics cibbinternational conference on machine learning icmlinternational conference on learning representations iclrinternational conference on intelligent robots and systems irosconference on knowledge discovery and data mining kddconference on neural information processing systems neuripssee alsoautomated machine learning – process of automating the application of machine learningbig data – information assets characterized by high volume, velocity, and varietydifferentiable programming – programming paradigmlist of important publications in machine learninglist of datasets for machinelearning researchreferencessourcesdomingos, pedro september , .',\n",
       "  'more generally the term is applicable to other artificial neural networks in which a memristor or other electrically adjustable resistance material is used to emulate a neural synapse.embedded machine learningembedded machine learning is a subfield of machine learning, where the machine learning model is run on embedded systems with limited computing resources such as wearable computers, edge devices and microcontrollers.',\n",
       "  'it has been argued that an intelligent machine is one that learns a representation that disentangles the underlying factors of variation that explain the observed data.feature learning is motivated by the fact that machine learning tasks such as classification often require input that is mathematically and computationally convenient to process.',\n",
       "  'in practice, it can turn out to be more effective to help the machine develop its own algorithm, rather than having human programmers specify every needed step.the discipline of machine learning employs various approaches to teach computers to accomplish tasks where no fully satisfactory algorithm is available.',\n",
       "  'also the synonym selfteaching computers were used in this time period.by the early s an experimental learning machine with punched tape memory, called cybertron, had been developed by raytheon company to analyze sonar signals, electrocardiograms and speech patterns using rudimentary reinforcement learning.',\n",
       "  'artificial neural networks have been used on a variety of tasks, including computer vision, speech recognition, machine translation, social network filtering, playing board and video games and medical diagnosis.deep learning consists of multiple hidden layers in an artificial neural network.',\n",
       "  'for simple tasks assigned to computers, it is possible to program algorithms telling the machine how to execute all steps required to solve the problem at hand on the computers part, no learning is needed.',\n",
       "  'this replaces manual feature engineering, and allows a machine to both learn the features and use them to perform a specific task.feature learning can be either supervised or unsupervised.',\n",
       "  'generalization in this context is the ability of a learning machine to perform accurately on new, unseen examplestasks after having experienced a learning data set.',\n",
       "  'the master algorithm how the quest for the ultimate learning machine will remake our world.'],\n",
       " 'machine learning': ['embedded machine learning could be applied through several techniques including hardware acceleration, using approximate computing, optimization of machine learning models and many more.softwaresoftware suites containing a variety of machine learning algorithms include the followingfree and opensource softwareproprietary software with free and opensource editionsknimerapidminerproprietary softwarejournalsjournal of machine learning researchmachine learningnature machine intelligenceneural computationconferencesaaai conference on artificial intelligenceassociation for computational linguistics acleuropean conference on machine learning and principles and practice of knowledge discovery in databases ecml pkddinternational conference on computational intelligence methods for bioinformatics and biostatistics cibbinternational conference on machine learning icmlinternational conference on learning representations iclrinternational conference on intelligent robots and systems irosconference on knowledge discovery and data mining kddconference on neural information processing systems neuripssee alsoautomated machine learning – process of automating the application of machine learningbig data – information assets characterized by high volume, velocity, and varietydifferentiable programming – programming paradigmlist of important publications in machine learninglist of datasets for machinelearning researchreferencessourcesdomingos, pedro september , .',\n",
       "  'embedded machine learning could be applied through several techniques including hardware acceleration, using approximate computing, optimization of machine learning models and many more.softwaresoftware suites containing a variety of machine learning algorithms include the followingfree and opensource softwareproprietary software with free and opensource editionsknimerapidminerproprietary softwarejournalsjournal of machine learning researchmachine learningnature machine intelligenceneural computationconferencesaaai conference on artificial intelligenceassociation for computational linguistics acleuropean conference on machine learning and principles and practice of knowledge discovery in databases ecml pkddinternational conference on computational intelligence methods for bioinformatics and biostatistics cibbinternational conference on machine learning icmlinternational conference on learning representations iclrinternational conference on intelligent robots and systems irosconference on knowledge discovery and data mining kddconference on neural information processing systems neuripssee alsoautomated machine learning – process of automating the application of machine learningbig data – information assets characterized by high volume, velocity, and varietydifferentiable programming – programming paradigmlist of important publications in machine learninglist of datasets for machinelearning researchreferencessourcesdomingos, pedro september , .',\n",
       "  'embedded machine learning could be applied through several techniques including hardware acceleration, using approximate computing, optimization of machine learning models and many more.softwaresoftware suites containing a variety of machine learning algorithms include the followingfree and opensource softwareproprietary software with free and opensource editionsknimerapidminerproprietary softwarejournalsjournal of machine learning researchmachine learningnature machine intelligenceneural computationconferencesaaai conference on artificial intelligenceassociation for computational linguistics acleuropean conference on machine learning and principles and practice of knowledge discovery in databases ecml pkddinternational conference on computational intelligence methods for bioinformatics and biostatistics cibbinternational conference on machine learning icmlinternational conference on learning representations iclrinternational conference on intelligent robots and systems irosconference on knowledge discovery and data mining kddconference on neural information processing systems neuripssee alsoautomated machine learning – process of automating the application of machine learningbig data – information assets characterized by high volume, velocity, and varietydifferentiable programming – programming paradigmlist of important publications in machine learninglist of datasets for machinelearning researchreferencessourcesdomingos, pedro september , .',\n",
       "  'embedded machine learning could be applied through several techniques including hardware acceleration, using approximate computing, optimization of machine learning models and many more.softwaresoftware suites containing a variety of machine learning algorithms include the followingfree and opensource softwareproprietary software with free and opensource editionsknimerapidminerproprietary softwarejournalsjournal of machine learning researchmachine learningnature machine intelligenceneural computationconferencesaaai conference on artificial intelligenceassociation for computational linguistics acleuropean conference on machine learning and principles and practice of knowledge discovery in databases ecml pkddinternational conference on computational intelligence methods for bioinformatics and biostatistics cibbinternational conference on machine learning icmlinternational conference on learning representations iclrinternational conference on intelligent robots and systems irosconference on knowledge discovery and data mining kddconference on neural information processing systems neuripssee alsoautomated machine learning – process of automating the application of machine learningbig data – information assets characterized by high volume, velocity, and varietydifferentiable programming – programming paradigmlist of important publications in machine learninglist of datasets for machinelearning researchreferencessourcesdomingos, pedro september , .',\n",
       "  'embedded machine learning could be applied through several techniques including hardware acceleration, using approximate computing, optimization of machine learning models and many more.softwaresoftware suites containing a variety of machine learning algorithms include the followingfree and opensource softwareproprietary software with free and opensource editionsknimerapidminerproprietary softwarejournalsjournal of machine learning researchmachine learningnature machine intelligenceneural computationconferencesaaai conference on artificial intelligenceassociation for computational linguistics acleuropean conference on machine learning and principles and practice of knowledge discovery in databases ecml pkddinternational conference on computational intelligence methods for bioinformatics and biostatistics cibbinternational conference on machine learning icmlinternational conference on learning representations iclrinternational conference on intelligent robots and systems irosconference on knowledge discovery and data mining kddconference on neural information processing systems neuripssee alsoautomated machine learning – process of automating the application of machine learningbig data – information assets characterized by high volume, velocity, and varietydifferentiable programming – programming paradigmlist of important publications in machine learninglist of datasets for machinelearning researchreferencessourcesdomingos, pedro september , .',\n",
       "  'most of the dimensionality reduction techniques can be considered as either feature elimination or extraction.one of the popular methods of dimensionality reduction is principal component analysis pca.pca involves changing higherdimensional data e.g., d to a smaller space e.g., d. this results in a smaller dimension of data d instead of d, while keeping all original variables in the model without changing the data.the manifold hypothesis proposes that highdimensional data sets lie along lowdimensional manifolds, and many dimensionality reduction techniques make this assumption, leading to the area of manifold learning and manifold regularization.other typesother approaches have been developed which dont fit neatly into this threefold categorisation, and sometimes more than one is used by the same machine learning system.',\n",
       "  'in  a report was given on using teaching strategies so that a neural network learns to recognize  characters  letters,  digits, and  special symbols from a computer terminal.tom m. mitchell provided a widely quoted, more formal definition of the algorithms studied in the machine learning field a computer program is said to learn from experience e with respect to some class of tasks t and performance measure p if its performance at tasks in t, as measured by p,  improves with experience e. this definition of the tasks in which machine learning is concerned offers a fundamentally operational definition rather than defining the field in cognitive terms.',\n",
       "  'in  a report was given on using teaching strategies so that a neural network learns to recognize  characters  letters,  digits, and  special symbols from a computer terminal.tom m. mitchell provided a widely quoted, more formal definition of the algorithms studied in the machine learning field a computer program is said to learn from experience e with respect to some class of tasks t and performance measure p if its performance at tasks in t, as measured by p,  improves with experience e. this definition of the tasks in which machine learning is concerned offers a fundamentally operational definition rather than defining the field in cognitive terms.',\n",
       "  'some of the training examples are missing training labels,  yet many machinelearning researchers have found that unlabeled data, when used in conjunction with a small amount of labeled data, can produce a considerable improvement in learning accuracy.in weakly supervised learning, the training labels are noisy, limited, or imprecise however, these labels are often cheaper to obtain, resulting in larger effective training sets.reinforcement learningreinforcement learning is an area of machine learning concerned with how software agents ought to take actions in an environment so as to maximize some notion of cumulative reward.',\n",
       "  'the system is driven by the interaction between cognition and emotion.the selflearning algorithm updates a memory matrix w wa,s such that in each iteration executes the following machine learning routine  in situation s perform an action a receive consequence situation s’ compute emotion of being in consequence situation vs’ update crossbar memory  w’a,s  wa,s  vs’.it is a system with only one input, situation s, and only one output, action or behavior a. there is neither a separate reinforcement input nor an advice input from the environment.',\n",
       "  'loss functions express the discrepancy between the predictions of the model being trained and the actual problem instances for example, in classification, one wants to assign a label to instances, and models are trained to correctly predict the preassigned labels of a set of examples.generalizationthe difference between optimization and machine learning arises from the goal of generalization while optimization algorithms can minimize the loss on a training set, machine learning is concerned with minimizing the loss on unseen samples.',\n",
       "  'loss functions express the discrepancy between the predictions of the model being trained and the actual problem instances for example, in classification, one wants to assign a label to instances, and models are trained to correctly predict the preassigned labels of a set of examples.generalizationthe difference between optimization and machine learning arises from the goal of generalization while optimization algorithms can minimize the loss on a training set, machine learning is concerned with minimizing the loss on unseen samples.',\n",
       "  'he also suggested the term data science as a placeholder to call the overall field.leo breiman distinguished two statistical modeling paradigms data model and algorithmic model, wherein algorithmic model means more or less the machine learning algorithms like random forest.some statisticians have adopted methods from machine learning, leading to a combined field that they call statistical learning.theorya core objective of a learner is to generalize from its experience.',\n",
       "  'for example, gboard uses federated machine learning to train search query prediction models on users mobile phones without having to send individual searches back to google.applicationsthere are many applications for machine learning, includingin , the mediaservices provider netflix held the first netflix prize competition to find a program to better predict user preferences and improve the accuracy of its existing cinematch movie recommendation algorithm by at least .',\n",
       "  'for example, gboard uses federated machine learning to train search query prediction models on users mobile phones without having to send individual searches back to google.applicationsthere are many applications for machine learning, includingin , the mediaservices provider netflix held the first netflix prize competition to find a program to better predict user preferences and improve the accuracy of its existing cinematch movie recommendation algorithm by at least .',\n",
       "  'others have the view that not all ml is part of ai, but only an intelligent subset of ml should be considered ai.data miningmachine learning and data mining often employ the same methods and overlap significantly, but while machine learning focuses on prediction, based on known properties learned from the training data, data mining focuses on the discovery of previously unknown properties in the data this is the analysis step of knowledge discovery in databases.',\n",
       "  'there is  potential for machine learning in health care to provide professionals an additional tool to diagnose, medicate, and plan recovery paths for patients, but this requires these biases to be mitigated.hardwaresince the s, advances in both machine learning algorithms and computer hardware have led to more efficient methods for training deep neural networks a particular narrow subdomain of machine learning that contain many layers of nonlinear hidden units.',\n",
       "  'there is  potential for machine learning in health care to provide professionals an additional tool to diagnose, medicate, and plan recovery paths for patients, but this requires these biases to be mitigated.hardwaresince the s, advances in both machine learning algorithms and computer hardware have led to more efficient methods for training deep neural networks a particular narrow subdomain of machine learning that contain many layers of nonlinear hidden units.',\n",
       "  'machine learning algorithms are used in a wide variety of applications, such as in medicine, email filtering, speech recognition, and computer vision, where it is difficult or unfeasible to develop conventional algorithms to perform the needed tasks.a subset of machine learning is closely related to computational statistics, which focuses on making predictions using computers, but not all machine learning is statistical learning.',\n",
       "  'machine learning algorithms are used in a wide variety of applications, such as in medicine, email filtering, speech recognition, and computer vision, where it is difficult or unfeasible to develop conventional algorithms to perform the needed tasks.a subset of machine learning is closely related to computational statistics, which focuses on making predictions using computers, but not all machine learning is statistical learning.',\n",
       "  'much of the confusion between these two research communities which do often have separate conferences and separate journals, ecml pkdd being a major exception comes from the basic assumptions they work with in machine learning, performance is usually evaluated with respect to the ability to reproduce known knowledge, while in knowledge discovery and data mining kdd the key task is the discovery of previously unknown knowledge.',\n",
       "  'more generally the term is applicable to other artificial neural networks in which a memristor or other electrically adjustable resistance material is used to emulate a neural synapse.embedded machine learningembedded machine learning is a subfield of machine learning, where the machine learning model is run on embedded systems with limited computing resources such as wearable computers, edge devices and microcontrollers.',\n",
       "  'more generally the term is applicable to other artificial neural networks in which a memristor or other electrically adjustable resistance material is used to emulate a neural synapse.embedded machine learningembedded machine learning is a subfield of machine learning, where the machine learning model is run on embedded systems with limited computing resources such as wearable computers, edge devices and microcontrollers.',\n",
       "  'more generally the term is applicable to other artificial neural networks in which a memristor or other electrically adjustable resistance material is used to emulate a neural synapse.embedded machine learningembedded machine learning is a subfield of machine learning, where the machine learning model is run on embedded systems with limited computing resources such as wearable computers, edge devices and microcontrollers.',\n",
       "  'as an example, for a classification algorithm that filters emails, the input would be an incoming email, and the output would be the name of the folder in which to file the email.similarity learning is an area of supervised machine learning closely related to regression and classification, but the goal is to learn from examples using a similarity function that measures how similar or related two objects are.',\n",
       "  'this follows alan turings proposal in his paper computing machinery and intelligence, in which the question can machines think is replaced with the question can machines do what we as thinking entities can do.modern day machine learning has two objectives, one is to classify data based on models which have been developed, the other purpose is to make predictions for future outcomes based on these models.',\n",
       "  'machine learning ethics is becoming a field of study and notably be integrated within machine learning engineering teams.federated learningfederated learning is an adapted form of distributed artificial intelligence to training machine learning models that decentralizes the training process, allowing for users privacy to be maintained by not needing to send their data to a centralized server.',\n",
       "  'machine learning ethics is becoming a field of study and notably be integrated within machine learning engineering teams.federated learningfederated learning is an adapted form of distributed artificial intelligence to training machine learning models that decentralizes the training process, allowing for users privacy to be maintained by not needing to send their data to a centralized server.',\n",
       "  'characterizing the generalization of various learning algorithms is an active topic of current research, especially for deep learning algorithms.statisticsmachine learning and statistics are closely related fields in terms of methods, but distinct in their principal goal statistics draws population inferences from a sample, while machine learning finds generalizable predictive patterns.',\n",
       "  'semisupervised anomaly detection techniques construct a model representing normal behavior from a given normal training data set and then test the likelihood of a test instance to be generated by the model.robot learningrobot learning is inspired by a multitude of machine learning methods, starting from supervised learning, reinforcement learning, and finally metalearning e.g.',\n",
       "  'rulebased machine learning approaches include learning classifier systems, association rule learning, and artificial immune systems.based on the concept of strong rules, rakesh agrawal, tomasz imieliński and arun swami introduced association rules for discovering regularities between products in largescale transaction data recorded by pointofsale pos systems in supermarkets.',\n",
       "  'concern for fairness in machine learning, that is, reducing bias in machine learning and propelling its use for human good is increasingly expressed by artificial intelligence scientists, including feifei li, who reminds engineers that there’s nothing artificial about ai...it’s inspired by people, it’s created by people, and—most importantly—it impacts people.',\n",
       "  'concern for fairness in machine learning, that is, reducing bias in machine learning and propelling its use for human good is increasingly expressed by artificial intelligence scientists, including feifei li, who reminds engineers that there’s nothing artificial about ai...it’s inspired by people, it’s created by people, and—most importantly—it impacts people.',\n",
       "  'the term inductive here refers to philosophical induction, suggesting a theory to explain observed facts, rather than mathematical induction, proving a property for all members of a wellordered set.modelsperforming machine learning involves creating a model, which is trained on some training data and then can process additional data to make predictions.',\n",
       "  'it has been argued that an intelligent machine is one that learns a representation that disentangles the underlying factors of variation that explain the observed data.feature learning is motivated by the fact that machine learning tasks such as classification often require input that is mathematically and computationally convenient to process.',\n",
       "  'in machine learning, genetic algorithms were used in the s and s. conversely, machine learning techniques have been used to improve the performance of genetic and evolutionary algorithms.training modelstypically, machine learning models require a high quantity of reliable data in order for the models to perform accurate predictions.',\n",
       "  'in machine learning, genetic algorithms were used in the s and s. conversely, machine learning techniques have been used to improve the performance of genetic and evolutionary algorithms.training modelstypically, machine learning models require a high quantity of reliable data in order for the models to perform accurate predictions.',\n",
       "  'for example, to train a system for the task of digital character recognition, the mnist dataset of handwritten digits has often been used.history and relationships to other fieldsthe term machine learning was coined in  by arthur samuel, an ibm employee and pioneer in the field of computer gaming and artificial intelligence.',\n",
       "  'attempts to use machine learning in healthcare with the ibm watson system failed to deliver even after years of time and billions of dollars invested.machine learning has been used as a strategy to update the evidence related to a systematic review and increased reviewer burden related to the growth of biomedical literature.',\n",
       "  'attempts to use machine learning in healthcare with the ibm watson system failed to deliver even after years of time and billions of dollars invested.machine learning has been used as a strategy to update the evidence related to a systematic review and increased reviewer burden related to the growth of biomedical literature.',\n",
       "  'running machine learning model in embedded devices removes the need for transferring and storing data on cloud servers for further processing, henceforth, reducing data breaches and privacy leaks happening because of transferring data, and also minimizes theft of intellectual properties, personal data and business secrets.',\n",
       "  'for example topic modeling,  meta learning.as of , deep learning has become the dominant approach for much ongoing work in the field of machine learning.self learningselflearning as a machine learning paradigm was introduced in  along with a neural network capable of selflearning named crossbar adaptive array caa.',\n",
       "  'for example topic modeling,  meta learning.as of , deep learning has become the dominant approach for much ongoing work in the field of machine learning.self learningselflearning as a machine learning paradigm was introduced in  along with a neural network capable of selflearning named crossbar adaptive array caa.',\n",
       "  'in practice, it can turn out to be more effective to help the machine develop its own algorithm, rather than having human programmers specify every needed step.the discipline of machine learning employs various approaches to teach computers to accomplish tasks where no fully satisfactory algorithm is available.',\n",
       "  'recently, machine learning technology is also applied to optimise smartphones performance and thermal behaviour based on the users interaction with the phone.limitationsalthough machine learning has been transformative in some fields, machinelearning programs often fail to deliver expected results.',\n",
       "  'recently, machine learning technology is also applied to optimise smartphones performance and thermal behaviour based on the users interaction with the phone.limitationsalthough machine learning has been transformative in some fields, machinelearning programs often fail to deliver expected results.',\n",
       "  'in its application across business problems, machine learning is also referred to as predictive analytics.overviewlearning algorithms work on the basis that strategies, algorithms, and inferences that worked well in the past are likely to continue working well in the future.',\n",
       "  'various types of models have been used and researched for machine learning systems.artificial neural networksartificial neural networks anns, or connectionist systems, are computing systems vaguely inspired by the biological neural networks that constitute animal brains.',\n",
       "  'it is intended to identify strong rules discovered in databases using some measure of interestingness.rulebased machine learning is a general term for any machine learning method that identifies, learns, or evolves rules to store, manipulate or apply knowledge.',\n",
       "  'it is intended to identify strong rules discovered in databases using some measure of interestingness.rulebased machine learning is a general term for any machine learning method that identifies, learns, or evolves rules to store, manipulate or apply knowledge.',\n",
       "  'they can be nuanced, such as x of families have geographically separate species with color variants, so there is a y chance that undiscovered black swans exist.machine learning programs can perform tasks without being explicitly programmed to do so.',\n",
       "  'responsible collection of data and documentation of algorithmic rules used by a system thus is a critical part of machine learning.ai can be wellequipped to make decisions in technical fields, which rely heavily on data and historical information.',\n",
       "  'data mining uses many machine learning methods, but with different goals on the other hand, machine learning also employs data mining methods as unsupervised learning or as a preprocessing step to improve learner accuracy.',\n",
       "  'data mining uses many machine learning methods, but with different goals on the other hand, machine learning also employs data mining methods as unsupervised learning or as a preprocessing step to improve learner accuracy.',\n",
       "  'a machine learning algorithm for stock trading may inform the trader of future potential predictions.artificial intelligenceas a scientific endeavor, machine learning grew out of the quest for artificial intelligence.',\n",
       "  'a machine learning algorithm for stock trading may inform the trader of future potential predictions.artificial intelligenceas a scientific endeavor, machine learning grew out of the quest for artificial intelligence.',\n",
       "  'retrieved  august .further readingexternal links quotations related to machine learning at wikiquoteinternational machine learning societymloss is an academic database of opensource machine learning software.',\n",
       "  'retrieved  august .further readingexternal links quotations related to machine learning at wikiquoteinternational machine learning societymloss is an academic database of opensource machine learning software.',\n",
       "  'retrieved  august .further readingexternal links quotations related to machine learning at wikiquoteinternational machine learning societymloss is an academic database of opensource machine learning software.',\n",
       "  'in , it was reported that a machine learning algorithm had been applied in the field of art history to study fine art paintings and that it may have revealed previously unrecognized influences among artists.',\n",
       "  'probabilistic reasoning was also employed, especially in automated medical diagnosis.however, an increasing emphasis on the logical, knowledgebased approach caused a rift between ai and machine learning.',\n",
       "  'the defining characteristic of a rulebased machine learning algorithm is the identification and utilization of a set of relational rules that collectively represent the knowledge captured by the system.',\n",
       "  'machine learning models are often vulnerable to manipulation andor evasion via adversarial machine learning.researchers have demonstrated how backdoors can be placed undetectably into classifying e.g.',\n",
       "  'using job hiring data from a firm with racist hiring policies may lead to a machine learning system duplicating the bias by scoring job applicants by similarity to previous successful applicants.',\n",
       "  'in , cofounder of sun microsystems, vinod khosla, predicted that  of medical doctors jobs would be lost in the next two decades to automated machine learning medical diagnostic software.',\n",
       "  'a machine learning system trained specifically on current customers may not be able to predict the needs of new customer groups that are not represented in the training data.',\n",
       "  'a representative book on research into machine learning during the s was nilssons book on learning machines, dealing mostly with machine learning for pattern classification.',\n",
       "  'a representative book on research into machine learning during the s was nilssons book on learning machines, dealing mostly with machine learning for pattern classification.',\n",
       "  'according to michael i. jordan, the ideas of machine learning, from methodological principles to theoretical tools, have had a long prehistory in statistics.',\n",
       "  'maml.association rulesassociation rule learning is a rulebased machine learning method for discovering relationships between variables in large databases.',\n",
       "  'when trained on manmade data, machine learning is likely to pick up the constitutional and unconscious biases already present in society.',\n",
       "  'when training a machine learning model, machine learning engineers need to target and collect a large and representative sample of data.',\n",
       "  'when training a machine learning model, machine learning engineers need to target and collect a large and representative sample of data.',\n",
       "  'in  the wall street journal wrote about the firm rebellion research and their use of machine learning to predict the financial crisis.',\n",
       "  'some implementations of machine learning use data and neural networks in a way that mimics the working of a biological brain.',\n",
       "  'gordon plotkin and ehud shapiro laid the initial theoretical foundation for inductive machine learning in a logical setting.',\n",
       "  'the study of mathematical optimization delivers methods, theory and application domains to the field of machine learning.',\n",
       "  'in , machine learning technology was used to help make diagnoses and aid researchers in developing a cure for covid.',\n",
       "  'because of such challenges, the effective use of machine learning may take longer to be adopted in other domains.',\n",
       "  'machine learning systems used for criminal risk assessment have been found to be biased against black people.',\n",
       "  'it is one of the predictive modeling approaches used in statistics, data mining, and machine learning.',\n",
       "  'in machine learning, the environment is typically represented as a markov decision process mdp.',\n",
       "  'in  springer nature published the first research book created using machine learning.',\n",
       "  'overfitting is something to watch out for when training a machine learning model.',\n",
       "  'machine learning is recently applied to predict the green behavior of humanbeing.'],\n",
       " 'machine learning algorithms': ['embedded machine learning could be applied through several techniques including hardware acceleration, using approximate computing, optimization of machine learning models and many more.softwaresoftware suites containing a variety of machine learning algorithms include the followingfree and opensource softwareproprietary software with free and opensource editionsknimerapidminerproprietary softwarejournalsjournal of machine learning researchmachine learningnature machine intelligenceneural computationconferencesaaai conference on artificial intelligenceassociation for computational linguistics acleuropean conference on machine learning and principles and practice of knowledge discovery in databases ecml pkddinternational conference on computational intelligence methods for bioinformatics and biostatistics cibbinternational conference on machine learning icmlinternational conference on learning representations iclrinternational conference on intelligent robots and systems irosconference on knowledge discovery and data mining kddconference on neural information processing systems neuripssee alsoautomated machine learning – process of automating the application of machine learningbig data – information assets characterized by high volume, velocity, and varietydifferentiable programming – programming paradigmlist of important publications in machine learninglist of datasets for machinelearning researchreferencessourcesdomingos, pedro september , .',\n",
       "  'the training examples come from some generally unknown probability distribution considered representative of the space of occurrences and the learner has to build a general model about this space that enables it to produce sufficiently accurate predictions in new cases.the computational analysis of machine learning algorithms and their performance is a branch of theoretical computer science known as computational learning theory via the probably approximately correct learning pac model.',\n",
       "  'he also suggested the term data science as a placeholder to call the overall field.leo breiman distinguished two statistical modeling paradigms data model and algorithmic model, wherein algorithmic model means more or less the machine learning algorithms like random forest.some statisticians have adopted methods from machine learning, leading to a combined field that they call statistical learning.theorya core objective of a learner is to generalize from its experience.',\n",
       "  'there is  potential for machine learning in health care to provide professionals an additional tool to diagnose, medicate, and plan recovery paths for patients, but this requires these biases to be mitigated.hardwaresince the s, advances in both machine learning algorithms and computer hardware have led to more efficient methods for training deep neural networks a particular narrow subdomain of machine learning that contain many layers of nonlinear hidden units.',\n",
       "  'machine learning algorithms are used in a wide variety of applications, such as in medicine, email filtering, speech recognition, and computer vision, where it is difficult or unfeasible to develop conventional algorithms to perform the needed tasks.a subset of machine learning is closely related to computational statistics, which focuses on making predictions using computers, but not all machine learning is statistical learning.',\n",
       "  'in contrast with sequence mining, association rule learning typically does not consider the order of items either within a transaction or across transactions.learning classifier systems lcs are a family of rulebased machine learning algorithms that combine a discovery component, typically a genetic algorithm, with a learning component, performing either supervised learning, reinforcement learning, or unsupervised learning.',\n",
       "  'machine learning algorithms build a model based on sample data, known as training data, in order to make predictions or decisions without being explicitly programmed to do so.',\n",
       "  'this is in contrast to other machine learning algorithms that commonly identify a singular model that can be universally applied to any instance in order to make a prediction.'],\n",
       " 'machine learning ml': ['their main success came in the mids with the reinvention of backpropagation.machine learning ml, reorganized as a separate field, started to flourish in the s. the field changed its goal from achieving artificial intelligence to tackling solvable problems of a practical nature.',\n",
       "  'machine learning ml is a field of inquiry devoted to understanding and building methods that learn, that is, methods that leverage data to improve performance on some set of tasks.'],\n",
       " 'machine learning models': ['embedded machine learning could be applied through several techniques including hardware acceleration, using approximate computing, optimization of machine learning models and many more.softwaresoftware suites containing a variety of machine learning algorithms include the followingfree and opensource softwareproprietary software with free and opensource editionsknimerapidminerproprietary softwarejournalsjournal of machine learning researchmachine learningnature machine intelligenceneural computationconferencesaaai conference on artificial intelligenceassociation for computational linguistics acleuropean conference on machine learning and principles and practice of knowledge discovery in databases ecml pkddinternational conference on computational intelligence methods for bioinformatics and biostatistics cibbinternational conference on machine learning icmlinternational conference on learning representations iclrinternational conference on intelligent robots and systems irosconference on knowledge discovery and data mining kddconference on neural information processing systems neuripssee alsoautomated machine learning – process of automating the application of machine learningbig data – information assets characterized by high volume, velocity, and varietydifferentiable programming – programming paradigmlist of important publications in machine learninglist of datasets for machinelearning researchreferencessourcesdomingos, pedro september , .',\n",
       "  'parties can change the classification of any input, including in cases for which a type of datasoftware transparency is provided, possibly including whitebox access.model assessmentsclassification of machine learning models can be validated by accuracy estimation techniques like the holdout method, which splits the data in a training and test set conventionally  training set and  test set designation and evaluates the performance of the training model on the test set.',\n",
       "  'machine learning ethics is becoming a field of study and notably be integrated within machine learning engineering teams.federated learningfederated learning is an adapted form of distributed artificial intelligence to training machine learning models that decentralizes the training process, allowing for users privacy to be maintained by not needing to send their data to a centralized server.',\n",
       "  'in machine learning, genetic algorithms were used in the s and s. conversely, machine learning techniques have been used to improve the performance of genetic and evolutionary algorithms.training modelstypically, machine learning models require a high quantity of reliable data in order for the models to perform accurate predictions.',\n",
       "  'machine learning models are often vulnerable to manipulation andor evasion via adversarial machine learning.researchers have demonstrated how backdoors can be placed undetectably into classifying e.g.',\n",
       "  'for categories spam and wellvisible not spam of posts machine learning models which are often developed andor trained by third parties.'],\n",
       " 'model': ['most of the dimensionality reduction techniques can be considered as either feature elimination or extraction.one of the popular methods of dimensionality reduction is principal component analysis pca.pca involves changing higherdimensional data e.g., d to a smaller space e.g., d. this results in a smaller dimension of data d instead of d, while keeping all original variables in the model without changing the data.the manifold hypothesis proposes that highdimensional data sets lie along lowdimensional manifolds, and many dimensionality reduction techniques make this assumption, leading to the area of manifold learning and manifold regularization.other typesother approaches have been developed which dont fit neatly into this threefold categorisation, and sometimes more than one is used by the same machine learning system.',\n",
       "  'when dealing with nonlinear problems, goto models include polynomial regression for example, used for trendline fitting in microsoft excel, logistic regression often used in statistical classification or even kernel regression, which introduces nonlinearity by taking advantage of the kernel trick to implicitly map input variables to higherdimensional space.bayesian networksa bayesian network, belief network, or directed acyclic graphical model is a probabilistic graphical model that represents a set of random variables and their conditional independence with a directed acyclic graph dag.',\n",
       "  'when dealing with nonlinear problems, goto models include polynomial regression for example, used for trendline fitting in microsoft excel, logistic regression often used in statistical classification or even kernel regression, which introduces nonlinearity by taking advantage of the kernel trick to implicitly map input variables to higherdimensional space.bayesian networksa bayesian network, belief network, or directed acyclic graphical model is a probabilistic graphical model that represents a set of random variables and their conditional independence with a directed acyclic graph dag.',\n",
       "  'loss functions express the discrepancy between the predictions of the model being trained and the actual problem instances for example, in classification, one wants to assign a label to instances, and models are trained to correctly predict the preassigned labels of a set of examples.generalizationthe difference between optimization and machine learning arises from the goal of generalization while optimization algorithms can minimize the loss on a training set, machine learning is concerned with minimizing the loss on unseen samples.',\n",
       "  'the training examples come from some generally unknown probability distribution considered representative of the space of occurrences and the learner has to build a general model about this space that enables it to produce sufficiently accurate predictions in new cases.the computational analysis of machine learning algorithms and their performance is a branch of theoretical computer science known as computational learning theory via the probably approximately correct learning pac model.',\n",
       "  'the training examples come from some generally unknown probability distribution considered representative of the space of occurrences and the learner has to build a general model about this space that enables it to produce sufficiently accurate predictions in new cases.the computational analysis of machine learning algorithms and their performance is a branch of theoretical computer science known as computational learning theory via the probably approximately correct learning pac model.',\n",
       "  'he also suggested the term data science as a placeholder to call the overall field.leo breiman distinguished two statistical modeling paradigms data model and algorithmic model, wherein algorithmic model means more or less the machine learning algorithms like random forest.some statisticians have adopted methods from machine learning, leading to a combined field that they call statistical learning.theorya core objective of a learner is to generalize from its experience.',\n",
       "  'he also suggested the term data science as a placeholder to call the overall field.leo breiman distinguished two statistical modeling paradigms data model and algorithmic model, wherein algorithmic model means more or less the machine learning algorithms like random forest.some statisticians have adopted methods from machine learning, leading to a combined field that they call statistical learning.theorya core objective of a learner is to generalize from its experience.',\n",
       "  'he also suggested the term data science as a placeholder to call the overall field.leo breiman distinguished two statistical modeling paradigms data model and algorithmic model, wherein algorithmic model means more or less the machine learning algorithms like random forest.some statisticians have adopted methods from machine learning, leading to a combined field that they call statistical learning.theorya core objective of a learner is to generalize from its experience.',\n",
       "  'parties can change the classification of any input, including in cases for which a type of datasoftware transparency is provided, possibly including whitebox access.model assessmentsclassification of machine learning models can be validated by accuracy estimation techniques like the holdout method, which splits the data in a training and test set conventionally  training set and  test set designation and evaluates the performance of the training model on the test set.',\n",
       "  'parties can change the classification of any input, including in cases for which a type of datasoftware transparency is provided, possibly including whitebox access.model assessmentsclassification of machine learning models can be validated by accuracy estimation techniques like the holdout method, which splits the data in a training and test set conventionally  training set and  test set designation and evaluates the performance of the training model on the test set.',\n",
       "  'more generally the term is applicable to other artificial neural networks in which a memristor or other electrically adjustable resistance material is used to emulate a neural synapse.embedded machine learningembedded machine learning is a subfield of machine learning, where the machine learning model is run on embedded systems with limited computing resources such as wearable computers, edge devices and microcontrollers.',\n",
       "  'semisupervised anomaly detection techniques construct a model representing normal behavior from a given normal training data set and then test the likelihood of a test instance to be generated by the model.robot learningrobot learning is inspired by a multitude of machine learning methods, starting from supervised learning, reinforcement learning, and finally metalearning e.g.',\n",
       "  'semisupervised anomaly detection techniques construct a model representing normal behavior from a given normal training data set and then test the likelihood of a test instance to be generated by the model.robot learningrobot learning is inspired by a multitude of machine learning methods, starting from supervised learning, reinforcement learning, and finally metalearning e.g.',\n",
       "  'the term inductive here refers to philosophical induction, suggesting a theory to explain observed facts, rather than mathematical induction, proving a property for all members of a wellordered set.modelsperforming machine learning involves creating a model, which is trained on some training data and then can process additional data to make predictions.',\n",
       "  'in addition to the holdout and crossvalidation methods, bootstrap, which samples n instances with replacement from the dataset, can be used to assess model accuracy.in addition to overall accuracy, investigators frequently report sensitivity and specificity meaning true positive rate tpr and true negative rate tnr respectively.',\n",
       "  'running machine learning model in embedded devices removes the need for transferring and storing data on cloud servers for further processing, henceforth, reducing data breaches and privacy leaks happening because of transferring data, and also minimizes theft of intellectual properties, personal data and business secrets.',\n",
       "  'some successful applications of deep learning are computer vision and speech recognition.decision treesdecision tree learning uses a decision tree as a predictive model to go from observations about an item represented in the branches to conclusions about the items target value represented in the leaves.',\n",
       "  'such systems learn to perform tasks by considering examples, generally without being programmed with any taskspecific rules.an ann is a model based on a collection of connected units or nodes called artificial neurons, which loosely model the neurons in a biological brain.',\n",
       "  'such systems learn to perform tasks by considering examples, generally without being programmed with any taskspecific rules.an ann is a model based on a collection of connected units or nodes called artificial neurons, which loosely model the neurons in a biological brain.',\n",
       "  'as it navigates its problem space, the program is provided feedback thats analogous to rewards, which it tries to maximize.supervised learningsupervised learning algorithms build a mathematical model of a set of data that contains both the inputs and the desired outputs.',\n",
       "  'in comparison, the kfoldcrossvalidation method randomly partitions the data into k subsets and then k experiments are performed each respectively considering  subset for evaluation and the remaining k subsets for training the model.',\n",
       "  'but if the hypothesis is too complex, then the model is subject to overfitting and generalization will be poorer.in addition to performance bounds, learning theorists study the time complexity and feasibility of learning.',\n",
       "  'given a set of training examples, each marked as belonging to one of two categories, an svm training algorithm builds a model that predicts whether a new example falls into one category or the other.',\n",
       "  'a joint team made up of researchers from att labsresearch in collaboration with the teams big chaos and pragmatic theory built an ensemble model to win the grand prize in  for  million.',\n",
       "  'machine learning algorithms build a model based on sample data, known as training data, in order to make predictions or decisions without being explicitly programmed to do so.',\n",
       "  'this is in contrast to other machine learning algorithms that commonly identify a singular model that can be universally applied to any instance in order to make a prediction.',\n",
       "  'in the mathematical model, each training example is represented by an array or vector, sometimes called a feature vector, and the training data is represented by a matrix.',\n",
       "  'shapiro built their first implementation model inference system in  a prolog program that inductively inferred logic programs from positive and negative examples.',\n",
       "  'sparse coding algorithms attempt to do so under the constraint that the learned representation is sparse, meaning that the mathematical model has many zeros.',\n",
       "  'reinforcement learning algorithms do not assume knowledge of an exact mathematical model of the mdp, and are used when exact models are infeasible.',\n",
       "  'when training a machine learning model, machine learning engineers need to target and collect a large and representative sample of data.',\n",
       "  'bayesian networks that model sequences of variables, like speech signals or protein sequences, are called dynamic bayesian networks.',\n",
       "  'this approach tries to model the way the human brain processes light and sound into vision and hearing.',\n",
       "  'if the hypothesis is less complex than the function, then the model has under fitted the data.',\n",
       "  'if the complexity of the model is increased in response, then the training error decreases.',\n",
       "  'overfitting is something to watch out for when training a machine learning model.'],\n",
       " 'neural': ['embedded machine learning could be applied through several techniques including hardware acceleration, using approximate computing, optimization of machine learning models and many more.softwaresoftware suites containing a variety of machine learning algorithms include the followingfree and opensource softwareproprietary software with free and opensource editionsknimerapidminerproprietary softwarejournalsjournal of machine learning researchmachine learningnature machine intelligenceneural computationconferencesaaai conference on artificial intelligenceassociation for computational linguistics acleuropean conference on machine learning and principles and practice of knowledge discovery in databases ecml pkddinternational conference on computational intelligence methods for bioinformatics and biostatistics cibbinternational conference on machine learning icmlinternational conference on learning representations iclrinternational conference on intelligent robots and systems irosconference on knowledge discovery and data mining kddconference on neural information processing systems neuripssee alsoautomated machine learning – process of automating the application of machine learningbig data – information assets characterized by high volume, velocity, and varietydifferentiable programming – programming paradigmlist of important publications in machine learninglist of datasets for machinelearning researchreferencessourcesdomingos, pedro september , .',\n",
       "  'in  a report was given on using teaching strategies so that a neural network learns to recognize  characters  letters,  digits, and  special symbols from a computer terminal.tom m. mitchell provided a widely quoted, more formal definition of the algorithms studied in the machine learning field a computer program is said to learn from experience e with respect to some class of tasks t and performance measure p if its performance at tasks in t, as measured by p,  improves with experience e. this definition of the tasks in which machine learning is concerned offers a fundamentally operational definition rather than defining the field in cognitive terms.',\n",
       "  'more generally the term is applicable to other artificial neural networks in which a memristor or other electrically adjustable resistance material is used to emulate a neural synapse.embedded machine learningembedded machine learning is a subfield of machine learning, where the machine learning model is run on embedded systems with limited computing resources such as wearable computers, edge devices and microcontrollers.',\n",
       "  'for example topic modeling,  meta learning.as of , deep learning has become the dominant approach for much ongoing work in the field of machine learning.self learningselflearning as a machine learning paradigm was introduced in  along with a neural network capable of selflearning named crossbar adaptive array caa.',\n",
       "  'artificial neural networks have been used on a variety of tasks, including computer vision, speech recognition, machine translation, social network filtering, playing board and video games and medical diagnosis.deep learning consists of multiple hidden layers in an artificial neural network.',\n",
       "  'various types of models have been used and researched for machine learning systems.artificial neural networksartificial neural networks anns, or connectionist systems, are computing systems vaguely inspired by the biological neural networks that constitute animal brains.',\n",
       "  'months.neuromorphicphysical neural networksa physical neural network or neuromorphic computer  is a type of artificial neural network in which an electrically adjustable material is used to emulate the function of a neural synapse.',\n",
       "  'months.neuromorphicphysical neural networksa physical neural network or neuromorphic computer  is a type of artificial neural network in which an electrically adjustable material is used to emulate the function of a neural synapse.',\n",
       "  'months.neuromorphicphysical neural networksa physical neural network or neuromorphic computer  is a type of artificial neural network in which an electrically adjustable material is used to emulate the function of a neural synapse.',\n",
       "  'months.neuromorphicphysical neural networksa physical neural network or neuromorphic computer  is a type of artificial neural network in which an electrically adjustable material is used to emulate the function of a neural synapse.',\n",
       "  'physical neural network is used to emphasize the reliance on physical hardware used to emulate neurons as opposed to softwarebased approaches.'],\n",
       " 'neural networks': ['there is  potential for machine learning in health care to provide professionals an additional tool to diagnose, medicate, and plan recovery paths for patients, but this requires these biases to be mitigated.hardwaresince the s, advances in both machine learning algorithms and computer hardware have led to more efficient methods for training deep neural networks a particular narrow subdomain of machine learning that contain many layers of nonlinear hidden units.',\n",
       "  'more generally the term is applicable to other artificial neural networks in which a memristor or other electrically adjustable resistance material is used to emulate a neural synapse.embedded machine learningembedded machine learning is a subfield of machine learning, where the machine learning model is run on embedded systems with limited computing resources such as wearable computers, edge devices and microcontrollers.',\n",
       "  'work on symbolicknowledgebased learning did continue within ai, leading to inductive logic programming, but the more statistical line of research was now outside the field of ai proper, in pattern recognition and information retrieval.–, neural networks research had been abandoned by ai and computer science around the same time.',\n",
       "  'artificial neural networks have been used on a variety of tasks, including computer vision, speech recognition, machine translation, social network filtering, playing board and video games and medical diagnosis.deep learning consists of multiple hidden layers in an artificial neural network.',\n",
       "  'various types of models have been used and researched for machine learning systems.artificial neural networksartificial neural networks anns, or connectionist systems, are computing systems vaguely inspired by the biological neural networks that constitute animal brains.',\n",
       "  'various types of models have been used and researched for machine learning systems.artificial neural networksartificial neural networks anns, or connectionist systems, are computing systems vaguely inspired by the biological neural networks that constitute animal brains.',\n",
       "  'they attempted to approach the problem with various symbolic methods, as well as what was then termed neural networks these were mostly perceptrons and other models that were later found to be reinventions of the generalized linear models of statistics.',\n",
       "  'some implementations of machine learning use data and neural networks in a way that mimics the working of a biological brain.',\n",
       "  'examples include artificial neural networks, multilayer perceptrons, and supervised dictionary learning.'],\n",
       " 'predictions': ['loss functions express the discrepancy between the predictions of the model being trained and the actual problem instances for example, in classification, one wants to assign a label to instances, and models are trained to correctly predict the preassigned labels of a set of examples.generalizationthe difference between optimization and machine learning arises from the goal of generalization while optimization algorithms can minimize the loss on a training set, machine learning is concerned with minimizing the loss on unseen samples.',\n",
       "  'the training examples come from some generally unknown probability distribution considered representative of the space of occurrences and the learner has to build a general model about this space that enables it to produce sufficiently accurate predictions in new cases.the computational analysis of machine learning algorithms and their performance is a branch of theoretical computer science known as computational learning theory via the probably approximately correct learning pac model.',\n",
       "  'machine learning algorithms are used in a wide variety of applications, such as in medicine, email filtering, speech recognition, and computer vision, where it is difficult or unfeasible to develop conventional algorithms to perform the needed tasks.a subset of machine learning is closely related to computational statistics, which focuses on making predictions using computers, but not all machine learning is statistical learning.',\n",
       "  'this follows alan turings proposal in his paper computing machinery and intelligence, in which the question can machines think is replaced with the question can machines do what we as thinking entities can do.modern day machine learning has two objectives, one is to classify data based on models which have been developed, the other purpose is to make predictions for future outcomes based on these models.',\n",
       "  'the term inductive here refers to philosophical induction, suggesting a theory to explain observed facts, rather than mathematical induction, proving a property for all members of a wellordered set.modelsperforming machine learning involves creating a model, which is trained on some training data and then can process additional data to make predictions.',\n",
       "  'in machine learning, genetic algorithms were used in the s and s. conversely, machine learning techniques have been used to improve the performance of genetic and evolutionary algorithms.training modelstypically, machine learning models require a high quantity of reliable data in order for the models to perform accurate predictions.',\n",
       "  'they seek to identify a set of contextdependent rules that collectively store and apply knowledge in a piecewise manner in order to make predictions.inductive logic programming ilp is an approach to rulelearning using logic programming as a uniform representation for input examples, background knowledge, and hypotheses.',\n",
       "  'feature learning algorithms, also called representation learning algorithms, often attempt to preserve the information in their input but also transform it in a way that makes it useful, often as a preprocessing step before performing classification or predictions.',\n",
       "  'an algorithm that improves the accuracy of its outputs or predictions over time is said to have learned to perform that task.types of supervisedlearning algorithms include active learning, classification and regression.',\n",
       "  'a machine learning algorithm for stock trading may inform the trader of future potential predictions.artificial intelligenceas a scientific endeavor, machine learning grew out of the quest for artificial intelligence.',\n",
       "  'machine learning algorithms build a model based on sample data, known as training data, in order to make predictions or decisions without being explicitly programmed to do so.',\n",
       "  'trained models derived from biased or nonevaluated data can result in skewed or undesired predictions.'],\n",
       " 'programmed': ['such systems learn to perform tasks by considering examples, generally without being programmed with any taskspecific rules.an ann is a model based on a collection of connected units or nodes called artificial neurons, which loosely model the neurons in a biological brain.',\n",
       "  'they can be nuanced, such as x of families have geographically separate species with color variants, so there is a y chance that undiscovered black swans exist.machine learning programs can perform tasks without being explicitly programmed to do so.',\n",
       "  'machine learning algorithms build a model based on sample data, known as training data, in order to make predictions or decisions without being explicitly programmed to do so.'],\n",
       " 'set': ['when dealing with nonlinear problems, goto models include polynomial regression for example, used for trendline fitting in microsoft excel, logistic regression often used in statistical classification or even kernel regression, which introduces nonlinearity by taking advantage of the kernel trick to implicitly map input variables to higherdimensional space.bayesian networksa bayesian network, belief network, or directed acyclic graphical model is a probabilistic graphical model that represents a set of random variables and their conditional independence with a directed acyclic graph dag.',\n",
       "  'loss functions express the discrepancy between the predictions of the model being trained and the actual problem instances for example, in classification, one wants to assign a label to instances, and models are trained to correctly predict the preassigned labels of a set of examples.generalizationthe difference between optimization and machine learning arises from the goal of generalization while optimization algorithms can minimize the loss on a training set, machine learning is concerned with minimizing the loss on unseen samples.',\n",
       "  'loss functions express the discrepancy between the predictions of the model being trained and the actual problem instances for example, in classification, one wants to assign a label to instances, and models are trained to correctly predict the preassigned labels of a set of examples.generalizationthe difference between optimization and machine learning arises from the goal of generalization while optimization algorithms can minimize the loss on a training set, machine learning is concerned with minimizing the loss on unseen samples.',\n",
       "  'parties can change the classification of any input, including in cases for which a type of datasoftware transparency is provided, possibly including whitebox access.model assessmentsclassification of machine learning models can be validated by accuracy estimation techniques like the holdout method, which splits the data in a training and test set conventionally  training set and  test set designation and evaluates the performance of the training model on the test set.',\n",
       "  'parties can change the classification of any input, including in cases for which a type of datasoftware transparency is provided, possibly including whitebox access.model assessmentsclassification of machine learning models can be validated by accuracy estimation techniques like the holdout method, which splits the data in a training and test set conventionally  training set and  test set designation and evaluates the performance of the training model on the test set.',\n",
       "  'parties can change the classification of any input, including in cases for which a type of datasoftware transparency is provided, possibly including whitebox access.model assessmentsclassification of machine learning models can be validated by accuracy estimation techniques like the holdout method, which splits the data in a training and test set conventionally  training set and  test set designation and evaluates the performance of the training model on the test set.',\n",
       "  'parties can change the classification of any input, including in cases for which a type of datasoftware transparency is provided, possibly including whitebox access.model assessmentsclassification of machine learning models can be validated by accuracy estimation techniques like the holdout method, which splits the data in a training and test set conventionally  training set and  test set designation and evaluates the performance of the training model on the test set.',\n",
       "  'evaluated with respect to known knowledge, an uninformed unsupervised method will easily be outperformed by other supervised methods, while in a typical kdd task, supervised methods cannot be used due to the unavailability of training data.optimizationmachine learning also has intimate ties to optimization many learning problems are formulated as minimization of some loss function on a training set of examples.',\n",
       "  'semisupervised anomaly detection techniques construct a model representing normal behavior from a given normal training data set and then test the likelihood of a test instance to be generated by the model.robot learningrobot learning is inspired by a multitude of machine learning methods, starting from supervised learning, reinforcement learning, and finally metalearning e.g.',\n",
       "  'though unsupervised learning encompasses other domains involving summarizing and explaining data features.cluster analysis is the assignment of a set of observations into subsets called clusters so that observations within the same cluster are similar according to one or more predesignated criteria, while observations drawn from different clusters are dissimilar.',\n",
       "  'the term inductive here refers to philosophical induction, suggesting a theory to explain observed facts, rather than mathematical induction, proving a property for all members of a wellordered set.modelsperforming machine learning involves creating a model, which is trained on some training data and then can process additional data to make predictions.',\n",
       "  'they seek to identify a set of contextdependent rules that collectively store and apply knowledge in a piecewise manner in order to make predictions.inductive logic programming ilp is an approach to rulelearning using logic programming as a uniform representation for input examples, background knowledge, and hypotheses.',\n",
       "  'it has applications in ranking, recommendation systems, visual identity tracking, face verification, and speaker verification.unsupervised learningunsupervised learning algorithms take a set of data that contains only inputs, and find structure in the data, like grouping or clustering of data points.',\n",
       "  'in data mining, a decision tree describes data, but the resulting classification tree can be an input for decision making.supportvector machinessupportvector machines svms, also known as supportvector networks, are a set of related supervised learning methods used for classification and regression.',\n",
       "  'reinforcement learning algorithms are used in autonomous vehicles or in learning to play a game against a human opponent.dimensionality reductiondimensionality reduction is a process of reducing the number of random variables under consideration by obtaining a set of principal variables.',\n",
       "  'as it navigates its problem space, the program is provided feedback thats analogous to rewards, which it tries to maximize.supervised learningsupervised learning algorithms build a mathematical model of a set of data that contains both the inputs and the desired outputs.',\n",
       "  'supervised anomaly detection techniques require a data set that has been labeled as normal and abnormal and involves training a classifier the key difference to many other statistical classification problems is the inherently unbalanced nature of outlier detection.',\n",
       "  'unsupervised anomaly detection techniques detect anomalies in an unlabeled test data set under the assumption that the majority of the instances in the data set are normal, by looking for instances that seem to fit the least to the remainder of the data set.',\n",
       "  'unsupervised anomaly detection techniques detect anomalies in an unlabeled test data set under the assumption that the majority of the instances in the data set are normal, by looking for instances that seem to fit the least to the remainder of the data set.',\n",
       "  'unsupervised anomaly detection techniques detect anomalies in an unlabeled test data set under the assumption that the majority of the instances in the data set are normal, by looking for instances that seem to fit the least to the remainder of the data set.',\n",
       "  'tree models where the target variable can take a discrete set of values are called classification trees in these tree structures, leaves represent class labels and branches represent conjunctions of features that lead to those class labels.',\n",
       "  'given an encoding of the known background knowledge and a set of examples represented as a logical database of facts, an ilp system will derive a hypothesized logic program that entails all positive and no negative examples.',\n",
       "  'the defining characteristic of a rulebased machine learning algorithm is the identification and utilization of a set of relational rules that collectively represent the knowledge captured by the system.',\n",
       "  'given a set of training examples, each marked as belonging to one of two categories, an svm training algorithm builds a model that predicts whether a new example falls into one category or the other.',\n",
       "  'classification algorithms are used when the outputs are restricted to a limited set of values, and regression algorithms are used when the outputs may have any numerical value within a range.',\n",
       "  'machine learning ml is a field of inquiry devoted to understanding and building methods that learn, that is, methods that leverage data to improve performance on some set of tasks.',\n",
       "  'generalization in this context is the ability of a learning machine to perform accurately on new, unseen examplestasks after having experienced a learning data set.',\n",
       "  'data from the training set can be as varied as a corpus of text, a collection of images, sensor data, and data collected from individual users of a service.',\n",
       "  'in other words, it is a process of reducing the dimension of the feature set, also called number of features.',\n",
       "  'the data is known as training data, and consists of a set of training examples.'],\n",
       " 'supervised': ['some of the training examples are missing training labels,  yet many machinelearning researchers have found that unlabeled data, when used in conjunction with a small amount of labeled data, can produce a considerable improvement in learning accuracy.in weakly supervised learning, the training labels are noisy, limited, or imprecise however, these labels are often cheaper to obtain, resulting in larger effective training sets.reinforcement learningreinforcement learning is an area of machine learning concerned with how software agents ought to take actions in an environment so as to maximize some notion of cumulative reward.',\n",
       "  'in contrast with sequence mining, association rule learning typically does not consider the order of items either within a transaction or across transactions.learning classifier systems lcs are a family of rulebased machine learning algorithms that combine a discovery component, typically a genetic algorithm, with a learning component, performing either supervised learning, reinforcement learning, or unsupervised learning.',\n",
       "  'evaluated with respect to known knowledge, an uninformed unsupervised method will easily be outperformed by other supervised methods, while in a typical kdd task, supervised methods cannot be used due to the unavailability of training data.optimizationmachine learning also has intimate ties to optimization many learning problems are formulated as minimization of some loss function on a training set of examples.',\n",
       "  'evaluated with respect to known knowledge, an uninformed unsupervised method will easily be outperformed by other supervised methods, while in a typical kdd task, supervised methods cannot be used due to the unavailability of training data.optimizationmachine learning also has intimate ties to optimization many learning problems are formulated as minimization of some loss function on a training set of examples.',\n",
       "  'as an example, for a classification algorithm that filters emails, the input would be an incoming email, and the output would be the name of the folder in which to file the email.similarity learning is an area of supervised machine learning closely related to regression and classification, but the goal is to learn from examples using a similarity function that measures how similar or related two objects are.',\n",
       "  'semisupervised anomaly detection techniques construct a model representing normal behavior from a given normal training data set and then test the likelihood of a test instance to be generated by the model.robot learningrobot learning is inspired by a multitude of machine learning methods, starting from supervised learning, reinforcement learning, and finally metalearning e.g.',\n",
       "  'in data mining, a decision tree describes data, but the resulting classification tree can be an input for decision making.supportvector machinessupportvector machines svms, also known as supportvector networks, are a set of related supervised learning methods used for classification and regression.',\n",
       "  'as it navigates its problem space, the program is provided feedback thats analogous to rewards, which it tries to maximize.supervised learningsupervised learning algorithms build a mathematical model of a set of data that contains both the inputs and the desired outputs.',\n",
       "  'supervised anomaly detection techniques require a data set that has been labeled as normal and abnormal and involves training a classifier the key difference to many other statistical classification problems is the inherently unbalanced nature of outlier detection.',\n",
       "  'other methods are based on estimated density and graph connectivity.semisupervised learningsemisupervised learning falls between unsupervised learning without any labeled training data and supervised learning with completely labeled training data.',\n",
       "  'this replaces manual feature engineering, and allows a machine to both learn the features and use them to perform a specific task.feature learning can be either supervised or unsupervised.',\n",
       "  'a hypothetical algorithm specific to classifying data may use computer vision of moles coupled with supervised learning in order to train it to classify the cancerous moles.',\n",
       "  'through iterative optimization of an objective function, supervised learning algorithms learn a function that can be used to predict the output associated with new inputs.',\n",
       "  'examples include artificial neural networks, multilayer perceptrons, and supervised dictionary learning.',\n",
       "  'in supervised feature learning, features are learned using labeled input data.'],\n",
       " 'tasks': ['in  a report was given on using teaching strategies so that a neural network learns to recognize  characters  letters,  digits, and  special symbols from a computer terminal.tom m. mitchell provided a widely quoted, more formal definition of the algorithms studied in the machine learning field a computer program is said to learn from experience e with respect to some class of tasks t and performance measure p if its performance at tasks in t, as measured by p,  improves with experience e. this definition of the tasks in which machine learning is concerned offers a fundamentally operational definition rather than defining the field in cognitive terms.',\n",
       "  'in  a report was given on using teaching strategies so that a neural network learns to recognize  characters  letters,  digits, and  special symbols from a computer terminal.tom m. mitchell provided a widely quoted, more formal definition of the algorithms studied in the machine learning field a computer program is said to learn from experience e with respect to some class of tasks t and performance measure p if its performance at tasks in t, as measured by p,  improves with experience e. this definition of the tasks in which machine learning is concerned offers a fundamentally operational definition rather than defining the field in cognitive terms.',\n",
       "  'in  a report was given on using teaching strategies so that a neural network learns to recognize  characters  letters,  digits, and  special symbols from a computer terminal.tom m. mitchell provided a widely quoted, more formal definition of the algorithms studied in the machine learning field a computer program is said to learn from experience e with respect to some class of tasks t and performance measure p if its performance at tasks in t, as measured by p,  improves with experience e. this definition of the tasks in which machine learning is concerned offers a fundamentally operational definition rather than defining the field in cognitive terms.',\n",
       "  'machine learning algorithms are used in a wide variety of applications, such as in medicine, email filtering, speech recognition, and computer vision, where it is difficult or unfeasible to develop conventional algorithms to perform the needed tasks.a subset of machine learning is closely related to computational statistics, which focuses on making predictions using computers, but not all machine learning is statistical learning.',\n",
       "  'it has been argued that an intelligent machine is one that learns a representation that disentangles the underlying factors of variation that explain the observed data.feature learning is motivated by the fact that machine learning tasks such as classification often require input that is mathematically and computationally convenient to process.',\n",
       "  'in practice, it can turn out to be more effective to help the machine develop its own algorithm, rather than having human programmers specify every needed step.the discipline of machine learning employs various approaches to teach computers to accomplish tasks where no fully satisfactory algorithm is available.',\n",
       "  'reasons for this are numerous lack of suitable data, lack of access to the data, data bias, privacy problems, badly chosen tasks and algorithms, wrong tools and people, lack of resources, and evaluation problems.in , a selfdriving car from uber failed to detect a pedestrian, who was killed after a collision.',\n",
       "  'artificial neural networks have been used on a variety of tasks, including computer vision, speech recognition, machine translation, social network filtering, playing board and video games and medical diagnosis.deep learning consists of multiple hidden layers in an artificial neural network.',\n",
       "  'such systems learn to perform tasks by considering examples, generally without being programmed with any taskspecific rules.an ann is a model based on a collection of connected units or nodes called artificial neurons, which loosely model the neurons in a biological brain.',\n",
       "  'they can be nuanced, such as x of families have geographically separate species with color variants, so there is a y chance that undiscovered black swans exist.machine learning programs can perform tasks without being explicitly programmed to do so.',\n",
       "  'for simple tasks assigned to computers, it is possible to program algorithms telling the machine how to execute all steps required to solve the problem at hand on the computers part, no learning is needed.',\n",
       "  'machine learning ml is a field of inquiry devoted to understanding and building methods that learn, that is, methods that leverage data to improve performance on some set of tasks.',\n",
       "  'however, over time, attention moved to performing specific tasks, leading to deviations from biology.',\n",
       "  'for more advanced tasks, it can be challenging for a human to manually create the needed algorithms.',\n",
       "  'it involves computers learning from data provided so that they carry out certain tasks.'],\n",
       " 'training': ['some of the training examples are missing training labels,  yet many machinelearning researchers have found that unlabeled data, when used in conjunction with a small amount of labeled data, can produce a considerable improvement in learning accuracy.in weakly supervised learning, the training labels are noisy, limited, or imprecise however, these labels are often cheaper to obtain, resulting in larger effective training sets.reinforcement learningreinforcement learning is an area of machine learning concerned with how software agents ought to take actions in an environment so as to maximize some notion of cumulative reward.',\n",
       "  'some of the training examples are missing training labels,  yet many machinelearning researchers have found that unlabeled data, when used in conjunction with a small amount of labeled data, can produce a considerable improvement in learning accuracy.in weakly supervised learning, the training labels are noisy, limited, or imprecise however, these labels are often cheaper to obtain, resulting in larger effective training sets.reinforcement learningreinforcement learning is an area of machine learning concerned with how software agents ought to take actions in an environment so as to maximize some notion of cumulative reward.',\n",
       "  'some of the training examples are missing training labels,  yet many machinelearning researchers have found that unlabeled data, when used in conjunction with a small amount of labeled data, can produce a considerable improvement in learning accuracy.in weakly supervised learning, the training labels are noisy, limited, or imprecise however, these labels are often cheaper to obtain, resulting in larger effective training sets.reinforcement learningreinforcement learning is an area of machine learning concerned with how software agents ought to take actions in an environment so as to maximize some notion of cumulative reward.',\n",
       "  'some of the training examples are missing training labels,  yet many machinelearning researchers have found that unlabeled data, when used in conjunction with a small amount of labeled data, can produce a considerable improvement in learning accuracy.in weakly supervised learning, the training labels are noisy, limited, or imprecise however, these labels are often cheaper to obtain, resulting in larger effective training sets.reinforcement learningreinforcement learning is an area of machine learning concerned with how software agents ought to take actions in an environment so as to maximize some notion of cumulative reward.',\n",
       "  'loss functions express the discrepancy between the predictions of the model being trained and the actual problem instances for example, in classification, one wants to assign a label to instances, and models are trained to correctly predict the preassigned labels of a set of examples.generalizationthe difference between optimization and machine learning arises from the goal of generalization while optimization algorithms can minimize the loss on a training set, machine learning is concerned with minimizing the loss on unseen samples.',\n",
       "  'the training examples come from some generally unknown probability distribution considered representative of the space of occurrences and the learner has to build a general model about this space that enables it to produce sufficiently accurate predictions in new cases.the computational analysis of machine learning algorithms and their performance is a branch of theoretical computer science known as computational learning theory via the probably approximately correct learning pac model.',\n",
       "  'parties can change the classification of any input, including in cases for which a type of datasoftware transparency is provided, possibly including whitebox access.model assessmentsclassification of machine learning models can be validated by accuracy estimation techniques like the holdout method, which splits the data in a training and test set conventionally  training set and  test set designation and evaluates the performance of the training model on the test set.',\n",
       "  'parties can change the classification of any input, including in cases for which a type of datasoftware transparency is provided, possibly including whitebox access.model assessmentsclassification of machine learning models can be validated by accuracy estimation techniques like the holdout method, which splits the data in a training and test set conventionally  training set and  test set designation and evaluates the performance of the training model on the test set.',\n",
       "  'parties can change the classification of any input, including in cases for which a type of datasoftware transparency is provided, possibly including whitebox access.model assessmentsclassification of machine learning models can be validated by accuracy estimation techniques like the holdout method, which splits the data in a training and test set conventionally  training set and  test set designation and evaluates the performance of the training model on the test set.',\n",
       "  'there is  potential for machine learning in health care to provide professionals an additional tool to diagnose, medicate, and plan recovery paths for patients, but this requires these biases to be mitigated.hardwaresince the s, advances in both machine learning algorithms and computer hardware have led to more efficient methods for training deep neural networks a particular narrow subdomain of machine learning that contain many layers of nonlinear hidden units.',\n",
       "  'evaluated with respect to known knowledge, an uninformed unsupervised method will easily be outperformed by other supervised methods, while in a typical kdd task, supervised methods cannot be used due to the unavailability of training data.optimizationmachine learning also has intimate ties to optimization many learning problems are formulated as minimization of some loss function on a training set of examples.',\n",
       "  'machine learning ethics is becoming a field of study and notably be integrated within machine learning engineering teams.federated learningfederated learning is an adapted form of distributed artificial intelligence to training machine learning models that decentralizes the training process, allowing for users privacy to be maintained by not needing to send their data to a centralized server.',\n",
       "  'machine learning ethics is becoming a field of study and notably be integrated within machine learning engineering teams.federated learningfederated learning is an adapted form of distributed artificial intelligence to training machine learning models that decentralizes the training process, allowing for users privacy to be maintained by not needing to send their data to a centralized server.',\n",
       "  'in machine learning, genetic algorithms were used in the s and s. conversely, machine learning techniques have been used to improve the performance of genetic and evolutionary algorithms.training modelstypically, machine learning models require a high quantity of reliable data in order for the models to perform accurate predictions.',\n",
       "  'an alternative is to discover such features or representations through examination, without relying on explicit algorithms.sparse dictionary learningsparse dictionary learning is a feature learning method where a training example is represented as a linear combination of basis functions, and is assumed to be a sparse matrix.',\n",
       "  'after receiving the genome species vector from the genetic environment, the caa learns a goalseeking behavior, in an environment that contains both desirable and undesirable situations.feature learningseveral learning algorithms aim at discovering better representations of the inputs provided during training.',\n",
       "  'while it has improved with training sets, it has not yet developed sufficiently to reduce the workload burden without limiting the necessary sensitivity for the findings research themselves.biasmachine learning approaches in particular can suffer from different data biases.',\n",
       "  'supervised anomaly detection techniques require a data set that has been labeled as normal and abnormal and involves training a classifier the key difference to many other statistical classification problems is the inherently unbalanced nature of outlier detection.',\n",
       "  'in comparison, the kfoldcrossvalidation method randomly partitions the data into k subsets and then k experiments are performed each respectively considering  subset for evaluation and the remaining k subsets for training the model.',\n",
       "  'given a set of training examples, each marked as belonging to one of two categories, an svm training algorithm builds a model that predicts whether a new example falls into one category or the other.',\n",
       "  'given a set of training examples, each marked as belonging to one of two categories, an svm training algorithm builds a model that predicts whether a new example falls into one category or the other.',\n",
       "  'for a dictionary where each class has already been built, a new training example is associated with the class that is best sparsely represented by the corresponding dictionary.',\n",
       "  'an svm training algorithm is a nonprobabilistic, binary, linear classifier, although methods such as platt scaling exist to use svm in a probabilistic classification setting.',\n",
       "  'in the mathematical model, each training example is represented by an array or vector, sometimes called a feature vector, and the training data is represented by a matrix.',\n",
       "  'by , graphic processing units gpus, often with aispecific enhancements, had displaced cpus as the dominant method of training largescale commercial cloud ai.',\n",
       "  'data from the training set can be as varied as a corpus of text, a collection of images, sensor data, and data collected from individual users of a service.',\n",
       "  'because training sets are finite and the future is uncertain, learning theory usually does not yield guarantees of the performance of algorithms.',\n",
       "  'when training a machine learning model, machine learning engineers need to target and collect a large and representative sample of data.',\n",
       "  'in classification, the problem is to determine the class to which a previously unseen training example belongs.',\n",
       "  'each training example has one or more inputs and the desired output, also known as a supervisory signal.',\n",
       "  'if the complexity of the model is increased in response, then the training error decreases.',\n",
       "  'this also increases efficiency by decentralizing the training process to many devices.',\n",
       "  'algorithmic bias is a potential result of data not being fully prepared for training.',\n",
       "  'overfitting is something to watch out for when training a machine learning model.',\n",
       "  'the data is known as training data, and consists of a set of training examples.'],\n",
       " 'training data': ['others have the view that not all ml is part of ai, but only an intelligent subset of ml should be considered ai.data miningmachine learning and data mining often employ the same methods and overlap significantly, but while machine learning focuses on prediction, based on known properties learned from the training data, data mining focuses on the discovery of previously unknown properties in the data this is the analysis step of knowledge discovery in databases.',\n",
       "  'evaluated with respect to known knowledge, an uninformed unsupervised method will easily be outperformed by other supervised methods, while in a typical kdd task, supervised methods cannot be used due to the unavailability of training data.optimizationmachine learning also has intimate ties to optimization many learning problems are formulated as minimization of some loss function on a training set of examples.',\n",
       "  'semisupervised anomaly detection techniques construct a model representing normal behavior from a given normal training data set and then test the likelihood of a test instance to be generated by the model.robot learningrobot learning is inspired by a multitude of machine learning methods, starting from supervised learning, reinforcement learning, and finally metalearning e.g.',\n",
       "  'the term inductive here refers to philosophical induction, suggesting a theory to explain observed facts, rather than mathematical induction, proving a property for all members of a wellordered set.modelsperforming machine learning involves creating a model, which is trained on some training data and then can process additional data to make predictions.',\n",
       "  'in , google photos would often tag black people as gorillas, and in  this still was not well resolved, but google reportedly was still using the workaround to remove all gorillas from the training data, and thus was not able to recognize real gorillas at all.',\n",
       "  'other methods are based on estimated density and graph connectivity.semisupervised learningsemisupervised learning falls between unsupervised learning without any labeled training data and supervised learning with completely labeled training data.',\n",
       "  'other methods are based on estimated density and graph connectivity.semisupervised learningsemisupervised learning falls between unsupervised learning without any labeled training data and supervised learning with completely labeled training data.',\n",
       "  'it is a powerful tool we are only just beginning to understand, and that is a profound responsibility.”overfittingsettling on a bad, overly complex theory gerrymandered to fit all the past training data is known as overfitting.',\n",
       "  'machine learning algorithms build a model based on sample data, known as training data, in order to make predictions or decisions without being explicitly programmed to do so.',\n",
       "  'a machine learning system trained specifically on current customers may not be able to predict the needs of new customer groups that are not represented in the training data.',\n",
       "  'in the mathematical model, each training example is represented by an array or vector, sometimes called a feature vector, and the training data is represented by a matrix.',\n",
       "  'an optimal function will allow the algorithm to correctly determine the output for inputs that were not a part of the training data.',\n",
       "  'this can then be used as training data for the computer to improve the algorithms it uses to determine correct answers.',\n",
       "  'the data is known as training data, and consists of a set of training examples.'],\n",
       " 'unsupervised': ['evaluated with respect to known knowledge, an uninformed unsupervised method will easily be outperformed by other supervised methods, while in a typical kdd task, supervised methods cannot be used due to the unavailability of training data.optimizationmachine learning also has intimate ties to optimization many learning problems are formulated as minimization of some loss function on a training set of examples.',\n",
       "  'it has applications in ranking, recommendation systems, visual identity tracking, face verification, and speaker verification.unsupervised learningunsupervised learning algorithms take a set of data that contains only inputs, and find structure in the data, like grouping or clustering of data points.',\n",
       "  'unsupervised anomaly detection techniques detect anomalies in an unlabeled test data set under the assumption that the majority of the instances in the data set are normal, by looking for instances that seem to fit the least to the remainder of the data set.',\n",
       "  'this pattern does not adhere to the common statistical definition of an outlier as a rare object, and many outlier detection methods in particular, unsupervised algorithms will fail on such data unless it has been aggregated appropriately.',\n",
       "  'this replaces manual feature engineering, and allows a machine to both learn the features and use them to perform a specific task.feature learning can be either supervised or unsupervised.',\n",
       "  'in unsupervised feature learning, features are learned with unlabeled input data.'],\n",
       " 'unsupervised learning': ['negative results show that certain classes cannot be learned in polynomial time.approachesmachine learning approaches are traditionally divided into three broad categories, which correspond to learning paradigms, depending on the nature of the signal or feedback available to the learning systemsupervised learning the computer is presented with example inputs and their desired outputs, given by a teacher, and the goal is to learn a general rule that maps inputs to outputs.unsupervised learning no labels are given to the learning algorithm, leaving it on its own to find structure in its input.',\n",
       "  'in contrast with sequence mining, association rule learning typically does not consider the order of items either within a transaction or across transactions.learning classifier systems lcs are a family of rulebased machine learning algorithms that combine a discovery component, typically a genetic algorithm, with a learning component, performing either supervised learning, reinforcement learning, or unsupervised learning.',\n",
       "  'though unsupervised learning encompasses other domains involving summarizing and explaining data features.cluster analysis is the assignment of a set of observations into subsets called clusters so that observations within the same cluster are similar according to one or more predesignated criteria, while observations drawn from different clusters are dissimilar.',\n",
       "  'unsupervised learning can be a goal in itself discovering hidden patterns in data or a means towards an end feature learning.reinforcement learning a computer program interacts with a dynamic environment in which it must perform a certain goal such as driving a vehicle or playing a game against an opponent.',\n",
       "  'other methods are based on estimated density and graph connectivity.semisupervised learningsemisupervised learning falls between unsupervised learning without any labeled training data and supervised learning with completely labeled training data.',\n",
       "  'data mining uses many machine learning methods, but with different goals on the other hand, machine learning also employs data mining methods as unsupervised learning or as a preprocessing step to improve learner accuracy.',\n",
       "  'instead of responding to feedback, unsupervised learning algorithms identify commonalities in the data and react based on the presence or absence of such commonalities in each new piece of data.',\n",
       "  'a central application of unsupervised learning is in the field of density estimation in statistics, such as finding the probability density function.',\n",
       "  'data mining is a related field of study, focusing on exploratory data analysis through unsupervised learning.']}"
      ]
     },
     "execution_count": 60,
     "metadata": {},
     "output_type": "execute_result"
    }
   ],
   "source": [
    "keyword_sentence_mapping"
   ]
  },
  {
   "cell_type": "code",
   "execution_count": 61,
   "metadata": {
    "id": "SIAvW0_GitmK"
   },
   "outputs": [],
   "source": [
    "keys = list(keyword_sentence_mapping.keys())\n",
    "values = list(keyword_sentence_mapping.values())"
   ]
  },
  {
   "cell_type": "code",
   "execution_count": 62,
   "metadata": {
    "id": "-fYXTdcunEpZ"
   },
   "outputs": [],
   "source": [
    "key = []\n",
    "sentence = []\n",
    "for i in range(len(keys)):\n",
    "  sentences = \" \".join(values[i])\n",
    "  key.append(keys[i])\n",
    "  sentence.append(sentences)"
   ]
  },
  {
   "cell_type": "code",
   "execution_count": 63,
   "metadata": {
    "colab": {
     "base_uri": "https://localhost:8080/",
     "height": 206
    },
    "id": "eyLh8TJB2mkt",
    "outputId": "1d48e063-8f5c-4e90-ddce-9a72d0acb16f"
   },
   "outputs": [
    {
     "data": {
      "text/html": [
       "\n",
       "  <div id=\"df-68fe3b9a-e9cf-4d75-b760-84bd81fb6746\">\n",
       "    <div class=\"colab-df-container\">\n",
       "      <div>\n",
       "<style scoped>\n",
       "    .dataframe tbody tr th:only-of-type {\n",
       "        vertical-align: middle;\n",
       "    }\n",
       "\n",
       "    .dataframe tbody tr th {\n",
       "        vertical-align: top;\n",
       "    }\n",
       "\n",
       "    .dataframe thead th {\n",
       "        text-align: right;\n",
       "    }\n",
       "</style>\n",
       "<table border=\"1\" class=\"dataframe\">\n",
       "  <thead>\n",
       "    <tr style=\"text-align: right;\">\n",
       "      <th></th>\n",
       "      <th>KeyWord</th>\n",
       "      <th>Paragraph</th>\n",
       "    </tr>\n",
       "  </thead>\n",
       "  <tbody>\n",
       "    <tr>\n",
       "      <th>0</th>\n",
       "      <td>artificial</td>\n",
       "      <td>embedded machine learning could be applied thr...</td>\n",
       "    </tr>\n",
       "    <tr>\n",
       "      <th>1</th>\n",
       "      <td>artificial intelligence</td>\n",
       "      <td>machine learning ethics is becoming a field of...</td>\n",
       "    </tr>\n",
       "    <tr>\n",
       "      <th>2</th>\n",
       "      <td>building methods</td>\n",
       "      <td>machine learning ml is a field of inquiry devo...</td>\n",
       "    </tr>\n",
       "    <tr>\n",
       "      <th>3</th>\n",
       "      <td>computer program</td>\n",
       "      <td>in  a report was given on using teaching strat...</td>\n",
       "    </tr>\n",
       "    <tr>\n",
       "      <th>4</th>\n",
       "      <td>computers</td>\n",
       "      <td>machine learning algorithms are used in a wide...</td>\n",
       "    </tr>\n",
       "  </tbody>\n",
       "</table>\n",
       "</div>\n",
       "      <button class=\"colab-df-convert\" onclick=\"convertToInteractive('df-68fe3b9a-e9cf-4d75-b760-84bd81fb6746')\"\n",
       "              title=\"Convert this dataframe to an interactive table.\"\n",
       "              style=\"display:none;\">\n",
       "        \n",
       "  <svg xmlns=\"http://www.w3.org/2000/svg\" height=\"24px\"viewBox=\"0 0 24 24\"\n",
       "       width=\"24px\">\n",
       "    <path d=\"M0 0h24v24H0V0z\" fill=\"none\"/>\n",
       "    <path d=\"M18.56 5.44l.94 2.06.94-2.06 2.06-.94-2.06-.94-.94-2.06-.94 2.06-2.06.94zm-11 1L8.5 8.5l.94-2.06 2.06-.94-2.06-.94L8.5 2.5l-.94 2.06-2.06.94zm10 10l.94 2.06.94-2.06 2.06-.94-2.06-.94-.94-2.06-.94 2.06-2.06.94z\"/><path d=\"M17.41 7.96l-1.37-1.37c-.4-.4-.92-.59-1.43-.59-.52 0-1.04.2-1.43.59L10.3 9.45l-7.72 7.72c-.78.78-.78 2.05 0 2.83L4 21.41c.39.39.9.59 1.41.59.51 0 1.02-.2 1.41-.59l7.78-7.78 2.81-2.81c.8-.78.8-2.07 0-2.86zM5.41 20L4 18.59l7.72-7.72 1.47 1.35L5.41 20z\"/>\n",
       "  </svg>\n",
       "      </button>\n",
       "      \n",
       "  <style>\n",
       "    .colab-df-container {\n",
       "      display:flex;\n",
       "      flex-wrap:wrap;\n",
       "      gap: 12px;\n",
       "    }\n",
       "\n",
       "    .colab-df-convert {\n",
       "      background-color: #E8F0FE;\n",
       "      border: none;\n",
       "      border-radius: 50%;\n",
       "      cursor: pointer;\n",
       "      display: none;\n",
       "      fill: #1967D2;\n",
       "      height: 32px;\n",
       "      padding: 0 0 0 0;\n",
       "      width: 32px;\n",
       "    }\n",
       "\n",
       "    .colab-df-convert:hover {\n",
       "      background-color: #E2EBFA;\n",
       "      box-shadow: 0px 1px 2px rgba(60, 64, 67, 0.3), 0px 1px 3px 1px rgba(60, 64, 67, 0.15);\n",
       "      fill: #174EA6;\n",
       "    }\n",
       "\n",
       "    [theme=dark] .colab-df-convert {\n",
       "      background-color: #3B4455;\n",
       "      fill: #D2E3FC;\n",
       "    }\n",
       "\n",
       "    [theme=dark] .colab-df-convert:hover {\n",
       "      background-color: #434B5C;\n",
       "      box-shadow: 0px 1px 3px 1px rgba(0, 0, 0, 0.15);\n",
       "      filter: drop-shadow(0px 1px 2px rgba(0, 0, 0, 0.3));\n",
       "      fill: #FFFFFF;\n",
       "    }\n",
       "  </style>\n",
       "\n",
       "      <script>\n",
       "        const buttonEl =\n",
       "          document.querySelector('#df-68fe3b9a-e9cf-4d75-b760-84bd81fb6746 button.colab-df-convert');\n",
       "        buttonEl.style.display =\n",
       "          google.colab.kernel.accessAllowed ? 'block' : 'none';\n",
       "\n",
       "        async function convertToInteractive(key) {\n",
       "          const element = document.querySelector('#df-68fe3b9a-e9cf-4d75-b760-84bd81fb6746');\n",
       "          const dataTable =\n",
       "            await google.colab.kernel.invokeFunction('convertToInteractive',\n",
       "                                                     [key], {});\n",
       "          if (!dataTable) return;\n",
       "\n",
       "          const docLinkHtml = 'Like what you see? Visit the ' +\n",
       "            '<a target=\"_blank\" href=https://colab.research.google.com/notebooks/data_table.ipynb>data table notebook</a>'\n",
       "            + ' to learn more about interactive tables.';\n",
       "          element.innerHTML = '';\n",
       "          dataTable['output_type'] = 'display_data';\n",
       "          await google.colab.output.renderOutput(dataTable, element);\n",
       "          const docLink = document.createElement('div');\n",
       "          docLink.innerHTML = docLinkHtml;\n",
       "          element.appendChild(docLink);\n",
       "        }\n",
       "      </script>\n",
       "    </div>\n",
       "  </div>\n",
       "  "
      ],
      "text/plain": [
       "                   KeyWord                                          Paragraph\n",
       "0               artificial  embedded machine learning could be applied thr...\n",
       "1  artificial intelligence  machine learning ethics is becoming a field of...\n",
       "2         building methods  machine learning ml is a field of inquiry devo...\n",
       "3         computer program  in  a report was given on using teaching strat...\n",
       "4                computers  machine learning algorithms are used in a wide..."
      ]
     },
     "execution_count": 63,
     "metadata": {},
     "output_type": "execute_result"
    }
   ],
   "source": [
    "import pandas as pd\n",
    "\n",
    "df = pd.DataFrame({\"KeyWord\":key , \"Paragraph\":sentence})\n",
    "df.head()"
   ]
  },
  {
   "cell_type": "code",
   "execution_count": 64,
   "metadata": {
    "id": "ZKDIT5HpIp93"
   },
   "outputs": [],
   "source": [
    "df.to_excel(\"pp.xlsx\")  "
   ]
  },
  {
   "cell_type": "code",
   "execution_count": 64,
   "metadata": {
    "id": "PijAEmcoJQOJ"
   },
   "outputs": [],
   "source": []
  }
 ],
 "metadata": {
  "accelerator": "GPU",
  "colab": {
   "provenance": []
  },
  "kernelspec": {
   "display_name": "Python 3",
   "name": "python3"
  },
  "language_info": {
   "name": "python"
  }
 },
 "nbformat": 4,
 "nbformat_minor": 0
}
